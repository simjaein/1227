{
 "cells": [
  {
   "cell_type": "raw",
   "id": "f8e0294c-740a-4a98-8a04-08b5cc173243",
   "metadata": {},
   "source": [
    "---\n",
    "title: \"Text Data Augmentation via ChatGPT\"\n",
    "bibliography: ref.bib\n",
    "author:\n",
    "  - \"**심재인**\"\n",
    "institute:\n",
    "  - \"Department of Statistics, Jeonbuk National University\"\n",
    "execute: \n",
    "  enabled: true\n",
    "  cache: false\n",
    "  freeze: false  \n",
    "format:\n",
    "  revealjs:\n",
    "    chalkboard: true\n",
    "    slide-number: true\n",
    "    suppress-bibliography: true\n",
    "---"
   ]
  },
  {
   "cell_type": "code",
   "execution_count": 1,
   "id": "c8a5a061-e92e-412b-8c2c-036f9e2b1ba6",
   "metadata": {
    "tags": []
   },
   "outputs": [],
   "source": [
    "#| output: false\n",
    "import pandas as pd \n",
    "import plotly.express as px\n",
    "import plotly.io as pio\n",
    "import pickle\n",
    "import itables\n",
    "pio.templates.default = \"plotly_white\"\n",
    "df_kaggle = pd.read_csv(\"mbti_1.csv\")\n",
    "file_names = [\n",
    "    \"원래자료.pkl\",\n",
    "    \"실험1결과요약.pkl\",\n",
    "    \"실험1모델비교AUC.pkl\",\n",
    "    \"실험1모델비교F1.pkl\",\n",
    "    \"실험1모델비교PRE.pkl\",\n",
    "    \"실험1모델비교REC.pkl\",\n",
    "    \"실험셋업시각화_실험1시나리오1.pkl\",\n",
    "    \"실험셋업시각화_실험3시나리오2.pkl\",\n",
    "    \"실험셋업시각화_실험1시나리오2.pkl\",\n",
    "    \"실험셋업시각화_실험3시나리오3.pkl\",\n",
    "    \"실험셋업시각화_실험1실험계획.pkl\",\n",
    "    \"실험셋업시각화_실험3시나리오4.pkl\",\n",
    "    \"실험셋업시각화_실험2시나리오0-3.pkl\",\n",
    "    \"실험셋업시각화_실험3시나리오5.pkl\",\n",
    "    \"실험2결과요약.pkl\",\n",
    "    \"실험셋업시각화_실험3시나리오6.pkl\",\n",
    "    \"실험셋업시각화_실험3시나리오0.pkl\",\n",
    "    \"실험셋업시각화_실험3시나리오7.pkl\",\n",
    "    \"실험셋업시각화_실험3시나리오1.pkl\",\n",
    "    \"실험3결과요약.pkl\",\n",
    "    \"실험2결과요약.pkl\"\n",
    "]\n",
    "def _load(path):\n",
    "    with open(path,'rb') as f:\n",
    "        rtn = pickle.load(f)\n",
    "    return rtn \n",
    "    \n",
    "figs = {fname.replace('.pkl',''): _load(f'./plotlyFigures/{fname}') for fname in file_names}"
   ]
  },
  {
   "cell_type": "markdown",
   "id": "d8f5f60e-8a28-491f-86b0-cf2816fefe33",
   "metadata": {},
   "source": [
    "## Outline\n",
    "\n",
    "- Introduction\n",
    "\n",
    "- Related Works\n",
    "\n",
    "- Data Description \n",
    "\n",
    "- Experimental Research\n",
    "\n",
    "- Conclusion and Discussion"
   ]
  },
  {
   "cell_type": "markdown",
   "id": "d2955339-e01a-440a-94c3-c3f72665f66d",
   "metadata": {},
   "source": [
    "::: {.notes}\n",
    "이번 발표 순서는 \n",
    "\n",
    "- 서론\n",
    "\n",
    "- 관련 연구\n",
    "\n",
    "- 데이터 설명\n",
    "\n",
    "- 실험연구 \n",
    "\n",
    "- 결론 및 토의 \n",
    ":::"
   ]
  },
  {
   "cell_type": "markdown",
   "id": "8e55e51a-ed8b-4dd4-ad00-fd76778a2e62",
   "metadata": {
    "tags": []
   },
   "source": [
    "# Introduction"
   ]
  },
  {
   "cell_type": "markdown",
   "id": "2a213bbf-9419-4b28-936e-d1bed6b15094",
   "metadata": {},
   "source": [
    "## Introduction \n",
    "\n",
    "Introduction to ChatGPT\n",
    "\n",
    "- ChatGPT is a language model developed by OpenAI, functioning as an interactive artificial intelligence for conversation.\n",
    "\n",
    "- Its primary capabilities lie in natural language understanding and generation. Leveraging the provided data, this model can respond to questions on various topics, engage in conversation, and generate sentences, paragraphs, or entire pieces of text."
   ]
  },
  {
   "cell_type": "markdown",
   "id": "6739400d-ac3e-4b43-a598-fa883acb1022",
   "metadata": {},
   "source": [
    "::: {.notes}\n",
    "ChatGPT 소개\n",
    "\n",
    "-  ChatGPT는 언어 모델이며 OpenAI에서 개발한 대화형 인공 지능임.\n",
    "   \n",
    "-  주요 능력은 자연어 이해와 생성이다. 이 모델은 주어진 데이터를 바탕으로 다양한 주제에 대한 질문에 응답하고, 대화를 진행하며 문장, 단락, 글 전체를 생성할 수 있음.\n",
    ":::"
   ]
  },
  {
   "cell_type": "markdown",
   "id": "d37e6e06-d2a8-49b7-a557-c59ccd5d03b4",
   "metadata": {
    "tags": []
   },
   "source": [
    "## Introduction\n",
    "\n",
    "![Figure 1: Illustration of GPT Application - Responding to a query regarding appropriate shopping items for colder weather, GPT provides a recommendation.](./figs/gpt_list.png){width=80%}"
   ]
  },
  {
   "cell_type": "markdown",
   "id": "1129d2ef-92c4-4d88-be4b-27fa85ae3ac9",
   "metadata": {},
   "source": [
    "::: {.notes}\n",
    "- 사진은 ChatGPT에게 날이 추워져서 어떤 물건들을 쇼핑하면 좋을지 물어봤을 때 GPT가 문장을 생성해 리스트를 알려준 것입니다.\n",
    "- 쇼핑 리스트를 보고 저는 4.번의 추운 겨울에도 스마트폰을 할 수 있는 장갑인 'Smart Device Gloves'를 추천해준 것을 보고 gpt의 문장생성이 좋다고 생각함. 왜냐하면 이러한 아이템은 내가 생각하지 몰랐던 소품이기 때문. \n",
    "- GPT의 추천리스트가 나에게 때때로 유용했지만, 다른사람들에게도 객관적으로 유용할지 (즉 데이터로써의 가치가 있을지), 그리고 유용하다면 실제데이터 대비 얼마나 유용한지 연구해보고 싶었음. \n",
    ":::"
   ]
  },
  {
   "cell_type": "markdown",
   "id": "b9d05812-4bbd-4544-8bf0-bfa2db2fcc59",
   "metadata": {},
   "source": [
    "## Introduction\n",
    "\n",
    "Assessing the Potential of GPT-Generated Content\n",
    "\n",
    "- While prior examples have demonstrated the practicality of GPT for various tasks, the potential of GPT-generated content as a dataset has not been thoroughly explored. \n",
    "- We aim to bridge this research void by conducting a series of experiments to enrich textual data with GPT-generated models and evaluate the enhancements in performance on subsequent machine learning tasks.\n"
   ]
  },
  {
   "cell_type": "markdown",
   "id": "5331844b-1f0a-451d-b750-8f1ba066288e",
   "metadata": {},
   "source": [
    "::: {.notes}\n",
    "- GPT는 다양한 작업에 실용성을 보여주고 있다. \n",
    "- 앞의 예시가 GPT의 실용성을 보여주었지만, GPT가 생성한 내용이 데이터세트로서의 잠재력은 충분히 연구되지 않았다. \n",
    "- 우리는 GPT가 생성한 자료로 텍스트데이터를 증강하고, 이후 기계학습 모형에서 성능개선정도를 평가하는 일련의 실험을 수행하여 GPT가 생성한 내용이 데이터로써 가치가 있는지 연구하고자 한다. \n",
    ":::"
   ]
  },
  {
   "cell_type": "markdown",
   "id": "917dde59-bfa3-4994-8894-e5df181fa507",
   "metadata": {},
   "source": [
    "## Introduction "
   ]
  },
  {
   "cell_type": "markdown",
   "id": "4db1c456-0b3a-4647-bf58-9de2e0940670",
   "metadata": {},
   "source": [
    "The research is divided into two main aspects:\n",
    "\n",
    "1. Do the materials generated by GPT possess value as augmented data?\n",
    "2. If they hold value, how significant is that value compared to actual data?\n",
    "   - Whether they are of equivalent value. If not equivalent, whether they have value as independent data.\n",
    "   - If they can only serve as a supporting role to actual data."
   ]
  },
  {
   "cell_type": "markdown",
   "id": "696af4b2-3486-4cf6-87a9-ad158cb3e231",
   "metadata": {},
   "source": [
    "::: {.notes}\n",
    "연구는 크게 두개의 측면으로 나눈다. \n",
    "1. GPT에 의하여 생성된 자료는 증강된자료의 가치가 있는가? \n",
    "2. 가치가 있다면 실제자료대비 얼마나 가치가 있는가? \n",
    "- 동등한 가치를 가지는지, 혹은 동등하지 않지만 독립적인 데이터로써의 가치를 가지는지 \n",
    "- 실제자료를 보조하는 역할만 수행할 수 있는지 \n",
    ":::"
   ]
  },
  {
   "cell_type": "markdown",
   "id": "70781460-0c76-4a31-bd38-30036680292e",
   "metadata": {},
   "source": [
    "## Introduction\n",
    "\n",
    "![Figure 2: Graphical Illustration of the Research Methodology](./figs/train.png){width=70%}"
   ]
  },
  {
   "cell_type": "markdown",
   "id": "71086020-0e7f-4a3c-aba4-6dcea5d4d432",
   "metadata": {},
   "source": [
    "::: {.notes}\n",
    "\n",
    "이것은 대략적인 연구방법을 그림으로 표현한 것입니다. train에서 실험1. 에서는 실제 데이터만을 가지고 모델을 시뮬레이션 해보고, 실험2. 에서는 실제 데이터와 생성 데이터를 합쳐서 모델 시뮬레이션 해보고, 실험 3. 에서는 생성 데이터만을 가지고 모델을 시뮬레이션 한뒤 결과를 비교하는 방식으로 연구가 진행된다.\n",
    "\n",
    "물론 test는 다 실제 데이터만으로 시뮬레이션 되었다.\n",
    "::: "
   ]
  },
  {
   "cell_type": "markdown",
   "id": "c189690e-eb6e-4f87-a790-becbb7d1e165",
   "metadata": {},
   "source": [
    "# Related Works"
   ]
  },
  {
   "cell_type": "markdown",
   "id": "62277072-6922-462b-892c-0c437a9ed7e5",
   "metadata": {},
   "source": [
    "## Related Works"
   ]
  },
  {
   "cell_type": "markdown",
   "id": "01395d0d-29bc-414d-859a-4c482e6508d0",
   "metadata": {},
   "source": [
    "Text augmentation can be useful in various situations, and here are some examples of when text augmentation may be needed. Of course, text augmentation can also be useful in other cases.\n",
    "\n",
    "- Imbalanced Data\n",
    "- Few-Shot Learning (Zero-Shot Learning)\n",
    "- Privacy Protection"
   ]
  },
  {
   "cell_type": "markdown",
   "id": "6e98a2f4-a7af-4186-9f1c-817aa0073253",
   "metadata": {},
   "source": [
    "::: {.notes}\n",
    "관련 연구\n",
    "\n",
    "텍스트 증강은 다양한 상황에서 유용할 수 있으며, 텍스트 증강이 필요한 몇 가지 예시를 살펴보겠습니다. 물론 텍스트 증강은 다른 상황에서도 유용할 수 있습니다.\n",
    "\n",
    "- Imbalanced Data\n",
    "- Few-Shot Learning (Zero-Shot Learning)\n",
    "- Privacy Protection\n",
    "\n",
    "이중에서 Imbalanced Data(실험1), Few-Shot Learning (실험2)와 관련이 있는 반면 Privacy Protection은 우리연구와 직접적인 관련이 없음 \n",
    ":::"
   ]
  },
  {
   "cell_type": "markdown",
   "id": "9978f9d4-29ca-4f7e-a76d-a0e533389bee",
   "metadata": {},
   "source": [
    "## Related Works"
   ]
  },
  {
   "cell_type": "markdown",
   "id": "c0d1bc3f-3c41-4f8e-ba84-36a7b635039c",
   "metadata": {},
   "source": [
    "**Imbalanced Data**:\n",
    "\n",
    "- The data imbalance problem in machine learning, where one class is significantly larger than another, can lead to model bias towards the majority class. \n",
    "- To tackle this issue, various resampling techniques such as under-sampling, over-sampling (e.g., SMOTE, ADASYN), and hybrid methods are commonly employed for structured data. Meanwhile, GAN-based approaches are emerging as effective solutions for image data."
   ]
  },
  {
   "cell_type": "markdown",
   "id": "af8a93ac-4ab9-4f99-852d-c421fd9a30d4",
   "metadata": {},
   "source": [
    "::: {.notes}\n",
    "불균형 데이터\n",
    "\n",
    "- 불균형 자료는 한 클래스의 자료수가 다른 클래스에 비해 큰 경우 발생하는 데이터 불균형 문제를 나타내는데, \n",
    "- 이를 해결하기 위해서 전통적으로는 언더 샘플링, 오버 샘플링 (예: SMOTE, ADASYN) 및 혼합 방법을 사용하였다. \n",
    "- 그리고 텍스트증강 역시 이러한 불균형자료를 해결하는 주요한 방법이다. \n",
    ":::"
   ]
  },
  {
   "cell_type": "markdown",
   "id": "eed822cb-974d-4d84-b556-4410112cce97",
   "metadata": {},
   "source": [
    "## Related Works"
   ]
  },
  {
   "cell_type": "markdown",
   "id": "73dc3a56-96fd-45bb-9a84-8f93198f16e4",
   "metadata": {},
   "source": [
    "**Few-Shot Learning (or Zero-Shot Learning)**:\n",
    "\n",
    "- Few-shot text classification involves training models with a minimal number of examples. \n",
    "- Studies have investigated methods for this approach, focusing on machine learning techniques to select the best category samples for effective classification."
   ]
  },
  {
   "cell_type": "markdown",
   "id": "0c324e3c-6358-4435-bdf7-b8b033b12b2e",
   "metadata": {},
   "source": [
    "::: {.notes}\n",
    "Few-Shot Learning\n",
    "\n",
    "- TrainSet에 학습할 자료가 매우 적은 문제임. \n",
    "- 이러한 자료에서도 텍스트 증강기법이 유용하게 활용됨\n",
    ":::"
   ]
  },
  {
   "cell_type": "markdown",
   "id": "7cbb742c-7c97-402b-9416-3edbe640adf6",
   "metadata": {},
   "source": [
    "## Related Works"
   ]
  },
  {
   "cell_type": "markdown",
   "id": "77515ec3-27cd-4d45-8c6c-25911e62fa82",
   "metadata": {},
   "source": [
    "\n",
    "In NLP, there are two main types of data augmentation methods:\n",
    "\n",
    "- Traditional text-level methods, like synonym replacement, random deletion, and random insertion, which rely on direct operations on existing samples [@feng2021survey].\n",
    "- Methods utilizing language models, including backtranslation [@sennrich2015improving] and word vector interpolation [@jindal2020augmenting], which leverage language models for data augmentation .\n"
   ]
  },
  {
   "cell_type": "markdown",
   "id": "597f145a-fef2-4857-885e-b574a6e4a881",
   "metadata": {},
   "source": [
    "::: {.notes}\n",
    "텍스트증강기법\n",
    "\n",
    "- 전통적인방법: 동의어 교체, 무작위 삭제, 및 무작위 삽입과 같이 기존 샘플을 직접 변형하는 방법\n",
    "- 최근연구: 언어모형을 바탕으로한 \"backtranslation\" 혹은 워드벡터인터폴레이션(텍스트도 어떠한 숫자들어 변환되어 있는데, 이 숫자로 바뀐채로 존재하는 데이터를 인터폴레이션하여 새로운 단어를 생성). \n",
    ":::"
   ]
  },
  {
   "cell_type": "markdown",
   "id": "c329a69f-ed16-45a3-ba3c-92a0ea101831",
   "metadata": {},
   "source": [
    "## Related Works"
   ]
  },
  {
   "cell_type": "markdown",
   "id": "680d439f-6638-4595-9824-c8e0c9e08fdb",
   "metadata": {},
   "source": [
    "- However, traditional methods have limitations in terms of text data accuracy and diversity, as discussed in a survey by Bayer et al. [@bayer2022survey].\n",
    "\n",
    "- Recently, with the emergence of very large language models like the GPT family, there has been active research aimed at using them to augment text and address various NLP problems. "
   ]
  },
  {
   "cell_type": "markdown",
   "id": "cb9bbc3d-0828-49d6-8eeb-7dcdf2e07465",
   "metadata": {},
   "source": [
    "::: {.notes}\n",
    "그러나 바이어의 연구에 따르면 이러한 전통적인 텍스트증강기법은 다양성등에서 문제점이 지적되고 있다. \n",
    "최근에는 GPT를 비롯한 거대언어모형의 등장으로 이를 활용한 텍스트 증강기법이 연구되고 있다. \n",
    ":::"
   ]
  },
  {
   "cell_type": "markdown",
   "id": "d3746926-ef4d-42cc-9d94-133aa0c0bc23",
   "metadata": {},
   "source": [
    "## Related Works"
   ]
  },
  {
   "cell_type": "markdown",
   "id": "1988d09c-c525-4395-bde2-e7cc6ebf1b4e",
   "metadata": {},
   "source": [
    "- Haixing Dai and colleagues introduced AugGPT[@dai2023chataug], a text data augmentation technique using ChatGPT to rephrase sentences for enhanced NLP model training and improved text classification results.\n",
    "- Seokjin Oh and Woohwan Jung proposed a data augmentation method for neural machine translation that leverages generative language models to enhance performance [@oh2023data]. "
   ]
  },
  {
   "cell_type": "markdown",
   "id": "64f3fabb-308e-47a6-b190-80a6e85d06b1",
   "metadata": {},
   "source": [
    "::: {.notes}\n",
    "\"하이싱 다이\"는 AugGPT를 제안하여 FewShotLearning문제를 해결하는 새로운 모형을 제안함. \n",
    "오석진은 (저번달연구) 프롬프르에 따른 텍스트자료 증강기법과 그 성능을 비교하였음. 저번달에 발표된 연구임. \n",
    ":::"
   ]
  },
  {
   "cell_type": "markdown",
   "id": "770b6eb7-0c61-46c2-97b6-73c918d8ff66",
   "metadata": {},
   "source": [
    "# Data Description"
   ]
  },
  {
   "cell_type": "markdown",
   "id": "6f5bb18e-7c16-48e2-ae36-9adfacaf133e",
   "metadata": {},
   "source": [
    "## Data Description"
   ]
  },
  {
   "cell_type": "markdown",
   "id": "b89c4a46-ba67-4417-879f-2d266841673c",
   "metadata": {},
   "source": [
    "Real-World Data from Kaggle\n",
    "\n",
    "- Overview of Kaggle Dataset\n",
    "- Characteristics and Features of the Data\n",
    "\n",
    "Synthetic Data Generation via GPT\n",
    "\n",
    "- Detailed Process of Data Creation with GPT\n",
    "- Challenges in the Generation Process (e.g., Emoticons, Length, Duplicated Content)"
   ]
  },
  {
   "cell_type": "markdown",
   "id": "e819ab77-ff9c-4570-abd8-b73ebe6b9359",
   "metadata": {},
   "source": []
  },
  {
   "cell_type": "markdown",
   "id": "bd20d8ae-0a04-4f0f-8ab2-96b735be55e6",
   "metadata": {
    "tags": []
   },
   "source": [
    "## Data from Kaggle"
   ]
  },
  {
   "cell_type": "code",
   "execution_count": 2,
   "id": "e5fd05bc-dd54-4c88-a987-64c00d92a2b6",
   "metadata": {
    "tags": []
   },
   "outputs": [
    {
     "data": {
      "text/html": [
       "        <script type=\"text/javascript\">\n",
       "        window.PlotlyConfig = {MathJaxConfig: 'local'};\n",
       "        if (window.MathJax && window.MathJax.Hub && window.MathJax.Hub.Config) {window.MathJax.Hub.Config({SVG: {font: \"STIX-Web\"}});}\n",
       "        if (typeof require !== 'undefined') {\n",
       "        require.undef(\"plotly\");\n",
       "        requirejs.config({\n",
       "            paths: {\n",
       "                'plotly': ['https://cdn.plot.ly/plotly-2.27.0.min']\n",
       "            }\n",
       "        });\n",
       "        require(['plotly'], function(Plotly) {\n",
       "            window._Plotly = Plotly;\n",
       "        });\n",
       "        }\n",
       "        </script>\n",
       "        "
      ]
     },
     "metadata": {},
     "output_type": "display_data"
    },
    {
     "data": {
      "text/html": [
       "<div>                            <div id=\"ee69ca58-033d-4bd8-bd07-f6f3b39dce4a\" class=\"plotly-graph-div\" style=\"height:600px; width:1050px;\"></div>            <script type=\"text/javascript\">                require([\"plotly\"], function(Plotly) {                    window.PLOTLYENV=window.PLOTLYENV || {};                                    if (document.getElementById(\"ee69ca58-033d-4bd8-bd07-f6f3b39dce4a\")) {                    Plotly.newPlot(                        \"ee69ca58-033d-4bd8-bd07-f6f3b39dce4a\",                        [{\"alignmentgroup\":\"True\",\"hovertemplate\":\"type=%{x}\\u003cbr\\u003ecount=%{text}\\u003cextra\\u003e\\u003c\\u002fextra\\u003e\",\"legendgroup\":\"\",\"marker\":{\"color\":\"#636efa\",\"pattern\":{\"shape\":\"\"}},\"name\":\"\",\"offsetgroup\":\"\",\"orientation\":\"v\",\"showlegend\":false,\"text\":[1832.0,1470.0,1304.0,1091.0,685.0,675.0,337.0,271.0,231.0,205.0,190.0,166.0,89.0,48.0,42.0,39.0],\"textposition\":\"auto\",\"x\":[\"INFP\",\"INFJ\",\"INTP\",\"INTJ\",\"ENTP\",\"ENFP\",\"ISTP\",\"ISFP\",\"ENTJ\",\"ISTJ\",\"ENFJ\",\"ISFJ\",\"ESTP\",\"ESFP\",\"ESFJ\",\"ESTJ\"],\"xaxis\":\"x\",\"y\":[1832,1470,1304,1091,685,675,337,271,231,205,190,166,89,48,42,39],\"yaxis\":\"y\",\"type\":\"bar\"}],                        {\"barmode\":\"relative\",\"legend\":{\"tracegroupgap\":0},\"template\":{\"data\":{\"barpolar\":[{\"marker\":{\"line\":{\"color\":\"white\",\"width\":0.5},\"pattern\":{\"fillmode\":\"overlay\",\"size\":10,\"solidity\":0.2}},\"type\":\"barpolar\"}],\"bar\":[{\"error_x\":{\"color\":\"#2a3f5f\"},\"error_y\":{\"color\":\"#2a3f5f\"},\"marker\":{\"line\":{\"color\":\"white\",\"width\":0.5},\"pattern\":{\"fillmode\":\"overlay\",\"size\":10,\"solidity\":0.2}},\"type\":\"bar\"}],\"carpet\":[{\"aaxis\":{\"endlinecolor\":\"#2a3f5f\",\"gridcolor\":\"#C8D4E3\",\"linecolor\":\"#C8D4E3\",\"minorgridcolor\":\"#C8D4E3\",\"startlinecolor\":\"#2a3f5f\"},\"baxis\":{\"endlinecolor\":\"#2a3f5f\",\"gridcolor\":\"#C8D4E3\",\"linecolor\":\"#C8D4E3\",\"minorgridcolor\":\"#C8D4E3\",\"startlinecolor\":\"#2a3f5f\"},\"type\":\"carpet\"}],\"choropleth\":[{\"colorbar\":{\"outlinewidth\":0,\"ticks\":\"\"},\"type\":\"choropleth\"}],\"contourcarpet\":[{\"colorbar\":{\"outlinewidth\":0,\"ticks\":\"\"},\"type\":\"contourcarpet\"}],\"contour\":[{\"colorbar\":{\"outlinewidth\":0,\"ticks\":\"\"},\"colorscale\":[[0.0,\"#0d0887\"],[0.1111111111111111,\"#46039f\"],[0.2222222222222222,\"#7201a8\"],[0.3333333333333333,\"#9c179e\"],[0.4444444444444444,\"#bd3786\"],[0.5555555555555556,\"#d8576b\"],[0.6666666666666666,\"#ed7953\"],[0.7777777777777778,\"#fb9f3a\"],[0.8888888888888888,\"#fdca26\"],[1.0,\"#f0f921\"]],\"type\":\"contour\"}],\"heatmapgl\":[{\"colorbar\":{\"outlinewidth\":0,\"ticks\":\"\"},\"colorscale\":[[0.0,\"#0d0887\"],[0.1111111111111111,\"#46039f\"],[0.2222222222222222,\"#7201a8\"],[0.3333333333333333,\"#9c179e\"],[0.4444444444444444,\"#bd3786\"],[0.5555555555555556,\"#d8576b\"],[0.6666666666666666,\"#ed7953\"],[0.7777777777777778,\"#fb9f3a\"],[0.8888888888888888,\"#fdca26\"],[1.0,\"#f0f921\"]],\"type\":\"heatmapgl\"}],\"heatmap\":[{\"colorbar\":{\"outlinewidth\":0,\"ticks\":\"\"},\"colorscale\":[[0.0,\"#0d0887\"],[0.1111111111111111,\"#46039f\"],[0.2222222222222222,\"#7201a8\"],[0.3333333333333333,\"#9c179e\"],[0.4444444444444444,\"#bd3786\"],[0.5555555555555556,\"#d8576b\"],[0.6666666666666666,\"#ed7953\"],[0.7777777777777778,\"#fb9f3a\"],[0.8888888888888888,\"#fdca26\"],[1.0,\"#f0f921\"]],\"type\":\"heatmap\"}],\"histogram2dcontour\":[{\"colorbar\":{\"outlinewidth\":0,\"ticks\":\"\"},\"colorscale\":[[0.0,\"#0d0887\"],[0.1111111111111111,\"#46039f\"],[0.2222222222222222,\"#7201a8\"],[0.3333333333333333,\"#9c179e\"],[0.4444444444444444,\"#bd3786\"],[0.5555555555555556,\"#d8576b\"],[0.6666666666666666,\"#ed7953\"],[0.7777777777777778,\"#fb9f3a\"],[0.8888888888888888,\"#fdca26\"],[1.0,\"#f0f921\"]],\"type\":\"histogram2dcontour\"}],\"histogram2d\":[{\"colorbar\":{\"outlinewidth\":0,\"ticks\":\"\"},\"colorscale\":[[0.0,\"#0d0887\"],[0.1111111111111111,\"#46039f\"],[0.2222222222222222,\"#7201a8\"],[0.3333333333333333,\"#9c179e\"],[0.4444444444444444,\"#bd3786\"],[0.5555555555555556,\"#d8576b\"],[0.6666666666666666,\"#ed7953\"],[0.7777777777777778,\"#fb9f3a\"],[0.8888888888888888,\"#fdca26\"],[1.0,\"#f0f921\"]],\"type\":\"histogram2d\"}],\"histogram\":[{\"marker\":{\"pattern\":{\"fillmode\":\"overlay\",\"size\":10,\"solidity\":0.2}},\"type\":\"histogram\"}],\"mesh3d\":[{\"colorbar\":{\"outlinewidth\":0,\"ticks\":\"\"},\"type\":\"mesh3d\"}],\"parcoords\":[{\"line\":{\"colorbar\":{\"outlinewidth\":0,\"ticks\":\"\"}},\"type\":\"parcoords\"}],\"pie\":[{\"automargin\":true,\"type\":\"pie\"}],\"scatter3d\":[{\"line\":{\"colorbar\":{\"outlinewidth\":0,\"ticks\":\"\"}},\"marker\":{\"colorbar\":{\"outlinewidth\":0,\"ticks\":\"\"}},\"type\":\"scatter3d\"}],\"scattercarpet\":[{\"marker\":{\"colorbar\":{\"outlinewidth\":0,\"ticks\":\"\"}},\"type\":\"scattercarpet\"}],\"scattergeo\":[{\"marker\":{\"colorbar\":{\"outlinewidth\":0,\"ticks\":\"\"}},\"type\":\"scattergeo\"}],\"scattergl\":[{\"marker\":{\"colorbar\":{\"outlinewidth\":0,\"ticks\":\"\"}},\"type\":\"scattergl\"}],\"scattermapbox\":[{\"marker\":{\"colorbar\":{\"outlinewidth\":0,\"ticks\":\"\"}},\"type\":\"scattermapbox\"}],\"scatterpolargl\":[{\"marker\":{\"colorbar\":{\"outlinewidth\":0,\"ticks\":\"\"}},\"type\":\"scatterpolargl\"}],\"scatterpolar\":[{\"marker\":{\"colorbar\":{\"outlinewidth\":0,\"ticks\":\"\"}},\"type\":\"scatterpolar\"}],\"scatter\":[{\"fillpattern\":{\"fillmode\":\"overlay\",\"size\":10,\"solidity\":0.2},\"type\":\"scatter\"}],\"scatterternary\":[{\"marker\":{\"colorbar\":{\"outlinewidth\":0,\"ticks\":\"\"}},\"type\":\"scatterternary\"}],\"surface\":[{\"colorbar\":{\"outlinewidth\":0,\"ticks\":\"\"},\"colorscale\":[[0.0,\"#0d0887\"],[0.1111111111111111,\"#46039f\"],[0.2222222222222222,\"#7201a8\"],[0.3333333333333333,\"#9c179e\"],[0.4444444444444444,\"#bd3786\"],[0.5555555555555556,\"#d8576b\"],[0.6666666666666666,\"#ed7953\"],[0.7777777777777778,\"#fb9f3a\"],[0.8888888888888888,\"#fdca26\"],[1.0,\"#f0f921\"]],\"type\":\"surface\"}],\"table\":[{\"cells\":{\"fill\":{\"color\":\"#EBF0F8\"},\"line\":{\"color\":\"white\"}},\"header\":{\"fill\":{\"color\":\"#C8D4E3\"},\"line\":{\"color\":\"white\"}},\"type\":\"table\"}]},\"layout\":{\"annotationdefaults\":{\"arrowcolor\":\"#2a3f5f\",\"arrowhead\":0,\"arrowwidth\":1},\"autotypenumbers\":\"strict\",\"coloraxis\":{\"colorbar\":{\"outlinewidth\":0,\"ticks\":\"\"}},\"colorscale\":{\"diverging\":[[0,\"#8e0152\"],[0.1,\"#c51b7d\"],[0.2,\"#de77ae\"],[0.3,\"#f1b6da\"],[0.4,\"#fde0ef\"],[0.5,\"#f7f7f7\"],[0.6,\"#e6f5d0\"],[0.7,\"#b8e186\"],[0.8,\"#7fbc41\"],[0.9,\"#4d9221\"],[1,\"#276419\"]],\"sequential\":[[0.0,\"#0d0887\"],[0.1111111111111111,\"#46039f\"],[0.2222222222222222,\"#7201a8\"],[0.3333333333333333,\"#9c179e\"],[0.4444444444444444,\"#bd3786\"],[0.5555555555555556,\"#d8576b\"],[0.6666666666666666,\"#ed7953\"],[0.7777777777777778,\"#fb9f3a\"],[0.8888888888888888,\"#fdca26\"],[1.0,\"#f0f921\"]],\"sequentialminus\":[[0.0,\"#0d0887\"],[0.1111111111111111,\"#46039f\"],[0.2222222222222222,\"#7201a8\"],[0.3333333333333333,\"#9c179e\"],[0.4444444444444444,\"#bd3786\"],[0.5555555555555556,\"#d8576b\"],[0.6666666666666666,\"#ed7953\"],[0.7777777777777778,\"#fb9f3a\"],[0.8888888888888888,\"#fdca26\"],[1.0,\"#f0f921\"]]},\"colorway\":[\"#636efa\",\"#EF553B\",\"#00cc96\",\"#ab63fa\",\"#FFA15A\",\"#19d3f3\",\"#FF6692\",\"#B6E880\",\"#FF97FF\",\"#FECB52\"],\"font\":{\"color\":\"#2a3f5f\"},\"geo\":{\"bgcolor\":\"white\",\"lakecolor\":\"white\",\"landcolor\":\"white\",\"showlakes\":true,\"showland\":true,\"subunitcolor\":\"#C8D4E3\"},\"hoverlabel\":{\"align\":\"left\"},\"hovermode\":\"closest\",\"mapbox\":{\"style\":\"light\"},\"paper_bgcolor\":\"white\",\"plot_bgcolor\":\"white\",\"polar\":{\"angularaxis\":{\"gridcolor\":\"#EBF0F8\",\"linecolor\":\"#EBF0F8\",\"ticks\":\"\"},\"bgcolor\":\"white\",\"radialaxis\":{\"gridcolor\":\"#EBF0F8\",\"linecolor\":\"#EBF0F8\",\"ticks\":\"\"}},\"scene\":{\"xaxis\":{\"backgroundcolor\":\"white\",\"gridcolor\":\"#DFE8F3\",\"gridwidth\":2,\"linecolor\":\"#EBF0F8\",\"showbackground\":true,\"ticks\":\"\",\"zerolinecolor\":\"#EBF0F8\"},\"yaxis\":{\"backgroundcolor\":\"white\",\"gridcolor\":\"#DFE8F3\",\"gridwidth\":2,\"linecolor\":\"#EBF0F8\",\"showbackground\":true,\"ticks\":\"\",\"zerolinecolor\":\"#EBF0F8\"},\"zaxis\":{\"backgroundcolor\":\"white\",\"gridcolor\":\"#DFE8F3\",\"gridwidth\":2,\"linecolor\":\"#EBF0F8\",\"showbackground\":true,\"ticks\":\"\",\"zerolinecolor\":\"#EBF0F8\"}},\"shapedefaults\":{\"line\":{\"color\":\"#2a3f5f\"}},\"ternary\":{\"aaxis\":{\"gridcolor\":\"#DFE8F3\",\"linecolor\":\"#A2B1C6\",\"ticks\":\"\"},\"baxis\":{\"gridcolor\":\"#DFE8F3\",\"linecolor\":\"#A2B1C6\",\"ticks\":\"\"},\"bgcolor\":\"white\",\"caxis\":{\"gridcolor\":\"#DFE8F3\",\"linecolor\":\"#A2B1C6\",\"ticks\":\"\"}},\"title\":{\"x\":0.05},\"xaxis\":{\"automargin\":true,\"gridcolor\":\"#EBF0F8\",\"linecolor\":\"#EBF0F8\",\"ticks\":\"\",\"title\":{\"standoff\":15},\"zerolinecolor\":\"#EBF0F8\",\"zerolinewidth\":2},\"yaxis\":{\"automargin\":true,\"gridcolor\":\"#EBF0F8\",\"linecolor\":\"#EBF0F8\",\"ticks\":\"\",\"title\":{\"standoff\":15},\"zerolinecolor\":\"#EBF0F8\",\"zerolinewidth\":2}}},\"title\":{\"text\":\"Figure3: Frequency of Categories in the Dataset Provided on Kaggle\"},\"xaxis\":{\"anchor\":\"y\",\"domain\":[0.0,1.0],\"title\":{\"text\":\"type\"}},\"yaxis\":{\"anchor\":\"x\",\"domain\":[0.0,1.0],\"title\":{\"text\":\"count\"}},\"width\":1050,\"height\":600},                        {\"responsive\": true}                    ).then(function(){\n",
       "                            \n",
       "var gd = document.getElementById('ee69ca58-033d-4bd8-bd07-f6f3b39dce4a');\n",
       "var x = new MutationObserver(function (mutations, observer) {{\n",
       "        var display = window.getComputedStyle(gd).display;\n",
       "        if (!display || display === 'none') {{\n",
       "            console.log([gd, 'removed!']);\n",
       "            Plotly.purge(gd);\n",
       "            observer.disconnect();\n",
       "        }}\n",
       "}});\n",
       "\n",
       "// Listen for the removal of the full notebook cells\n",
       "var notebookContainer = gd.closest('#notebook-container');\n",
       "if (notebookContainer) {{\n",
       "    x.observe(notebookContainer, {childList: true});\n",
       "}}\n",
       "\n",
       "// Listen for the clearing of the current output cell\n",
       "var outputEl = gd.closest('.output');\n",
       "if (outputEl) {{\n",
       "    x.observe(outputEl, {childList: true});\n",
       "}}\n",
       "\n",
       "                        })                };                });            </script>        </div>"
      ]
     },
     "metadata": {},
     "output_type": "display_data"
    }
   ],
   "source": [
    "figs['원래자료'].layout['title']['text']='Figure3: Frequency of Categories in the Dataset Provided on Kaggle'\n",
    "figs['원래자료'].layout['width']=1050\n",
    "figs['원래자료'].layout['height']=600\n",
    "figs['원래자료']"
   ]
  },
  {
   "cell_type": "markdown",
   "id": "b04c8081-9fe1-4c88-bfb9-05cea5418b6e",
   "metadata": {},
   "source": [
    "::: {.notes}\n",
    "실제 데이터의 각 항목당 평균 데이터 수가 490여개인데, 데이터의 최대수는 1800여개이고, 최소는 40여개 정도이다. 총 16개의 항목 중에 데이터수가 적은 'ESTP', 'ESFP', 'ESFJ', 'ESTJ' 이 네 개의 데이터를 보완해주는 데이터를 만들었음.\n",
    ":::"
   ]
  },
  {
   "cell_type": "markdown",
   "id": "6d7a888c-d9cb-428c-94fa-ae623074211e",
   "metadata": {},
   "source": [
    "## Data from ChatGPT\n",
    "\n",
    "Verification of Similarity:\n",
    "\n",
    ":::: {.columns}\n",
    "\n",
    "::: {.column width=\"50%\"}\n",
    ":::{.callout-note}\n",
    "#### Kaggle-sourced ESTP Data\n",
    "\n",
    "Splinter Cell Blacklist for Xbox 360. If you get hated on then it's because you as a person have something to work on. I often come off to people with the opposite of my intention, if I don't listen to my gut. Sometimes I over think my natural social skills and come off as a sarcastic douche.\n",
    ":::\n",
    ":::\n",
    "\n",
    "::: {.column width=\"50%\"}\n",
    ":::{.callout-note}\n",
    "#### ChatGPT-generated ESTP Data\n",
    "Today, I had a fantastic experience enjoying adventures in nature! Hiking up a tall mountain, I experienced the beauty of the great outdoors. The view from the summit was absolutely breathtaking. Adventures like these always bring new challenges and a sense of accomplishment, so I want to do more of them!\n",
    ":::\n",
    "\n",
    ":::\n",
    "\n",
    ":::: "
   ]
  },
  {
   "cell_type": "markdown",
   "id": "f8904c53-7e43-4dec-84c3-b2c04c4d8671",
   "metadata": {},
   "source": [
    "::: {.notes}\n",
    "- 유사성의 확인\n",
    "\n",
    "두 데이터를 비교해보면, 데이터가 문장 형식으로 어떠한 상황일 때 각 MBTI의 성격에 맞춰 작성될걸 보면 실제 데이터와 생성 데이터 간의 유사성이 드러납니다.\n",
    ":::"
   ]
  },
  {
   "cell_type": "markdown",
   "id": "8232bdf8-c281-49be-940b-f8026bd44ea8",
   "metadata": {},
   "source": [
    "## Data from ChatGPT"
   ]
  },
  {
   "cell_type": "markdown",
   "id": "49b1b660-56de-4b95-85bb-c26e15809ecb",
   "metadata": {
    "tags": []
   },
   "source": [
    "MBTI example\n",
    "\n",
    "::: {.panel-tabset}\n",
    "#### E \n",
    "![](./figs/mbti_ex/mbti-e.png){width=100%}\n",
    "\n",
    "#### I\n",
    "![](./figs/mbti_ex/mbti-i.png){width=100%}\n",
    "\n",
    "#### S \n",
    "![](./figs/mbti_ex/mbti-s.png){width=100%}\n",
    "\n",
    "#### N\n",
    "![](./figs/mbti_ex/mbti-n.png){width=100%}\n",
    "\n",
    "#### F \n",
    "![](./figs/mbti_ex/mbti-f.png){width=100%}\n",
    "\n",
    "#### T\n",
    "![](./figs/mbti_ex/mbti-t.png){width=100%}\n",
    "\n",
    "#### P \n",
    "![](./figs/mbti_ex/mbti-p.png){width=100%}\n",
    "\n",
    "#### J\n",
    "![](./figs/mbti_ex/mbti-j.png){width=100%}\n",
    ":::"
   ]
  },
  {
   "cell_type": "markdown",
   "id": "4d82d361-2acb-400a-874c-a04a5783b93d",
   "metadata": {},
   "source": [
    "::: {.notes}\n",
    "##### - E : 외향적인 성향을 가진 사람들은 외부 세계에서 활동하며 에너지를 충전합니다. 사교적이고 활발한 특징을 보입니다.\n",
    "  - 휴가라면 늘 그렇게 생각해요! 이번 휴가에서는 \"함께 하는 여행을 통해 새로운 경험을 만들고 싶어졌어요.\" 친구들과 모여 활기찬 여행지로 떠나기로 했어요. 맛집 탐방, 액티비티 참여, 그리고 늦은 밤까지 이야기 나누며 불태우는 캠프파이어, 모두가 함께 할 때 특별한 순간들이 만들어지니까요. \"새로운 친구들과 인연을 만들며, 함께한 시간을 소중히 기억하며 즐거운 휴가를 보낼 계획이에요!\"\n",
    "  \n",
    "##### - I : 내향적인 성향을 가진 사람들은 내부의 세계에 주로 주의를 기울이며, 외부 자극에 덜 민감합니다. 고요하고 조용한 환경에서 힘을 얻습니다.\n",
    "   - 휴가는 나만의 작은 섬에서 시작돼요. 많은 사람들 속에서 피곤해진 나를 위해 \"조용한 휴가지에서\" 마음의 평화를 찾아가기로 했어요. 어딜 가든지 모두와 소통하고 즐기는 것도 좋지만, 때로는 \"나만의 시간이 필요하다는 걸 느끼는 법이죠.\" 독서와 함께하는 차 한 잔, 끝없이 펼쳐진 바다 전경, 그리고 나만의 생각에 잠겨 여유를 만끽할 예정이에요. 이 휴가를 통해 \"나 자신과 조금 더 가까워지며\", 충전된 에너지로 돌아오게 될 것 같아요.\n",
    "   \n",
    "##### - S : 감각적 성향을 가진 사람들은 현재 경험에 주의를 기울이며, 실제 사실과 경험에 근거하여 문제를 해결하는 경향이 있습니다.\n",
    "  - 미술관에서의 나의 시간은 감각적인 여행으로 시작돼요. 작품들 사이를 걷다보면 그 작품들이 나를 끌어들이듯이, 감각들이 마음을 자극해요. 첫 걸음을 내딛는 순간부터 \"작품들이 품은 향기, 색감, 질감을 느껴요.\" 그림들이 펼쳐내는 세계에 빠져들어, 현실과 미술의 경계가 흐려지는 순간이에요. \"손으로 작품의 표면을 스쳐 만져보며, 작가의 감성을 직접 느끼는 것\"이 미술관에서의 나만의 특별한 방식이죠.\n",
    "  \n",
    "##### - N : 직관적 성향을 가진 사람들은 미래에 대한 가능성을 탐험하고, 추상적인 아이디어와 개념에 관심을 갖습니다. 비전을 추구하며 창의적입니다.\n",
    "  - \"미술관에서 나의 여정은 상상력의 탐험으로 가득 차 있어요.\" \"작품 하나하나가 숨겨진 이야기와 메시지를 품고 있을 거라는 호기심에 가득 차 있어요.\" 그림과 조각품들은 더 큰 이야기를 품고 있는 것 같아, 작품의 주변을 돌아다니며 \"그 이면에 담긴 의미를 찾아내려 노력해요.\" 작가가 작품에 담은 아이디어와 감정을 이해하고, 더 깊이 있는 연결을 찾아내는 것이 나만의 미술 감상 방법이에요.\n",
    "  \n",
    "##### - F : 감정적 성향을 가진 사람들은 타인의 감정에 민감하고, 대인관계에서 조화와 이해를 중시합니다. 주관적인 가치 판단을 내립니다.\n",
    "  - 오늘은 \"따뜻한 감성으로\" 업무를 처리하는 날이었어요. 팀원들과 함께 모여 \"업무에 앞서 목표를 공유하고 각자의 의견을 존중했어요.\" 감성적인 분위기 속에서 각자의 감정을 표현하면서 업무에 헌신했어요. 문제에 부딪혔을 때에도 \"서로의 감정을 이해하고 존중하는 것이 핵심이었어요.\" 오늘은 팀원들과 함께 \"감성적으로 소통하며\" 일하는 특별한 날이었어요.\n",
    "  \n",
    "##### - T : 논리적 성향을 가진 사람들은 논리적이고 분석적으로 문제를 해결하며, 객관적인 기준에 따라 결정을 내립니다.\n",
    "  - 오늘은 \"논리적\"으로 업무를 처리하는 하루였어요. 먼저 목표를 \"분석하고\" 각 단계를 \"체계적으로 나누어(분류해)\" 계획을 세웠어요. 문제가 발생하면 객관적으로 해결책을 도출하고 \"효율적인\" 방법으로 진행했어요. \"논리적인 사고로\" 업무를 체계적으로 해결하며, 목표 달성에 중점을 두었던 하루였어요.\n",
    "  \n",
    "##### - P : 지각적 성향을 가진 사람들은 유연하고 적응력이 있으며, 상황에 따라 즉흥적으로 대처하는 경향이 있습니다.\n",
    "  - 오늘, 나는 즉흥적인 여행을 떠나기로 결정했다! 가방을 비우고 필수품만 싸서 가벼운 마음으로 나섰다. 목적지는 정해지지 않았고,\" 그냥 흘러가기로 했다. \"어떤 계획도 없이\" 길을 따라 모든 것을 즐기기를 기대하고 있다. 필수품과 나만의 음악 플레이리스트만을 가지고, \"뜻밖의(예상치 못한)\" 보석과 우연한 만남을 기대하며 나는 예상치 못한 모험에 대비했다. 이 즉흥적인 모험에서의 순간들을 인스타그램에서 공유하는 즐거움에 건배해요!\n",
    "  \n",
    "##### - J : 판단적 성향을 가진 사람들은 계획적이고 조직적으로 일을 처리하며, 목표 달성을 위해 계획을 세우는 것을 선호합니다.\n",
    "  - 오늘은 철저한 \"여행 계획\"을 세우고 준비하는 날이에요! 여행지부터 숙소, \"일정까지 모든 것을 완벽하게 계획해두었어요.\" 미리 알아보고 싶었던 명소와 맛집, 현지 문화까지 꼼꼼하게 살펴보며 풍성한 여행을 위해 최선을 다했어요. 가방 속에는 각종 필수품과 함께 여행 일정표와 지도까지! 오늘은 계획대로 완벽한 여행을 즐길 준비를 마치고, 모든 것을 기록해 인스타에서 여행 이야기를 나누어보려고 해요.\n",
    "::: "
   ]
  },
  {
   "cell_type": "markdown",
   "id": "57605692-e42c-42e2-9aa3-579dda9f78cf",
   "metadata": {
    "tags": []
   },
   "source": [
    "## Data from ChatGPT\n",
    "\n",
    "Data Collection Process:\n",
    "\n",
    "1. Define the MBTI for Performance Measurement.\n",
    "\n",
    "2. Define the Topic: Clearly define a topic for ChatGPT, presenting scenarios such as traveling to a destination or being invited to a friend's birthday party. Request predictions on how one might post on Instagram in such situations.\n",
    "\n",
    "3. Review the initially generated data and adjust conditions as needed to align with research objectives.\n"
   ]
  },
  {
   "cell_type": "markdown",
   "id": "125a4d54-028d-4f7e-a56c-351077813bce",
   "metadata": {},
   "source": [
    ":::{.notes}\n",
    "제목: GPT 자료 수집 과정\n",
    "\n",
    "자료 수집 과정:\n",
    "\n",
    "1. 성능 측정할 각 MBTI 결정\n",
    "\n",
    "2. 주제 정의: ChatGPT에게 명확한 주제를 정의  ex) 여행지를 놀러갔을 경우, 친구 생일파티에 초대되었을 경우 등 상황을 제시, 인스타그램에 어떻게 게시물을 올릴지 예측해달라고 하고 싶어 그렇게 질문함.\n",
    "\n",
    "이러한 조건을 설정하지 않으면 답변들이 비슷하게 나오기 때문에 생성 자료의 범위를 정의하는 데 도움이 됨\n",
    "    \n",
    "3. 처음 생성된 자료를 확인하고, 필요에 따라 조건을 수정하여 연구 목표에 부합하도록 조정함.\n",
    "    \n",
    "   실제 인스타그램 게시물처럼 질문한 MBTI와 이모티콘이 함께 작성되어 문장 속에 해당 MBTI와 이모티콘을 빼달라는 수정을 하였다.\n",
    "\n",
    "   그리고 한 질문당 글자수가 너무 작거나 많은 등 글자수의 차이가 심해 실제 데이터와 비슷하게끔 1,500자로 설정을 했음.\n",
    "   \n",
    "   이로써 자료의 품질을 향상시키고 선택된 자료를 확정했음.\n",
    ":::"
   ]
  },
  {
   "cell_type": "markdown",
   "id": "b47f7c93-c42f-4b83-be95-b0659f31c550",
   "metadata": {},
   "source": [
    "## Data from ChatGPT\n",
    "\n",
    "Regeneration of Similar Content"
   ]
  },
  {
   "cell_type": "markdown",
   "id": "59a683af-cecc-4097-9f95-e63dad794037",
   "metadata": {},
   "source": [
    "{{< video https://youtu.be/pllsvfYyWzo?si=xJ5WbiBtG_VwPYvL width=\"1050\" height=\"500\" >}}"
   ]
  },
  {
   "cell_type": "markdown",
   "id": "ce86ca8b-5fd2-4213-8787-7eb064ed628c",
   "metadata": {
    "tags": []
   },
   "source": [
    "## Data from ChatGPT\n",
    "\n",
    "Class Names Being Included in the Generated Text"
   ]
  },
  {
   "cell_type": "markdown",
   "id": "589f1e7b-1774-4053-8f93-9e5279fd4829",
   "metadata": {},
   "source": [
    "::: {.panel-tabset}\n",
    "#### Ex 1\n",
    "![](./figs/mbti_class/mbti_class1.png){width=100%}\n",
    "\n",
    "#### Ex 2\n",
    "![](./figs/mbti_class/mbti_class2.png){width=100%}\n",
    "\n",
    "#### Ex 3\n",
    "![](./figs/mbti_class/mbti_class3.png){width=100%}\n",
    "\n",
    "#### Ex 4\n",
    "![](./figs/mbti_class/mbti_class4.png){width=100%}\n",
    "\n",
    "#### Ex 5 \n",
    "![](./figs/mbti_class/mbti_class5.png){width=100%}\n",
    ":::"
   ]
  },
  {
   "cell_type": "markdown",
   "id": "4b678d13-34b6-4cb1-aace-dcc27f36f0f4",
   "metadata": {
    "tags": []
   },
   "source": [
    "::: {.notes}\n",
    "- 데이터 수집의 어려움\n",
    "  - Class이름\n",
    "::: "
   ]
  },
  {
   "cell_type": "markdown",
   "id": "d6f3d552-a0bd-464f-8600-b73cc8c74b00",
   "metadata": {
    "tags": []
   },
   "source": [
    "## Data from ChatGPT\n",
    "\n",
    "Emojis Being Included in the Generated Text"
   ]
  },
  {
   "cell_type": "markdown",
   "id": "77fa336a-aad4-4c53-ac53-d778420ebccd",
   "metadata": {},
   "source": [
    "::: {.panel-tabset}\n",
    "#### Ex 1\n",
    "![](./figs/imo/imo1.png){width=100%}\n",
    "\n",
    "#### Ex 2 \n",
    "![](./figs/imo/imo2.png){width=100%}\n",
    "\n",
    "#### Ex 3\n",
    "![](./figs/imo/imo4.png){width=100%}\n",
    "\n",
    "#### Ex 4\n",
    "![](./figs/imo/imo5.png){width=100%}\n",
    ":::"
   ]
  },
  {
   "cell_type": "markdown",
   "id": "b2366d3f-1a7a-4ab4-970e-ae2ddc7357de",
   "metadata": {},
   "source": [
    "::: {.notes}\n",
    "- 데이터 수집의 어려움\n",
    "  - 이모티콘\n",
    "::: "
   ]
  },
  {
   "cell_type": "markdown",
   "id": "74254073-1ec3-4a33-8a92-956e3f614a7a",
   "metadata": {},
   "source": [
    "## Data from ChatGPT {.scrollable}"
   ]
  },
  {
   "cell_type": "markdown",
   "id": "68d83ed7-e1d5-4022-80f2-79964a5baa2c",
   "metadata": {},
   "source": [
    "\n",
    "Varying Lengths in Generated Texts\n",
    "\n",
    "::: {.panel-tabset}\n",
    "\n",
    "#### Ex 1 \n",
    "![](./figs/gpt_screen10.png){width=100%}\n",
    "\n",
    "#### Ex 2\n",
    "![](./figs/gpt_screen11.png){width=100%}\n",
    ":::"
   ]
  },
  {
   "cell_type": "markdown",
   "id": "188074d2-d3ce-4a5f-a56f-4a8cf36c48af",
   "metadata": {},
   "source": [
    "::: {.notes}\n",
    "- 데이터 수집의 어려움\n",
    "  - 생성된 글의 길이 차이\n",
    "::: "
   ]
  },
  {
   "cell_type": "markdown",
   "id": "e425d6e7-ee4f-4a84-9e12-a2d90177a7ff",
   "metadata": {},
   "source": [
    "## Data from ChatGPT "
   ]
  },
  {
   "cell_type": "markdown",
   "id": "83e46e37-d02e-4e2d-a9b3-3c44fe61a9cc",
   "metadata": {},
   "source": [
    "Appropriately Generated Results\n",
    "\n",
    "![](./figs/gpt_screen12.png){width=100%}"
   ]
  },
  {
   "cell_type": "markdown",
   "id": "e0654034-b194-4216-9e1f-3ed648506329",
   "metadata": {},
   "source": [
    "::: {.notes}\n",
    "- 데이터 수집의 어려움\n",
    "  - 결과 도출\n",
    "::: "
   ]
  },
  {
   "cell_type": "markdown",
   "id": "f72519f6-f370-40ef-9c49-e8afeaa8138b",
   "metadata": {},
   "source": [
    "# Experimental Research"
   ]
  },
  {
   "cell_type": "markdown",
   "id": "e6c03c22-7cd0-49f5-8c2e-f5db09eaef4a",
   "metadata": {},
   "source": [
    "## Experiment 1"
   ]
  },
  {
   "cell_type": "code",
   "execution_count": 3,
   "id": "cf96143d-8931-4613-83c5-2dfdbdf8fa8a",
   "metadata": {
    "tags": []
   },
   "outputs": [
    {
     "data": {
      "text/html": [
       "<div>                            <div id=\"ab53d3db-ba7f-4207-b056-c14494524a60\" class=\"plotly-graph-div\" style=\"height:600px; width:1050px;\"></div>            <script type=\"text/javascript\">                require([\"plotly\"], function(Plotly) {                    window.PLOTLYENV=window.PLOTLYENV || {};                                    if (document.getElementById(\"ab53d3db-ba7f-4207-b056-c14494524a60\")) {                    Plotly.newPlot(                        \"ab53d3db-ba7f-4207-b056-c14494524a60\",                        [{\"alignmentgroup\":\"True\",\"hovertemplate\":\"Count\\u003c100=False\\u003cbr\\u003etype=%{x}\\u003cbr\\u003ecount=%{text}\\u003cextra\\u003e\\u003c\\u002fextra\\u003e\",\"legendgroup\":\"False\",\"marker\":{\"color\":\"#636efa\",\"opacity\":0.2,\"pattern\":{\"shape\":\"\"}},\"name\":\"False\",\"offsetgroup\":\"False\",\"orientation\":\"v\",\"showlegend\":false,\"text\":[1832.0,1470.0,1304.0,1091.0,685.0,675.0,337.0,271.0,231.0,205.0,190.0,166.0],\"textposition\":\"auto\",\"x\":[\"INFP\",\"INFJ\",\"INTP\",\"INTJ\",\"ENTP\",\"ENFP\",\"ISTP\",\"ISFP\",\"ENTJ\",\"ISTJ\",\"ENFJ\",\"ISFJ\"],\"xaxis\":\"x\",\"y\":[1832,1470,1304,1091,685,675,337,271,231,205,190,166],\"yaxis\":\"y\",\"type\":\"bar\"},{\"alignmentgroup\":\"True\",\"hovertemplate\":\"Count\\u003c100=True\\u003cbr\\u003etype=%{x}\\u003cbr\\u003ecount=%{text}\\u003cextra\\u003e\\u003c\\u002fextra\\u003e\",\"legendgroup\":\"True\",\"marker\":{\"color\":\"#636efa\",\"opacity\":1.0,\"pattern\":{\"shape\":\"\"}},\"name\":\"True\",\"offsetgroup\":\"True\",\"orientation\":\"v\",\"showlegend\":false,\"text\":[89.0,48.0,42.0,39.0],\"textposition\":\"auto\",\"x\":[\"ESTP\",\"ESFP\",\"ESFJ\",\"ESTJ\"],\"xaxis\":\"x\",\"y\":[89,48,42,39],\"yaxis\":\"y\",\"type\":\"bar\"}],                        {\"barmode\":\"relative\",\"legend\":{\"title\":{\"text\":\"Count\\u003c100\"},\"tracegroupgap\":0},\"template\":{\"data\":{\"barpolar\":[{\"marker\":{\"line\":{\"color\":\"white\",\"width\":0.5},\"pattern\":{\"fillmode\":\"overlay\",\"size\":10,\"solidity\":0.2}},\"type\":\"barpolar\"}],\"bar\":[{\"error_x\":{\"color\":\"#2a3f5f\"},\"error_y\":{\"color\":\"#2a3f5f\"},\"marker\":{\"line\":{\"color\":\"white\",\"width\":0.5},\"pattern\":{\"fillmode\":\"overlay\",\"size\":10,\"solidity\":0.2}},\"type\":\"bar\"}],\"carpet\":[{\"aaxis\":{\"endlinecolor\":\"#2a3f5f\",\"gridcolor\":\"#C8D4E3\",\"linecolor\":\"#C8D4E3\",\"minorgridcolor\":\"#C8D4E3\",\"startlinecolor\":\"#2a3f5f\"},\"baxis\":{\"endlinecolor\":\"#2a3f5f\",\"gridcolor\":\"#C8D4E3\",\"linecolor\":\"#C8D4E3\",\"minorgridcolor\":\"#C8D4E3\",\"startlinecolor\":\"#2a3f5f\"},\"type\":\"carpet\"}],\"choropleth\":[{\"colorbar\":{\"outlinewidth\":0,\"ticks\":\"\"},\"type\":\"choropleth\"}],\"contourcarpet\":[{\"colorbar\":{\"outlinewidth\":0,\"ticks\":\"\"},\"type\":\"contourcarpet\"}],\"contour\":[{\"colorbar\":{\"outlinewidth\":0,\"ticks\":\"\"},\"colorscale\":[[0.0,\"#0d0887\"],[0.1111111111111111,\"#46039f\"],[0.2222222222222222,\"#7201a8\"],[0.3333333333333333,\"#9c179e\"],[0.4444444444444444,\"#bd3786\"],[0.5555555555555556,\"#d8576b\"],[0.6666666666666666,\"#ed7953\"],[0.7777777777777778,\"#fb9f3a\"],[0.8888888888888888,\"#fdca26\"],[1.0,\"#f0f921\"]],\"type\":\"contour\"}],\"heatmapgl\":[{\"colorbar\":{\"outlinewidth\":0,\"ticks\":\"\"},\"colorscale\":[[0.0,\"#0d0887\"],[0.1111111111111111,\"#46039f\"],[0.2222222222222222,\"#7201a8\"],[0.3333333333333333,\"#9c179e\"],[0.4444444444444444,\"#bd3786\"],[0.5555555555555556,\"#d8576b\"],[0.6666666666666666,\"#ed7953\"],[0.7777777777777778,\"#fb9f3a\"],[0.8888888888888888,\"#fdca26\"],[1.0,\"#f0f921\"]],\"type\":\"heatmapgl\"}],\"heatmap\":[{\"colorbar\":{\"outlinewidth\":0,\"ticks\":\"\"},\"colorscale\":[[0.0,\"#0d0887\"],[0.1111111111111111,\"#46039f\"],[0.2222222222222222,\"#7201a8\"],[0.3333333333333333,\"#9c179e\"],[0.4444444444444444,\"#bd3786\"],[0.5555555555555556,\"#d8576b\"],[0.6666666666666666,\"#ed7953\"],[0.7777777777777778,\"#fb9f3a\"],[0.8888888888888888,\"#fdca26\"],[1.0,\"#f0f921\"]],\"type\":\"heatmap\"}],\"histogram2dcontour\":[{\"colorbar\":{\"outlinewidth\":0,\"ticks\":\"\"},\"colorscale\":[[0.0,\"#0d0887\"],[0.1111111111111111,\"#46039f\"],[0.2222222222222222,\"#7201a8\"],[0.3333333333333333,\"#9c179e\"],[0.4444444444444444,\"#bd3786\"],[0.5555555555555556,\"#d8576b\"],[0.6666666666666666,\"#ed7953\"],[0.7777777777777778,\"#fb9f3a\"],[0.8888888888888888,\"#fdca26\"],[1.0,\"#f0f921\"]],\"type\":\"histogram2dcontour\"}],\"histogram2d\":[{\"colorbar\":{\"outlinewidth\":0,\"ticks\":\"\"},\"colorscale\":[[0.0,\"#0d0887\"],[0.1111111111111111,\"#46039f\"],[0.2222222222222222,\"#7201a8\"],[0.3333333333333333,\"#9c179e\"],[0.4444444444444444,\"#bd3786\"],[0.5555555555555556,\"#d8576b\"],[0.6666666666666666,\"#ed7953\"],[0.7777777777777778,\"#fb9f3a\"],[0.8888888888888888,\"#fdca26\"],[1.0,\"#f0f921\"]],\"type\":\"histogram2d\"}],\"histogram\":[{\"marker\":{\"pattern\":{\"fillmode\":\"overlay\",\"size\":10,\"solidity\":0.2}},\"type\":\"histogram\"}],\"mesh3d\":[{\"colorbar\":{\"outlinewidth\":0,\"ticks\":\"\"},\"type\":\"mesh3d\"}],\"parcoords\":[{\"line\":{\"colorbar\":{\"outlinewidth\":0,\"ticks\":\"\"}},\"type\":\"parcoords\"}],\"pie\":[{\"automargin\":true,\"type\":\"pie\"}],\"scatter3d\":[{\"line\":{\"colorbar\":{\"outlinewidth\":0,\"ticks\":\"\"}},\"marker\":{\"colorbar\":{\"outlinewidth\":0,\"ticks\":\"\"}},\"type\":\"scatter3d\"}],\"scattercarpet\":[{\"marker\":{\"colorbar\":{\"outlinewidth\":0,\"ticks\":\"\"}},\"type\":\"scattercarpet\"}],\"scattergeo\":[{\"marker\":{\"colorbar\":{\"outlinewidth\":0,\"ticks\":\"\"}},\"type\":\"scattergeo\"}],\"scattergl\":[{\"marker\":{\"colorbar\":{\"outlinewidth\":0,\"ticks\":\"\"}},\"type\":\"scattergl\"}],\"scattermapbox\":[{\"marker\":{\"colorbar\":{\"outlinewidth\":0,\"ticks\":\"\"}},\"type\":\"scattermapbox\"}],\"scatterpolargl\":[{\"marker\":{\"colorbar\":{\"outlinewidth\":0,\"ticks\":\"\"}},\"type\":\"scatterpolargl\"}],\"scatterpolar\":[{\"marker\":{\"colorbar\":{\"outlinewidth\":0,\"ticks\":\"\"}},\"type\":\"scatterpolar\"}],\"scatter\":[{\"fillpattern\":{\"fillmode\":\"overlay\",\"size\":10,\"solidity\":0.2},\"type\":\"scatter\"}],\"scatterternary\":[{\"marker\":{\"colorbar\":{\"outlinewidth\":0,\"ticks\":\"\"}},\"type\":\"scatterternary\"}],\"surface\":[{\"colorbar\":{\"outlinewidth\":0,\"ticks\":\"\"},\"colorscale\":[[0.0,\"#0d0887\"],[0.1111111111111111,\"#46039f\"],[0.2222222222222222,\"#7201a8\"],[0.3333333333333333,\"#9c179e\"],[0.4444444444444444,\"#bd3786\"],[0.5555555555555556,\"#d8576b\"],[0.6666666666666666,\"#ed7953\"],[0.7777777777777778,\"#fb9f3a\"],[0.8888888888888888,\"#fdca26\"],[1.0,\"#f0f921\"]],\"type\":\"surface\"}],\"table\":[{\"cells\":{\"fill\":{\"color\":\"#EBF0F8\"},\"line\":{\"color\":\"white\"}},\"header\":{\"fill\":{\"color\":\"#C8D4E3\"},\"line\":{\"color\":\"white\"}},\"type\":\"table\"}]},\"layout\":{\"annotationdefaults\":{\"arrowcolor\":\"#2a3f5f\",\"arrowhead\":0,\"arrowwidth\":1},\"autotypenumbers\":\"strict\",\"coloraxis\":{\"colorbar\":{\"outlinewidth\":0,\"ticks\":\"\"}},\"colorscale\":{\"diverging\":[[0,\"#8e0152\"],[0.1,\"#c51b7d\"],[0.2,\"#de77ae\"],[0.3,\"#f1b6da\"],[0.4,\"#fde0ef\"],[0.5,\"#f7f7f7\"],[0.6,\"#e6f5d0\"],[0.7,\"#b8e186\"],[0.8,\"#7fbc41\"],[0.9,\"#4d9221\"],[1,\"#276419\"]],\"sequential\":[[0.0,\"#0d0887\"],[0.1111111111111111,\"#46039f\"],[0.2222222222222222,\"#7201a8\"],[0.3333333333333333,\"#9c179e\"],[0.4444444444444444,\"#bd3786\"],[0.5555555555555556,\"#d8576b\"],[0.6666666666666666,\"#ed7953\"],[0.7777777777777778,\"#fb9f3a\"],[0.8888888888888888,\"#fdca26\"],[1.0,\"#f0f921\"]],\"sequentialminus\":[[0.0,\"#0d0887\"],[0.1111111111111111,\"#46039f\"],[0.2222222222222222,\"#7201a8\"],[0.3333333333333333,\"#9c179e\"],[0.4444444444444444,\"#bd3786\"],[0.5555555555555556,\"#d8576b\"],[0.6666666666666666,\"#ed7953\"],[0.7777777777777778,\"#fb9f3a\"],[0.8888888888888888,\"#fdca26\"],[1.0,\"#f0f921\"]]},\"colorway\":[\"#636efa\",\"#EF553B\",\"#00cc96\",\"#ab63fa\",\"#FFA15A\",\"#19d3f3\",\"#FF6692\",\"#B6E880\",\"#FF97FF\",\"#FECB52\"],\"font\":{\"color\":\"#2a3f5f\"},\"geo\":{\"bgcolor\":\"white\",\"lakecolor\":\"white\",\"landcolor\":\"white\",\"showlakes\":true,\"showland\":true,\"subunitcolor\":\"#C8D4E3\"},\"hoverlabel\":{\"align\":\"left\"},\"hovermode\":\"closest\",\"mapbox\":{\"style\":\"light\"},\"paper_bgcolor\":\"white\",\"plot_bgcolor\":\"white\",\"polar\":{\"angularaxis\":{\"gridcolor\":\"#EBF0F8\",\"linecolor\":\"#EBF0F8\",\"ticks\":\"\"},\"bgcolor\":\"white\",\"radialaxis\":{\"gridcolor\":\"#EBF0F8\",\"linecolor\":\"#EBF0F8\",\"ticks\":\"\"}},\"scene\":{\"xaxis\":{\"backgroundcolor\":\"white\",\"gridcolor\":\"#DFE8F3\",\"gridwidth\":2,\"linecolor\":\"#EBF0F8\",\"showbackground\":true,\"ticks\":\"\",\"zerolinecolor\":\"#EBF0F8\"},\"yaxis\":{\"backgroundcolor\":\"white\",\"gridcolor\":\"#DFE8F3\",\"gridwidth\":2,\"linecolor\":\"#EBF0F8\",\"showbackground\":true,\"ticks\":\"\",\"zerolinecolor\":\"#EBF0F8\"},\"zaxis\":{\"backgroundcolor\":\"white\",\"gridcolor\":\"#DFE8F3\",\"gridwidth\":2,\"linecolor\":\"#EBF0F8\",\"showbackground\":true,\"ticks\":\"\",\"zerolinecolor\":\"#EBF0F8\"}},\"shapedefaults\":{\"line\":{\"color\":\"#2a3f5f\"}},\"ternary\":{\"aaxis\":{\"gridcolor\":\"#DFE8F3\",\"linecolor\":\"#A2B1C6\",\"ticks\":\"\"},\"baxis\":{\"gridcolor\":\"#DFE8F3\",\"linecolor\":\"#A2B1C6\",\"ticks\":\"\"},\"bgcolor\":\"white\",\"caxis\":{\"gridcolor\":\"#DFE8F3\",\"linecolor\":\"#A2B1C6\",\"ticks\":\"\"}},\"title\":{\"x\":0.05},\"xaxis\":{\"automargin\":true,\"gridcolor\":\"#EBF0F8\",\"linecolor\":\"#EBF0F8\",\"ticks\":\"\",\"title\":{\"standoff\":15},\"zerolinecolor\":\"#EBF0F8\",\"zerolinewidth\":2},\"yaxis\":{\"automargin\":true,\"gridcolor\":\"#EBF0F8\",\"linecolor\":\"#EBF0F8\",\"ticks\":\"\",\"title\":{\"standoff\":15},\"zerolinecolor\":\"#EBF0F8\",\"zerolinewidth\":2}}},\"title\":{\"text\":\"Figure4: Data Collection Plan\"},\"xaxis\":{\"anchor\":\"y\",\"domain\":[0.0,1.0],\"title\":{\"text\":\"type\"}},\"yaxis\":{\"anchor\":\"x\",\"domain\":[0.0,1.0],\"title\":{\"text\":\"count\"}},\"width\":1050,\"height\":600},                        {\"responsive\": true}                    ).then(function(){\n",
       "                            \n",
       "var gd = document.getElementById('ab53d3db-ba7f-4207-b056-c14494524a60');\n",
       "var x = new MutationObserver(function (mutations, observer) {{\n",
       "        var display = window.getComputedStyle(gd).display;\n",
       "        if (!display || display === 'none') {{\n",
       "            console.log([gd, 'removed!']);\n",
       "            Plotly.purge(gd);\n",
       "            observer.disconnect();\n",
       "        }}\n",
       "}});\n",
       "\n",
       "// Listen for the removal of the full notebook cells\n",
       "var notebookContainer = gd.closest('#notebook-container');\n",
       "if (notebookContainer) {{\n",
       "    x.observe(notebookContainer, {childList: true});\n",
       "}}\n",
       "\n",
       "// Listen for the clearing of the current output cell\n",
       "var outputEl = gd.closest('.output');\n",
       "if (outputEl) {{\n",
       "    x.observe(outputEl, {childList: true});\n",
       "}}\n",
       "\n",
       "                        })                };                });            </script>        </div>"
      ]
     },
     "metadata": {},
     "output_type": "display_data"
    }
   ],
   "source": [
    "figs['실험셋업시각화_실험1실험계획'].layout['title']['text']='Figure4: Data Collection Plan'\n",
    "figs['실험셋업시각화_실험1실험계획'].layout['width']=1050\n",
    "figs['실험셋업시각화_실험1실험계획'].layout['height']=600\n",
    "figs['실험셋업시각화_실험1실험계획']"
   ]
  },
  {
   "cell_type": "markdown",
   "id": "a13c6371-65ff-46a9-b70d-01c13da9f4e0",
   "metadata": {},
   "source": [
    "::: {.notes}\n",
    "저희의 실험계획은 가장 데이터 양이 적은 'ESTP, ESFP, ESFJ, ESTJ' 네 개의 데이터의 불균형이 GPT 생성 데이터로 얼마나 개선이 되는지 보여드리려고 합니다.\n",
    "::: "
   ]
  },
  {
   "cell_type": "markdown",
   "id": "0f661ca1-be47-423c-a810-bdd78b287a29",
   "metadata": {},
   "source": [
    "## Experiment 1"
   ]
  },
  {
   "cell_type": "code",
   "execution_count": 4,
   "id": "fdc1ff70-4cca-424e-992a-1a37ac639e2d",
   "metadata": {
    "tags": []
   },
   "outputs": [
    {
     "data": {
      "text/html": [
       "<div>                            <div id=\"f9199b96-6a7c-4a08-8ee8-559e1749b984\" class=\"plotly-graph-div\" style=\"height:600px; width:1050px;\"></div>            <script type=\"text/javascript\">                require([\"plotly\"], function(Plotly) {                    window.PLOTLYENV=window.PLOTLYENV || {};                                    if (document.getElementById(\"f9199b96-6a7c-4a08-8ee8-559e1749b984\")) {                    Plotly.newPlot(                        \"f9199b96-6a7c-4a08-8ee8-559e1749b984\",                        [{\"alignmentgroup\":\"True\",\"hovertemplate\":\"DataType=Train\\u003cbr\\u003etype=%{x}\\u003cbr\\u003ecount=%{text}\\u003cextra\\u003e\\u003c\\u002fextra\\u003e\",\"legendgroup\":\"Train\",\"marker\":{\"color\":\"#636efa\",\"pattern\":{\"shape\":\"\"}},\"name\":\"Train\",\"offsetgroup\":\"Train\",\"orientation\":\"v\",\"showlegend\":true,\"text\":[916.0,735.0,652.0,545.0,343.0,338.0,169.0,136.0,115.0,102.0,95.0,83.0,45.0,24.0,21.0,19.0],\"textposition\":\"auto\",\"x\":[\"INFP\",\"INFJ\",\"INTP\",\"INTJ\",\"ENTP\",\"ENFP\",\"ISTP\",\"ISFP\",\"ENTJ\",\"ISTJ\",\"ENFJ\",\"ISFJ\",\"ESTP\",\"ESFP\",\"ESFJ\",\"ESTJ\"],\"xaxis\":\"x\",\"y\":[916,735,652,545,343,338,169,136,115,102,95,83,45,24,21,19],\"yaxis\":\"y\",\"type\":\"bar\"},{\"alignmentgroup\":\"True\",\"hovertemplate\":\"DataType=Test\\u003cbr\\u003etype=%{x}\\u003cbr\\u003ecount=%{text}\\u003cextra\\u003e\\u003c\\u002fextra\\u003e\",\"legendgroup\":\"Test\",\"marker\":{\"color\":\"#636efa\",\"pattern\":{\"shape\":\"\\u002f\"}},\"name\":\"Test\",\"offsetgroup\":\"Test\",\"orientation\":\"v\",\"showlegend\":true,\"text\":[916.0,735.0,652.0,546.0,342.0,337.0,168.0,135.0,116.0,103.0,95.0,83.0,44.0,24.0,21.0,20.0],\"textposition\":\"auto\",\"x\":[\"INFP\",\"INFJ\",\"INTP\",\"INTJ\",\"ENTP\",\"ENFP\",\"ISTP\",\"ISFP\",\"ENTJ\",\"ISTJ\",\"ENFJ\",\"ISFJ\",\"ESTP\",\"ESFP\",\"ESFJ\",\"ESTJ\"],\"xaxis\":\"x\",\"y\":[916,735,652,546,342,337,168,135,116,103,95,83,44,24,21,20],\"yaxis\":\"y\",\"type\":\"bar\"}],                        {\"barmode\":\"group\",\"legend\":{\"title\":{\"text\":\"DataType\"},\"tracegroupgap\":0},\"template\":{\"data\":{\"barpolar\":[{\"marker\":{\"line\":{\"color\":\"white\",\"width\":0.5},\"pattern\":{\"fillmode\":\"overlay\",\"size\":10,\"solidity\":0.2}},\"type\":\"barpolar\"}],\"bar\":[{\"error_x\":{\"color\":\"#2a3f5f\"},\"error_y\":{\"color\":\"#2a3f5f\"},\"marker\":{\"line\":{\"color\":\"white\",\"width\":0.5},\"pattern\":{\"fillmode\":\"overlay\",\"size\":10,\"solidity\":0.2}},\"type\":\"bar\"}],\"carpet\":[{\"aaxis\":{\"endlinecolor\":\"#2a3f5f\",\"gridcolor\":\"#C8D4E3\",\"linecolor\":\"#C8D4E3\",\"minorgridcolor\":\"#C8D4E3\",\"startlinecolor\":\"#2a3f5f\"},\"baxis\":{\"endlinecolor\":\"#2a3f5f\",\"gridcolor\":\"#C8D4E3\",\"linecolor\":\"#C8D4E3\",\"minorgridcolor\":\"#C8D4E3\",\"startlinecolor\":\"#2a3f5f\"},\"type\":\"carpet\"}],\"choropleth\":[{\"colorbar\":{\"outlinewidth\":0,\"ticks\":\"\"},\"type\":\"choropleth\"}],\"contourcarpet\":[{\"colorbar\":{\"outlinewidth\":0,\"ticks\":\"\"},\"type\":\"contourcarpet\"}],\"contour\":[{\"colorbar\":{\"outlinewidth\":0,\"ticks\":\"\"},\"colorscale\":[[0.0,\"#0d0887\"],[0.1111111111111111,\"#46039f\"],[0.2222222222222222,\"#7201a8\"],[0.3333333333333333,\"#9c179e\"],[0.4444444444444444,\"#bd3786\"],[0.5555555555555556,\"#d8576b\"],[0.6666666666666666,\"#ed7953\"],[0.7777777777777778,\"#fb9f3a\"],[0.8888888888888888,\"#fdca26\"],[1.0,\"#f0f921\"]],\"type\":\"contour\"}],\"heatmapgl\":[{\"colorbar\":{\"outlinewidth\":0,\"ticks\":\"\"},\"colorscale\":[[0.0,\"#0d0887\"],[0.1111111111111111,\"#46039f\"],[0.2222222222222222,\"#7201a8\"],[0.3333333333333333,\"#9c179e\"],[0.4444444444444444,\"#bd3786\"],[0.5555555555555556,\"#d8576b\"],[0.6666666666666666,\"#ed7953\"],[0.7777777777777778,\"#fb9f3a\"],[0.8888888888888888,\"#fdca26\"],[1.0,\"#f0f921\"]],\"type\":\"heatmapgl\"}],\"heatmap\":[{\"colorbar\":{\"outlinewidth\":0,\"ticks\":\"\"},\"colorscale\":[[0.0,\"#0d0887\"],[0.1111111111111111,\"#46039f\"],[0.2222222222222222,\"#7201a8\"],[0.3333333333333333,\"#9c179e\"],[0.4444444444444444,\"#bd3786\"],[0.5555555555555556,\"#d8576b\"],[0.6666666666666666,\"#ed7953\"],[0.7777777777777778,\"#fb9f3a\"],[0.8888888888888888,\"#fdca26\"],[1.0,\"#f0f921\"]],\"type\":\"heatmap\"}],\"histogram2dcontour\":[{\"colorbar\":{\"outlinewidth\":0,\"ticks\":\"\"},\"colorscale\":[[0.0,\"#0d0887\"],[0.1111111111111111,\"#46039f\"],[0.2222222222222222,\"#7201a8\"],[0.3333333333333333,\"#9c179e\"],[0.4444444444444444,\"#bd3786\"],[0.5555555555555556,\"#d8576b\"],[0.6666666666666666,\"#ed7953\"],[0.7777777777777778,\"#fb9f3a\"],[0.8888888888888888,\"#fdca26\"],[1.0,\"#f0f921\"]],\"type\":\"histogram2dcontour\"}],\"histogram2d\":[{\"colorbar\":{\"outlinewidth\":0,\"ticks\":\"\"},\"colorscale\":[[0.0,\"#0d0887\"],[0.1111111111111111,\"#46039f\"],[0.2222222222222222,\"#7201a8\"],[0.3333333333333333,\"#9c179e\"],[0.4444444444444444,\"#bd3786\"],[0.5555555555555556,\"#d8576b\"],[0.6666666666666666,\"#ed7953\"],[0.7777777777777778,\"#fb9f3a\"],[0.8888888888888888,\"#fdca26\"],[1.0,\"#f0f921\"]],\"type\":\"histogram2d\"}],\"histogram\":[{\"marker\":{\"pattern\":{\"fillmode\":\"overlay\",\"size\":10,\"solidity\":0.2}},\"type\":\"histogram\"}],\"mesh3d\":[{\"colorbar\":{\"outlinewidth\":0,\"ticks\":\"\"},\"type\":\"mesh3d\"}],\"parcoords\":[{\"line\":{\"colorbar\":{\"outlinewidth\":0,\"ticks\":\"\"}},\"type\":\"parcoords\"}],\"pie\":[{\"automargin\":true,\"type\":\"pie\"}],\"scatter3d\":[{\"line\":{\"colorbar\":{\"outlinewidth\":0,\"ticks\":\"\"}},\"marker\":{\"colorbar\":{\"outlinewidth\":0,\"ticks\":\"\"}},\"type\":\"scatter3d\"}],\"scattercarpet\":[{\"marker\":{\"colorbar\":{\"outlinewidth\":0,\"ticks\":\"\"}},\"type\":\"scattercarpet\"}],\"scattergeo\":[{\"marker\":{\"colorbar\":{\"outlinewidth\":0,\"ticks\":\"\"}},\"type\":\"scattergeo\"}],\"scattergl\":[{\"marker\":{\"colorbar\":{\"outlinewidth\":0,\"ticks\":\"\"}},\"type\":\"scattergl\"}],\"scattermapbox\":[{\"marker\":{\"colorbar\":{\"outlinewidth\":0,\"ticks\":\"\"}},\"type\":\"scattermapbox\"}],\"scatterpolargl\":[{\"marker\":{\"colorbar\":{\"outlinewidth\":0,\"ticks\":\"\"}},\"type\":\"scatterpolargl\"}],\"scatterpolar\":[{\"marker\":{\"colorbar\":{\"outlinewidth\":0,\"ticks\":\"\"}},\"type\":\"scatterpolar\"}],\"scatter\":[{\"fillpattern\":{\"fillmode\":\"overlay\",\"size\":10,\"solidity\":0.2},\"type\":\"scatter\"}],\"scatterternary\":[{\"marker\":{\"colorbar\":{\"outlinewidth\":0,\"ticks\":\"\"}},\"type\":\"scatterternary\"}],\"surface\":[{\"colorbar\":{\"outlinewidth\":0,\"ticks\":\"\"},\"colorscale\":[[0.0,\"#0d0887\"],[0.1111111111111111,\"#46039f\"],[0.2222222222222222,\"#7201a8\"],[0.3333333333333333,\"#9c179e\"],[0.4444444444444444,\"#bd3786\"],[0.5555555555555556,\"#d8576b\"],[0.6666666666666666,\"#ed7953\"],[0.7777777777777778,\"#fb9f3a\"],[0.8888888888888888,\"#fdca26\"],[1.0,\"#f0f921\"]],\"type\":\"surface\"}],\"table\":[{\"cells\":{\"fill\":{\"color\":\"#EBF0F8\"},\"line\":{\"color\":\"white\"}},\"header\":{\"fill\":{\"color\":\"#C8D4E3\"},\"line\":{\"color\":\"white\"}},\"type\":\"table\"}]},\"layout\":{\"annotationdefaults\":{\"arrowcolor\":\"#2a3f5f\",\"arrowhead\":0,\"arrowwidth\":1},\"autotypenumbers\":\"strict\",\"coloraxis\":{\"colorbar\":{\"outlinewidth\":0,\"ticks\":\"\"}},\"colorscale\":{\"diverging\":[[0,\"#8e0152\"],[0.1,\"#c51b7d\"],[0.2,\"#de77ae\"],[0.3,\"#f1b6da\"],[0.4,\"#fde0ef\"],[0.5,\"#f7f7f7\"],[0.6,\"#e6f5d0\"],[0.7,\"#b8e186\"],[0.8,\"#7fbc41\"],[0.9,\"#4d9221\"],[1,\"#276419\"]],\"sequential\":[[0.0,\"#0d0887\"],[0.1111111111111111,\"#46039f\"],[0.2222222222222222,\"#7201a8\"],[0.3333333333333333,\"#9c179e\"],[0.4444444444444444,\"#bd3786\"],[0.5555555555555556,\"#d8576b\"],[0.6666666666666666,\"#ed7953\"],[0.7777777777777778,\"#fb9f3a\"],[0.8888888888888888,\"#fdca26\"],[1.0,\"#f0f921\"]],\"sequentialminus\":[[0.0,\"#0d0887\"],[0.1111111111111111,\"#46039f\"],[0.2222222222222222,\"#7201a8\"],[0.3333333333333333,\"#9c179e\"],[0.4444444444444444,\"#bd3786\"],[0.5555555555555556,\"#d8576b\"],[0.6666666666666666,\"#ed7953\"],[0.7777777777777778,\"#fb9f3a\"],[0.8888888888888888,\"#fdca26\"],[1.0,\"#f0f921\"]]},\"colorway\":[\"#636efa\",\"#EF553B\",\"#00cc96\",\"#ab63fa\",\"#FFA15A\",\"#19d3f3\",\"#FF6692\",\"#B6E880\",\"#FF97FF\",\"#FECB52\"],\"font\":{\"color\":\"#2a3f5f\"},\"geo\":{\"bgcolor\":\"white\",\"lakecolor\":\"white\",\"landcolor\":\"white\",\"showlakes\":true,\"showland\":true,\"subunitcolor\":\"#C8D4E3\"},\"hoverlabel\":{\"align\":\"left\"},\"hovermode\":\"closest\",\"mapbox\":{\"style\":\"light\"},\"paper_bgcolor\":\"white\",\"plot_bgcolor\":\"white\",\"polar\":{\"angularaxis\":{\"gridcolor\":\"#EBF0F8\",\"linecolor\":\"#EBF0F8\",\"ticks\":\"\"},\"bgcolor\":\"white\",\"radialaxis\":{\"gridcolor\":\"#EBF0F8\",\"linecolor\":\"#EBF0F8\",\"ticks\":\"\"}},\"scene\":{\"xaxis\":{\"backgroundcolor\":\"white\",\"gridcolor\":\"#DFE8F3\",\"gridwidth\":2,\"linecolor\":\"#EBF0F8\",\"showbackground\":true,\"ticks\":\"\",\"zerolinecolor\":\"#EBF0F8\"},\"yaxis\":{\"backgroundcolor\":\"white\",\"gridcolor\":\"#DFE8F3\",\"gridwidth\":2,\"linecolor\":\"#EBF0F8\",\"showbackground\":true,\"ticks\":\"\",\"zerolinecolor\":\"#EBF0F8\"},\"zaxis\":{\"backgroundcolor\":\"white\",\"gridcolor\":\"#DFE8F3\",\"gridwidth\":2,\"linecolor\":\"#EBF0F8\",\"showbackground\":true,\"ticks\":\"\",\"zerolinecolor\":\"#EBF0F8\"}},\"shapedefaults\":{\"line\":{\"color\":\"#2a3f5f\"}},\"ternary\":{\"aaxis\":{\"gridcolor\":\"#DFE8F3\",\"linecolor\":\"#A2B1C6\",\"ticks\":\"\"},\"baxis\":{\"gridcolor\":\"#DFE8F3\",\"linecolor\":\"#A2B1C6\",\"ticks\":\"\"},\"bgcolor\":\"white\",\"caxis\":{\"gridcolor\":\"#DFE8F3\",\"linecolor\":\"#A2B1C6\",\"ticks\":\"\"}},\"title\":{\"x\":0.05},\"xaxis\":{\"automargin\":true,\"gridcolor\":\"#EBF0F8\",\"linecolor\":\"#EBF0F8\",\"ticks\":\"\",\"title\":{\"standoff\":15},\"zerolinecolor\":\"#EBF0F8\",\"zerolinewidth\":2},\"yaxis\":{\"automargin\":true,\"gridcolor\":\"#EBF0F8\",\"linecolor\":\"#EBF0F8\",\"ticks\":\"\",\"title\":{\"standoff\":15},\"zerolinecolor\":\"#EBF0F8\",\"zerolinewidth\":2}}},\"title\":{\"text\":\"Figure5(a): Experiment 1 \\u002f Scenario 1\"},\"xaxis\":{\"anchor\":\"y\",\"domain\":[0.0,1.0],\"title\":{\"text\":\"type\"}},\"yaxis\":{\"anchor\":\"x\",\"domain\":[0.0,1.0],\"title\":{\"text\":\"count\"}},\"width\":1050,\"height\":600},                        {\"responsive\": true}                    ).then(function(){\n",
       "                            \n",
       "var gd = document.getElementById('f9199b96-6a7c-4a08-8ee8-559e1749b984');\n",
       "var x = new MutationObserver(function (mutations, observer) {{\n",
       "        var display = window.getComputedStyle(gd).display;\n",
       "        if (!display || display === 'none') {{\n",
       "            console.log([gd, 'removed!']);\n",
       "            Plotly.purge(gd);\n",
       "            observer.disconnect();\n",
       "        }}\n",
       "}});\n",
       "\n",
       "// Listen for the removal of the full notebook cells\n",
       "var notebookContainer = gd.closest('#notebook-container');\n",
       "if (notebookContainer) {{\n",
       "    x.observe(notebookContainer, {childList: true});\n",
       "}}\n",
       "\n",
       "// Listen for the clearing of the current output cell\n",
       "var outputEl = gd.closest('.output');\n",
       "if (outputEl) {{\n",
       "    x.observe(outputEl, {childList: true});\n",
       "}}\n",
       "\n",
       "                        })                };                });            </script>        </div>"
      ]
     },
     "metadata": {},
     "output_type": "display_data"
    }
   ],
   "source": [
    "figs['실험셋업시각화_실험1시나리오1'].layout['title']['text']='Figure5(a): Experiment 1 / Scenario 1'\n",
    "figs['실험셋업시각화_실험1시나리오1'].layout['width']=1050\n",
    "figs['실험셋업시각화_실험1시나리오1'].layout['height']=600\n",
    "figs['실험셋업시각화_실험1시나리오1']"
   ]
  },
  {
   "cell_type": "markdown",
   "id": "578ce285-ea45-4c65-81a6-4ae0bc7a8c60",
   "metadata": {},
   "source": [
    "::: {.notes}\n",
    "train과 test가 보통 7:3 정도 비율인데 5:5로 한 이유는 7:3으로 하면 뒤에 데이터의 수가 적어져서이다.\n",
    "\n",
    "이 데이터를 시뮬레이션 하면 뒤에 4개의 데이터의 결과가 좋지 않게 나올 것이다.\n",
    "::: "
   ]
  },
  {
   "cell_type": "markdown",
   "id": "55c57fc8-1894-4051-ac8a-5ff7581cc971",
   "metadata": {},
   "source": [
    "## Experiment 1"
   ]
  },
  {
   "cell_type": "code",
   "execution_count": 5,
   "id": "660cd7e8-0df3-4b2b-b1f2-6eaadd453759",
   "metadata": {
    "tags": []
   },
   "outputs": [
    {
     "data": {
      "text/html": [
       "<div>                            <div id=\"3586bbfc-d871-4252-9871-dd8681b964b9\" class=\"plotly-graph-div\" style=\"height:600px; width:1050px;\"></div>            <script type=\"text/javascript\">                require([\"plotly\"], function(Plotly) {                    window.PLOTLYENV=window.PLOTLYENV || {};                                    if (document.getElementById(\"3586bbfc-d871-4252-9871-dd8681b964b9\")) {                    Plotly.newPlot(                        \"3586bbfc-d871-4252-9871-dd8681b964b9\",                        [{\"alignmentgroup\":\"True\",\"customdata\":[[\"Kaggle\"],[\"Kaggle\"],[\"Kaggle\"],[\"Kaggle\"],[\"Kaggle\"],[\"Kaggle\"],[\"Kaggle\"],[\"Kaggle\"],[\"Kaggle\"],[\"Kaggle\"],[\"Kaggle\"],[\"Kaggle\"],[\"Kaggle\"],[\"Kaggle\"],[\"Kaggle\"],[\"Kaggle\"],[\"ChatGpt\"],[\"ChatGpt\"],[\"ChatGpt\"],[\"ChatGpt\"]],\"hovertemplate\":\"Type=%{x}\\u003cbr\\u003eCount=%{text}\\u003cbr\\u003eDataType=Train\\u003cbr\\u003eSource=%{customdata[0]}\\u003cbr\\u003e\\u003cextra\\u003e\\u003c\\u002fextra\\u003e\",\"legendgroup\":\"Train\",\"marker\":{\"color\":[\"#636efa\",\"#636efa\",\"#636efa\",\"#636efa\",\"#636efa\",\"#636efa\",\"#636efa\",\"#636efa\",\"#636efa\",\"#636efa\",\"#636efa\",\"#636efa\",\"#636efa\",\"#636efa\",\"#636efa\",\"#636efa\",\"#EF553B\",\"#EF553B\",\"#EF553B\",\"#EF553B\"],\"coloraxis\":\"coloraxis\",\"pattern\":{\"shape\":\"\"}},\"name\":\"Train\",\"offsetgroup\":\"Train\",\"orientation\":\"v\",\"showlegend\":true,\"text\":[916.0,735.0,652.0,545.0,343.0,338.0,169.0,136.0,115.0,102.0,95.0,83.0,45.0,24.0,21.0,19.0,181.0,179.0,176.0,155.0],\"textposition\":\"auto\",\"x\":[\"INFP\",\"INFJ\",\"INTP\",\"INTJ\",\"ENTP\",\"ENFP\",\"ISTP\",\"ISFP\",\"ENTJ\",\"ISTJ\",\"ENFJ\",\"ISFJ\",\"ESTP\",\"ESFP\",\"ESFJ\",\"ESTJ\",\"ESTJ\",\"ESFJ\",\"ESFP\",\"ESTP\"],\"xaxis\":\"x\",\"y\":[916,735,652,545,343,338,169,136,115,102,95,83,45,24,21,19,181,179,176,155],\"yaxis\":\"y\",\"type\":\"bar\"},{\"alignmentgroup\":\"True\",\"customdata\":[[\"Kaggle\"],[\"Kaggle\"],[\"Kaggle\"],[\"Kaggle\"],[\"Kaggle\"],[\"Kaggle\"],[\"Kaggle\"],[\"Kaggle\"],[\"Kaggle\"],[\"Kaggle\"],[\"Kaggle\"],[\"Kaggle\"],[\"Kaggle\"],[\"Kaggle\"],[\"Kaggle\"],[\"Kaggle\"]],\"hovertemplate\":\"Type=%{x}\\u003cbr\\u003eCount=%{text}\\u003cbr\\u003eDataType=Train\\u003cbr\\u003eSource=%{customdata[0]}\\u003cbr\\u003e\\u003cextra\\u003e\\u003c\\u002fextra\\u003e\",\"legendgroup\":\"Test\",\"marker\":{\"color\":[\"#636efa\",\"#636efa\",\"#636efa\",\"#636efa\",\"#636efa\",\"#636efa\",\"#636efa\",\"#636efa\",\"#636efa\",\"#636efa\",\"#636efa\",\"#636efa\",\"#636efa\",\"#636efa\",\"#636efa\",\"#636efa\",\"#636efa\",\"#636efa\",\"#636efa\",\"#636efa\"],\"coloraxis\":\"coloraxis\",\"pattern\":{\"shape\":\"\\u002f\"}},\"name\":\"Test\",\"offsetgroup\":\"Test\",\"orientation\":\"v\",\"showlegend\":true,\"text\":[916.0,735.0,652.0,546.0,342.0,337.0,168.0,135.0,116.0,103.0,95.0,83.0,44.0,24.0,21.0,20.0],\"textposition\":\"auto\",\"x\":[\"INFP\",\"INFJ\",\"INTP\",\"INTJ\",\"ENTP\",\"ENFP\",\"ISTP\",\"ISFP\",\"ENTJ\",\"ISTJ\",\"ENFJ\",\"ISFJ\",\"ESTP\",\"ESFP\",\"ESFJ\",\"ESTJ\"],\"xaxis\":\"x\",\"y\":[916,735,652,546,342,337,168,135,116,103,95,83,44,24,21,20],\"yaxis\":\"y\",\"type\":\"bar\"}],                        {\"barmode\":\"group\",\"coloraxis\":{\"colorbar\":{\"title\":{\"text\":\"color\"}},\"colorscale\":[[0.0,\"#0d0887\"],[0.1111111111111111,\"#46039f\"],[0.2222222222222222,\"#7201a8\"],[0.3333333333333333,\"#9c179e\"],[0.4444444444444444,\"#bd3786\"],[0.5555555555555556,\"#d8576b\"],[0.6666666666666666,\"#ed7953\"],[0.7777777777777778,\"#fb9f3a\"],[0.8888888888888888,\"#fdca26\"],[1.0,\"#f0f921\"]]},\"height\":600,\"legend\":{\"title\":{\"text\":\"DataType\"},\"tracegroupgap\":0},\"template\":{\"data\":{\"barpolar\":[{\"marker\":{\"line\":{\"color\":\"white\",\"width\":0.5},\"pattern\":{\"fillmode\":\"overlay\",\"size\":10,\"solidity\":0.2}},\"type\":\"barpolar\"}],\"bar\":[{\"error_x\":{\"color\":\"#2a3f5f\"},\"error_y\":{\"color\":\"#2a3f5f\"},\"marker\":{\"line\":{\"color\":\"white\",\"width\":0.5},\"pattern\":{\"fillmode\":\"overlay\",\"size\":10,\"solidity\":0.2}},\"type\":\"bar\"}],\"carpet\":[{\"aaxis\":{\"endlinecolor\":\"#2a3f5f\",\"gridcolor\":\"#C8D4E3\",\"linecolor\":\"#C8D4E3\",\"minorgridcolor\":\"#C8D4E3\",\"startlinecolor\":\"#2a3f5f\"},\"baxis\":{\"endlinecolor\":\"#2a3f5f\",\"gridcolor\":\"#C8D4E3\",\"linecolor\":\"#C8D4E3\",\"minorgridcolor\":\"#C8D4E3\",\"startlinecolor\":\"#2a3f5f\"},\"type\":\"carpet\"}],\"choropleth\":[{\"colorbar\":{\"outlinewidth\":0,\"ticks\":\"\"},\"type\":\"choropleth\"}],\"contourcarpet\":[{\"colorbar\":{\"outlinewidth\":0,\"ticks\":\"\"},\"type\":\"contourcarpet\"}],\"contour\":[{\"colorbar\":{\"outlinewidth\":0,\"ticks\":\"\"},\"colorscale\":[[0.0,\"#0d0887\"],[0.1111111111111111,\"#46039f\"],[0.2222222222222222,\"#7201a8\"],[0.3333333333333333,\"#9c179e\"],[0.4444444444444444,\"#bd3786\"],[0.5555555555555556,\"#d8576b\"],[0.6666666666666666,\"#ed7953\"],[0.7777777777777778,\"#fb9f3a\"],[0.8888888888888888,\"#fdca26\"],[1.0,\"#f0f921\"]],\"type\":\"contour\"}],\"heatmapgl\":[{\"colorbar\":{\"outlinewidth\":0,\"ticks\":\"\"},\"colorscale\":[[0.0,\"#0d0887\"],[0.1111111111111111,\"#46039f\"],[0.2222222222222222,\"#7201a8\"],[0.3333333333333333,\"#9c179e\"],[0.4444444444444444,\"#bd3786\"],[0.5555555555555556,\"#d8576b\"],[0.6666666666666666,\"#ed7953\"],[0.7777777777777778,\"#fb9f3a\"],[0.8888888888888888,\"#fdca26\"],[1.0,\"#f0f921\"]],\"type\":\"heatmapgl\"}],\"heatmap\":[{\"colorbar\":{\"outlinewidth\":0,\"ticks\":\"\"},\"colorscale\":[[0.0,\"#0d0887\"],[0.1111111111111111,\"#46039f\"],[0.2222222222222222,\"#7201a8\"],[0.3333333333333333,\"#9c179e\"],[0.4444444444444444,\"#bd3786\"],[0.5555555555555556,\"#d8576b\"],[0.6666666666666666,\"#ed7953\"],[0.7777777777777778,\"#fb9f3a\"],[0.8888888888888888,\"#fdca26\"],[1.0,\"#f0f921\"]],\"type\":\"heatmap\"}],\"histogram2dcontour\":[{\"colorbar\":{\"outlinewidth\":0,\"ticks\":\"\"},\"colorscale\":[[0.0,\"#0d0887\"],[0.1111111111111111,\"#46039f\"],[0.2222222222222222,\"#7201a8\"],[0.3333333333333333,\"#9c179e\"],[0.4444444444444444,\"#bd3786\"],[0.5555555555555556,\"#d8576b\"],[0.6666666666666666,\"#ed7953\"],[0.7777777777777778,\"#fb9f3a\"],[0.8888888888888888,\"#fdca26\"],[1.0,\"#f0f921\"]],\"type\":\"histogram2dcontour\"}],\"histogram2d\":[{\"colorbar\":{\"outlinewidth\":0,\"ticks\":\"\"},\"colorscale\":[[0.0,\"#0d0887\"],[0.1111111111111111,\"#46039f\"],[0.2222222222222222,\"#7201a8\"],[0.3333333333333333,\"#9c179e\"],[0.4444444444444444,\"#bd3786\"],[0.5555555555555556,\"#d8576b\"],[0.6666666666666666,\"#ed7953\"],[0.7777777777777778,\"#fb9f3a\"],[0.8888888888888888,\"#fdca26\"],[1.0,\"#f0f921\"]],\"type\":\"histogram2d\"}],\"histogram\":[{\"marker\":{\"pattern\":{\"fillmode\":\"overlay\",\"size\":10,\"solidity\":0.2}},\"type\":\"histogram\"}],\"mesh3d\":[{\"colorbar\":{\"outlinewidth\":0,\"ticks\":\"\"},\"type\":\"mesh3d\"}],\"parcoords\":[{\"line\":{\"colorbar\":{\"outlinewidth\":0,\"ticks\":\"\"}},\"type\":\"parcoords\"}],\"pie\":[{\"automargin\":true,\"type\":\"pie\"}],\"scatter3d\":[{\"line\":{\"colorbar\":{\"outlinewidth\":0,\"ticks\":\"\"}},\"marker\":{\"colorbar\":{\"outlinewidth\":0,\"ticks\":\"\"}},\"type\":\"scatter3d\"}],\"scattercarpet\":[{\"marker\":{\"colorbar\":{\"outlinewidth\":0,\"ticks\":\"\"}},\"type\":\"scattercarpet\"}],\"scattergeo\":[{\"marker\":{\"colorbar\":{\"outlinewidth\":0,\"ticks\":\"\"}},\"type\":\"scattergeo\"}],\"scattergl\":[{\"marker\":{\"colorbar\":{\"outlinewidth\":0,\"ticks\":\"\"}},\"type\":\"scattergl\"}],\"scattermapbox\":[{\"marker\":{\"colorbar\":{\"outlinewidth\":0,\"ticks\":\"\"}},\"type\":\"scattermapbox\"}],\"scatterpolargl\":[{\"marker\":{\"colorbar\":{\"outlinewidth\":0,\"ticks\":\"\"}},\"type\":\"scatterpolargl\"}],\"scatterpolar\":[{\"marker\":{\"colorbar\":{\"outlinewidth\":0,\"ticks\":\"\"}},\"type\":\"scatterpolar\"}],\"scatter\":[{\"fillpattern\":{\"fillmode\":\"overlay\",\"size\":10,\"solidity\":0.2},\"type\":\"scatter\"}],\"scatterternary\":[{\"marker\":{\"colorbar\":{\"outlinewidth\":0,\"ticks\":\"\"}},\"type\":\"scatterternary\"}],\"surface\":[{\"colorbar\":{\"outlinewidth\":0,\"ticks\":\"\"},\"colorscale\":[[0.0,\"#0d0887\"],[0.1111111111111111,\"#46039f\"],[0.2222222222222222,\"#7201a8\"],[0.3333333333333333,\"#9c179e\"],[0.4444444444444444,\"#bd3786\"],[0.5555555555555556,\"#d8576b\"],[0.6666666666666666,\"#ed7953\"],[0.7777777777777778,\"#fb9f3a\"],[0.8888888888888888,\"#fdca26\"],[1.0,\"#f0f921\"]],\"type\":\"surface\"}],\"table\":[{\"cells\":{\"fill\":{\"color\":\"#EBF0F8\"},\"line\":{\"color\":\"white\"}},\"header\":{\"fill\":{\"color\":\"#C8D4E3\"},\"line\":{\"color\":\"white\"}},\"type\":\"table\"}]},\"layout\":{\"annotationdefaults\":{\"arrowcolor\":\"#2a3f5f\",\"arrowhead\":0,\"arrowwidth\":1},\"autotypenumbers\":\"strict\",\"coloraxis\":{\"colorbar\":{\"outlinewidth\":0,\"ticks\":\"\"}},\"colorscale\":{\"diverging\":[[0,\"#8e0152\"],[0.1,\"#c51b7d\"],[0.2,\"#de77ae\"],[0.3,\"#f1b6da\"],[0.4,\"#fde0ef\"],[0.5,\"#f7f7f7\"],[0.6,\"#e6f5d0\"],[0.7,\"#b8e186\"],[0.8,\"#7fbc41\"],[0.9,\"#4d9221\"],[1,\"#276419\"]],\"sequential\":[[0.0,\"#0d0887\"],[0.1111111111111111,\"#46039f\"],[0.2222222222222222,\"#7201a8\"],[0.3333333333333333,\"#9c179e\"],[0.4444444444444444,\"#bd3786\"],[0.5555555555555556,\"#d8576b\"],[0.6666666666666666,\"#ed7953\"],[0.7777777777777778,\"#fb9f3a\"],[0.8888888888888888,\"#fdca26\"],[1.0,\"#f0f921\"]],\"sequentialminus\":[[0.0,\"#0d0887\"],[0.1111111111111111,\"#46039f\"],[0.2222222222222222,\"#7201a8\"],[0.3333333333333333,\"#9c179e\"],[0.4444444444444444,\"#bd3786\"],[0.5555555555555556,\"#d8576b\"],[0.6666666666666666,\"#ed7953\"],[0.7777777777777778,\"#fb9f3a\"],[0.8888888888888888,\"#fdca26\"],[1.0,\"#f0f921\"]]},\"colorway\":[\"#636efa\",\"#EF553B\",\"#00cc96\",\"#ab63fa\",\"#FFA15A\",\"#19d3f3\",\"#FF6692\",\"#B6E880\",\"#FF97FF\",\"#FECB52\"],\"font\":{\"color\":\"#2a3f5f\"},\"geo\":{\"bgcolor\":\"white\",\"lakecolor\":\"white\",\"landcolor\":\"white\",\"showlakes\":true,\"showland\":true,\"subunitcolor\":\"#C8D4E3\"},\"hoverlabel\":{\"align\":\"left\"},\"hovermode\":\"closest\",\"mapbox\":{\"style\":\"light\"},\"paper_bgcolor\":\"white\",\"plot_bgcolor\":\"white\",\"polar\":{\"angularaxis\":{\"gridcolor\":\"#EBF0F8\",\"linecolor\":\"#EBF0F8\",\"ticks\":\"\"},\"bgcolor\":\"white\",\"radialaxis\":{\"gridcolor\":\"#EBF0F8\",\"linecolor\":\"#EBF0F8\",\"ticks\":\"\"}},\"scene\":{\"xaxis\":{\"backgroundcolor\":\"white\",\"gridcolor\":\"#DFE8F3\",\"gridwidth\":2,\"linecolor\":\"#EBF0F8\",\"showbackground\":true,\"ticks\":\"\",\"zerolinecolor\":\"#EBF0F8\"},\"yaxis\":{\"backgroundcolor\":\"white\",\"gridcolor\":\"#DFE8F3\",\"gridwidth\":2,\"linecolor\":\"#EBF0F8\",\"showbackground\":true,\"ticks\":\"\",\"zerolinecolor\":\"#EBF0F8\"},\"zaxis\":{\"backgroundcolor\":\"white\",\"gridcolor\":\"#DFE8F3\",\"gridwidth\":2,\"linecolor\":\"#EBF0F8\",\"showbackground\":true,\"ticks\":\"\",\"zerolinecolor\":\"#EBF0F8\"}},\"shapedefaults\":{\"line\":{\"color\":\"#2a3f5f\"}},\"ternary\":{\"aaxis\":{\"gridcolor\":\"#DFE8F3\",\"linecolor\":\"#A2B1C6\",\"ticks\":\"\"},\"baxis\":{\"gridcolor\":\"#DFE8F3\",\"linecolor\":\"#A2B1C6\",\"ticks\":\"\"},\"bgcolor\":\"white\",\"caxis\":{\"gridcolor\":\"#DFE8F3\",\"linecolor\":\"#A2B1C6\",\"ticks\":\"\"}},\"title\":{\"x\":0.05},\"xaxis\":{\"automargin\":true,\"gridcolor\":\"#EBF0F8\",\"linecolor\":\"#EBF0F8\",\"ticks\":\"\",\"title\":{\"standoff\":15},\"zerolinecolor\":\"#EBF0F8\",\"zerolinewidth\":2},\"yaxis\":{\"automargin\":true,\"gridcolor\":\"#EBF0F8\",\"linecolor\":\"#EBF0F8\",\"ticks\":\"\",\"title\":{\"standoff\":15},\"zerolinecolor\":\"#EBF0F8\",\"zerolinewidth\":2}}},\"title\":{\"text\":\"Figure5(b): Experiment 1 \\u002f Scenario 2\"},\"width\":1050,\"xaxis\":{\"anchor\":\"y\",\"domain\":[0.0,1.0],\"title\":{\"text\":\"type\"}},\"yaxis\":{\"anchor\":\"x\",\"domain\":[0.0,1.0],\"title\":{\"text\":\"count\"}}},                        {\"responsive\": true}                    ).then(function(){\n",
       "                            \n",
       "var gd = document.getElementById('3586bbfc-d871-4252-9871-dd8681b964b9');\n",
       "var x = new MutationObserver(function (mutations, observer) {{\n",
       "        var display = window.getComputedStyle(gd).display;\n",
       "        if (!display || display === 'none') {{\n",
       "            console.log([gd, 'removed!']);\n",
       "            Plotly.purge(gd);\n",
       "            observer.disconnect();\n",
       "        }}\n",
       "}});\n",
       "\n",
       "// Listen for the removal of the full notebook cells\n",
       "var notebookContainer = gd.closest('#notebook-container');\n",
       "if (notebookContainer) {{\n",
       "    x.observe(notebookContainer, {childList: true});\n",
       "}}\n",
       "\n",
       "// Listen for the clearing of the current output cell\n",
       "var outputEl = gd.closest('.output');\n",
       "if (outputEl) {{\n",
       "    x.observe(outputEl, {childList: true});\n",
       "}}\n",
       "\n",
       "                        })                };                });            </script>        </div>"
      ]
     },
     "metadata": {},
     "output_type": "display_data"
    }
   ],
   "source": [
    "figs['실험셋업시각화_실험1시나리오2'].layout['title']['text']='Figure5(b): Experiment 1 / Scenario 2'\n",
    "figs['실험셋업시각화_실험1시나리오2'].layout['width']=1050\n",
    "figs['실험셋업시각화_실험1시나리오2'].layout['height']=600\n",
    "figs['실험셋업시각화_실험1시나리오2']"
   ]
  },
  {
   "cell_type": "markdown",
   "id": "42fe945f-90be-4080-bbd7-f628663229b1",
   "metadata": {},
   "source": [
    "::: {.notes}\n",
    "데이터를 train과 test로 나눠봤습니다\n",
    "\n",
    "가장 데이터 수가 적은 4개의 데이터에 GPT 생성 데이터를 추가시켰습니다\n",
    "\n",
    "파란색은 실제 데이터이며, 빨간색이 gpt 생성 데이터이다.\n",
    "::: "
   ]
  },
  {
   "cell_type": "markdown",
   "id": "cfa14941-2ed6-45de-b242-66065925d5dd",
   "metadata": {
    "tags": []
   },
   "source": [
    "## Experiment 1 {.scrollable}"
   ]
  },
  {
   "cell_type": "code",
   "execution_count": 6,
   "id": "6fdda3fc-08c4-4ef0-a2a5-b73db76d8373",
   "metadata": {
    "tags": []
   },
   "outputs": [
    {
     "data": {
      "text/html": [
       "<style>.itables table td {\n",
       "    text-overflow: ellipsis;\n",
       "    overflow: hidden;\n",
       "}\n",
       "\n",
       ".itables table th {\n",
       "    text-overflow: ellipsis;\n",
       "    overflow: hidden;\n",
       "}\n",
       "\n",
       ".itables thead input {\n",
       "    width: 100%;\n",
       "    padding: 3px;\n",
       "    box-sizing: border-box;\n",
       "}\n",
       "\n",
       ".itables tfoot input {\n",
       "    width: 100%;\n",
       "    padding: 3px;\n",
       "    box-sizing: border-box;\n",
       "}\n",
       "</style>\n",
       "<div class=\"itables\">\n",
       "<table id=\"5c87ac2f-6a2f-4a68-b1a8-d4ef9ec99026\" class=\"display nowrap\"style=\"table-layout:auto;width:auto;margin:auto;caption-side:bottom\"><thead>\n",
       "    <tr style=\"text-align: right;\">\n",
       "      \n",
       "      <th>Method</th>\n",
       "      <th>Metrics</th>\n",
       "      <th>MBTIType</th>\n",
       "      <th>Value</th>\n",
       "    </tr>\n",
       "  </thead><tbody><tr><td>Loading... (need <a href=https://mwouts.github.io/itables/troubleshooting.html>help</a>?)</td></tr></tbody></table>\n",
       "<link rel=\"stylesheet\" type=\"text/css\" href=\"https://cdn.datatables.net/1.13.1/css/jquery.dataTables.min.css\">\n",
       "<script type=\"module\">\n",
       "    // Import jquery and DataTable\n",
       "    import 'https://code.jquery.com/jquery-3.6.0.min.js';\n",
       "    import dt from 'https://cdn.datatables.net/1.12.1/js/jquery.dataTables.mjs';\n",
       "    dt($);\n",
       "\n",
       "    // Define the table data\n",
       "    const data = [[\"KNeighborsUnif\", \"PRE\", \"ENTP\", 0.124413], [\"KNeighborsUnif\", \"PRE\", \"ESFP\", 0.076923], [\"KNeighborsUnif\", \"PRE\", \"ISFJ\", 0.0], [\"KNeighborsUnif\", \"PRE\", \"INTJ\", 0.220085], [\"KNeighborsUnif\", \"PRE\", \"ISFP\", 0.125], [\"KNeighborsUnif\", \"PRE\", \"ESTP\", 0.0], [\"KNeighborsUnif\", \"PRE\", \"INTP\", 0.22488], [\"KNeighborsUnif\", \"PRE\", \"INFJ\", 0.227143], [\"KNeighborsUnif\", \"PRE\", \"ESTJ\", 0.0], [\"KNeighborsUnif\", \"PRE\", \"ENFP\", 0.136207], [\"KNeighborsUnif\", \"PRE\", \"ISTJ\", 0.333333], [\"KNeighborsUnif\", \"PRE\", \"ENTJ\", 0.049296], [\"KNeighborsUnif\", \"PRE\", \"INFP\", 0.276813], [\"KNeighborsUnif\", \"PRE\", \"ISTP\", 0.0], [\"KNeighborsUnif\", \"PRE\", \"ESFJ\", 0.0], [\"KNeighborsUnif\", \"PRE\", \"ENFJ\", 0.038095], [\"KNeighborsUnif\", \"REC\", \"ENTP\", 0.154971], [\"KNeighborsUnif\", \"REC\", \"ESFP\", 0.041667], [\"KNeighborsUnif\", \"REC\", \"ISFJ\", 0.0], [\"KNeighborsUnif\", \"REC\", \"INTJ\", 0.188645], [\"KNeighborsUnif\", \"REC\", \"ISFP\", 0.022222], [\"KNeighborsUnif\", \"REC\", \"ESTP\", 0.0], [\"KNeighborsUnif\", \"REC\", \"INTP\", 0.288344], [\"KNeighborsUnif\", \"REC\", \"INFJ\", 0.216327], [\"KNeighborsUnif\", \"REC\", \"ESTJ\", 0.0], [\"KNeighborsUnif\", \"REC\", \"ENFP\", 0.234421], [\"KNeighborsUnif\", \"REC\", \"ISTJ\", 0.009709], [\"KNeighborsUnif\", \"REC\", \"ENTJ\", 0.060345], [\"KNeighborsUnif\", \"REC\", \"INFP\", 0.295852], [\"KNeighborsUnif\", \"REC\", \"ISTP\", 0.0], [\"KNeighborsUnif\", \"REC\", \"ESFJ\", 0.0], [\"KNeighborsUnif\", \"REC\", \"ENFJ\", 0.042105], [\"KNeighborsUnif\", \"F1\", \"ENTP\", 0.138021], [\"KNeighborsUnif\", \"F1\", \"ESFP\", 0.054054], [\"KNeighborsUnif\", \"F1\", \"ISFJ\", 0.0], [\"KNeighborsUnif\", \"F1\", \"INTJ\", 0.203156], [\"KNeighborsUnif\", \"F1\", \"ISFP\", 0.037736], [\"KNeighborsUnif\", \"F1\", \"ESTP\", 0.0], [\"KNeighborsUnif\", \"F1\", \"INTP\", 0.252688], [\"KNeighborsUnif\", \"F1\", \"INFJ\", 0.221603], [\"KNeighborsUnif\", \"F1\", \"ESTJ\", 0.0], [\"KNeighborsUnif\", \"F1\", \"ENFP\", 0.172301], [\"KNeighborsUnif\", \"F1\", \"ISTJ\", 0.018868], [\"KNeighborsUnif\", \"F1\", \"ENTJ\", 0.054264], [\"KNeighborsUnif\", \"F1\", \"INFP\", 0.286016], [\"KNeighborsUnif\", \"F1\", \"ISTP\", 0.0], [\"KNeighborsUnif\", \"F1\", \"ESFJ\", 0.0], [\"KNeighborsUnif\", \"F1\", \"ENFJ\", 0.04], [\"KNeighborsUnif\", \"AUC\", \"ENTP\", 0.574966], [\"KNeighborsUnif\", \"AUC\", \"ESFP\", 0.552298], [\"KNeighborsUnif\", \"AUC\", \"ISFJ\", 0.54687], [\"KNeighborsUnif\", \"AUC\", \"INTJ\", 0.602392], [\"KNeighborsUnif\", \"AUC\", \"ISFP\", 0.522746], [\"KNeighborsUnif\", \"AUC\", \"ESTP\", 0.520665], [\"KNeighborsUnif\", \"AUC\", \"INTP\", 0.593642], [\"KNeighborsUnif\", \"AUC\", \"INFJ\", 0.565488], [\"KNeighborsUnif\", \"AUC\", \"ESTJ\", 0.496757], [\"KNeighborsUnif\", \"AUC\", \"ENFP\", 0.596888], [\"KNeighborsUnif\", \"AUC\", \"ISTJ\", 0.517925], [\"KNeighborsUnif\", \"AUC\", \"ENTJ\", 0.528891], [\"KNeighborsUnif\", \"AUC\", \"INFP\", 0.578792], [\"KNeighborsUnif\", \"AUC\", \"ISTP\", 0.53555], [\"KNeighborsUnif\", \"AUC\", \"ESFJ\", 0.490037], [\"KNeighborsUnif\", \"AUC\", \"ENFJ\", 0.538237], [\"KNeighborsDist\", \"PRE\", \"ENTP\", 0.124204], [\"KNeighborsDist\", \"PRE\", \"ESFP\", 0.0], [\"KNeighborsDist\", \"PRE\", \"ISFJ\", 0.105263], [\"KNeighborsDist\", \"PRE\", \"INTJ\", 0.202797], [\"KNeighborsDist\", \"PRE\", \"ISFP\", 0.090909], [\"KNeighborsDist\", \"PRE\", \"ESTP\", 0.0], [\"KNeighborsDist\", \"PRE\", \"INTP\", 0.21808], [\"KNeighborsDist\", \"PRE\", \"INFJ\", 0.225476], [\"KNeighborsDist\", \"PRE\", \"ESTJ\", 0.0], [\"KNeighborsDist\", \"PRE\", \"ENFP\", 0.162712], [\"KNeighborsDist\", \"PRE\", \"ISTJ\", 0.037037], [\"KNeighborsDist\", \"PRE\", \"ENTJ\", 0.078125], [\"KNeighborsDist\", \"PRE\", \"INFP\", 0.274725], [\"KNeighborsDist\", \"PRE\", \"ISTP\", 0.01087], [\"KNeighborsDist\", \"PRE\", \"ESFJ\", 0.0], [\"KNeighborsDist\", \"PRE\", \"ENFJ\", 0.043478], [\"KNeighborsDist\", \"REC\", \"ENTP\", 0.114035], [\"KNeighborsDist\", \"REC\", \"ESFP\", 0.0], [\"KNeighborsDist\", \"REC\", \"ISFJ\", 0.024096], [\"KNeighborsDist\", \"REC\", \"INTJ\", 0.212454], [\"KNeighborsDist\", \"REC\", \"ISFP\", 0.037037], [\"KNeighborsDist\", \"REC\", \"ESTP\", 0.0], [\"KNeighborsDist\", \"REC\", \"INTP\", 0.358896], [\"KNeighborsDist\", \"REC\", \"INFJ\", 0.209524], [\"KNeighborsDist\", \"REC\", \"ESTJ\", 0.0], [\"KNeighborsDist\", \"REC\", \"ENFP\", 0.142433], [\"KNeighborsDist\", \"REC\", \"ISTJ\", 0.009709], [\"KNeighborsDist\", \"REC\", \"ENTJ\", 0.043103], [\"KNeighborsDist\", \"REC\", \"INFP\", 0.327511], [\"KNeighborsDist\", \"REC\", \"ISTP\", 0.005952], [\"KNeighborsDist\", \"REC\", \"ESFJ\", 0.0], [\"KNeighborsDist\", \"REC\", \"ENFJ\", 0.010526], [\"KNeighborsDist\", \"F1\", \"ENTP\", 0.118902], [\"KNeighborsDist\", \"F1\", \"ESFP\", 0.0], [\"KNeighborsDist\", \"F1\", \"ISFJ\", 0.039216], [\"KNeighborsDist\", \"F1\", \"INTJ\", 0.207513], [\"KNeighborsDist\", \"F1\", \"ISFP\", 0.052632], [\"KNeighborsDist\", \"F1\", \"ESTP\", 0.0], [\"KNeighborsDist\", \"F1\", \"INTP\", 0.271304], [\"KNeighborsDist\", \"F1\", \"INFJ\", 0.217207], [\"KNeighborsDist\", \"F1\", \"ESTJ\", 0.0], [\"KNeighborsDist\", \"F1\", \"ENFP\", 0.151899], [\"KNeighborsDist\", \"F1\", \"ISTJ\", 0.015385], [\"KNeighborsDist\", \"F1\", \"ENTJ\", 0.055556], [\"KNeighborsDist\", \"F1\", \"INFP\", 0.298805], [\"KNeighborsDist\", \"F1\", \"ISTP\", 0.007692], [\"KNeighborsDist\", \"F1\", \"ESFJ\", 0.0], [\"KNeighborsDist\", \"F1\", \"ENFJ\", 0.016949], [\"KNeighborsDist\", \"AUC\", \"ENTP\", 0.570636], [\"KNeighborsDist\", \"AUC\", \"ESFP\", 0.55253], [\"KNeighborsDist\", \"AUC\", \"ISFJ\", 0.547598], [\"KNeighborsDist\", \"AUC\", \"INTJ\", 0.607254], [\"KNeighborsDist\", \"AUC\", \"ISFP\", 0.523336], [\"KNeighborsDist\", \"AUC\", \"ESTP\", 0.520075], [\"KNeighborsDist\", \"AUC\", \"INTP\", 0.597171], [\"KNeighborsDist\", \"AUC\", \"INFJ\", 0.564296], [\"KNeighborsDist\", \"AUC\", \"ESTJ\", 0.496757], [\"KNeighborsDist\", \"AUC\", \"ENFP\", 0.597814], [\"KNeighborsDist\", \"AUC\", \"ISTJ\", 0.518374], [\"KNeighborsDist\", \"AUC\", \"ENTJ\", 0.530196], [\"KNeighborsDist\", \"AUC\", \"INFP\", 0.58205], [\"KNeighborsDist\", \"AUC\", \"ISTP\", 0.535734], [\"KNeighborsDist\", \"AUC\", \"ESFJ\", 0.490037], [\"KNeighborsDist\", \"AUC\", \"ENFJ\", 0.53681], [\"NeuralNetFastAI\", \"PRE\", \"ENTP\", 0.12782], [\"NeuralNetFastAI\", \"PRE\", \"ESFP\", 0.0], [\"NeuralNetFastAI\", \"PRE\", \"ISFJ\", 0.0], [\"NeuralNetFastAI\", \"PRE\", \"INTJ\", 0.165563], [\"NeuralNetFastAI\", \"PRE\", \"ISFP\", 0.181818], [\"NeuralNetFastAI\", \"PRE\", \"ESTP\", 0.0], [\"NeuralNetFastAI\", \"PRE\", \"INTP\", 0.239156], [\"NeuralNetFastAI\", \"PRE\", \"INFJ\", 0.184567], [\"NeuralNetFastAI\", \"PRE\", \"ESTJ\", 0.0], [\"NeuralNetFastAI\", \"PRE\", \"ENFP\", 0.189504], [\"NeuralNetFastAI\", \"PRE\", \"ISTJ\", 0.0], [\"NeuralNetFastAI\", \"PRE\", \"ENTJ\", 0.05], [\"NeuralNetFastAI\", \"PRE\", \"INFP\", 0.244548], [\"NeuralNetFastAI\", \"PRE\", \"ISTP\", 0.064516], [\"NeuralNetFastAI\", \"PRE\", \"ESFJ\", 0.0], [\"NeuralNetFastAI\", \"PRE\", \"ENFJ\", 0.06], [\"NeuralNetFastAI\", \"REC\", \"ENTP\", 0.049708], [\"NeuralNetFastAI\", \"REC\", \"ESFP\", 0.0], [\"NeuralNetFastAI\", \"REC\", \"ISFJ\", 0.0], [\"NeuralNetFastAI\", \"REC\", \"INTJ\", 0.18315], [\"NeuralNetFastAI\", \"REC\", \"ISFP\", 0.014815], [\"NeuralNetFastAI\", \"REC\", \"ESTP\", 0.0], [\"NeuralNetFastAI\", \"REC\", \"INTP\", 0.312883], [\"NeuralNetFastAI\", \"REC\", \"INFJ\", 0.240816], [\"NeuralNetFastAI\", \"REC\", \"ESTJ\", 0.0], [\"NeuralNetFastAI\", \"REC\", \"ENFP\", 0.192878], [\"NeuralNetFastAI\", \"REC\", \"ISTJ\", 0.0], [\"NeuralNetFastAI\", \"REC\", \"ENTJ\", 0.017241], [\"NeuralNetFastAI\", \"REC\", \"INFP\", 0.342795], [\"NeuralNetFastAI\", \"REC\", \"ISTP\", 0.011905], [\"NeuralNetFastAI\", \"REC\", \"ESFJ\", 0.0], [\"NeuralNetFastAI\", \"REC\", \"ENFJ\", 0.031579], [\"NeuralNetFastAI\", \"F1\", \"ENTP\", 0.071579], [\"NeuralNetFastAI\", \"F1\", \"ESFP\", 0.0], [\"NeuralNetFastAI\", \"F1\", \"ISFJ\", 0.0], [\"NeuralNetFastAI\", \"F1\", \"INTJ\", 0.173913], [\"NeuralNetFastAI\", \"F1\", \"ISFP\", 0.027397], [\"NeuralNetFastAI\", \"F1\", \"ESTP\", 0.0], [\"NeuralNetFastAI\", \"F1\", \"INTP\", 0.271096], [\"NeuralNetFastAI\", \"F1\", \"INFJ\", 0.208973], [\"NeuralNetFastAI\", \"F1\", \"ESTJ\", 0.0], [\"NeuralNetFastAI\", \"F1\", \"ENFP\", 0.191176], [\"NeuralNetFastAI\", \"F1\", \"ISTJ\", 0.0], [\"NeuralNetFastAI\", \"F1\", \"ENTJ\", 0.025641], [\"NeuralNetFastAI\", \"F1\", \"INFP\", 0.285455], [\"NeuralNetFastAI\", \"F1\", \"ISTP\", 0.020101], [\"NeuralNetFastAI\", \"F1\", \"ESFJ\", 0.0], [\"NeuralNetFastAI\", \"F1\", \"ENFJ\", 0.041379], [\"NeuralNetFastAI\", \"AUC\", \"ENTP\", 0.570233], [\"NeuralNetFastAI\", \"AUC\", \"ESFP\", 0.607137], [\"NeuralNetFastAI\", \"AUC\", \"ISFJ\", 0.580927], [\"NeuralNetFastAI\", \"AUC\", \"INTJ\", 0.599544], [\"NeuralNetFastAI\", \"AUC\", \"ISFP\", 0.508685], [\"NeuralNetFastAI\", \"AUC\", \"ESTP\", 0.526984], [\"NeuralNetFastAI\", \"AUC\", \"INTP\", 0.636599], [\"NeuralNetFastAI\", \"AUC\", \"INFJ\", 0.521424], [\"NeuralNetFastAI\", \"AUC\", \"ESTJ\", 0.508409], [\"NeuralNetFastAI\", \"AUC\", \"ENFP\", 0.663719], [\"NeuralNetFastAI\", \"AUC\", \"ISTJ\", 0.49031], [\"NeuralNetFastAI\", \"AUC\", \"ENTJ\", 0.552039], [\"NeuralNetFastAI\", \"AUC\", \"INFP\", 0.563815], [\"NeuralNetFastAI\", \"AUC\", \"ISTP\", 0.643026], [\"NeuralNetFastAI\", \"AUC\", \"ESFJ\", 0.584933], [\"NeuralNetFastAI\", \"AUC\", \"ENFJ\", 0.642696], [\"LightGBMXT\", \"PRE\", \"ENTP\", 0.679365], [\"LightGBMXT\", \"PRE\", \"ESFP\", 0.0], [\"LightGBMXT\", \"PRE\", \"ISFJ\", 0.846154], [\"LightGBMXT\", \"PRE\", \"INTJ\", 0.664975], [\"LightGBMXT\", \"PRE\", \"ISFP\", 0.675325], [\"LightGBMXT\", \"PRE\", \"ESTP\", 0.681818], [\"LightGBMXT\", \"PRE\", \"INTP\", 0.615681], [\"LightGBMXT\", \"PRE\", \"INFJ\", 0.644498], [\"LightGBMXT\", \"PRE\", \"ESTJ\", 0.8], [\"LightGBMXT\", \"PRE\", \"ENFP\", 0.682692], [\"LightGBMXT\", \"PRE\", \"ISTJ\", 0.65625], [\"LightGBMXT\", \"PRE\", \"ENTJ\", 0.821429], [\"LightGBMXT\", \"PRE\", \"INFP\", 0.676136], [\"LightGBMXT\", \"PRE\", \"ISTP\", 0.717557], [\"LightGBMXT\", \"PRE\", \"ESFJ\", 0.75], [\"LightGBMXT\", \"PRE\", \"ENFJ\", 0.673913], [\"LightGBMXT\", \"REC\", \"ENTP\", 0.625731], [\"LightGBMXT\", \"REC\", \"ESFP\", 0.0], [\"LightGBMXT\", \"REC\", \"ISFJ\", 0.53012], [\"LightGBMXT\", \"REC\", \"INTJ\", 0.71978], [\"LightGBMXT\", \"REC\", \"ISFP\", 0.385185], [\"LightGBMXT\", \"REC\", \"ESTP\", 0.340909], [\"LightGBMXT\", \"REC\", \"INTP\", 0.734663], [\"LightGBMXT\", \"REC\", \"INFJ\", 0.72517], [\"LightGBMXT\", \"REC\", \"ESTJ\", 0.2], [\"LightGBMXT\", \"REC\", \"ENFP\", 0.632047], [\"LightGBMXT\", \"REC\", \"ISTJ\", 0.407767], [\"LightGBMXT\", \"REC\", \"ENTJ\", 0.396552], [\"LightGBMXT\", \"REC\", \"INFP\", 0.779476], [\"LightGBMXT\", \"REC\", \"ISTP\", 0.559524], [\"LightGBMXT\", \"REC\", \"ESFJ\", 0.142857], [\"LightGBMXT\", \"REC\", \"ENFJ\", 0.326316], [\"LightGBMXT\", \"F1\", \"ENTP\", 0.651446], [\"LightGBMXT\", \"F1\", \"ESFP\", 0.0], [\"LightGBMXT\", \"F1\", \"ISFJ\", 0.651852], [\"LightGBMXT\", \"F1\", \"INTJ\", 0.691293], [\"LightGBMXT\", \"F1\", \"ISFP\", 0.490566], [\"LightGBMXT\", \"F1\", \"ESTP\", 0.454545], [\"LightGBMXT\", \"F1\", \"INTP\", 0.66993], [\"LightGBMXT\", \"F1\", \"INFJ\", 0.682458], [\"LightGBMXT\", \"F1\", \"ESTJ\", 0.32], [\"LightGBMXT\", \"F1\", \"ENFP\", 0.656394], [\"LightGBMXT\", \"F1\", \"ISTJ\", 0.502994], [\"LightGBMXT\", \"F1\", \"ENTJ\", 0.534884], [\"LightGBMXT\", \"F1\", \"INFP\", 0.724138], [\"LightGBMXT\", \"F1\", \"ISTP\", 0.628763], [\"LightGBMXT\", \"F1\", \"ESFJ\", 0.24], [\"LightGBMXT\", \"F1\", \"ENFJ\", 0.439716], [\"LightGBMXT\", \"AUC\", \"ENTP\", 0.932417], [\"LightGBMXT\", \"AUC\", \"ESFP\", 0.766713], [\"LightGBMXT\", \"AUC\", \"ISFJ\", 0.953155], [\"LightGBMXT\", \"AUC\", \"INTJ\", 0.923328], [\"LightGBMXT\", \"AUC\", \"ISFP\", 0.93351], [\"LightGBMXT\", \"AUC\", \"ESTP\", 0.899509], [\"LightGBMXT\", \"AUC\", \"INTP\", 0.909818], [\"LightGBMXT\", \"AUC\", \"INFJ\", 0.908537], [\"LightGBMXT\", \"AUC\", \"ESTJ\", 0.831573], [\"LightGBMXT\", \"AUC\", \"ENFP\", 0.927566], [\"LightGBMXT\", \"AUC\", \"ISTJ\", 0.94172], [\"LightGBMXT\", \"AUC\", \"ENTJ\", 0.906747], [\"LightGBMXT\", \"AUC\", \"INFP\", 0.923524], [\"LightGBMXT\", \"AUC\", \"ISTP\", 0.949598], [\"LightGBMXT\", \"AUC\", \"ESFJ\", 0.747109], [\"LightGBMXT\", \"AUC\", \"ENFJ\", 0.913268], [\"LightGBM\", \"PRE\", \"ENTP\", 0.675], [\"LightGBM\", \"PRE\", \"ESFP\", 0.0], [\"LightGBM\", \"PRE\", \"ISFJ\", 0.793103], [\"LightGBM\", \"PRE\", \"INTJ\", 0.686207], [\"LightGBM\", \"PRE\", \"ISFP\", 0.65625], [\"LightGBM\", \"PRE\", \"ESTP\", 0.7], [\"LightGBM\", \"PRE\", \"INTP\", 0.651596], [\"LightGBM\", \"PRE\", \"INFJ\", 0.669492], [\"LightGBM\", \"PRE\", \"ESTJ\", 1.0], [\"LightGBM\", \"PRE\", \"ENFP\", 0.694534], [\"LightGBM\", \"PRE\", \"ISTJ\", 0.684932], [\"LightGBM\", \"PRE\", \"ENTJ\", 0.69697], [\"LightGBM\", \"PRE\", \"INFP\", 0.698168], [\"LightGBM\", \"PRE\", \"ISTP\", 0.737589], [\"LightGBM\", \"PRE\", \"ESFJ\", 0.333333], [\"LightGBM\", \"PRE\", \"ENFJ\", 0.686275], [\"LightGBM\", \"REC\", \"ENTP\", 0.631579], [\"LightGBM\", \"REC\", \"ESFP\", 0.0], [\"LightGBM\", \"REC\", \"ISFJ\", 0.554217], [\"LightGBM\", \"REC\", \"INTJ\", 0.728938], [\"LightGBM\", \"REC\", \"ISFP\", 0.466667], [\"LightGBM\", \"REC\", \"ESTP\", 0.318182], [\"LightGBM\", \"REC\", \"INTP\", 0.751534], [\"LightGBM\", \"REC\", \"INFJ\", 0.752381], [\"LightGBM\", \"REC\", \"ESTJ\", 0.15], [\"LightGBM\", \"REC\", \"ENFP\", 0.64095], [\"LightGBM\", \"REC\", \"ISTJ\", 0.485437], [\"LightGBM\", \"REC\", \"ENTJ\", 0.396552], [\"LightGBM\", \"REC\", \"INFP\", 0.790393], [\"LightGBM\", \"REC\", \"ISTP\", 0.619048], [\"LightGBM\", \"REC\", \"ESFJ\", 0.047619], [\"LightGBM\", \"REC\", \"ENFJ\", 0.368421], [\"LightGBM\", \"F1\", \"ENTP\", 0.652568], [\"LightGBM\", \"F1\", \"ESFP\", 0.0], [\"LightGBM\", \"F1\", \"ISFJ\", 0.652482], [\"LightGBM\", \"F1\", \"INTJ\", 0.706927], [\"LightGBM\", \"F1\", \"ISFP\", 0.545455], [\"LightGBM\", \"F1\", \"ESTP\", 0.4375], [\"LightGBM\", \"F1\", \"INTP\", 0.698006], [\"LightGBM\", \"F1\", \"INFJ\", 0.70852], [\"LightGBM\", \"F1\", \"ESTJ\", 0.26087], [\"LightGBM\", \"F1\", \"ENFP\", 0.666667], [\"LightGBM\", \"F1\", \"ISTJ\", 0.568182], [\"LightGBM\", \"F1\", \"ENTJ\", 0.505495], [\"LightGBM\", \"F1\", \"INFP\", 0.741423], [\"LightGBM\", \"F1\", \"ISTP\", 0.673139], [\"LightGBM\", \"F1\", \"ESFJ\", 0.083333], [\"LightGBM\", \"F1\", \"ENFJ\", 0.479452], [\"LightGBM\", \"AUC\", \"ENTP\", 0.930599], [\"LightGBM\", \"AUC\", \"ESFP\", 0.820533], [\"LightGBM\", \"AUC\", \"ISFJ\", 0.96168], [\"LightGBM\", \"AUC\", \"INTJ\", 0.927645], [\"LightGBM\", \"AUC\", \"ISFP\", 0.930275], [\"LightGBM\", \"AUC\", \"ESTP\", 0.912749], [\"LightGBM\", \"AUC\", \"INTP\", 0.926999], [\"LightGBM\", \"AUC\", \"INFJ\", 0.919971], [\"LightGBM\", \"AUC\", \"ESTJ\", 0.800892], [\"LightGBM\", \"AUC\", \"ENFP\", 0.935327], [\"LightGBM\", \"AUC\", \"ISTJ\", 0.938099], [\"LightGBM\", \"AUC\", \"ENTJ\", 0.912962], [\"LightGBM\", \"AUC\", \"INFP\", 0.932549], [\"LightGBM\", \"AUC\", \"ISTP\", 0.949847], [\"LightGBM\", \"AUC\", \"ESFJ\", 0.780308], [\"LightGBM\", \"AUC\", \"ENFJ\", 0.926313], [\"RandomForestGini\", \"PRE\", \"ENTP\", 0.787671], [\"RandomForestGini\", \"PRE\", \"ESFP\", 0.0], [\"RandomForestGini\", \"PRE\", \"ISFJ\", 0.0], [\"RandomForestGini\", \"PRE\", \"INTJ\", 0.629328], [\"RandomForestGini\", \"PRE\", \"ISFP\", 0.0], [\"RandomForestGini\", \"PRE\", \"ESTP\", 0.0], [\"RandomForestGini\", \"PRE\", \"INTP\", 0.54388], [\"RandomForestGini\", \"PRE\", \"INFJ\", 0.558923], [\"RandomForestGini\", \"PRE\", \"ESTJ\", 0.0], [\"RandomForestGini\", \"PRE\", \"ENFP\", 0.765823], [\"RandomForestGini\", \"PRE\", \"ISTJ\", 0.0], [\"RandomForestGini\", \"PRE\", \"ENTJ\", 1.0], [\"RandomForestGini\", \"PRE\", \"INFP\", 0.465103], [\"RandomForestGini\", \"PRE\", \"ISTP\", 0.942857], [\"RandomForestGini\", \"PRE\", \"ESFJ\", 0.0], [\"RandomForestGini\", \"PRE\", \"ENFJ\", 0.0], [\"RandomForestGini\", \"REC\", \"ENTP\", 0.336257], [\"RandomForestGini\", \"REC\", \"ESFP\", 0.0], [\"RandomForestGini\", \"REC\", \"ISFJ\", 0.0], [\"RandomForestGini\", \"REC\", \"INTJ\", 0.565934], [\"RandomForestGini\", \"REC\", \"ISFP\", 0.0], [\"RandomForestGini\", \"REC\", \"ESTP\", 0.0], [\"RandomForestGini\", \"REC\", \"INTP\", 0.722393], [\"RandomForestGini\", \"REC\", \"INFJ\", 0.677551], [\"RandomForestGini\", \"REC\", \"ESTJ\", 0.0], [\"RandomForestGini\", \"REC\", \"ENFP\", 0.35905], [\"RandomForestGini\", \"REC\", \"ISTJ\", 0.0], [\"RandomForestGini\", \"REC\", \"ENTJ\", 0.017241], [\"RandomForestGini\", \"REC\", \"INFP\", 0.887555], [\"RandomForestGini\", \"REC\", \"ISTP\", 0.196429], [\"RandomForestGini\", \"REC\", \"ESFJ\", 0.0], [\"RandomForestGini\", \"REC\", \"ENFJ\", 0.0], [\"RandomForestGini\", \"F1\", \"ENTP\", 0.471311], [\"RandomForestGini\", \"F1\", \"ESFP\", 0.0], [\"RandomForestGini\", \"F1\", \"ISFJ\", 0.0], [\"RandomForestGini\", \"F1\", \"INTJ\", 0.59595], [\"RandomForestGini\", \"F1\", \"ISFP\", 0.0], [\"RandomForestGini\", \"F1\", \"ESTP\", 0.0], [\"RandomForestGini\", \"F1\", \"INTP\", 0.620553], [\"RandomForestGini\", \"F1\", \"INFJ\", 0.612546], [\"RandomForestGini\", \"F1\", \"ESTJ\", 0.0], [\"RandomForestGini\", \"F1\", \"ENFP\", 0.488889], [\"RandomForestGini\", \"F1\", \"ISTJ\", 0.0], [\"RandomForestGini\", \"F1\", \"ENTJ\", 0.033898], [\"RandomForestGini\", \"F1\", \"INFP\", 0.61036], [\"RandomForestGini\", \"F1\", \"ISTP\", 0.325123], [\"RandomForestGini\", \"F1\", \"ESFJ\", 0.0], [\"RandomForestGini\", \"F1\", \"ENFJ\", 0.0], [\"RandomForestGini\", \"AUC\", \"ENTP\", 0.906557], [\"RandomForestGini\", \"AUC\", \"ESFP\", 0.654388], [\"RandomForestGini\", \"AUC\", \"ISFJ\", 0.895822], [\"RandomForestGini\", \"AUC\", \"INTJ\", 0.900821], [\"RandomForestGini\", \"AUC\", \"ISFP\", 0.891417], [\"RandomForestGini\", \"AUC\", \"ESTP\", 0.862067], [\"RandomForestGini\", \"AUC\", \"INTP\", 0.912929], [\"RandomForestGini\", \"AUC\", \"INFJ\", 0.879649], [\"RandomForestGini\", \"AUC\", \"ESTJ\", 0.557059], [\"RandomForestGini\", \"AUC\", \"ENFP\", 0.917136], [\"RandomForestGini\", \"AUC\", \"ISTJ\", 0.902795], [\"RandomForestGini\", \"AUC\", \"ENTJ\", 0.878528], [\"RandomForestGini\", \"AUC\", \"INFP\", 0.911329], [\"RandomForestGini\", \"AUC\", \"ISTP\", 0.920473], [\"RandomForestGini\", \"AUC\", \"ESFJ\", 0.723829], [\"RandomForestGini\", \"AUC\", \"ENFJ\", 0.840036], [\"RandomForestEntr\", \"PRE\", \"ENTP\", 0.754098], [\"RandomForestEntr\", \"PRE\", \"ESFP\", 0.0], [\"RandomForestEntr\", \"PRE\", \"ISFJ\", 0.0], [\"RandomForestEntr\", \"PRE\", \"INTJ\", 0.67268], [\"RandomForestEntr\", \"PRE\", \"ISFP\", 0.0], [\"RandomForestEntr\", \"PRE\", \"ESTP\", 0.0], [\"RandomForestEntr\", \"PRE\", \"INTP\", 0.512731], [\"RandomForestEntr\", \"PRE\", \"INFJ\", 0.531646], [\"RandomForestEntr\", \"PRE\", \"ESTJ\", 0.0], [\"RandomForestEntr\", \"PRE\", \"ENFP\", 0.811881], [\"RandomForestEntr\", \"PRE\", \"ISTJ\", 0.0], [\"RandomForestEntr\", \"PRE\", \"ENTJ\", 0.0], [\"RandomForestEntr\", \"PRE\", \"INFP\", 0.404286], [\"RandomForestEntr\", \"PRE\", \"ISTP\", 1.0], [\"RandomForestEntr\", \"PRE\", \"ESFJ\", 0.0], [\"RandomForestEntr\", \"PRE\", \"ENFJ\", 0.0], [\"RandomForestEntr\", \"REC\", \"ENTP\", 0.134503], [\"RandomForestEntr\", \"REC\", \"ESFP\", 0.0], [\"RandomForestEntr\", \"REC\", \"ISFJ\", 0.0], [\"RandomForestEntr\", \"REC\", \"INTJ\", 0.478022], [\"RandomForestEntr\", \"REC\", \"ISFP\", 0.0], [\"RandomForestEntr\", \"REC\", \"ESTP\", 0.0], [\"RandomForestEntr\", \"REC\", \"INTP\", 0.679448], [\"RandomForestEntr\", \"REC\", \"INFJ\", 0.628571], [\"RandomForestEntr\", \"REC\", \"ESTJ\", 0.0], [\"RandomForestEntr\", \"REC\", \"ENFP\", 0.243323], [\"RandomForestEntr\", \"REC\", \"ISTJ\", 0.0], [\"RandomForestEntr\", \"REC\", \"ENTJ\", 0.0], [\"RandomForestEntr\", \"REC\", \"INFP\", 0.906114], [\"RandomForestEntr\", \"REC\", \"ISTP\", 0.005952], [\"RandomForestEntr\", \"REC\", \"ESFJ\", 0.0], [\"RandomForestEntr\", \"REC\", \"ENFJ\", 0.0], [\"RandomForestEntr\", \"F1\", \"ENTP\", 0.228288], [\"RandomForestEntr\", \"F1\", \"ESFP\", 0.0], [\"RandomForestEntr\", \"F1\", \"ISFJ\", 0.0], [\"RandomForestEntr\", \"F1\", \"INTJ\", 0.558887], [\"RandomForestEntr\", \"F1\", \"ISFP\", 0.0], [\"RandomForestEntr\", \"F1\", \"ESTP\", 0.0], [\"RandomForestEntr\", \"F1\", \"INTP\", 0.584433], [\"RandomForestEntr\", \"F1\", \"INFJ\", 0.57606], [\"RandomForestEntr\", \"F1\", \"ESTJ\", 0.0], [\"RandomForestEntr\", \"F1\", \"ENFP\", 0.374429], [\"RandomForestEntr\", \"F1\", \"ISTJ\", 0.0], [\"RandomForestEntr\", \"F1\", \"ENTJ\", 0.0], [\"RandomForestEntr\", \"F1\", \"INFP\", 0.559111], [\"RandomForestEntr\", \"F1\", \"ISTP\", 0.011834], [\"RandomForestEntr\", \"F1\", \"ESFJ\", 0.0], [\"RandomForestEntr\", \"F1\", \"ENFJ\", 0.0], [\"RandomForestEntr\", \"AUC\", \"ENTP\", 0.898511], [\"RandomForestEntr\", \"AUC\", \"ESFP\", 0.688877], [\"RandomForestEntr\", \"AUC\", \"ISFJ\", 0.897711], [\"RandomForestEntr\", \"AUC\", \"INTJ\", 0.886283], [\"RandomForestEntr\", \"AUC\", \"ISFP\", 0.891173], [\"RandomForestEntr\", \"AUC\", \"ESTP\", 0.82261], [\"RandomForestEntr\", \"AUC\", \"INTP\", 0.898244], [\"RandomForestEntr\", \"AUC\", \"INFJ\", 0.871412], [\"RandomForestEntr\", \"AUC\", \"ESTJ\", 0.550782], [\"RandomForestEntr\", \"AUC\", \"ENFP\", 0.9112], [\"RandomForestEntr\", \"AUC\", \"ISTJ\", 0.895483], [\"RandomForestEntr\", \"AUC\", \"ENTJ\", 0.861765], [\"RandomForestEntr\", \"AUC\", \"INFP\", 0.900289], [\"RandomForestEntr\", \"AUC\", \"ISTP\", 0.922311], [\"RandomForestEntr\", \"AUC\", \"ESFJ\", 0.705261], [\"RandomForestEntr\", \"AUC\", \"ENFJ\", 0.842763], [\"CatBoost\", \"PRE\", \"ENTP\", 0.654321], [\"CatBoost\", \"PRE\", \"ESFP\", 0.0], [\"CatBoost\", \"PRE\", \"ISFJ\", 0.888889], [\"CatBoost\", \"PRE\", \"INTJ\", 0.674576], [\"CatBoost\", \"PRE\", \"ISFP\", 0.756757], [\"CatBoost\", \"PRE\", \"ESTP\", 1.0], [\"CatBoost\", \"PRE\", \"INTP\", 0.615846], [\"CatBoost\", \"PRE\", \"INFJ\", 0.681472], [\"CatBoost\", \"PRE\", \"ESTJ\", 0.0], [\"CatBoost\", \"PRE\", \"ENFP\", 0.697452], [\"CatBoost\", \"PRE\", \"ISTJ\", 0.702128], [\"CatBoost\", \"PRE\", \"ENTJ\", 0.730769], [\"CatBoost\", \"PRE\", \"INFP\", 0.669065], [\"CatBoost\", \"PRE\", \"ISTP\", 0.766917], [\"CatBoost\", \"PRE\", \"ESFJ\", 0.0], [\"CatBoost\", \"PRE\", \"ENFJ\", 0.7], [\"CatBoost\", \"REC\", \"ENTP\", 0.619883], [\"CatBoost\", \"REC\", \"ESFP\", 0.0], [\"CatBoost\", \"REC\", \"ISFJ\", 0.385542], [\"CatBoost\", \"REC\", \"INTJ\", 0.728938], [\"CatBoost\", \"REC\", \"ISFP\", 0.414815], [\"CatBoost\", \"REC\", \"ESTP\", 0.090909], [\"CatBoost\", \"REC\", \"INTP\", 0.78681], [\"CatBoost\", \"REC\", \"INFJ\", 0.730612], [\"CatBoost\", \"REC\", \"ESTJ\", 0.0], [\"CatBoost\", \"REC\", \"ENFP\", 0.649852], [\"CatBoost\", \"REC\", \"ISTJ\", 0.320388], [\"CatBoost\", \"REC\", \"ENTJ\", 0.327586], [\"CatBoost\", \"REC\", \"INFP\", 0.812227], [\"CatBoost\", \"REC\", \"ISTP\", 0.607143], [\"CatBoost\", \"REC\", \"ESFJ\", 0.0], [\"CatBoost\", \"REC\", \"ENFJ\", 0.221053], [\"CatBoost\", \"F1\", \"ENTP\", 0.636637], [\"CatBoost\", \"F1\", \"ESFP\", 0.0], [\"CatBoost\", \"F1\", \"ISFJ\", 0.537815], [\"CatBoost\", \"F1\", \"INTJ\", 0.700704], [\"CatBoost\", \"F1\", \"ISFP\", 0.535885], [\"CatBoost\", \"F1\", \"ESTP\", 0.166667], [\"CatBoost\", \"F1\", \"INTP\", 0.690909], [\"CatBoost\", \"F1\", \"INFJ\", 0.705187], [\"CatBoost\", \"F1\", \"ESTJ\", 0.0], [\"CatBoost\", \"F1\", \"ENFP\", 0.672811], [\"CatBoost\", \"F1\", \"ISTJ\", 0.44], [\"CatBoost\", \"F1\", \"ENTJ\", 0.452381], [\"CatBoost\", \"F1\", \"INFP\", 0.733728], [\"CatBoost\", \"F1\", \"ISTP\", 0.677741], [\"CatBoost\", \"F1\", \"ESFJ\", 0.0], [\"CatBoost\", \"F1\", \"ENFJ\", 0.336], [\"CatBoost\", \"AUC\", \"ENTP\", 0.93754], [\"CatBoost\", \"AUC\", \"ESFP\", 0.712545], [\"CatBoost\", \"AUC\", \"ISFJ\", 0.954016], [\"CatBoost\", \"AUC\", \"INTJ\", 0.927043], [\"CatBoost\", \"AUC\", \"ISFP\", 0.95163], [\"CatBoost\", \"AUC\", \"ESTP\", 0.904776], [\"CatBoost\", \"AUC\", \"INTP\", 0.927236], [\"CatBoost\", \"AUC\", \"INFJ\", 0.916838], [\"CatBoost\", \"AUC\", \"ESTJ\", 0.779546], [\"CatBoost\", \"AUC\", \"ENFP\", 0.935462], [\"CatBoost\", \"AUC\", \"ISTJ\", 0.933101], [\"CatBoost\", \"AUC\", \"ENTJ\", 0.916726], [\"CatBoost\", \"AUC\", \"INFP\", 0.930008], [\"CatBoost\", \"AUC\", \"ISTP\", 0.955731], [\"CatBoost\", \"AUC\", \"ESFJ\", 0.771283], [\"CatBoost\", \"AUC\", \"ENFJ\", 0.908003], [\"ExtraTreesGini\", \"PRE\", \"ENTP\", 0.865385], [\"ExtraTreesGini\", \"PRE\", \"ESFP\", 0.0], [\"ExtraTreesGini\", \"PRE\", \"ISFJ\", 0.0], [\"ExtraTreesGini\", \"PRE\", \"INTJ\", 0.688047], [\"ExtraTreesGini\", \"PRE\", \"ISFP\", 0.0], [\"ExtraTreesGini\", \"PRE\", \"ESTP\", 0.0], [\"ExtraTreesGini\", \"PRE\", \"INTP\", 0.536965], [\"ExtraTreesGini\", \"PRE\", \"INFJ\", 0.529188], [\"ExtraTreesGini\", \"PRE\", \"ESTJ\", 0.0], [\"ExtraTreesGini\", \"PRE\", \"ENFP\", 0.825581], [\"ExtraTreesGini\", \"PRE\", \"ISTJ\", 0.0], [\"ExtraTreesGini\", \"PRE\", \"ENTJ\", 0.0], [\"ExtraTreesGini\", \"PRE\", \"INFP\", 0.368513], [\"ExtraTreesGini\", \"PRE\", \"ISTP\", 0.75], [\"ExtraTreesGini\", \"PRE\", \"ESFJ\", 0.0], [\"ExtraTreesGini\", \"PRE\", \"ENFJ\", 0.0], [\"ExtraTreesGini\", \"REC\", \"ENTP\", 0.131579], [\"ExtraTreesGini\", \"REC\", \"ESFP\", 0.0], [\"ExtraTreesGini\", \"REC\", \"ISFJ\", 0.0], [\"ExtraTreesGini\", \"REC\", \"INTJ\", 0.432234], [\"ExtraTreesGini\", \"REC\", \"ISFP\", 0.0], [\"ExtraTreesGini\", \"REC\", \"ESTP\", 0.0], [\"ExtraTreesGini\", \"REC\", \"INTP\", 0.634969], [\"ExtraTreesGini\", \"REC\", \"INFJ\", 0.567347], [\"ExtraTreesGini\", \"REC\", \"ESTJ\", 0.0], [\"ExtraTreesGini\", \"REC\", \"ENFP\", 0.210682], [\"ExtraTreesGini\", \"REC\", \"ISTJ\", 0.0], [\"ExtraTreesGini\", \"REC\", \"ENTJ\", 0.0], [\"ExtraTreesGini\", \"REC\", \"INFP\", 0.922489], [\"ExtraTreesGini\", \"REC\", \"ISTP\", 0.017857], [\"ExtraTreesGini\", \"REC\", \"ESFJ\", 0.0], [\"ExtraTreesGini\", \"REC\", \"ENFJ\", 0.0], [\"ExtraTreesGini\", \"F1\", \"ENTP\", 0.228426], [\"ExtraTreesGini\", \"F1\", \"ESFP\", 0.0], [\"ExtraTreesGini\", \"F1\", \"ISFJ\", 0.0], [\"ExtraTreesGini\", \"F1\", \"INTJ\", 0.530934], [\"ExtraTreesGini\", \"F1\", \"ISFP\", 0.0], [\"ExtraTreesGini\", \"F1\", \"ESTP\", 0.0], [\"ExtraTreesGini\", \"F1\", \"INTP\", 0.581869], [\"ExtraTreesGini\", \"F1\", \"INFJ\", 0.547603], [\"ExtraTreesGini\", \"F1\", \"ESTJ\", 0.0], [\"ExtraTreesGini\", \"F1\", \"ENFP\", 0.335697], [\"ExtraTreesGini\", \"F1\", \"ISTJ\", 0.0], [\"ExtraTreesGini\", \"F1\", \"ENTJ\", 0.0], [\"ExtraTreesGini\", \"F1\", \"INFP\", 0.526644], [\"ExtraTreesGini\", \"F1\", \"ISTP\", 0.034884], [\"ExtraTreesGini\", \"F1\", \"ESFJ\", 0.0], [\"ExtraTreesGini\", \"F1\", \"ENFJ\", 0.0], [\"ExtraTreesGini\", \"AUC\", \"ENTP\", 0.880989], [\"ExtraTreesGini\", \"AUC\", \"ESFP\", 0.666884], [\"ExtraTreesGini\", \"AUC\", \"ISFJ\", 0.890673], [\"ExtraTreesGini\", \"AUC\", \"INTJ\", 0.885068], [\"ExtraTreesGini\", \"AUC\", \"ISFP\", 0.870534], [\"ExtraTreesGini\", \"AUC\", \"ESTP\", 0.759887], [\"ExtraTreesGini\", \"AUC\", \"INTP\", 0.885281], [\"ExtraTreesGini\", \"AUC\", \"INFJ\", 0.84694], [\"ExtraTreesGini\", \"AUC\", \"ESTJ\", 0.74546], [\"ExtraTreesGini\", \"AUC\", \"ENFP\", 0.907675], [\"ExtraTreesGini\", \"AUC\", \"ISTJ\", 0.857244], [\"ExtraTreesGini\", \"AUC\", \"ENTJ\", 0.842633], [\"ExtraTreesGini\", \"AUC\", \"INFP\", 0.893797], [\"ExtraTreesGini\", \"AUC\", \"ISTP\", 0.897251], [\"ExtraTreesGini\", \"AUC\", \"ESFJ\", 0.602702], [\"ExtraTreesGini\", \"AUC\", \"ENFJ\", 0.834059], [\"ExtraTreesEntr\", \"PRE\", \"ENTP\", 0.875], [\"ExtraTreesEntr\", \"PRE\", \"ESFP\", 0.0], [\"ExtraTreesEntr\", \"PRE\", \"ISFJ\", 0.0], [\"ExtraTreesEntr\", \"PRE\", \"INTJ\", 0.715517], [\"ExtraTreesEntr\", \"PRE\", \"ISFP\", 0.0], [\"ExtraTreesEntr\", \"PRE\", \"ESTP\", 0.0], [\"ExtraTreesEntr\", \"PRE\", \"INTP\", 0.54559], [\"ExtraTreesEntr\", \"PRE\", \"INFJ\", 0.5], [\"ExtraTreesEntr\", \"PRE\", \"ESTJ\", 0.0], [\"ExtraTreesEntr\", \"PRE\", \"ENFP\", 0.83871], [\"ExtraTreesEntr\", \"PRE\", \"ISTJ\", 0.0], [\"ExtraTreesEntr\", \"PRE\", \"ENTJ\", 0.0], [\"ExtraTreesEntr\", \"PRE\", \"INFP\", 0.317136], [\"ExtraTreesEntr\", \"PRE\", \"ISTP\", 0.0], [\"ExtraTreesEntr\", \"PRE\", \"ESFJ\", 0.0], [\"ExtraTreesEntr\", \"PRE\", \"ENFJ\", 0.0], [\"ExtraTreesEntr\", \"REC\", \"ENTP\", 0.040936], [\"ExtraTreesEntr\", \"REC\", \"ESFP\", 0.0], [\"ExtraTreesEntr\", \"REC\", \"ISFJ\", 0.0], [\"ExtraTreesEntr\", \"REC\", \"INTJ\", 0.304029], [\"ExtraTreesEntr\", \"REC\", \"ISFP\", 0.0], [\"ExtraTreesEntr\", \"REC\", \"ESTP\", 0.0], [\"ExtraTreesEntr\", \"REC\", \"INTP\", 0.559816], [\"ExtraTreesEntr\", \"REC\", \"INFJ\", 0.443537], [\"ExtraTreesEntr\", \"REC\", \"ESTJ\", 0.0], [\"ExtraTreesEntr\", \"REC\", \"ENFP\", 0.077151], [\"ExtraTreesEntr\", \"REC\", \"ISTJ\", 0.0], [\"ExtraTreesEntr\", \"REC\", \"ENTJ\", 0.0], [\"ExtraTreesEntr\", \"REC\", \"INFP\", 0.947598], [\"ExtraTreesEntr\", \"REC\", \"ISTP\", 0.0], [\"ExtraTreesEntr\", \"REC\", \"ESFJ\", 0.0], [\"ExtraTreesEntr\", \"REC\", \"ENFJ\", 0.0], [\"ExtraTreesEntr\", \"F1\", \"ENTP\", 0.078212], [\"ExtraTreesEntr\", \"F1\", \"ESFP\", 0.0], [\"ExtraTreesEntr\", \"F1\", \"ISFJ\", 0.0], [\"ExtraTreesEntr\", \"F1\", \"INTJ\", 0.426735], [\"ExtraTreesEntr\", \"F1\", \"ISFP\", 0.0], [\"ExtraTreesEntr\", \"F1\", \"ESTP\", 0.0], [\"ExtraTreesEntr\", \"F1\", \"INTP\", 0.552612], [\"ExtraTreesEntr\", \"F1\", \"INFJ\", 0.470079], [\"ExtraTreesEntr\", \"F1\", \"ESTJ\", 0.0], [\"ExtraTreesEntr\", \"F1\", \"ENFP\", 0.141304], [\"ExtraTreesEntr\", \"F1\", \"ISTJ\", 0.0], [\"ExtraTreesEntr\", \"F1\", \"ENTJ\", 0.0], [\"ExtraTreesEntr\", \"F1\", \"INFP\", 0.475226], [\"ExtraTreesEntr\", \"F1\", \"ISTP\", 0.0], [\"ExtraTreesEntr\", \"F1\", \"ESFJ\", 0.0], [\"ExtraTreesEntr\", \"F1\", \"ENFJ\", 0.0], [\"ExtraTreesEntr\", \"AUC\", \"ENTP\", 0.874584], [\"ExtraTreesEntr\", \"AUC\", \"ESFP\", 0.569118], [\"ExtraTreesEntr\", \"AUC\", \"ISFJ\", 0.882853], [\"ExtraTreesEntr\", \"AUC\", \"INTJ\", 0.858362], [\"ExtraTreesEntr\", \"AUC\", \"ISFP\", 0.843002], [\"ExtraTreesEntr\", \"AUC\", \"ESTP\", 0.808713], [\"ExtraTreesEntr\", \"AUC\", \"INTP\", 0.865572], [\"ExtraTreesEntr\", \"AUC\", \"INFJ\", 0.820817], [\"ExtraTreesEntr\", \"AUC\", \"ESTJ\", 0.671375], [\"ExtraTreesEntr\", \"AUC\", \"ENFP\", 0.893164], [\"ExtraTreesEntr\", \"AUC\", \"ISTJ\", 0.85347], [\"ExtraTreesEntr\", \"AUC\", \"ENTJ\", 0.841994], [\"ExtraTreesEntr\", \"AUC\", \"INFP\", 0.860224], [\"ExtraTreesEntr\", \"AUC\", \"ISTP\", 0.878826], [\"ExtraTreesEntr\", \"AUC\", \"ESFJ\", 0.662618], [\"ExtraTreesEntr\", \"AUC\", \"ENFJ\", 0.823542], [\"XGBoost\", \"PRE\", \"ENTP\", 0.667712], [\"XGBoost\", \"PRE\", \"ESFP\", 0.0], [\"XGBoost\", \"PRE\", \"ISFJ\", 0.722222], [\"XGBoost\", \"PRE\", \"INTJ\", 0.681109], [\"XGBoost\", \"PRE\", \"ISFP\", 0.701149], [\"XGBoost\", \"PRE\", \"ESTP\", 0.565217], [\"XGBoost\", \"PRE\", \"INTP\", 0.656126], [\"XGBoost\", \"PRE\", \"INFJ\", 0.666667], [\"XGBoost\", \"PRE\", \"ESTJ\", 0.4], [\"XGBoost\", \"PRE\", \"ENFP\", 0.695082], [\"XGBoost\", \"PRE\", \"ISTJ\", 0.692308], [\"XGBoost\", \"PRE\", \"ENTJ\", 0.57971], [\"XGBoost\", \"PRE\", \"INFP\", 0.69648], [\"XGBoost\", \"PRE\", \"ISTP\", 0.728571], [\"XGBoost\", \"PRE\", \"ESFJ\", 0.6], [\"XGBoost\", \"PRE\", \"ENFJ\", 0.693878], [\"XGBoost\", \"REC\", \"ENTP\", 0.622807], [\"XGBoost\", \"REC\", \"ESFP\", 0.0], [\"XGBoost\", \"REC\", \"ISFJ\", 0.46988], [\"XGBoost\", \"REC\", \"INTJ\", 0.71978], [\"XGBoost\", \"REC\", \"ISFP\", 0.451852], [\"XGBoost\", \"REC\", \"ESTP\", 0.295455], [\"XGBoost\", \"REC\", \"INTP\", 0.763804], [\"XGBoost\", \"REC\", \"INFJ\", 0.740136], [\"XGBoost\", \"REC\", \"ESTJ\", 0.1], [\"XGBoost\", \"REC\", \"ENFP\", 0.62908], [\"XGBoost\", \"REC\", \"ISTJ\", 0.524272], [\"XGBoost\", \"REC\", \"ENTJ\", 0.344828], [\"XGBoost\", \"REC\", \"INFP\", 0.799127], [\"XGBoost\", \"REC\", \"ISTP\", 0.607143], [\"XGBoost\", \"REC\", \"ESFJ\", 0.142857], [\"XGBoost\", \"REC\", \"ENFJ\", 0.357895], [\"XGBoost\", \"F1\", \"ENTP\", 0.644478], [\"XGBoost\", \"F1\", \"ESFP\", 0.0], [\"XGBoost\", \"F1\", \"ISFJ\", 0.569343], [\"XGBoost\", \"F1\", \"INTJ\", 0.699911], [\"XGBoost\", \"F1\", \"ISFP\", 0.54955], [\"XGBoost\", \"F1\", \"ESTP\", 0.38806], [\"XGBoost\", \"F1\", \"INTP\", 0.705882], [\"XGBoost\", \"F1\", \"INFJ\", 0.701483], [\"XGBoost\", \"F1\", \"ESTJ\", 0.16], [\"XGBoost\", \"F1\", \"ENFP\", 0.660436], [\"XGBoost\", \"F1\", \"ISTJ\", 0.596685], [\"XGBoost\", \"F1\", \"ENTJ\", 0.432432], [\"XGBoost\", \"F1\", \"INFP\", 0.744281], [\"XGBoost\", \"F1\", \"ISTP\", 0.662338], [\"XGBoost\", \"F1\", \"ESFJ\", 0.230769], [\"XGBoost\", \"F1\", \"ENFJ\", 0.472222], [\"XGBoost\", \"AUC\", \"ENTP\", 0.931296], [\"XGBoost\", \"AUC\", \"ESFP\", 0.814398], [\"XGBoost\", \"AUC\", \"ISFJ\", 0.962119], [\"XGBoost\", \"AUC\", \"INTJ\", 0.926253], [\"XGBoost\", \"AUC\", \"ISFP\", 0.937626], [\"XGBoost\", \"AUC\", \"ESTP\", 0.907397], [\"XGBoost\", \"AUC\", \"INTP\", 0.93016], [\"XGBoost\", \"AUC\", \"INFJ\", 0.917051], [\"XGBoost\", \"AUC\", \"ESTJ\", 0.833183], [\"XGBoost\", \"AUC\", \"ENFP\", 0.936838], [\"XGBoost\", \"AUC\", \"ISTJ\", 0.94012], [\"XGBoost\", \"AUC\", \"ENTJ\", 0.917492], [\"XGBoost\", \"AUC\", \"INFP\", 0.933497], [\"XGBoost\", \"AUC\", \"ISTP\", 0.951924], [\"XGBoost\", \"AUC\", \"ESFJ\", 0.832451], [\"XGBoost\", \"AUC\", \"ENFJ\", 0.925785], [\"NeuralNetTorch\", \"PRE\", \"ENTP\", 0.139535], [\"NeuralNetTorch\", \"PRE\", \"ESFP\", 0.0], [\"NeuralNetTorch\", \"PRE\", \"ISFJ\", 0.0], [\"NeuralNetTorch\", \"PRE\", \"INTJ\", 0.195876], [\"NeuralNetTorch\", \"PRE\", \"ISFP\", 0.0], [\"NeuralNetTorch\", \"PRE\", \"ESTP\", 0.0], [\"NeuralNetTorch\", \"PRE\", \"INTP\", 0.217295], [\"NeuralNetTorch\", \"PRE\", \"INFJ\", 0.202749], [\"NeuralNetTorch\", \"PRE\", \"ESTJ\", 0.0], [\"NeuralNetTorch\", \"PRE\", \"ENFP\", 0.252033], [\"NeuralNetTorch\", \"PRE\", \"ISTJ\", 0.0], [\"NeuralNetTorch\", \"PRE\", \"ENTJ\", 0.0], [\"NeuralNetTorch\", \"PRE\", \"INFP\", 0.243457], [\"NeuralNetTorch\", \"PRE\", \"ISTP\", 0.0], [\"NeuralNetTorch\", \"PRE\", \"ESFJ\", 0.0], [\"NeuralNetTorch\", \"PRE\", \"ENFJ\", 0.0], [\"NeuralNetTorch\", \"REC\", \"ENTP\", 0.052632], [\"NeuralNetTorch\", \"REC\", \"ESFP\", 0.0], [\"NeuralNetTorch\", \"REC\", \"ISFJ\", 0.0], [\"NeuralNetTorch\", \"REC\", \"INTJ\", 0.173993], [\"NeuralNetTorch\", \"REC\", \"ISFP\", 0.0], [\"NeuralNetTorch\", \"REC\", \"ESTP\", 0.0], [\"NeuralNetTorch\", \"REC\", \"INTP\", 0.300613], [\"NeuralNetTorch\", \"REC\", \"INFJ\", 0.080272], [\"NeuralNetTorch\", \"REC\", \"ESTJ\", 0.0], [\"NeuralNetTorch\", \"REC\", \"ENFP\", 0.091988], [\"NeuralNetTorch\", \"REC\", \"ISTJ\", 0.0], [\"NeuralNetTorch\", \"REC\", \"ENTJ\", 0.0], [\"NeuralNetTorch\", \"REC\", \"INFP\", 0.639738], [\"NeuralNetTorch\", \"REC\", \"ISTP\", 0.0], [\"NeuralNetTorch\", \"REC\", \"ESFJ\", 0.0], [\"NeuralNetTorch\", \"REC\", \"ENFJ\", 0.0], [\"NeuralNetTorch\", \"F1\", \"ENTP\", 0.076433], [\"NeuralNetTorch\", \"F1\", \"ESFP\", 0.0], [\"NeuralNetTorch\", \"F1\", \"ISFJ\", 0.0], [\"NeuralNetTorch\", \"F1\", \"INTJ\", 0.184287], [\"NeuralNetTorch\", \"F1\", \"ISFP\", 0.0], [\"NeuralNetTorch\", \"F1\", \"ESTP\", 0.0], [\"NeuralNetTorch\", \"F1\", \"INTP\", 0.252252], [\"NeuralNetTorch\", \"F1\", \"INFJ\", 0.11501], [\"NeuralNetTorch\", \"F1\", \"ESTJ\", 0.0], [\"NeuralNetTorch\", \"F1\", \"ENFP\", 0.134783], [\"NeuralNetTorch\", \"F1\", \"ISTJ\", 0.0], [\"NeuralNetTorch\", \"F1\", \"ENTJ\", 0.0], [\"NeuralNetTorch\", \"F1\", \"INFP\", 0.352693], [\"NeuralNetTorch\", \"F1\", \"ISTP\", 0.0], [\"NeuralNetTorch\", \"F1\", \"ESFJ\", 0.0], [\"NeuralNetTorch\", \"F1\", \"ENFJ\", 0.0], [\"NeuralNetTorch\", \"AUC\", \"ENTP\", 0.584884], [\"NeuralNetTorch\", \"AUC\", \"ESFP\", 0.671246], [\"NeuralNetTorch\", \"AUC\", \"ISFJ\", 0.628132], [\"NeuralNetTorch\", \"AUC\", \"INTJ\", 0.632113], [\"NeuralNetTorch\", \"AUC\", \"ISFP\", 0.580367], [\"NeuralNetTorch\", \"AUC\", \"ESTP\", 0.606182], [\"NeuralNetTorch\", \"AUC\", \"INTP\", 0.654882], [\"NeuralNetTorch\", \"AUC\", \"INFJ\", 0.544506], [\"NeuralNetTorch\", \"AUC\", \"ESTJ\", 0.503185], [\"NeuralNetTorch\", \"AUC\", \"ENFP\", 0.69166], [\"NeuralNetTorch\", \"AUC\", \"ISTJ\", 0.547436], [\"NeuralNetTorch\", \"AUC\", \"ENTJ\", 0.590204], [\"NeuralNetTorch\", \"AUC\", \"INFP\", 0.589553], [\"NeuralNetTorch\", \"AUC\", \"ISTP\", 0.629719], [\"NeuralNetTorch\", \"AUC\", \"ESFJ\", 0.704543], [\"NeuralNetTorch\", \"AUC\", \"ENFJ\", 0.581831], [\"LightGBMLarge\", \"PRE\", \"ENTP\", 0.634731], [\"LightGBMLarge\", \"PRE\", \"ESFP\", 0.0], [\"LightGBMLarge\", \"PRE\", \"ISFJ\", 0.76], [\"LightGBMLarge\", \"PRE\", \"INTJ\", 0.685152], [\"LightGBMLarge\", \"PRE\", \"ISFP\", 0.637363], [\"LightGBMLarge\", \"PRE\", \"ESTP\", 0.666667], [\"LightGBMLarge\", \"PRE\", \"INTP\", 0.641161], [\"LightGBMLarge\", \"PRE\", \"INFJ\", 0.674776], [\"LightGBMLarge\", \"PRE\", \"ESTJ\", 0.5], [\"LightGBMLarge\", \"PRE\", \"ENFP\", 0.661631], [\"LightGBMLarge\", \"PRE\", \"ISTJ\", 0.641026], [\"LightGBMLarge\", \"PRE\", \"ENTJ\", 0.644737], [\"LightGBMLarge\", \"PRE\", \"INFP\", 0.701449], [\"LightGBMLarge\", \"PRE\", \"ISTP\", 0.689189], [\"LightGBMLarge\", \"PRE\", \"ESFJ\", 0.4], [\"LightGBMLarge\", \"PRE\", \"ENFJ\", 0.65], [\"LightGBMLarge\", \"REC\", \"ENTP\", 0.619883], [\"LightGBMLarge\", \"REC\", \"ESFP\", 0.0], [\"LightGBMLarge\", \"REC\", \"ISFJ\", 0.457831], [\"LightGBMLarge\", \"REC\", \"INTJ\", 0.701465], [\"LightGBMLarge\", \"REC\", \"ISFP\", 0.42963], [\"LightGBMLarge\", \"REC\", \"ESTP\", 0.318182], [\"LightGBMLarge\", \"REC\", \"INTP\", 0.745399], [\"LightGBMLarge\", \"REC\", \"INFJ\", 0.717007], [\"LightGBMLarge\", \"REC\", \"ESTJ\", 0.15], [\"LightGBMLarge\", \"REC\", \"ENFP\", 0.649852], [\"LightGBMLarge\", \"REC\", \"ISTJ\", 0.485437], [\"LightGBMLarge\", \"REC\", \"ENTJ\", 0.422414], [\"LightGBMLarge\", \"REC\", \"INFP\", 0.792576], [\"LightGBMLarge\", \"REC\", \"ISTP\", 0.607143], [\"LightGBMLarge\", \"REC\", \"ESFJ\", 0.095238], [\"LightGBMLarge\", \"REC\", \"ENFJ\", 0.410526], [\"LightGBMLarge\", \"F1\", \"ENTP\", 0.627219], [\"LightGBMLarge\", \"F1\", \"ESFP\", 0.0], [\"LightGBMLarge\", \"F1\", \"ISFJ\", 0.571429], [\"LightGBMLarge\", \"F1\", \"INTJ\", 0.693213], [\"LightGBMLarge\", \"F1\", \"ISFP\", 0.513274], [\"LightGBMLarge\", \"F1\", \"ESTP\", 0.430769], [\"LightGBMLarge\", \"F1\", \"INTP\", 0.689362], [\"LightGBMLarge\", \"F1\", \"INFJ\", 0.695251], [\"LightGBMLarge\", \"F1\", \"ESTJ\", 0.230769], [\"LightGBMLarge\", \"F1\", \"ENFP\", 0.655689], [\"LightGBMLarge\", \"F1\", \"ISTJ\", 0.552486], [\"LightGBMLarge\", \"F1\", \"ENTJ\", 0.510417], [\"LightGBMLarge\", \"F1\", \"INFP\", 0.744234], [\"LightGBMLarge\", \"F1\", \"ISTP\", 0.64557], [\"LightGBMLarge\", \"F1\", \"ESFJ\", 0.153846], [\"LightGBMLarge\", \"F1\", \"ENFJ\", 0.503226], [\"LightGBMLarge\", \"AUC\", \"ENTP\", 0.928485], [\"LightGBMLarge\", \"AUC\", \"ESFP\", 0.789831], [\"LightGBMLarge\", \"AUC\", \"ISFJ\", 0.948998], [\"LightGBMLarge\", \"AUC\", \"INTJ\", 0.920679], [\"LightGBMLarge\", \"AUC\", \"ISFP\", 0.922878], [\"LightGBMLarge\", \"AUC\", \"ESTP\", 0.907349], [\"LightGBMLarge\", \"AUC\", \"INTP\", 0.922886], [\"LightGBMLarge\", \"AUC\", \"INFJ\", 0.918026], [\"LightGBMLarge\", \"AUC\", \"ESTJ\", 0.815752], [\"LightGBMLarge\", \"AUC\", \"ENFP\", 0.931348], [\"LightGBMLarge\", \"AUC\", \"ISTJ\", 0.927382], [\"LightGBMLarge\", \"AUC\", \"ENTJ\", 0.907703], [\"LightGBMLarge\", \"AUC\", \"INFP\", 0.931917], [\"LightGBMLarge\", \"AUC\", \"ISTP\", 0.939895], [\"LightGBMLarge\", \"AUC\", \"ESFJ\", 0.781809], [\"LightGBMLarge\", \"AUC\", \"ENFJ\", 0.909628], [\"WeightedEnsemble_L2\", \"PRE\", \"ENTP\", 0.682243], [\"WeightedEnsemble_L2\", \"PRE\", \"ESFP\", 0.0], [\"WeightedEnsemble_L2\", \"PRE\", \"ISFJ\", 0.884615], [\"WeightedEnsemble_L2\", \"PRE\", \"INTJ\", 0.693632], [\"WeightedEnsemble_L2\", \"PRE\", \"ISFP\", 0.696203], [\"WeightedEnsemble_L2\", \"PRE\", \"ESTP\", 0.761905], [\"WeightedEnsemble_L2\", \"PRE\", \"INTP\", 0.649673], [\"WeightedEnsemble_L2\", \"PRE\", \"INFJ\", 0.67233], [\"WeightedEnsemble_L2\", \"PRE\", \"ESTJ\", 1.0], [\"WeightedEnsemble_L2\", \"PRE\", \"ENFP\", 0.697749], [\"WeightedEnsemble_L2\", \"PRE\", \"ISTJ\", 0.693548], [\"WeightedEnsemble_L2\", \"PRE\", \"ENTJ\", 0.811321], [\"WeightedEnsemble_L2\", \"PRE\", \"INFP\", 0.679558], [\"WeightedEnsemble_L2\", \"PRE\", \"ISTP\", 0.765152], [\"WeightedEnsemble_L2\", \"PRE\", \"ESFJ\", 0.75], [\"WeightedEnsemble_L2\", \"PRE\", \"ENFJ\", 0.72093], [\"WeightedEnsemble_L2\", \"REC\", \"ENTP\", 0.640351], [\"WeightedEnsemble_L2\", \"REC\", \"ESFP\", 0.0], [\"WeightedEnsemble_L2\", \"REC\", \"ISFJ\", 0.554217], [\"WeightedEnsemble_L2\", \"REC\", \"INTJ\", 0.738095], [\"WeightedEnsemble_L2\", \"REC\", \"ISFP\", 0.407407], [\"WeightedEnsemble_L2\", \"REC\", \"ESTP\", 0.363636], [\"WeightedEnsemble_L2\", \"REC\", \"INTP\", 0.76227], [\"WeightedEnsemble_L2\", \"REC\", \"INFJ\", 0.753741], [\"WeightedEnsemble_L2\", \"REC\", \"ESTJ\", 0.15], [\"WeightedEnsemble_L2\", \"REC\", \"ENFP\", 0.643917], [\"WeightedEnsemble_L2\", \"REC\", \"ISTJ\", 0.417476], [\"WeightedEnsemble_L2\", \"REC\", \"ENTJ\", 0.37069], [\"WeightedEnsemble_L2\", \"REC\", \"INFP\", 0.805677], [\"WeightedEnsemble_L2\", \"REC\", \"ISTP\", 0.60119], [\"WeightedEnsemble_L2\", \"REC\", \"ESFJ\", 0.142857], [\"WeightedEnsemble_L2\", \"REC\", \"ENFJ\", 0.326316], [\"WeightedEnsemble_L2\", \"F1\", \"ENTP\", 0.660633], [\"WeightedEnsemble_L2\", \"F1\", \"ESFP\", 0.0], [\"WeightedEnsemble_L2\", \"F1\", \"ISFJ\", 0.681481], [\"WeightedEnsemble_L2\", \"F1\", \"INTJ\", 0.715173], [\"WeightedEnsemble_L2\", \"F1\", \"ISFP\", 0.514019], [\"WeightedEnsemble_L2\", \"F1\", \"ESTP\", 0.492308], [\"WeightedEnsemble_L2\", \"F1\", \"INTP\", 0.701482], [\"WeightedEnsemble_L2\", \"F1\", \"INFJ\", 0.710712], [\"WeightedEnsemble_L2\", \"F1\", \"ESTJ\", 0.26087], [\"WeightedEnsemble_L2\", \"F1\", \"ENFP\", 0.669753], [\"WeightedEnsemble_L2\", \"F1\", \"ISTJ\", 0.521212], [\"WeightedEnsemble_L2\", \"F1\", \"ENTJ\", 0.508876], [\"WeightedEnsemble_L2\", \"F1\", \"INFP\", 0.737263], [\"WeightedEnsemble_L2\", \"F1\", \"ISTP\", 0.673333], [\"WeightedEnsemble_L2\", \"F1\", \"ESFJ\", 0.24], [\"WeightedEnsemble_L2\", \"F1\", \"ENFJ\", 0.449275], [\"WeightedEnsemble_L2\", \"AUC\", \"ENTP\", 0.934305], [\"WeightedEnsemble_L2\", \"AUC\", \"ESFP\", 0.745546], [\"WeightedEnsemble_L2\", \"AUC\", \"ISFJ\", 0.927014], [\"WeightedEnsemble_L2\", \"AUC\", \"INTJ\", 0.928806], [\"WeightedEnsemble_L2\", \"AUC\", \"ISFP\", 0.920678], [\"WeightedEnsemble_L2\", \"AUC\", \"ESTP\", 0.904469], [\"WeightedEnsemble_L2\", \"AUC\", \"INTP\", 0.927918], [\"WeightedEnsemble_L2\", \"AUC\", \"INFJ\", 0.912936], [\"WeightedEnsemble_L2\", \"AUC\", \"ESTJ\", 0.768016], [\"WeightedEnsemble_L2\", \"AUC\", \"ENFP\", 0.926395], [\"WeightedEnsemble_L2\", \"AUC\", \"ISTJ\", 0.939835], [\"WeightedEnsemble_L2\", \"AUC\", \"ENTJ\", 0.909355], [\"WeightedEnsemble_L2\", \"AUC\", \"INFP\", 0.930991], [\"WeightedEnsemble_L2\", \"AUC\", \"ISTP\", 0.949995], [\"WeightedEnsemble_L2\", \"AUC\", \"ESFJ\", 0.732132], [\"WeightedEnsemble_L2\", \"AUC\", \"ENFJ\", 0.89599]];\n",
       "\n",
       "    // Define the dt_args\n",
       "    let dt_args = {\"order\": []};\n",
       "    dt_args[\"data\"] = data;\n",
       "\n",
       "    $(document).ready(function () {\n",
       "        \n",
       "        $('#5c87ac2f-6a2f-4a68-b1a8-d4ef9ec99026').DataTable(dt_args);\n",
       "    });\n",
       "</script>\n",
       "</div>\n"
      ],
      "text/plain": [
       "<IPython.core.display.HTML object>"
      ]
     },
     "metadata": {},
     "output_type": "display_data"
    }
   ],
   "source": [
    "itables.show(pd.read_csv(\"실험결과/실험1/시나리오1.csv\").rename({'Unnamed: 0':'Method','Unnamed: 1':'Metrics'},axis=1).set_index(['Method','Metrics']).stack().reset_index().set_axis(['Method','Metrics','MBTIType','Value'],axis=1))"
   ]
  },
  {
   "cell_type": "markdown",
   "id": "30c57170-8034-4aa1-a626-1cd382e8fb1f",
   "metadata": {},
   "source": [
    "## Experiment 1 {.scrollable}"
   ]
  },
  {
   "cell_type": "code",
   "execution_count": 7,
   "id": "c9c0fdcd-45f8-463e-802c-bdcfd6fde0f0",
   "metadata": {
    "tags": []
   },
   "outputs": [
    {
     "data": {
      "text/html": [
       "<style>.itables table td {\n",
       "    text-overflow: ellipsis;\n",
       "    overflow: hidden;\n",
       "}\n",
       "\n",
       ".itables table th {\n",
       "    text-overflow: ellipsis;\n",
       "    overflow: hidden;\n",
       "}\n",
       "\n",
       ".itables thead input {\n",
       "    width: 100%;\n",
       "    padding: 3px;\n",
       "    box-sizing: border-box;\n",
       "}\n",
       "\n",
       ".itables tfoot input {\n",
       "    width: 100%;\n",
       "    padding: 3px;\n",
       "    box-sizing: border-box;\n",
       "}\n",
       "</style>\n",
       "<div class=\"itables\">\n",
       "<table id=\"809ba503-942a-4d41-8465-602b2564db29\" class=\"display nowrap\"style=\"table-layout:auto;width:auto;margin:auto;caption-side:bottom\"><thead>\n",
       "    <tr style=\"text-align: right;\">\n",
       "      \n",
       "      <th>Method</th>\n",
       "      <th>Metrics</th>\n",
       "      <th>MBTIType</th>\n",
       "      <th>Value</th>\n",
       "    </tr>\n",
       "  </thead><tbody><tr><td>Loading... (need <a href=https://mwouts.github.io/itables/troubleshooting.html>help</a>?)</td></tr></tbody></table>\n",
       "<link rel=\"stylesheet\" type=\"text/css\" href=\"https://cdn.datatables.net/1.13.1/css/jquery.dataTables.min.css\">\n",
       "<script type=\"module\">\n",
       "    // Import jquery and DataTable\n",
       "    import 'https://code.jquery.com/jquery-3.6.0.min.js';\n",
       "    import dt from 'https://cdn.datatables.net/1.12.1/js/jquery.dataTables.mjs';\n",
       "    dt($);\n",
       "\n",
       "    // Define the table data\n",
       "    const data = [[\"KNeighborsUnif\", \"PRE\", \"ENTP\", 0.130641], [\"KNeighborsUnif\", \"PRE\", \"ESFP\", 0.05], [\"KNeighborsUnif\", \"PRE\", \"ISFJ\", 0.0], [\"KNeighborsUnif\", \"PRE\", \"INTJ\", 0.21135], [\"KNeighborsUnif\", \"PRE\", \"ISFP\", 0.15], [\"KNeighborsUnif\", \"PRE\", \"ESTP\", 0.0], [\"KNeighborsUnif\", \"PRE\", \"INTP\", 0.23765], [\"KNeighborsUnif\", \"PRE\", \"INFJ\", 0.230552], [\"KNeighborsUnif\", \"PRE\", \"ESTJ\", 0.0], [\"KNeighborsUnif\", \"PRE\", \"ENFP\", 0.145833], [\"KNeighborsUnif\", \"PRE\", \"ISTJ\", 0.0], [\"KNeighborsUnif\", \"PRE\", \"ENTJ\", 0.057554], [\"KNeighborsUnif\", \"PRE\", \"INFP\", 0.27957], [\"KNeighborsUnif\", \"PRE\", \"ISTP\", 0.051282], [\"KNeighborsUnif\", \"PRE\", \"ESFJ\", 0.0], [\"KNeighborsUnif\", \"PRE\", \"ENFJ\", 0.057471], [\"KNeighborsUnif\", \"REC\", \"ENTP\", 0.160819], [\"KNeighborsUnif\", \"REC\", \"ESFP\", 0.041667], [\"KNeighborsUnif\", \"REC\", \"ISFJ\", 0.0], [\"KNeighborsUnif\", \"REC\", \"INTJ\", 0.197802], [\"KNeighborsUnif\", \"REC\", \"ISFP\", 0.022222], [\"KNeighborsUnif\", \"REC\", \"ESTP\", 0.0], [\"KNeighborsUnif\", \"REC\", \"INTP\", 0.273006], [\"KNeighborsUnif\", \"REC\", \"INFJ\", 0.221769], [\"KNeighborsUnif\", \"REC\", \"ESTJ\", 0.0], [\"KNeighborsUnif\", \"REC\", \"ENFP\", 0.249258], [\"KNeighborsUnif\", \"REC\", \"ISTJ\", 0.0], [\"KNeighborsUnif\", \"REC\", \"ENTJ\", 0.068966], [\"KNeighborsUnif\", \"REC\", \"INFP\", 0.312227], [\"KNeighborsUnif\", \"REC\", \"ISTP\", 0.011905], [\"KNeighborsUnif\", \"REC\", \"ESFJ\", 0.0], [\"KNeighborsUnif\", \"REC\", \"ENFJ\", 0.052632], [\"KNeighborsUnif\", \"F1\", \"ENTP\", 0.144168], [\"KNeighborsUnif\", \"F1\", \"ESFP\", 0.045455], [\"KNeighborsUnif\", \"F1\", \"ISFJ\", 0.0], [\"KNeighborsUnif\", \"F1\", \"INTJ\", 0.204352], [\"KNeighborsUnif\", \"F1\", \"ISFP\", 0.03871], [\"KNeighborsUnif\", \"F1\", \"ESTP\", 0.0], [\"KNeighborsUnif\", \"F1\", \"INTP\", 0.254104], [\"KNeighborsUnif\", \"F1\", \"INFJ\", 0.226075], [\"KNeighborsUnif\", \"F1\", \"ESTJ\", 0.0], [\"KNeighborsUnif\", \"F1\", \"ENFP\", 0.184009], [\"KNeighborsUnif\", \"F1\", \"ISTJ\", 0.0], [\"KNeighborsUnif\", \"F1\", \"ENTJ\", 0.062745], [\"KNeighborsUnif\", \"F1\", \"INFP\", 0.294997], [\"KNeighborsUnif\", \"F1\", \"ISTP\", 0.019324], [\"KNeighborsUnif\", \"F1\", \"ESFJ\", 0.0], [\"KNeighborsUnif\", \"F1\", \"ENFJ\", 0.054945], [\"KNeighborsUnif\", \"AUC\", \"ENTP\", 0.570113], [\"KNeighborsUnif\", \"AUC\", \"ESFP\", 0.546009], [\"KNeighborsUnif\", \"AUC\", \"ISFJ\", 0.544589], [\"KNeighborsUnif\", \"AUC\", \"INTJ\", 0.601631], [\"KNeighborsUnif\", \"AUC\", \"ISFP\", 0.51902], [\"KNeighborsUnif\", \"AUC\", \"ESTP\", 0.508481], [\"KNeighborsUnif\", \"AUC\", \"INTP\", 0.60156], [\"KNeighborsUnif\", \"AUC\", \"INFJ\", 0.564637], [\"KNeighborsUnif\", \"AUC\", \"ESTJ\", 0.495136], [\"KNeighborsUnif\", \"AUC\", \"ENFP\", 0.608007], [\"KNeighborsUnif\", \"AUC\", \"ISTJ\", 0.512045], [\"KNeighborsUnif\", \"AUC\", \"ENTJ\", 0.534636], [\"KNeighborsUnif\", \"AUC\", \"INFP\", 0.580368], [\"KNeighborsUnif\", \"AUC\", \"ISTP\", 0.546687], [\"KNeighborsUnif\", \"AUC\", \"ESFJ\", 0.493165], [\"KNeighborsUnif\", \"AUC\", \"ENFJ\", 0.546893], [\"KNeighborsDist\", \"PRE\", \"ENTP\", 0.129139], [\"KNeighborsDist\", \"PRE\", \"ESFP\", 0.0], [\"KNeighborsDist\", \"PRE\", \"ISFJ\", 0.038462], [\"KNeighborsDist\", \"PRE\", \"INTJ\", 0.184295], [\"KNeighborsDist\", \"PRE\", \"ISFP\", 0.095238], [\"KNeighborsDist\", \"PRE\", \"ESTP\", 0.0], [\"KNeighborsDist\", \"PRE\", \"INTP\", 0.222222], [\"KNeighborsDist\", \"PRE\", \"INFJ\", 0.24024], [\"KNeighborsDist\", \"PRE\", \"ESTJ\", 0.0], [\"KNeighborsDist\", \"PRE\", \"ENFP\", 0.16726], [\"KNeighborsDist\", \"PRE\", \"ISTJ\", 0.081081], [\"KNeighborsDist\", \"PRE\", \"ENTJ\", 0.083333], [\"KNeighborsDist\", \"PRE\", \"INFP\", 0.280608], [\"KNeighborsDist\", \"PRE\", \"ISTP\", 0.041237], [\"KNeighborsDist\", \"PRE\", \"ESFJ\", 0.0], [\"KNeighborsDist\", \"PRE\", \"ENFJ\", 0.0], [\"KNeighborsDist\", \"REC\", \"ENTP\", 0.114035], [\"KNeighborsDist\", \"REC\", \"ESFP\", 0.0], [\"KNeighborsDist\", \"REC\", \"ISFJ\", 0.012048], [\"KNeighborsDist\", \"REC\", \"INTJ\", 0.210623], [\"KNeighborsDist\", \"REC\", \"ISFP\", 0.044444], [\"KNeighborsDist\", \"REC\", \"ESTP\", 0.0], [\"KNeighborsDist\", \"REC\", \"INTP\", 0.337423], [\"KNeighborsDist\", \"REC\", \"INFJ\", 0.217687], [\"KNeighborsDist\", \"REC\", \"ESTJ\", 0.0], [\"KNeighborsDist\", \"REC\", \"ENFP\", 0.139466], [\"KNeighborsDist\", \"REC\", \"ISTJ\", 0.029126], [\"KNeighborsDist\", \"REC\", \"ENTJ\", 0.051724], [\"KNeighborsDist\", \"REC\", \"INFP\", 0.342795], [\"KNeighborsDist\", \"REC\", \"ISTP\", 0.02381], [\"KNeighborsDist\", \"REC\", \"ESFJ\", 0.0], [\"KNeighborsDist\", \"REC\", \"ENFJ\", 0.0], [\"KNeighborsDist\", \"F1\", \"ENTP\", 0.121118], [\"KNeighborsDist\", \"F1\", \"ESFP\", 0.0], [\"KNeighborsDist\", \"F1\", \"ISFJ\", 0.018349], [\"KNeighborsDist\", \"F1\", \"INTJ\", 0.196581], [\"KNeighborsDist\", \"F1\", \"ISFP\", 0.060606], [\"KNeighborsDist\", \"F1\", \"ESTP\", 0.0], [\"KNeighborsDist\", \"F1\", \"INTP\", 0.267966], [\"KNeighborsDist\", \"F1\", \"INFJ\", 0.228408], [\"KNeighborsDist\", \"F1\", \"ESTJ\", 0.0], [\"KNeighborsDist\", \"F1\", \"ENFP\", 0.152104], [\"KNeighborsDist\", \"F1\", \"ISTJ\", 0.042857], [\"KNeighborsDist\", \"F1\", \"ENTJ\", 0.06383], [\"KNeighborsDist\", \"F1\", \"INFP\", 0.3086], [\"KNeighborsDist\", \"F1\", \"ISTP\", 0.030189], [\"KNeighborsDist\", \"F1\", \"ESFJ\", 0.0], [\"KNeighborsDist\", \"F1\", \"ENFJ\", 0.0], [\"KNeighborsDist\", \"AUC\", \"ENTP\", 0.567341], [\"KNeighborsDist\", \"AUC\", \"ESFP\", 0.546618], [\"KNeighborsDist\", \"AUC\", \"ISFJ\", 0.544718], [\"KNeighborsDist\", \"AUC\", \"INTJ\", 0.601935], [\"KNeighborsDist\", \"AUC\", \"ISFP\", 0.520124], [\"KNeighborsDist\", \"AUC\", \"ESTP\", 0.50829], [\"KNeighborsDist\", \"AUC\", \"INTP\", 0.604903], [\"KNeighborsDist\", \"AUC\", \"INFJ\", 0.564152], [\"KNeighborsDist\", \"AUC\", \"ESTJ\", 0.495136], [\"KNeighborsDist\", \"AUC\", \"ENFP\", 0.608582], [\"KNeighborsDist\", \"AUC\", \"ISTJ\", 0.51221], [\"KNeighborsDist\", \"AUC\", \"ENTJ\", 0.535457], [\"KNeighborsDist\", \"AUC\", \"INFP\", 0.585428], [\"KNeighborsDist\", \"AUC\", \"ISTP\", 0.548034], [\"KNeighborsDist\", \"AUC\", \"ESFJ\", 0.493165], [\"KNeighborsDist\", \"AUC\", \"ENFJ\", 0.545882], [\"NeuralNetFastAI\", \"PRE\", \"ENTP\", 0.088968], [\"NeuralNetFastAI\", \"PRE\", \"ESFP\", 0.0], [\"NeuralNetFastAI\", \"PRE\", \"ISFJ\", 0.0], [\"NeuralNetFastAI\", \"PRE\", \"INTJ\", 0.17193], [\"NeuralNetFastAI\", \"PRE\", \"ISFP\", 0.0], [\"NeuralNetFastAI\", \"PRE\", \"ESTP\", 0.0], [\"NeuralNetFastAI\", \"PRE\", \"INTP\", 0.210948], [\"NeuralNetFastAI\", \"PRE\", \"INFJ\", 0.187824], [\"NeuralNetFastAI\", \"PRE\", \"ESTJ\", 0.0], [\"NeuralNetFastAI\", \"PRE\", \"ENFP\", 0.207254], [\"NeuralNetFastAI\", \"PRE\", \"ISTJ\", 0.0], [\"NeuralNetFastAI\", \"PRE\", \"ENTJ\", 0.064516], [\"NeuralNetFastAI\", \"PRE\", \"INFP\", 0.25489], [\"NeuralNetFastAI\", \"PRE\", \"ISTP\", 0.0], [\"NeuralNetFastAI\", \"PRE\", \"ESFJ\", 0.0], [\"NeuralNetFastAI\", \"PRE\", \"ENFJ\", 0.0], [\"NeuralNetFastAI\", \"REC\", \"ENTP\", 0.073099], [\"NeuralNetFastAI\", \"REC\", \"ESFP\", 0.0], [\"NeuralNetFastAI\", \"REC\", \"ISFJ\", 0.0], [\"NeuralNetFastAI\", \"REC\", \"INTJ\", 0.179487], [\"NeuralNetFastAI\", \"REC\", \"ISFP\", 0.0], [\"NeuralNetFastAI\", \"REC\", \"ESTP\", 0.0], [\"NeuralNetFastAI\", \"REC\", \"INTP\", 0.242331], [\"NeuralNetFastAI\", \"REC\", \"INFJ\", 0.197279], [\"NeuralNetFastAI\", \"REC\", \"ESTJ\", 0.0], [\"NeuralNetFastAI\", \"REC\", \"ENFP\", 0.118694], [\"NeuralNetFastAI\", \"REC\", \"ISTJ\", 0.0], [\"NeuralNetFastAI\", \"REC\", \"ENTJ\", 0.017241], [\"NeuralNetFastAI\", \"REC\", \"INFP\", 0.469432], [\"NeuralNetFastAI\", \"REC\", \"ISTP\", 0.0], [\"NeuralNetFastAI\", \"REC\", \"ESFJ\", 0.0], [\"NeuralNetFastAI\", \"REC\", \"ENFJ\", 0.0], [\"NeuralNetFastAI\", \"F1\", \"ENTP\", 0.080257], [\"NeuralNetFastAI\", \"F1\", \"ESFP\", 0.0], [\"NeuralNetFastAI\", \"F1\", \"ISFJ\", 0.0], [\"NeuralNetFastAI\", \"F1\", \"INTJ\", 0.175627], [\"NeuralNetFastAI\", \"F1\", \"ISFP\", 0.0], [\"NeuralNetFastAI\", \"F1\", \"ESTP\", 0.0], [\"NeuralNetFastAI\", \"F1\", \"INTP\", 0.225553], [\"NeuralNetFastAI\", \"F1\", \"INFJ\", 0.192435], [\"NeuralNetFastAI\", \"F1\", \"ESTJ\", 0.0], [\"NeuralNetFastAI\", \"F1\", \"ENFP\", 0.150943], [\"NeuralNetFastAI\", \"F1\", \"ISTJ\", 0.0], [\"NeuralNetFastAI\", \"F1\", \"ENTJ\", 0.027211], [\"NeuralNetFastAI\", \"F1\", \"INFP\", 0.330388], [\"NeuralNetFastAI\", \"F1\", \"ISTP\", 0.0], [\"NeuralNetFastAI\", \"F1\", \"ESFJ\", 0.0], [\"NeuralNetFastAI\", \"F1\", \"ENFJ\", 0.0], [\"NeuralNetFastAI\", \"AUC\", \"ENTP\", 0.553366], [\"NeuralNetFastAI\", \"AUC\", \"ESFP\", 0.650784], [\"NeuralNetFastAI\", \"AUC\", \"ISFJ\", 0.568126], [\"NeuralNetFastAI\", \"AUC\", \"INTJ\", 0.585475], [\"NeuralNetFastAI\", \"AUC\", \"ISFP\", 0.552167], [\"NeuralNetFastAI\", \"AUC\", \"ESTP\", 0.527063], [\"NeuralNetFastAI\", \"AUC\", \"INTP\", 0.613254], [\"NeuralNetFastAI\", \"AUC\", \"INFJ\", 0.53077], [\"NeuralNetFastAI\", \"AUC\", \"ESTJ\", 0.526465], [\"NeuralNetFastAI\", \"AUC\", \"ENFP\", 0.644812], [\"NeuralNetFastAI\", \"AUC\", \"ISTJ\", 0.53543], [\"NeuralNetFastAI\", \"AUC\", \"ENTJ\", 0.562069], [\"NeuralNetFastAI\", \"AUC\", \"INFP\", 0.578793], [\"NeuralNetFastAI\", \"AUC\", \"ISTP\", 0.599489], [\"NeuralNetFastAI\", \"AUC\", \"ESFJ\", 0.65271], [\"NeuralNetFastAI\", \"AUC\", \"ENFJ\", 0.561344], [\"LightGBMXT\", \"PRE\", \"ENTP\", 0.673716], [\"LightGBMXT\", \"PRE\", \"ESFP\", 0.0], [\"LightGBMXT\", \"PRE\", \"ISFJ\", 0.857143], [\"LightGBMXT\", \"PRE\", \"INTJ\", 0.660473], [\"LightGBMXT\", \"PRE\", \"ISFP\", 0.756757], [\"LightGBMXT\", \"PRE\", \"ESTP\", 0.636364], [\"LightGBMXT\", \"PRE\", \"INTP\", 0.63827], [\"LightGBMXT\", \"PRE\", \"INFJ\", 0.662112], [\"LightGBMXT\", \"PRE\", \"ESTJ\", 0.714286], [\"LightGBMXT\", \"PRE\", \"ENFP\", 0.698675], [\"LightGBMXT\", \"PRE\", \"ISTJ\", 0.661017], [\"LightGBMXT\", \"PRE\", \"ENTJ\", 0.75], [\"LightGBMXT\", \"PRE\", \"INFP\", 0.67814], [\"LightGBMXT\", \"PRE\", \"ISTP\", 0.738806], [\"LightGBMXT\", \"PRE\", \"ESFJ\", 0.428571], [\"LightGBMXT\", \"PRE\", \"ENFJ\", 0.709091], [\"LightGBMXT\", \"REC\", \"ENTP\", 0.652047], [\"LightGBMXT\", \"REC\", \"ESFP\", 0.0], [\"LightGBMXT\", \"REC\", \"ISFJ\", 0.506024], [\"LightGBMXT\", \"REC\", \"INTJ\", 0.716117], [\"LightGBMXT\", \"REC\", \"ISFP\", 0.414815], [\"LightGBMXT\", \"REC\", \"ESTP\", 0.318182], [\"LightGBMXT\", \"REC\", \"INTP\", 0.746933], [\"LightGBMXT\", \"REC\", \"INFJ\", 0.72517], [\"LightGBMXT\", \"REC\", \"ESTJ\", 0.25], [\"LightGBMXT\", \"REC\", \"ENFP\", 0.626113], [\"LightGBMXT\", \"REC\", \"ISTJ\", 0.378641], [\"LightGBMXT\", \"REC\", \"ENTJ\", 0.387931], [\"LightGBMXT\", \"REC\", \"INFP\", 0.795852], [\"LightGBMXT\", \"REC\", \"ISTP\", 0.589286], [\"LightGBMXT\", \"REC\", \"ESFJ\", 0.142857], [\"LightGBMXT\", \"REC\", \"ENFJ\", 0.410526], [\"LightGBMXT\", \"F1\", \"ENTP\", 0.662704], [\"LightGBMXT\", \"F1\", \"ESFP\", 0.0], [\"LightGBMXT\", \"F1\", \"ISFJ\", 0.636364], [\"LightGBMXT\", \"F1\", \"INTJ\", 0.68717], [\"LightGBMXT\", \"F1\", \"ISFP\", 0.535885], [\"LightGBMXT\", \"F1\", \"ESTP\", 0.424242], [\"LightGBMXT\", \"F1\", \"INTP\", 0.688339], [\"LightGBMXT\", \"F1\", \"INFJ\", 0.692208], [\"LightGBMXT\", \"F1\", \"ESTJ\", 0.37037], [\"LightGBMXT\", \"F1\", \"ENFP\", 0.660407], [\"LightGBMXT\", \"F1\", \"ISTJ\", 0.481481], [\"LightGBMXT\", \"F1\", \"ENTJ\", 0.511364], [\"LightGBMXT\", \"F1\", \"INFP\", 0.732295], [\"LightGBMXT\", \"F1\", \"ISTP\", 0.655629], [\"LightGBMXT\", \"F1\", \"ESFJ\", 0.214286], [\"LightGBMXT\", \"F1\", \"ENFJ\", 0.52], [\"LightGBMXT\", \"AUC\", \"ENTP\", 0.929049], [\"LightGBMXT\", \"AUC\", \"ESFP\", 0.825073], [\"LightGBMXT\", \"AUC\", \"ISFJ\", 0.960703], [\"LightGBMXT\", \"AUC\", \"INTJ\", 0.923992], [\"LightGBMXT\", \"AUC\", \"ISFP\", 0.930712], [\"LightGBMXT\", \"AUC\", \"ESTP\", 0.904109], [\"LightGBMXT\", \"AUC\", \"INTP\", 0.92405], [\"LightGBMXT\", \"AUC\", \"INFJ\", 0.910564], [\"LightGBMXT\", \"AUC\", \"ESTJ\", 0.853811], [\"LightGBMXT\", \"AUC\", \"ENFP\", 0.926488], [\"LightGBMXT\", \"AUC\", \"ISTJ\", 0.941617], [\"LightGBMXT\", \"AUC\", \"ENTJ\", 0.918872], [\"LightGBMXT\", \"AUC\", \"INFP\", 0.932415], [\"LightGBMXT\", \"AUC\", \"ISTP\", 0.93897], [\"LightGBMXT\", \"AUC\", \"ESFJ\", 0.804978], [\"LightGBMXT\", \"AUC\", \"ENFJ\", 0.913846], [\"LightGBM\", \"PRE\", \"ENTP\", 0.666667], [\"LightGBM\", \"PRE\", \"ESFP\", 0.0], [\"LightGBM\", \"PRE\", \"ISFJ\", 0.829787], [\"LightGBM\", \"PRE\", \"INTJ\", 0.661102], [\"LightGBM\", \"PRE\", \"ISFP\", 0.737705], [\"LightGBM\", \"PRE\", \"ESTP\", 0.692308], [\"LightGBM\", \"PRE\", \"INTP\", 0.648294], [\"LightGBM\", \"PRE\", \"INFJ\", 0.663057], [\"LightGBM\", \"PRE\", \"ESTJ\", 0.4], [\"LightGBM\", \"PRE\", \"ENFP\", 0.716724], [\"LightGBM\", \"PRE\", \"ISTJ\", 0.765957], [\"LightGBM\", \"PRE\", \"ENTJ\", 0.693878], [\"LightGBM\", \"PRE\", \"INFP\", 0.653744], [\"LightGBM\", \"PRE\", \"ISTP\", 0.770992], [\"LightGBM\", \"PRE\", \"ESFJ\", 0.666667], [\"LightGBM\", \"PRE\", \"ENFJ\", 0.673913], [\"LightGBM\", \"REC\", \"ENTP\", 0.614035], [\"LightGBM\", \"REC\", \"ESFP\", 0.0], [\"LightGBM\", \"REC\", \"ISFJ\", 0.46988], [\"LightGBM\", \"REC\", \"INTJ\", 0.725275], [\"LightGBM\", \"REC\", \"ISFP\", 0.333333], [\"LightGBM\", \"REC\", \"ESTP\", 0.204545], [\"LightGBM\", \"REC\", \"INTP\", 0.757669], [\"LightGBM\", \"REC\", \"INFJ\", 0.74966], [\"LightGBM\", \"REC\", \"ESTJ\", 0.1], [\"LightGBM\", \"REC\", \"ENFP\", 0.623145], [\"LightGBM\", \"REC\", \"ISTJ\", 0.349515], [\"LightGBM\", \"REC\", \"ENTJ\", 0.293103], [\"LightGBM\", \"REC\", \"INFP\", 0.810044], [\"LightGBM\", \"REC\", \"ISTP\", 0.60119], [\"LightGBM\", \"REC\", \"ESFJ\", 0.095238], [\"LightGBM\", \"REC\", \"ENFJ\", 0.326316], [\"LightGBM\", \"F1\", \"ENTP\", 0.639269], [\"LightGBM\", \"F1\", \"ESFP\", 0.0], [\"LightGBM\", \"F1\", \"ISFJ\", 0.6], [\"LightGBM\", \"F1\", \"INTJ\", 0.691703], [\"LightGBM\", \"F1\", \"ISFP\", 0.459184], [\"LightGBM\", \"F1\", \"ESTP\", 0.315789], [\"LightGBM\", \"F1\", \"INTP\", 0.698727], [\"LightGBM\", \"F1\", \"INFJ\", 0.703704], [\"LightGBM\", \"F1\", \"ESTJ\", 0.16], [\"LightGBM\", \"F1\", \"ENFP\", 0.666667], [\"LightGBM\", \"F1\", \"ISTJ\", 0.48], [\"LightGBM\", \"F1\", \"ENTJ\", 0.412121], [\"LightGBM\", \"F1\", \"INFP\", 0.723549], [\"LightGBM\", \"F1\", \"ISTP\", 0.675585], [\"LightGBM\", \"F1\", \"ESFJ\", 0.166667], [\"LightGBM\", \"F1\", \"ENFJ\", 0.439716], [\"LightGBM\", \"AUC\", \"ENTP\", 0.935656], [\"LightGBM\", \"AUC\", \"ESFP\", 0.809819], [\"LightGBM\", \"AUC\", \"ISFJ\", 0.962487], [\"LightGBM\", \"AUC\", \"INTJ\", 0.92506], [\"LightGBM\", \"AUC\", \"ISFP\", 0.938869], [\"LightGBM\", \"AUC\", \"ESTP\", 0.916974], [\"LightGBM\", \"AUC\", \"INTP\", 0.926615], [\"LightGBM\", \"AUC\", \"INFJ\", 0.917179], [\"LightGBM\", \"AUC\", \"ESTJ\", 0.846676], [\"LightGBM\", \"AUC\", \"ENFP\", 0.936202], [\"LightGBM\", \"AUC\", \"ISTJ\", 0.949211], [\"LightGBM\", \"AUC\", \"ENTJ\", 0.917678], [\"LightGBM\", \"AUC\", \"INFP\", 0.928937], [\"LightGBM\", \"AUC\", \"ISTP\", 0.948346], [\"LightGBM\", \"AUC\", \"ESFJ\", 0.798491], [\"LightGBM\", \"AUC\", \"ENFJ\", 0.936351], [\"RandomForestGini\", \"PRE\", \"ENTP\", 0.776398], [\"RandomForestGini\", \"PRE\", \"ESFP\", 0.0], [\"RandomForestGini\", \"PRE\", \"ISFJ\", 0.0], [\"RandomForestGini\", \"PRE\", \"INTJ\", 0.633065], [\"RandomForestGini\", \"PRE\", \"ISFP\", 1.0], [\"RandomForestGini\", \"PRE\", \"ESTP\", 0.0], [\"RandomForestGini\", \"PRE\", \"INTP\", 0.55006], [\"RandomForestGini\", \"PRE\", \"INFJ\", 0.567845], [\"RandomForestGini\", \"PRE\", \"ESTJ\", 0.0], [\"RandomForestGini\", \"PRE\", \"ENFP\", 0.820896], [\"RandomForestGini\", \"PRE\", \"ISTJ\", 0.0], [\"RandomForestGini\", \"PRE\", \"ENTJ\", 1.0], [\"RandomForestGini\", \"PRE\", \"INFP\", 0.452725], [\"RandomForestGini\", \"PRE\", \"ISTP\", 0.967742], [\"RandomForestGini\", \"PRE\", \"ESFJ\", 0.0], [\"RandomForestGini\", \"PRE\", \"ENFJ\", 0.0], [\"RandomForestGini\", \"REC\", \"ENTP\", 0.365497], [\"RandomForestGini\", \"REC\", \"ESFP\", 0.0], [\"RandomForestGini\", \"REC\", \"ISFJ\", 0.0], [\"RandomForestGini\", \"REC\", \"INTJ\", 0.575092], [\"RandomForestGini\", \"REC\", \"ISFP\", 0.022222], [\"RandomForestGini\", \"REC\", \"ESTP\", 0.0], [\"RandomForestGini\", \"REC\", \"INTP\", 0.699387], [\"RandomForestGini\", \"REC\", \"INFJ\", 0.677551], [\"RandomForestGini\", \"REC\", \"ESTJ\", 0.0], [\"RandomForestGini\", \"REC\", \"ENFP\", 0.326409], [\"RandomForestGini\", \"REC\", \"ISTJ\", 0.0], [\"RandomForestGini\", \"REC\", \"ENTJ\", 0.017241], [\"RandomForestGini\", \"REC\", \"INFP\", 0.888646], [\"RandomForestGini\", \"REC\", \"ISTP\", 0.178571], [\"RandomForestGini\", \"REC\", \"ESFJ\", 0.0], [\"RandomForestGini\", \"REC\", \"ENFJ\", 0.0], [\"RandomForestGini\", \"F1\", \"ENTP\", 0.497018], [\"RandomForestGini\", \"F1\", \"ESFP\", 0.0], [\"RandomForestGini\", \"F1\", \"ISFJ\", 0.0], [\"RandomForestGini\", \"F1\", \"INTJ\", 0.602687], [\"RandomForestGini\", \"F1\", \"ISFP\", 0.043478], [\"RandomForestGini\", \"F1\", \"ESTP\", 0.0], [\"RandomForestGini\", \"F1\", \"INTP\", 0.6158], [\"RandomForestGini\", \"F1\", \"INFJ\", 0.617866], [\"RandomForestGini\", \"F1\", \"ESTJ\", 0.0], [\"RandomForestGini\", \"F1\", \"ENFP\", 0.467091], [\"RandomForestGini\", \"F1\", \"ISTJ\", 0.0], [\"RandomForestGini\", \"F1\", \"ENTJ\", 0.033898], [\"RandomForestGini\", \"F1\", \"INFP\", 0.599853], [\"RandomForestGini\", \"F1\", \"ISTP\", 0.301508], [\"RandomForestGini\", \"F1\", \"ESFJ\", 0.0], [\"RandomForestGini\", \"F1\", \"ENFJ\", 0.0], [\"RandomForestGini\", \"AUC\", \"ENTP\", 0.908032], [\"RandomForestGini\", \"AUC\", \"ESFP\", 0.68167], [\"RandomForestGini\", \"AUC\", \"ISFJ\", 0.892788], [\"RandomForestGini\", \"AUC\", \"INTJ\", 0.89935], [\"RandomForestGini\", \"AUC\", \"ISFP\", 0.870592], [\"RandomForestGini\", \"AUC\", \"ESTP\", 0.830684], [\"RandomForestGini\", \"AUC\", \"INTP\", 0.913644], [\"RandomForestGini\", \"AUC\", \"INFJ\", 0.881464], [\"RandomForestGini\", \"AUC\", \"ESTJ\", 0.639246], [\"RandomForestGini\", \"AUC\", \"ENFP\", 0.91941], [\"RandomForestGini\", \"AUC\", \"ISTJ\", 0.866663], [\"RandomForestGini\", \"AUC\", \"ENTJ\", 0.878111], [\"RandomForestGini\", \"AUC\", \"INFP\", 0.907628], [\"RandomForestGini\", \"AUC\", \"ISTP\", 0.929867], [\"RandomForestGini\", \"AUC\", \"ESFJ\", 0.739204], [\"RandomForestGini\", \"AUC\", \"ENFJ\", 0.853209], [\"RandomForestEntr\", \"PRE\", \"ENTP\", 0.756757], [\"RandomForestEntr\", \"PRE\", \"ESFP\", 0.0], [\"RandomForestEntr\", \"PRE\", \"ISFJ\", 0.0], [\"RandomForestEntr\", \"PRE\", \"INTJ\", 0.669192], [\"RandomForestEntr\", \"PRE\", \"ISFP\", 0.0], [\"RandomForestEntr\", \"PRE\", \"ESTP\", 0.0], [\"RandomForestEntr\", \"PRE\", \"INTP\", 0.533499], [\"RandomForestEntr\", \"PRE\", \"INFJ\", 0.528916], [\"RandomForestEntr\", \"PRE\", \"ESTJ\", 0.0], [\"RandomForestEntr\", \"PRE\", \"ENFP\", 0.815385], [\"RandomForestEntr\", \"PRE\", \"ISTJ\", 0.0], [\"RandomForestEntr\", \"PRE\", \"ENTJ\", 0.0], [\"RandomForestEntr\", \"PRE\", \"INFP\", 0.390639], [\"RandomForestEntr\", \"PRE\", \"ISTP\", 0.0], [\"RandomForestEntr\", \"PRE\", \"ESFJ\", 0.0], [\"RandomForestEntr\", \"PRE\", \"ENFJ\", 0.0], [\"RandomForestEntr\", \"REC\", \"ENTP\", 0.163743], [\"RandomForestEntr\", \"REC\", \"ESFP\", 0.0], [\"RandomForestEntr\", \"REC\", \"ISFJ\", 0.0], [\"RandomForestEntr\", \"REC\", \"INTJ\", 0.485348], [\"RandomForestEntr\", \"REC\", \"ISFP\", 0.0], [\"RandomForestEntr\", \"REC\", \"ESTP\", 0.0], [\"RandomForestEntr\", \"REC\", \"INTP\", 0.659509], [\"RandomForestEntr\", \"REC\", \"INFJ\", 0.597279], [\"RandomForestEntr\", \"REC\", \"ESTJ\", 0.0], [\"RandomForestEntr\", \"REC\", \"ENFP\", 0.15727], [\"RandomForestEntr\", \"REC\", \"ISTJ\", 0.0], [\"RandomForestEntr\", \"REC\", \"ENTJ\", 0.0], [\"RandomForestEntr\", \"REC\", \"INFP\", 0.920306], [\"RandomForestEntr\", \"REC\", \"ISTP\", 0.0], [\"RandomForestEntr\", \"REC\", \"ESFJ\", 0.0], [\"RandomForestEntr\", \"REC\", \"ENFJ\", 0.0], [\"RandomForestEntr\", \"F1\", \"ENTP\", 0.269231], [\"RandomForestEntr\", \"F1\", \"ESFP\", 0.0], [\"RandomForestEntr\", \"F1\", \"ISFJ\", 0.0], [\"RandomForestEntr\", \"F1\", \"INTJ\", 0.562633], [\"RandomForestEntr\", \"F1\", \"ISFP\", 0.0], [\"RandomForestEntr\", \"F1\", \"ESTP\", 0.0], [\"RandomForestEntr\", \"F1\", \"INTP\", 0.589849], [\"RandomForestEntr\", \"F1\", \"INFJ\", 0.561022], [\"RandomForestEntr\", \"F1\", \"ESTJ\", 0.0], [\"RandomForestEntr\", \"F1\", \"ENFP\", 0.263682], [\"RandomForestEntr\", \"F1\", \"ISTJ\", 0.0], [\"RandomForestEntr\", \"F1\", \"ENTJ\", 0.0], [\"RandomForestEntr\", \"F1\", \"INFP\", 0.548471], [\"RandomForestEntr\", \"F1\", \"ISTP\", 0.0], [\"RandomForestEntr\", \"F1\", \"ESFJ\", 0.0], [\"RandomForestEntr\", \"F1\", \"ENFJ\", 0.0], [\"RandomForestEntr\", \"AUC\", \"ENTP\", 0.899793], [\"RandomForestEntr\", \"AUC\", \"ESFP\", 0.723172], [\"RandomForestEntr\", \"AUC\", \"ISFJ\", 0.901922], [\"RandomForestEntr\", \"AUC\", \"INTJ\", 0.890145], [\"RandomForestEntr\", \"AUC\", \"ISFP\", 0.885365], [\"RandomForestEntr\", \"AUC\", \"ESTP\", 0.78749], [\"RandomForestEntr\", \"AUC\", \"INTP\", 0.897855], [\"RandomForestEntr\", \"AUC\", \"INFJ\", 0.86118], [\"RandomForestEntr\", \"AUC\", \"ESTJ\", 0.67606], [\"RandomForestEntr\", \"AUC\", \"ENFP\", 0.90412], [\"RandomForestEntr\", \"AUC\", \"ISTJ\", 0.846718], [\"RandomForestEntr\", \"AUC\", \"ENTJ\", 0.83681], [\"RandomForestEntr\", \"AUC\", \"INFP\", 0.895527], [\"RandomForestEntr\", \"AUC\", \"ISTP\", 0.906849], [\"RandomForestEntr\", \"AUC\", \"ESFJ\", 0.801481], [\"RandomForestEntr\", \"AUC\", \"ENFJ\", 0.833415], [\"CatBoost\", \"PRE\", \"ENTP\", 0.650794], [\"CatBoost\", \"PRE\", \"ESFP\", 0.0], [\"CatBoost\", \"PRE\", \"ISFJ\", 0.853659], [\"CatBoost\", \"PRE\", \"INTJ\", 0.674658], [\"CatBoost\", \"PRE\", \"ISFP\", 0.786885], [\"CatBoost\", \"PRE\", \"ESTP\", 0.692308], [\"CatBoost\", \"PRE\", \"INTP\", 0.630273], [\"CatBoost\", \"PRE\", \"INFJ\", 0.673885], [\"CatBoost\", \"PRE\", \"ESTJ\", 0.0], [\"CatBoost\", \"PRE\", \"ENFP\", 0.697279], [\"CatBoost\", \"PRE\", \"ISTJ\", 0.634146], [\"CatBoost\", \"PRE\", \"ENTJ\", 0.803571], [\"CatBoost\", \"PRE\", \"INFP\", 0.640719], [\"CatBoost\", \"PRE\", \"ISTP\", 0.774194], [\"CatBoost\", \"PRE\", \"ESFJ\", 0.0], [\"CatBoost\", \"PRE\", \"ENFJ\", 0.756757], [\"CatBoost\", \"REC\", \"ENTP\", 0.599415], [\"CatBoost\", \"REC\", \"ESFP\", 0.0], [\"CatBoost\", \"REC\", \"ISFJ\", 0.421687], [\"CatBoost\", \"REC\", \"INTJ\", 0.721612], [\"CatBoost\", \"REC\", \"ISFP\", 0.355556], [\"CatBoost\", \"REC\", \"ESTP\", 0.204545], [\"CatBoost\", \"REC\", \"INTP\", 0.779141], [\"CatBoost\", \"REC\", \"INFJ\", 0.719728], [\"CatBoost\", \"REC\", \"ESTJ\", 0.0], [\"CatBoost\", \"REC\", \"ENFP\", 0.608309], [\"CatBoost\", \"REC\", \"ISTJ\", 0.252427], [\"CatBoost\", \"REC\", \"ENTJ\", 0.387931], [\"CatBoost\", \"REC\", \"INFP\", 0.817686], [\"CatBoost\", \"REC\", \"ISTP\", 0.571429], [\"CatBoost\", \"REC\", \"ESFJ\", 0.0], [\"CatBoost\", \"REC\", \"ENFJ\", 0.294737], [\"CatBoost\", \"F1\", \"ENTP\", 0.624049], [\"CatBoost\", \"F1\", \"ESFP\", 0.0], [\"CatBoost\", \"F1\", \"ISFJ\", 0.564516], [\"CatBoost\", \"F1\", \"INTJ\", 0.697345], [\"CatBoost\", \"F1\", \"ISFP\", 0.489796], [\"CatBoost\", \"F1\", \"ESTP\", 0.315789], [\"CatBoost\", \"F1\", \"INTP\", 0.696845], [\"CatBoost\", \"F1\", \"INFJ\", 0.696053], [\"CatBoost\", \"F1\", \"ESTJ\", 0.0], [\"CatBoost\", \"F1\", \"ENFP\", 0.649762], [\"CatBoost\", \"F1\", \"ISTJ\", 0.361111], [\"CatBoost\", \"F1\", \"ENTJ\", 0.523256], [\"CatBoost\", \"F1\", \"INFP\", 0.718465], [\"CatBoost\", \"F1\", \"ISTP\", 0.657534], [\"CatBoost\", \"F1\", \"ESFJ\", 0.0], [\"CatBoost\", \"F1\", \"ENFJ\", 0.424242], [\"CatBoost\", \"AUC\", \"ENTP\", 0.934383], [\"CatBoost\", \"AUC\", \"ESFP\", 0.797328], [\"CatBoost\", \"AUC\", \"ISFJ\", 0.953212], [\"CatBoost\", \"AUC\", \"INTJ\", 0.92161], [\"CatBoost\", \"AUC\", \"ISFP\", 0.942549], [\"CatBoost\", \"AUC\", \"ESTP\", 0.911198], [\"CatBoost\", \"AUC\", \"INTP\", 0.926161], [\"CatBoost\", \"AUC\", \"INFJ\", 0.912927], [\"CatBoost\", \"AUC\", \"ESTJ\", 0.755965], [\"CatBoost\", \"AUC\", \"ENFP\", 0.933796], [\"CatBoost\", \"AUC\", \"ISTJ\", 0.930168], [\"CatBoost\", \"AUC\", \"ENTJ\", 0.922299], [\"CatBoost\", \"AUC\", \"INFP\", 0.927736], [\"CatBoost\", \"AUC\", \"ISTP\", 0.953465], [\"CatBoost\", \"AUC\", \"ESFJ\", 0.771868], [\"CatBoost\", \"AUC\", \"ENFJ\", 0.914452], [\"ExtraTreesGini\", \"PRE\", \"ENTP\", 0.9375], [\"ExtraTreesGini\", \"PRE\", \"ESFP\", 0.0], [\"ExtraTreesGini\", \"PRE\", \"ISFJ\", 0.0], [\"ExtraTreesGini\", \"PRE\", \"INTJ\", 0.702614], [\"ExtraTreesGini\", \"PRE\", \"ISFP\", 0.0], [\"ExtraTreesGini\", \"PRE\", \"ESTP\", 0.0], [\"ExtraTreesGini\", \"PRE\", \"INTP\", 0.552786], [\"ExtraTreesGini\", \"PRE\", \"INFJ\", 0.529936], [\"ExtraTreesGini\", \"PRE\", \"ESTJ\", 0.0], [\"ExtraTreesGini\", \"PRE\", \"ENFP\", 0.884615], [\"ExtraTreesGini\", \"PRE\", \"ISTJ\", 0.0], [\"ExtraTreesGini\", \"PRE\", \"ENTJ\", 0.0], [\"ExtraTreesGini\", \"PRE\", \"INFP\", 0.350041], [\"ExtraTreesGini\", \"PRE\", \"ISTP\", 0.0], [\"ExtraTreesGini\", \"PRE\", \"ESFJ\", 0.0], [\"ExtraTreesGini\", \"PRE\", \"ENFJ\", 0.0], [\"ExtraTreesGini\", \"REC\", \"ENTP\", 0.131579], [\"ExtraTreesGini\", \"REC\", \"ESFP\", 0.0], [\"ExtraTreesGini\", \"REC\", \"ISFJ\", 0.0], [\"ExtraTreesGini\", \"REC\", \"INTJ\", 0.393773], [\"ExtraTreesGini\", \"REC\", \"ISFP\", 0.0], [\"ExtraTreesGini\", \"REC\", \"ESTP\", 0.0], [\"ExtraTreesGini\", \"REC\", \"INTP\", 0.578221], [\"ExtraTreesGini\", \"REC\", \"INFJ\", 0.565986], [\"ExtraTreesGini\", \"REC\", \"ESTJ\", 0.0], [\"ExtraTreesGini\", \"REC\", \"ENFP\", 0.136499], [\"ExtraTreesGini\", \"REC\", \"ISTJ\", 0.0], [\"ExtraTreesGini\", \"REC\", \"ENTJ\", 0.0], [\"ExtraTreesGini\", \"REC\", \"INFP\", 0.937773], [\"ExtraTreesGini\", \"REC\", \"ISTP\", 0.0], [\"ExtraTreesGini\", \"REC\", \"ESFJ\", 0.0], [\"ExtraTreesGini\", \"REC\", \"ENFJ\", 0.0], [\"ExtraTreesGini\", \"F1\", \"ENTP\", 0.230769], [\"ExtraTreesGini\", \"F1\", \"ESFP\", 0.0], [\"ExtraTreesGini\", \"F1\", \"ISFJ\", 0.0], [\"ExtraTreesGini\", \"F1\", \"INTJ\", 0.504695], [\"ExtraTreesGini\", \"F1\", \"ISFP\", 0.0], [\"ExtraTreesGini\", \"F1\", \"ESTP\", 0.0], [\"ExtraTreesGini\", \"F1\", \"INTP\", 0.565217], [\"ExtraTreesGini\", \"F1\", \"INFJ\", 0.547368], [\"ExtraTreesGini\", \"F1\", \"ESTJ\", 0.0], [\"ExtraTreesGini\", \"F1\", \"ENFP\", 0.236504], [\"ExtraTreesGini\", \"F1\", \"ISTJ\", 0.0], [\"ExtraTreesGini\", \"F1\", \"ENTJ\", 0.0], [\"ExtraTreesGini\", \"F1\", \"INFP\", 0.509792], [\"ExtraTreesGini\", \"F1\", \"ISTP\", 0.0], [\"ExtraTreesGini\", \"F1\", \"ESFJ\", 0.0], [\"ExtraTreesGini\", \"F1\", \"ENFJ\", 0.0], [\"ExtraTreesGini\", \"AUC\", \"ENTP\", 0.884862], [\"ExtraTreesGini\", \"AUC\", \"ESFP\", 0.712608], [\"ExtraTreesGini\", \"AUC\", \"ISFJ\", 0.853173], [\"ExtraTreesGini\", \"AUC\", \"INTJ\", 0.868802], [\"ExtraTreesGini\", \"AUC\", \"ISFP\", 0.849125], [\"ExtraTreesGini\", \"AUC\", \"ESTP\", 0.747181], [\"ExtraTreesGini\", \"AUC\", \"INTP\", 0.888144], [\"ExtraTreesGini\", \"AUC\", \"INFJ\", 0.843414], [\"ExtraTreesGini\", \"AUC\", \"ESTJ\", 0.588366], [\"ExtraTreesGini\", \"AUC\", \"ENFP\", 0.894989], [\"ExtraTreesGini\", \"AUC\", \"ISTJ\", 0.826318], [\"ExtraTreesGini\", \"AUC\", \"ENTJ\", 0.839845], [\"ExtraTreesGini\", \"AUC\", \"INFP\", 0.893498], [\"ExtraTreesGini\", \"AUC\", \"ISTP\", 0.890201], [\"ExtraTreesGini\", \"AUC\", \"ESFJ\", 0.649852], [\"ExtraTreesGini\", \"AUC\", \"ENFJ\", 0.806546], [\"ExtraTreesEntr\", \"PRE\", \"ENTP\", 0.9], [\"ExtraTreesEntr\", \"PRE\", \"ESFP\", 0.0], [\"ExtraTreesEntr\", \"PRE\", \"ISFJ\", 0.0], [\"ExtraTreesEntr\", \"PRE\", \"INTJ\", 0.682171], [\"ExtraTreesEntr\", \"PRE\", \"ISFP\", 0.0], [\"ExtraTreesEntr\", \"PRE\", \"ESTP\", 0.0], [\"ExtraTreesEntr\", \"PRE\", \"INTP\", 0.505263], [\"ExtraTreesEntr\", \"PRE\", \"INFJ\", 0.48056], [\"ExtraTreesEntr\", \"PRE\", \"ESTJ\", 0.0], [\"ExtraTreesEntr\", \"PRE\", \"ENFP\", 1.0], [\"ExtraTreesEntr\", \"PRE\", \"ISTJ\", 0.0], [\"ExtraTreesEntr\", \"PRE\", \"ENTJ\", 0.0], [\"ExtraTreesEntr\", \"PRE\", \"INFP\", 0.28241], [\"ExtraTreesEntr\", \"PRE\", \"ISTP\", 0.0], [\"ExtraTreesEntr\", \"PRE\", \"ESFJ\", 0.0], [\"ExtraTreesEntr\", \"PRE\", \"ENFJ\", 0.0], [\"ExtraTreesEntr\", \"REC\", \"ENTP\", 0.026316], [\"ExtraTreesEntr\", \"REC\", \"ESFP\", 0.0], [\"ExtraTreesEntr\", \"REC\", \"ISFJ\", 0.0], [\"ExtraTreesEntr\", \"REC\", \"INTJ\", 0.161172], [\"ExtraTreesEntr\", \"REC\", \"ISFP\", 0.0], [\"ExtraTreesEntr\", \"REC\", \"ESTP\", 0.0], [\"ExtraTreesEntr\", \"REC\", \"INTP\", 0.368098], [\"ExtraTreesEntr\", \"REC\", \"INFJ\", 0.420408], [\"ExtraTreesEntr\", \"REC\", \"ESTJ\", 0.0], [\"ExtraTreesEntr\", \"REC\", \"ENFP\", 0.005935], [\"ExtraTreesEntr\", \"REC\", \"ISTJ\", 0.0], [\"ExtraTreesEntr\", \"REC\", \"ENTJ\", 0.0], [\"ExtraTreesEntr\", \"REC\", \"INFP\", 0.946507], [\"ExtraTreesEntr\", \"REC\", \"ISTP\", 0.0], [\"ExtraTreesEntr\", \"REC\", \"ESFJ\", 0.0], [\"ExtraTreesEntr\", \"REC\", \"ENFJ\", 0.0], [\"ExtraTreesEntr\", \"F1\", \"ENTP\", 0.051136], [\"ExtraTreesEntr\", \"F1\", \"ESFP\", 0.0], [\"ExtraTreesEntr\", \"F1\", \"ISFJ\", 0.0], [\"ExtraTreesEntr\", \"F1\", \"INTJ\", 0.260741], [\"ExtraTreesEntr\", \"F1\", \"ISFP\", 0.0], [\"ExtraTreesEntr\", \"F1\", \"ESTP\", 0.0], [\"ExtraTreesEntr\", \"F1\", \"INTP\", 0.425909], [\"ExtraTreesEntr\", \"F1\", \"INFJ\", 0.448476], [\"ExtraTreesEntr\", \"F1\", \"ESTJ\", 0.0], [\"ExtraTreesEntr\", \"F1\", \"ENFP\", 0.011799], [\"ExtraTreesEntr\", \"F1\", \"ISTJ\", 0.0], [\"ExtraTreesEntr\", \"F1\", \"ENTJ\", 0.0], [\"ExtraTreesEntr\", \"F1\", \"INFP\", 0.435023], [\"ExtraTreesEntr\", \"F1\", \"ISTP\", 0.0], [\"ExtraTreesEntr\", \"F1\", \"ESFJ\", 0.0], [\"ExtraTreesEntr\", \"F1\", \"ENFJ\", 0.0], [\"ExtraTreesEntr\", \"AUC\", \"ENTP\", 0.83193], [\"ExtraTreesEntr\", \"AUC\", \"ESFP\", 0.685336], [\"ExtraTreesEntr\", \"AUC\", \"ISFJ\", 0.835184], [\"ExtraTreesEntr\", \"AUC\", \"INTJ\", 0.824491], [\"ExtraTreesEntr\", \"AUC\", \"ISFP\", 0.786498], [\"ExtraTreesEntr\", \"AUC\", \"ESTP\", 0.751869], [\"ExtraTreesEntr\", \"AUC\", \"INTP\", 0.832997], [\"ExtraTreesEntr\", \"AUC\", \"INFJ\", 0.806629], [\"ExtraTreesEntr\", \"AUC\", \"ESTJ\", 0.687225], [\"ExtraTreesEntr\", \"AUC\", \"ENFP\", 0.865213], [\"ExtraTreesEntr\", \"AUC\", \"ISTJ\", 0.753098], [\"ExtraTreesEntr\", \"AUC\", \"ENTJ\", 0.815641], [\"ExtraTreesEntr\", \"AUC\", \"INFP\", 0.833457], [\"ExtraTreesEntr\", \"AUC\", \"ISTP\", 0.855596], [\"ExtraTreesEntr\", \"AUC\", \"ESFJ\", 0.648611], [\"ExtraTreesEntr\", \"AUC\", \"ENFJ\", 0.765582], [\"XGBoost\", \"PRE\", \"ENTP\", 0.639394], [\"XGBoost\", \"PRE\", \"ESFP\", 0.0], [\"XGBoost\", \"PRE\", \"ISFJ\", 0.8], [\"XGBoost\", \"PRE\", \"INTJ\", 0.674576], [\"XGBoost\", \"PRE\", \"ISFP\", 0.682927], [\"XGBoost\", \"PRE\", \"ESTP\", 0.541667], [\"XGBoost\", \"PRE\", \"INTP\", 0.648755], [\"XGBoost\", \"PRE\", \"INFJ\", 0.674476], [\"XGBoost\", \"PRE\", \"ESTJ\", 1.0], [\"XGBoost\", \"PRE\", \"ENFP\", 0.712871], [\"XGBoost\", \"PRE\", \"ISTJ\", 0.738462], [\"XGBoost\", \"PRE\", \"ENTJ\", 0.666667], [\"XGBoost\", \"PRE\", \"INFP\", 0.697719], [\"XGBoost\", \"PRE\", \"ISTP\", 0.764706], [\"XGBoost\", \"PRE\", \"ESFJ\", 0.333333], [\"XGBoost\", \"PRE\", \"ENFJ\", 0.637931], [\"XGBoost\", \"REC\", \"ENTP\", 0.616959], [\"XGBoost\", \"REC\", \"ESFP\", 0.0], [\"XGBoost\", \"REC\", \"ISFJ\", 0.53012], [\"XGBoost\", \"REC\", \"INTJ\", 0.728938], [\"XGBoost\", \"REC\", \"ISFP\", 0.414815], [\"XGBoost\", \"REC\", \"ESTP\", 0.295455], [\"XGBoost\", \"REC\", \"INTP\", 0.759202], [\"XGBoost\", \"REC\", \"INFJ\", 0.744218], [\"XGBoost\", \"REC\", \"ESTJ\", 0.2], [\"XGBoost\", \"REC\", \"ENFP\", 0.64095], [\"XGBoost\", \"REC\", \"ISTJ\", 0.466019], [\"XGBoost\", \"REC\", \"ENTJ\", 0.344828], [\"XGBoost\", \"REC\", \"INFP\", 0.80131], [\"XGBoost\", \"REC\", \"ISTP\", 0.619048], [\"XGBoost\", \"REC\", \"ESFJ\", 0.047619], [\"XGBoost\", \"REC\", \"ENFJ\", 0.389474], [\"XGBoost\", \"F1\", \"ENTP\", 0.627976], [\"XGBoost\", \"F1\", \"ESFP\", 0.0], [\"XGBoost\", \"F1\", \"ISFJ\", 0.637681], [\"XGBoost\", \"F1\", \"INTJ\", 0.700704], [\"XGBoost\", \"F1\", \"ISFP\", 0.516129], [\"XGBoost\", \"F1\", \"ESTP\", 0.382353], [\"XGBoost\", \"F1\", \"INTP\", 0.699647], [\"XGBoost\", \"F1\", \"INFJ\", 0.707633], [\"XGBoost\", \"F1\", \"ESTJ\", 0.333333], [\"XGBoost\", \"F1\", \"ENFP\", 0.675], [\"XGBoost\", \"F1\", \"ISTJ\", 0.571429], [\"XGBoost\", \"F1\", \"ENTJ\", 0.454545], [\"XGBoost\", \"F1\", \"INFP\", 0.745935], [\"XGBoost\", \"F1\", \"ISTP\", 0.684211], [\"XGBoost\", \"F1\", \"ESFJ\", 0.083333], [\"XGBoost\", \"F1\", \"ENFJ\", 0.48366], [\"XGBoost\", \"AUC\", \"ENTP\", 0.933141], [\"XGBoost\", \"AUC\", \"ESFP\", 0.810012], [\"XGBoost\", \"AUC\", \"ISFJ\", 0.964833], [\"XGBoost\", \"AUC\", \"INTJ\", 0.927217], [\"XGBoost\", \"AUC\", \"ISFP\", 0.938581], [\"XGBoost\", \"AUC\", \"ESTP\", 0.921659], [\"XGBoost\", \"AUC\", \"INTP\", 0.92687], [\"XGBoost\", \"AUC\", \"INFJ\", 0.91862], [\"XGBoost\", \"AUC\", \"ESTJ\", 0.826685], [\"XGBoost\", \"AUC\", \"ENFP\", 0.936653], [\"XGBoost\", \"AUC\", \"ISTJ\", 0.950915], [\"XGBoost\", \"AUC\", \"ENTJ\", 0.92493], [\"XGBoost\", \"AUC\", \"INFP\", 0.933588], [\"XGBoost\", \"AUC\", \"ISTP\", 0.948736], [\"XGBoost\", \"AUC\", \"ESFJ\", 0.827022], [\"XGBoost\", \"AUC\", \"ENFJ\", 0.929229], [\"NeuralNetTorch\", \"PRE\", \"ENTP\", 0.0], [\"NeuralNetTorch\", \"PRE\", \"ESFP\", 0.0], [\"NeuralNetTorch\", \"PRE\", \"ISFJ\", 0.0], [\"NeuralNetTorch\", \"PRE\", \"INTJ\", 0.14], [\"NeuralNetTorch\", \"PRE\", \"ISFP\", 0.0], [\"NeuralNetTorch\", \"PRE\", \"ESTP\", 0.0], [\"NeuralNetTorch\", \"PRE\", \"INTP\", 0.232824], [\"NeuralNetTorch\", \"PRE\", \"INFJ\", 0.177419], [\"NeuralNetTorch\", \"PRE\", \"ESTJ\", 0.0], [\"NeuralNetTorch\", \"PRE\", \"ENFP\", 0.266667], [\"NeuralNetTorch\", \"PRE\", \"ISTJ\", 0.0], [\"NeuralNetTorch\", \"PRE\", \"ENTJ\", 0.0], [\"NeuralNetTorch\", \"PRE\", \"INFP\", 0.231042], [\"NeuralNetTorch\", \"PRE\", \"ISTP\", 0.0], [\"NeuralNetTorch\", \"PRE\", \"ESFJ\", 0.0], [\"NeuralNetTorch\", \"PRE\", \"ENFJ\", 0.0], [\"NeuralNetTorch\", \"REC\", \"ENTP\", 0.0], [\"NeuralNetTorch\", \"REC\", \"ESFP\", 0.0], [\"NeuralNetTorch\", \"REC\", \"ISFJ\", 0.0], [\"NeuralNetTorch\", \"REC\", \"INTJ\", 0.012821], [\"NeuralNetTorch\", \"REC\", \"ISFP\", 0.0], [\"NeuralNetTorch\", \"REC\", \"ESTP\", 0.0], [\"NeuralNetTorch\", \"REC\", \"INTP\", 0.374233], [\"NeuralNetTorch\", \"REC\", \"INFJ\", 0.014966], [\"NeuralNetTorch\", \"REC\", \"ESTJ\", 0.0], [\"NeuralNetTorch\", \"REC\", \"ENFP\", 0.059347], [\"NeuralNetTorch\", \"REC\", \"ISTJ\", 0.0], [\"NeuralNetTorch\", \"REC\", \"ENTJ\", 0.0], [\"NeuralNetTorch\", \"REC\", \"INFP\", 0.781659], [\"NeuralNetTorch\", \"REC\", \"ISTP\", 0.0], [\"NeuralNetTorch\", \"REC\", \"ESFJ\", 0.0], [\"NeuralNetTorch\", \"REC\", \"ENFJ\", 0.0], [\"NeuralNetTorch\", \"F1\", \"ENTP\", 0.0], [\"NeuralNetTorch\", \"F1\", \"ESFP\", 0.0], [\"NeuralNetTorch\", \"F1\", \"ISFJ\", 0.0], [\"NeuralNetTorch\", \"F1\", \"INTJ\", 0.02349], [\"NeuralNetTorch\", \"F1\", \"ISFP\", 0.0], [\"NeuralNetTorch\", \"F1\", \"ESTP\", 0.0], [\"NeuralNetTorch\", \"F1\", \"INTP\", 0.287059], [\"NeuralNetTorch\", \"F1\", \"INFJ\", 0.027604], [\"NeuralNetTorch\", \"F1\", \"ESTJ\", 0.0], [\"NeuralNetTorch\", \"F1\", \"ENFP\", 0.097087], [\"NeuralNetTorch\", \"F1\", \"ISTJ\", 0.0], [\"NeuralNetTorch\", \"F1\", \"ENTJ\", 0.0], [\"NeuralNetTorch\", \"F1\", \"INFP\", 0.356663], [\"NeuralNetTorch\", \"F1\", \"ISTP\", 0.0], [\"NeuralNetTorch\", \"F1\", \"ESFJ\", 0.0], [\"NeuralNetTorch\", \"F1\", \"ENFJ\", 0.0], [\"NeuralNetTorch\", \"AUC\", \"ENTP\", 0.552643], [\"NeuralNetTorch\", \"AUC\", \"ESFP\", 0.673294], [\"NeuralNetTorch\", \"AUC\", \"ISFJ\", 0.608836], [\"NeuralNetTorch\", \"AUC\", \"INTJ\", 0.63713], [\"NeuralNetTorch\", \"AUC\", \"ISFP\", 0.615361], [\"NeuralNetTorch\", \"AUC\", \"ESTP\", 0.558293], [\"NeuralNetTorch\", \"AUC\", \"INTP\", 0.662608], [\"NeuralNetTorch\", \"AUC\", \"INFJ\", 0.576222], [\"NeuralNetTorch\", \"AUC\", \"ESTJ\", 0.58565], [\"NeuralNetTorch\", \"AUC\", \"ENFP\", 0.711536], [\"NeuralNetTorch\", \"AUC\", \"ISTJ\", 0.524581], [\"NeuralNetTorch\", \"AUC\", \"ENTJ\", 0.593094], [\"NeuralNetTorch\", \"AUC\", \"INFP\", 0.589889], [\"NeuralNetTorch\", \"AUC\", \"ISTP\", 0.639832], [\"NeuralNetTorch\", \"AUC\", \"ESFJ\", 0.667604], [\"NeuralNetTorch\", \"AUC\", \"ENFJ\", 0.607901], [\"LightGBMLarge\", \"PRE\", \"ENTP\", 0.64939], [\"LightGBMLarge\", \"PRE\", \"ESFP\", 0.0], [\"LightGBMLarge\", \"PRE\", \"ISFJ\", 0.701493], [\"LightGBMLarge\", \"PRE\", \"INTJ\", 0.681338], [\"LightGBMLarge\", \"PRE\", \"ISFP\", 0.694118], [\"LightGBMLarge\", \"PRE\", \"ESTP\", 0.521739], [\"LightGBMLarge\", \"PRE\", \"INTP\", 0.654155], [\"LightGBMLarge\", \"PRE\", \"INFJ\", 0.686375], [\"LightGBMLarge\", \"PRE\", \"ESTJ\", 0.5], [\"LightGBMLarge\", \"PRE\", \"ENFP\", 0.668731], [\"LightGBMLarge\", \"PRE\", \"ISTJ\", 0.647887], [\"LightGBMLarge\", \"PRE\", \"ENTJ\", 0.648649], [\"LightGBMLarge\", \"PRE\", \"INFP\", 0.692966], [\"LightGBMLarge\", \"PRE\", \"ISTP\", 0.729167], [\"LightGBMLarge\", \"PRE\", \"ESFJ\", 0.4], [\"LightGBMLarge\", \"PRE\", \"ENFJ\", 0.637931], [\"LightGBMLarge\", \"REC\", \"ENTP\", 0.622807], [\"LightGBMLarge\", \"REC\", \"ESFP\", 0.0], [\"LightGBMLarge\", \"REC\", \"ISFJ\", 0.566265], [\"LightGBMLarge\", \"REC\", \"INTJ\", 0.708791], [\"LightGBMLarge\", \"REC\", \"ISFP\", 0.437037], [\"LightGBMLarge\", \"REC\", \"ESTP\", 0.272727], [\"LightGBMLarge\", \"REC\", \"INTP\", 0.748466], [\"LightGBMLarge\", \"REC\", \"INFJ\", 0.726531], [\"LightGBMLarge\", \"REC\", \"ESTJ\", 0.2], [\"LightGBMLarge\", \"REC\", \"ENFP\", 0.64095], [\"LightGBMLarge\", \"REC\", \"ISTJ\", 0.446602], [\"LightGBMLarge\", \"REC\", \"ENTJ\", 0.413793], [\"LightGBMLarge\", \"REC\", \"INFP\", 0.795852], [\"LightGBMLarge\", \"REC\", \"ISTP\", 0.625], [\"LightGBMLarge\", \"REC\", \"ESFJ\", 0.190476], [\"LightGBMLarge\", \"REC\", \"ENFJ\", 0.389474], [\"LightGBMLarge\", \"F1\", \"ENTP\", 0.635821], [\"LightGBMLarge\", \"F1\", \"ESFP\", 0.0], [\"LightGBMLarge\", \"F1\", \"ISFJ\", 0.626667], [\"LightGBMLarge\", \"F1\", \"INTJ\", 0.694794], [\"LightGBMLarge\", \"F1\", \"ISFP\", 0.536364], [\"LightGBMLarge\", \"F1\", \"ESTP\", 0.358209], [\"LightGBMLarge\", \"F1\", \"INTP\", 0.69814], [\"LightGBMLarge\", \"F1\", \"INFJ\", 0.705882], [\"LightGBMLarge\", \"F1\", \"ESTJ\", 0.285714], [\"LightGBMLarge\", \"F1\", \"ENFP\", 0.654545], [\"LightGBMLarge\", \"F1\", \"ISTJ\", 0.528736], [\"LightGBMLarge\", \"F1\", \"ENTJ\", 0.505263], [\"LightGBMLarge\", \"F1\", \"INFP\", 0.740854], [\"LightGBMLarge\", \"F1\", \"ISTP\", 0.673077], [\"LightGBMLarge\", \"F1\", \"ESFJ\", 0.258065], [\"LightGBMLarge\", \"F1\", \"ENFJ\", 0.48366], [\"LightGBMLarge\", \"AUC\", \"ENTP\", 0.927634], [\"LightGBMLarge\", \"AUC\", \"ESFP\", 0.819171], [\"LightGBMLarge\", \"AUC\", \"ISFJ\", 0.955466], [\"LightGBMLarge\", \"AUC\", \"INTJ\", 0.92199], [\"LightGBMLarge\", \"AUC\", \"ISFP\", 0.927301], [\"LightGBMLarge\", \"AUC\", \"ESTP\", 0.909292], [\"LightGBMLarge\", \"AUC\", \"INTP\", 0.921168], [\"LightGBMLarge\", \"AUC\", \"INFJ\", 0.914309], [\"LightGBMLarge\", \"AUC\", \"ESTJ\", 0.829882], [\"LightGBMLarge\", \"AUC\", \"ENFP\", 0.930237], [\"LightGBMLarge\", \"AUC\", \"ISTJ\", 0.936164], [\"LightGBMLarge\", \"AUC\", \"ENTJ\", 0.904407], [\"LightGBMLarge\", \"AUC\", \"INFP\", 0.930019], [\"LightGBMLarge\", \"AUC\", \"ISTP\", 0.939835], [\"LightGBMLarge\", \"AUC\", \"ESFJ\", 0.82166], [\"LightGBMLarge\", \"AUC\", \"ENFJ\", 0.910571], [\"WeightedEnsemble_L2\", \"PRE\", \"ENTP\", 0.664671], [\"WeightedEnsemble_L2\", \"PRE\", \"ESFP\", 0.0], [\"WeightedEnsemble_L2\", \"PRE\", \"ISFJ\", 0.884615], [\"WeightedEnsemble_L2\", \"PRE\", \"INTJ\", 0.680272], [\"WeightedEnsemble_L2\", \"PRE\", \"ISFP\", 0.794118], [\"WeightedEnsemble_L2\", \"PRE\", \"ESTP\", 0.823529], [\"WeightedEnsemble_L2\", \"PRE\", \"INTP\", 0.653997], [\"WeightedEnsemble_L2\", \"PRE\", \"INFJ\", 0.671068], [\"WeightedEnsemble_L2\", \"PRE\", \"ESTJ\", 1.0], [\"WeightedEnsemble_L2\", \"PRE\", \"ENFP\", 0.713333], [\"WeightedEnsemble_L2\", \"PRE\", \"ISTJ\", 0.754386], [\"WeightedEnsemble_L2\", \"PRE\", \"ENTJ\", 0.745763], [\"WeightedEnsemble_L2\", \"PRE\", \"INFP\", 0.688601], [\"WeightedEnsemble_L2\", \"PRE\", \"ISTP\", 0.792308], [\"WeightedEnsemble_L2\", \"PRE\", \"ESFJ\", 0.5], [\"WeightedEnsemble_L2\", \"PRE\", \"ENFJ\", 0.723404], [\"WeightedEnsemble_L2\", \"REC\", \"ENTP\", 0.649123], [\"WeightedEnsemble_L2\", \"REC\", \"ESFP\", 0.0], [\"WeightedEnsemble_L2\", \"REC\", \"ISFJ\", 0.554217], [\"WeightedEnsemble_L2\", \"REC\", \"INTJ\", 0.732601], [\"WeightedEnsemble_L2\", \"REC\", \"ISFP\", 0.4], [\"WeightedEnsemble_L2\", \"REC\", \"ESTP\", 0.318182], [\"WeightedEnsemble_L2\", \"REC\", \"INTP\", 0.765337], [\"WeightedEnsemble_L2\", \"REC\", \"INFJ\", 0.760544], [\"WeightedEnsemble_L2\", \"REC\", \"ESTJ\", 0.15], [\"WeightedEnsemble_L2\", \"REC\", \"ENFP\", 0.635015], [\"WeightedEnsemble_L2\", \"REC\", \"ISTJ\", 0.417476], [\"WeightedEnsemble_L2\", \"REC\", \"ENTJ\", 0.37931], [\"WeightedEnsemble_L2\", \"REC\", \"INFP\", 0.811135], [\"WeightedEnsemble_L2\", \"REC\", \"ISTP\", 0.613095], [\"WeightedEnsemble_L2\", \"REC\", \"ESFJ\", 0.142857], [\"WeightedEnsemble_L2\", \"REC\", \"ENFJ\", 0.357895], [\"WeightedEnsemble_L2\", \"F1\", \"ENTP\", 0.656805], [\"WeightedEnsemble_L2\", \"F1\", \"ESFP\", 0.0], [\"WeightedEnsemble_L2\", \"F1\", \"ISFJ\", 0.681481], [\"WeightedEnsemble_L2\", \"F1\", \"INTJ\", 0.705467], [\"WeightedEnsemble_L2\", \"F1\", \"ISFP\", 0.53202], [\"WeightedEnsemble_L2\", \"F1\", \"ESTP\", 0.459016], [\"WeightedEnsemble_L2\", \"F1\", \"INTP\", 0.7053], [\"WeightedEnsemble_L2\", \"F1\", \"INFJ\", 0.71301], [\"WeightedEnsemble_L2\", \"F1\", \"ESTJ\", 0.26087], [\"WeightedEnsemble_L2\", \"F1\", \"ENFP\", 0.6719], [\"WeightedEnsemble_L2\", \"F1\", \"ISTJ\", 0.5375], [\"WeightedEnsemble_L2\", \"F1\", \"ENTJ\", 0.502857], [\"WeightedEnsemble_L2\", \"F1\", \"INFP\", 0.744862], [\"WeightedEnsemble_L2\", \"F1\", \"ISTP\", 0.691275], [\"WeightedEnsemble_L2\", \"F1\", \"ESFJ\", 0.222222], [\"WeightedEnsemble_L2\", \"F1\", \"ENFJ\", 0.478873], [\"WeightedEnsemble_L2\", \"AUC\", \"ENTP\", 0.938512], [\"WeightedEnsemble_L2\", \"AUC\", \"ESFP\", 0.823798], [\"WeightedEnsemble_L2\", \"AUC\", \"ISFJ\", 0.967248], [\"WeightedEnsemble_L2\", \"AUC\", \"INTJ\", 0.929035], [\"WeightedEnsemble_L2\", \"AUC\", \"ISFP\", 0.944169], [\"WeightedEnsemble_L2\", \"AUC\", \"ESTP\", 0.923004], [\"WeightedEnsemble_L2\", \"AUC\", \"INTP\", 0.929706], [\"WeightedEnsemble_L2\", \"AUC\", \"INFJ\", 0.920754], [\"WeightedEnsemble_L2\", \"AUC\", \"ESTJ\", 0.840781], [\"WeightedEnsemble_L2\", \"AUC\", \"ENFP\", 0.937849], [\"WeightedEnsemble_L2\", \"AUC\", \"ISTJ\", 0.954219], [\"WeightedEnsemble_L2\", \"AUC\", \"ENTJ\", 0.927162], [\"WeightedEnsemble_L2\", \"AUC\", \"INFP\", 0.93499], [\"WeightedEnsemble_L2\", \"AUC\", \"ISTP\", 0.95229], [\"WeightedEnsemble_L2\", \"AUC\", \"ESFJ\", 0.822444], [\"WeightedEnsemble_L2\", \"AUC\", \"ENFJ\", 0.939388]];\n",
       "\n",
       "    // Define the dt_args\n",
       "    let dt_args = {\"order\": []};\n",
       "    dt_args[\"data\"] = data;\n",
       "\n",
       "    $(document).ready(function () {\n",
       "        \n",
       "        $('#809ba503-942a-4d41-8465-602b2564db29').DataTable(dt_args);\n",
       "    });\n",
       "</script>\n",
       "</div>\n"
      ],
      "text/plain": [
       "<IPython.core.display.HTML object>"
      ]
     },
     "metadata": {},
     "output_type": "display_data"
    }
   ],
   "source": [
    "itables.show(pd.read_csv(\"실험결과/실험1/시나리오2.csv\").rename({'Unnamed: 0':'Method','Unnamed: 1':'Metrics'},axis=1).set_index(['Method','Metrics']).stack().reset_index().set_axis(['Method','Metrics','MBTIType','Value'],axis=1))"
   ]
  },
  {
   "cell_type": "markdown",
   "id": "b002f20d-7d6d-4cd1-8583-094c41becbc3",
   "metadata": {
    "tags": []
   },
   "source": [
    "## Experiment1"
   ]
  },
  {
   "cell_type": "markdown",
   "id": "9c3b1fad-3836-47ee-bb13-781820a6e2a3",
   "metadata": {},
   "source": [
    "All experiment results are summarized below."
   ]
  },
  {
   "cell_type": "markdown",
   "id": "60f285c7-80ae-4e45-8e51-46068dbec489",
   "metadata": {},
   "source": [
    "- <https://simjaein.github.io/1227_results/results.html>"
   ]
  },
  {
   "cell_type": "markdown",
   "id": "298d4f82-7d7b-4ed4-bd01-42fa29d19bf2",
   "metadata": {
    "tags": []
   },
   "source": [
    "## Experiment1"
   ]
  },
  {
   "cell_type": "code",
   "execution_count": 8,
   "id": "487cdcd6-101d-4568-a85b-50e7d51512e8",
   "metadata": {
    "tags": []
   },
   "outputs": [
    {
     "data": {
      "text/html": [
       "<div>                            <div id=\"cdd0b280-62de-49a0-afaf-50a0ffc9b790\" class=\"plotly-graph-div\" style=\"height:600px; width:1050px;\"></div>            <script type=\"text/javascript\">                require([\"plotly\"], function(Plotly) {                    window.PLOTLYENV=window.PLOTLYENV || {};                                    if (document.getElementById(\"cdd0b280-62de-49a0-afaf-50a0ffc9b790\")) {                    Plotly.newPlot(                        \"cdd0b280-62de-49a0-afaf-50a0ffc9b790\",                        [{\"alignmentgroup\":\"True\",\"hovertemplate\":\"\\uc2dc\\ub098\\ub9ac\\uc624=Kaggle\\u003cbr\\u003eMethod=LightGBMXT\\u003cbr\\u003eType=%{x}\\u003cbr\\u003eValue=%{text}\\u003cextra\\u003e\\u003c\\u002fextra\\u003e\",\"legendgroup\":\"Kaggle\",\"marker\":{\"color\":\"#636efa\",\"pattern\":{\"shape\":\"\"}},\"name\":\"Kaggle\",\"offsetgroup\":\"Kaggle\",\"orientation\":\"v\",\"showlegend\":true,\"text\":[0.767,0.9,0.832,0.747],\"textposition\":\"auto\",\"x\":[\"ESFP\",\"ESTP\",\"ESTJ\",\"ESFJ\"],\"xaxis\":\"x\",\"y\":[0.767,0.9,0.832,0.747],\"yaxis\":\"y\",\"type\":\"bar\"},{\"alignmentgroup\":\"True\",\"hovertemplate\":\"\\uc2dc\\ub098\\ub9ac\\uc624=Kaggle\\u003cbr\\u003eMethod=LightGBM\\u003cbr\\u003eType=%{x}\\u003cbr\\u003eValue=%{text}\\u003cextra\\u003e\\u003c\\u002fextra\\u003e\",\"legendgroup\":\"Kaggle\",\"marker\":{\"color\":\"#636efa\",\"pattern\":{\"shape\":\"\"}},\"name\":\"Kaggle\",\"offsetgroup\":\"Kaggle\",\"orientation\":\"v\",\"showlegend\":false,\"text\":[0.821,0.913,0.801,0.78],\"textposition\":\"auto\",\"x\":[\"ESFP\",\"ESTP\",\"ESTJ\",\"ESFJ\"],\"xaxis\":\"x2\",\"y\":[0.821,0.913,0.801,0.78],\"yaxis\":\"y2\",\"type\":\"bar\"},{\"alignmentgroup\":\"True\",\"hovertemplate\":\"\\uc2dc\\ub098\\ub9ac\\uc624=Kaggle\\u003cbr\\u003eMethod=CatBoost\\u003cbr\\u003eType=%{x}\\u003cbr\\u003eValue=%{text}\\u003cextra\\u003e\\u003c\\u002fextra\\u003e\",\"legendgroup\":\"Kaggle\",\"marker\":{\"color\":\"#636efa\",\"pattern\":{\"shape\":\"\"}},\"name\":\"Kaggle\",\"offsetgroup\":\"Kaggle\",\"orientation\":\"v\",\"showlegend\":false,\"text\":[0.713,0.905,0.78,0.771],\"textposition\":\"auto\",\"x\":[\"ESFP\",\"ESTP\",\"ESTJ\",\"ESFJ\"],\"xaxis\":\"x3\",\"y\":[0.713,0.905,0.78,0.771],\"yaxis\":\"y3\",\"type\":\"bar\"},{\"alignmentgroup\":\"True\",\"hovertemplate\":\"\\uc2dc\\ub098\\ub9ac\\uc624=Kaggle\\u003cbr\\u003eMethod=XGBoost\\u003cbr\\u003eType=%{x}\\u003cbr\\u003eValue=%{text}\\u003cextra\\u003e\\u003c\\u002fextra\\u003e\",\"legendgroup\":\"Kaggle\",\"marker\":{\"color\":\"#636efa\",\"pattern\":{\"shape\":\"\"}},\"name\":\"Kaggle\",\"offsetgroup\":\"Kaggle\",\"orientation\":\"v\",\"showlegend\":false,\"text\":[0.814,0.907,0.833,0.832],\"textposition\":\"auto\",\"x\":[\"ESFP\",\"ESTP\",\"ESTJ\",\"ESFJ\"],\"xaxis\":\"x4\",\"y\":[0.814,0.907,0.833,0.832],\"yaxis\":\"y4\",\"type\":\"bar\"},{\"alignmentgroup\":\"True\",\"hovertemplate\":\"\\uc2dc\\ub098\\ub9ac\\uc624=Kaggle\\u003cbr\\u003eMethod=LightGBMLarge\\u003cbr\\u003eType=%{x}\\u003cbr\\u003eValue=%{text}\\u003cextra\\u003e\\u003c\\u002fextra\\u003e\",\"legendgroup\":\"Kaggle\",\"marker\":{\"color\":\"#636efa\",\"pattern\":{\"shape\":\"\"}},\"name\":\"Kaggle\",\"offsetgroup\":\"Kaggle\",\"orientation\":\"v\",\"showlegend\":false,\"text\":[0.79,0.907,0.816,0.782],\"textposition\":\"auto\",\"x\":[\"ESFP\",\"ESTP\",\"ESTJ\",\"ESFJ\"],\"xaxis\":\"x5\",\"y\":[0.79,0.907,0.816,0.782],\"yaxis\":\"y5\",\"type\":\"bar\"},{\"alignmentgroup\":\"True\",\"hovertemplate\":\"\\uc2dc\\ub098\\ub9ac\\uc624=Kaggle\\u003cbr\\u003eMethod=WeightedEnsemble_L2\\u003cbr\\u003eType=%{x}\\u003cbr\\u003eValue=%{text}\\u003cextra\\u003e\\u003c\\u002fextra\\u003e\",\"legendgroup\":\"Kaggle\",\"marker\":{\"color\":\"#636efa\",\"pattern\":{\"shape\":\"\"}},\"name\":\"Kaggle\",\"offsetgroup\":\"Kaggle\",\"orientation\":\"v\",\"showlegend\":false,\"text\":[0.746,0.904,0.768,0.732],\"textposition\":\"auto\",\"x\":[\"ESFP\",\"ESTP\",\"ESTJ\",\"ESFJ\"],\"xaxis\":\"x6\",\"y\":[0.746,0.904,0.768,0.732],\"yaxis\":\"y6\",\"type\":\"bar\"},{\"alignmentgroup\":\"True\",\"hovertemplate\":\"\\uc2dc\\ub098\\ub9ac\\uc624=Kaggle+GPT\\u003cbr\\u003eMethod=LightGBMXT\\u003cbr\\u003eType=%{x}\\u003cbr\\u003eValue=%{text}\\u003cextra\\u003e\\u003c\\u002fextra\\u003e\",\"legendgroup\":\"Kaggle+GPT\",\"marker\":{\"color\":\"#EF553B\",\"pattern\":{\"shape\":\"\"}},\"name\":\"Kaggle+GPT\",\"offsetgroup\":\"Kaggle+GPT\",\"orientation\":\"v\",\"showlegend\":true,\"text\":[0.825,0.904,0.854,0.805],\"textposition\":\"auto\",\"x\":[\"ESFP\",\"ESTP\",\"ESTJ\",\"ESFJ\"],\"xaxis\":\"x\",\"y\":[0.825,0.904,0.854,0.805],\"yaxis\":\"y\",\"type\":\"bar\"},{\"alignmentgroup\":\"True\",\"hovertemplate\":\"\\uc2dc\\ub098\\ub9ac\\uc624=Kaggle+GPT\\u003cbr\\u003eMethod=LightGBM\\u003cbr\\u003eType=%{x}\\u003cbr\\u003eValue=%{text}\\u003cextra\\u003e\\u003c\\u002fextra\\u003e\",\"legendgroup\":\"Kaggle+GPT\",\"marker\":{\"color\":\"#EF553B\",\"pattern\":{\"shape\":\"\"}},\"name\":\"Kaggle+GPT\",\"offsetgroup\":\"Kaggle+GPT\",\"orientation\":\"v\",\"showlegend\":false,\"text\":[0.81,0.917,0.847,0.798],\"textposition\":\"auto\",\"x\":[\"ESFP\",\"ESTP\",\"ESTJ\",\"ESFJ\"],\"xaxis\":\"x2\",\"y\":[0.81,0.917,0.847,0.798],\"yaxis\":\"y2\",\"type\":\"bar\"},{\"alignmentgroup\":\"True\",\"hovertemplate\":\"\\uc2dc\\ub098\\ub9ac\\uc624=Kaggle+GPT\\u003cbr\\u003eMethod=CatBoost\\u003cbr\\u003eType=%{x}\\u003cbr\\u003eValue=%{text}\\u003cextra\\u003e\\u003c\\u002fextra\\u003e\",\"legendgroup\":\"Kaggle+GPT\",\"marker\":{\"color\":\"#EF553B\",\"pattern\":{\"shape\":\"\"}},\"name\":\"Kaggle+GPT\",\"offsetgroup\":\"Kaggle+GPT\",\"orientation\":\"v\",\"showlegend\":false,\"text\":[0.797,0.911,0.756,0.772],\"textposition\":\"auto\",\"x\":[\"ESFP\",\"ESTP\",\"ESTJ\",\"ESFJ\"],\"xaxis\":\"x3\",\"y\":[0.797,0.911,0.756,0.772],\"yaxis\":\"y3\",\"type\":\"bar\"},{\"alignmentgroup\":\"True\",\"hovertemplate\":\"\\uc2dc\\ub098\\ub9ac\\uc624=Kaggle+GPT\\u003cbr\\u003eMethod=XGBoost\\u003cbr\\u003eType=%{x}\\u003cbr\\u003eValue=%{text}\\u003cextra\\u003e\\u003c\\u002fextra\\u003e\",\"legendgroup\":\"Kaggle+GPT\",\"marker\":{\"color\":\"#EF553B\",\"pattern\":{\"shape\":\"\"}},\"name\":\"Kaggle+GPT\",\"offsetgroup\":\"Kaggle+GPT\",\"orientation\":\"v\",\"showlegend\":false,\"text\":[0.81,0.922,0.827,0.827],\"textposition\":\"auto\",\"x\":[\"ESFP\",\"ESTP\",\"ESTJ\",\"ESFJ\"],\"xaxis\":\"x4\",\"y\":[0.81,0.922,0.827,0.827],\"yaxis\":\"y4\",\"type\":\"bar\"},{\"alignmentgroup\":\"True\",\"hovertemplate\":\"\\uc2dc\\ub098\\ub9ac\\uc624=Kaggle+GPT\\u003cbr\\u003eMethod=LightGBMLarge\\u003cbr\\u003eType=%{x}\\u003cbr\\u003eValue=%{text}\\u003cextra\\u003e\\u003c\\u002fextra\\u003e\",\"legendgroup\":\"Kaggle+GPT\",\"marker\":{\"color\":\"#EF553B\",\"pattern\":{\"shape\":\"\"}},\"name\":\"Kaggle+GPT\",\"offsetgroup\":\"Kaggle+GPT\",\"orientation\":\"v\",\"showlegend\":false,\"text\":[0.819,0.909,0.83,0.822],\"textposition\":\"auto\",\"x\":[\"ESFP\",\"ESTP\",\"ESTJ\",\"ESFJ\"],\"xaxis\":\"x5\",\"y\":[0.819,0.909,0.83,0.822],\"yaxis\":\"y5\",\"type\":\"bar\"},{\"alignmentgroup\":\"True\",\"hovertemplate\":\"\\uc2dc\\ub098\\ub9ac\\uc624=Kaggle+GPT\\u003cbr\\u003eMethod=WeightedEnsemble_L2\\u003cbr\\u003eType=%{x}\\u003cbr\\u003eValue=%{text}\\u003cextra\\u003e\\u003c\\u002fextra\\u003e\",\"legendgroup\":\"Kaggle+GPT\",\"marker\":{\"color\":\"#EF553B\",\"pattern\":{\"shape\":\"\"}},\"name\":\"Kaggle+GPT\",\"offsetgroup\":\"Kaggle+GPT\",\"orientation\":\"v\",\"showlegend\":false,\"text\":[0.824,0.923,0.841,0.822],\"textposition\":\"auto\",\"x\":[\"ESFP\",\"ESTP\",\"ESTJ\",\"ESFJ\"],\"xaxis\":\"x6\",\"y\":[0.824,0.923,0.841,0.822],\"yaxis\":\"y6\",\"type\":\"bar\"}],                        {\"annotations\":[{\"showarrow\":false,\"text\":\"LightGBMXT\",\"x\":0.075,\"xanchor\":\"center\",\"xref\":\"paper\",\"y\":1.0,\"yanchor\":\"bottom\",\"yref\":\"paper\"},{\"showarrow\":false,\"text\":\"LightGBM\",\"x\":0.24499999999999997,\"xanchor\":\"center\",\"xref\":\"paper\",\"y\":1.0,\"yanchor\":\"bottom\",\"yref\":\"paper\"},{\"showarrow\":false,\"text\":\"CatBoost\",\"x\":0.415,\"xanchor\":\"center\",\"xref\":\"paper\",\"y\":1.0,\"yanchor\":\"bottom\",\"yref\":\"paper\"},{\"showarrow\":false,\"text\":\"XGBoost\",\"x\":0.585,\"xanchor\":\"center\",\"xref\":\"paper\",\"y\":1.0,\"yanchor\":\"bottom\",\"yref\":\"paper\"},{\"showarrow\":false,\"text\":\"LightGBMLarge\",\"x\":0.7549999999999999,\"xanchor\":\"center\",\"xref\":\"paper\",\"y\":1.0,\"yanchor\":\"bottom\",\"yref\":\"paper\"},{\"showarrow\":false,\"text\":\"WeightedEnsemble_L2\",\"x\":0.925,\"xanchor\":\"center\",\"xref\":\"paper\",\"y\":1.0,\"yanchor\":\"bottom\",\"yref\":\"paper\"}],\"barmode\":\"group\",\"legend\":{\"title\":{\"text\":\"\"},\"tracegroupgap\":0},\"margin\":{\"t\":60},\"template\":{\"data\":{\"barpolar\":[{\"marker\":{\"line\":{\"color\":\"white\",\"width\":0.5},\"pattern\":{\"fillmode\":\"overlay\",\"size\":10,\"solidity\":0.2}},\"type\":\"barpolar\"}],\"bar\":[{\"error_x\":{\"color\":\"#2a3f5f\"},\"error_y\":{\"color\":\"#2a3f5f\"},\"marker\":{\"line\":{\"color\":\"white\",\"width\":0.5},\"pattern\":{\"fillmode\":\"overlay\",\"size\":10,\"solidity\":0.2}},\"type\":\"bar\"}],\"carpet\":[{\"aaxis\":{\"endlinecolor\":\"#2a3f5f\",\"gridcolor\":\"#C8D4E3\",\"linecolor\":\"#C8D4E3\",\"minorgridcolor\":\"#C8D4E3\",\"startlinecolor\":\"#2a3f5f\"},\"baxis\":{\"endlinecolor\":\"#2a3f5f\",\"gridcolor\":\"#C8D4E3\",\"linecolor\":\"#C8D4E3\",\"minorgridcolor\":\"#C8D4E3\",\"startlinecolor\":\"#2a3f5f\"},\"type\":\"carpet\"}],\"choropleth\":[{\"colorbar\":{\"outlinewidth\":0,\"ticks\":\"\"},\"type\":\"choropleth\"}],\"contourcarpet\":[{\"colorbar\":{\"outlinewidth\":0,\"ticks\":\"\"},\"type\":\"contourcarpet\"}],\"contour\":[{\"colorbar\":{\"outlinewidth\":0,\"ticks\":\"\"},\"colorscale\":[[0.0,\"#0d0887\"],[0.1111111111111111,\"#46039f\"],[0.2222222222222222,\"#7201a8\"],[0.3333333333333333,\"#9c179e\"],[0.4444444444444444,\"#bd3786\"],[0.5555555555555556,\"#d8576b\"],[0.6666666666666666,\"#ed7953\"],[0.7777777777777778,\"#fb9f3a\"],[0.8888888888888888,\"#fdca26\"],[1.0,\"#f0f921\"]],\"type\":\"contour\"}],\"heatmapgl\":[{\"colorbar\":{\"outlinewidth\":0,\"ticks\":\"\"},\"colorscale\":[[0.0,\"#0d0887\"],[0.1111111111111111,\"#46039f\"],[0.2222222222222222,\"#7201a8\"],[0.3333333333333333,\"#9c179e\"],[0.4444444444444444,\"#bd3786\"],[0.5555555555555556,\"#d8576b\"],[0.6666666666666666,\"#ed7953\"],[0.7777777777777778,\"#fb9f3a\"],[0.8888888888888888,\"#fdca26\"],[1.0,\"#f0f921\"]],\"type\":\"heatmapgl\"}],\"heatmap\":[{\"colorbar\":{\"outlinewidth\":0,\"ticks\":\"\"},\"colorscale\":[[0.0,\"#0d0887\"],[0.1111111111111111,\"#46039f\"],[0.2222222222222222,\"#7201a8\"],[0.3333333333333333,\"#9c179e\"],[0.4444444444444444,\"#bd3786\"],[0.5555555555555556,\"#d8576b\"],[0.6666666666666666,\"#ed7953\"],[0.7777777777777778,\"#fb9f3a\"],[0.8888888888888888,\"#fdca26\"],[1.0,\"#f0f921\"]],\"type\":\"heatmap\"}],\"histogram2dcontour\":[{\"colorbar\":{\"outlinewidth\":0,\"ticks\":\"\"},\"colorscale\":[[0.0,\"#0d0887\"],[0.1111111111111111,\"#46039f\"],[0.2222222222222222,\"#7201a8\"],[0.3333333333333333,\"#9c179e\"],[0.4444444444444444,\"#bd3786\"],[0.5555555555555556,\"#d8576b\"],[0.6666666666666666,\"#ed7953\"],[0.7777777777777778,\"#fb9f3a\"],[0.8888888888888888,\"#fdca26\"],[1.0,\"#f0f921\"]],\"type\":\"histogram2dcontour\"}],\"histogram2d\":[{\"colorbar\":{\"outlinewidth\":0,\"ticks\":\"\"},\"colorscale\":[[0.0,\"#0d0887\"],[0.1111111111111111,\"#46039f\"],[0.2222222222222222,\"#7201a8\"],[0.3333333333333333,\"#9c179e\"],[0.4444444444444444,\"#bd3786\"],[0.5555555555555556,\"#d8576b\"],[0.6666666666666666,\"#ed7953\"],[0.7777777777777778,\"#fb9f3a\"],[0.8888888888888888,\"#fdca26\"],[1.0,\"#f0f921\"]],\"type\":\"histogram2d\"}],\"histogram\":[{\"marker\":{\"pattern\":{\"fillmode\":\"overlay\",\"size\":10,\"solidity\":0.2}},\"type\":\"histogram\"}],\"mesh3d\":[{\"colorbar\":{\"outlinewidth\":0,\"ticks\":\"\"},\"type\":\"mesh3d\"}],\"parcoords\":[{\"line\":{\"colorbar\":{\"outlinewidth\":0,\"ticks\":\"\"}},\"type\":\"parcoords\"}],\"pie\":[{\"automargin\":true,\"type\":\"pie\"}],\"scatter3d\":[{\"line\":{\"colorbar\":{\"outlinewidth\":0,\"ticks\":\"\"}},\"marker\":{\"colorbar\":{\"outlinewidth\":0,\"ticks\":\"\"}},\"type\":\"scatter3d\"}],\"scattercarpet\":[{\"marker\":{\"colorbar\":{\"outlinewidth\":0,\"ticks\":\"\"}},\"type\":\"scattercarpet\"}],\"scattergeo\":[{\"marker\":{\"colorbar\":{\"outlinewidth\":0,\"ticks\":\"\"}},\"type\":\"scattergeo\"}],\"scattergl\":[{\"marker\":{\"colorbar\":{\"outlinewidth\":0,\"ticks\":\"\"}},\"type\":\"scattergl\"}],\"scattermapbox\":[{\"marker\":{\"colorbar\":{\"outlinewidth\":0,\"ticks\":\"\"}},\"type\":\"scattermapbox\"}],\"scatterpolargl\":[{\"marker\":{\"colorbar\":{\"outlinewidth\":0,\"ticks\":\"\"}},\"type\":\"scatterpolargl\"}],\"scatterpolar\":[{\"marker\":{\"colorbar\":{\"outlinewidth\":0,\"ticks\":\"\"}},\"type\":\"scatterpolar\"}],\"scatter\":[{\"fillpattern\":{\"fillmode\":\"overlay\",\"size\":10,\"solidity\":0.2},\"type\":\"scatter\"}],\"scatterternary\":[{\"marker\":{\"colorbar\":{\"outlinewidth\":0,\"ticks\":\"\"}},\"type\":\"scatterternary\"}],\"surface\":[{\"colorbar\":{\"outlinewidth\":0,\"ticks\":\"\"},\"colorscale\":[[0.0,\"#0d0887\"],[0.1111111111111111,\"#46039f\"],[0.2222222222222222,\"#7201a8\"],[0.3333333333333333,\"#9c179e\"],[0.4444444444444444,\"#bd3786\"],[0.5555555555555556,\"#d8576b\"],[0.6666666666666666,\"#ed7953\"],[0.7777777777777778,\"#fb9f3a\"],[0.8888888888888888,\"#fdca26\"],[1.0,\"#f0f921\"]],\"type\":\"surface\"}],\"table\":[{\"cells\":{\"fill\":{\"color\":\"#EBF0F8\"},\"line\":{\"color\":\"white\"}},\"header\":{\"fill\":{\"color\":\"#C8D4E3\"},\"line\":{\"color\":\"white\"}},\"type\":\"table\"}]},\"layout\":{\"annotationdefaults\":{\"arrowcolor\":\"#2a3f5f\",\"arrowhead\":0,\"arrowwidth\":1},\"autotypenumbers\":\"strict\",\"coloraxis\":{\"colorbar\":{\"outlinewidth\":0,\"ticks\":\"\"}},\"colorscale\":{\"diverging\":[[0,\"#8e0152\"],[0.1,\"#c51b7d\"],[0.2,\"#de77ae\"],[0.3,\"#f1b6da\"],[0.4,\"#fde0ef\"],[0.5,\"#f7f7f7\"],[0.6,\"#e6f5d0\"],[0.7,\"#b8e186\"],[0.8,\"#7fbc41\"],[0.9,\"#4d9221\"],[1,\"#276419\"]],\"sequential\":[[0.0,\"#0d0887\"],[0.1111111111111111,\"#46039f\"],[0.2222222222222222,\"#7201a8\"],[0.3333333333333333,\"#9c179e\"],[0.4444444444444444,\"#bd3786\"],[0.5555555555555556,\"#d8576b\"],[0.6666666666666666,\"#ed7953\"],[0.7777777777777778,\"#fb9f3a\"],[0.8888888888888888,\"#fdca26\"],[1.0,\"#f0f921\"]],\"sequentialminus\":[[0.0,\"#0d0887\"],[0.1111111111111111,\"#46039f\"],[0.2222222222222222,\"#7201a8\"],[0.3333333333333333,\"#9c179e\"],[0.4444444444444444,\"#bd3786\"],[0.5555555555555556,\"#d8576b\"],[0.6666666666666666,\"#ed7953\"],[0.7777777777777778,\"#fb9f3a\"],[0.8888888888888888,\"#fdca26\"],[1.0,\"#f0f921\"]]},\"colorway\":[\"#636efa\",\"#EF553B\",\"#00cc96\",\"#ab63fa\",\"#FFA15A\",\"#19d3f3\",\"#FF6692\",\"#B6E880\",\"#FF97FF\",\"#FECB52\"],\"font\":{\"color\":\"#2a3f5f\"},\"geo\":{\"bgcolor\":\"white\",\"lakecolor\":\"white\",\"landcolor\":\"white\",\"showlakes\":true,\"showland\":true,\"subunitcolor\":\"#C8D4E3\"},\"hoverlabel\":{\"align\":\"left\"},\"hovermode\":\"closest\",\"mapbox\":{\"style\":\"light\"},\"paper_bgcolor\":\"white\",\"plot_bgcolor\":\"white\",\"polar\":{\"angularaxis\":{\"gridcolor\":\"#EBF0F8\",\"linecolor\":\"#EBF0F8\",\"ticks\":\"\"},\"bgcolor\":\"white\",\"radialaxis\":{\"gridcolor\":\"#EBF0F8\",\"linecolor\":\"#EBF0F8\",\"ticks\":\"\"}},\"scene\":{\"xaxis\":{\"backgroundcolor\":\"white\",\"gridcolor\":\"#DFE8F3\",\"gridwidth\":2,\"linecolor\":\"#EBF0F8\",\"showbackground\":true,\"ticks\":\"\",\"zerolinecolor\":\"#EBF0F8\"},\"yaxis\":{\"backgroundcolor\":\"white\",\"gridcolor\":\"#DFE8F3\",\"gridwidth\":2,\"linecolor\":\"#EBF0F8\",\"showbackground\":true,\"ticks\":\"\",\"zerolinecolor\":\"#EBF0F8\"},\"zaxis\":{\"backgroundcolor\":\"white\",\"gridcolor\":\"#DFE8F3\",\"gridwidth\":2,\"linecolor\":\"#EBF0F8\",\"showbackground\":true,\"ticks\":\"\",\"zerolinecolor\":\"#EBF0F8\"}},\"shapedefaults\":{\"line\":{\"color\":\"#2a3f5f\"}},\"ternary\":{\"aaxis\":{\"gridcolor\":\"#DFE8F3\",\"linecolor\":\"#A2B1C6\",\"ticks\":\"\"},\"baxis\":{\"gridcolor\":\"#DFE8F3\",\"linecolor\":\"#A2B1C6\",\"ticks\":\"\"},\"bgcolor\":\"white\",\"caxis\":{\"gridcolor\":\"#DFE8F3\",\"linecolor\":\"#A2B1C6\",\"ticks\":\"\"}},\"title\":{\"x\":0.05},\"xaxis\":{\"automargin\":true,\"gridcolor\":\"#EBF0F8\",\"linecolor\":\"#EBF0F8\",\"ticks\":\"\",\"title\":{\"standoff\":15},\"zerolinecolor\":\"#EBF0F8\",\"zerolinewidth\":2},\"yaxis\":{\"automargin\":true,\"gridcolor\":\"#EBF0F8\",\"linecolor\":\"#EBF0F8\",\"ticks\":\"\",\"title\":{\"standoff\":15},\"zerolinecolor\":\"#EBF0F8\",\"zerolinewidth\":2}}},\"xaxis\":{\"anchor\":\"y\",\"domain\":[0.0,0.15],\"title\":{\"text\":\"\"}},\"yaxis\":{\"anchor\":\"x\",\"domain\":[0.0,1.0],\"title\":{\"text\":\"AUC\"}},\"xaxis2\":{\"anchor\":\"y2\",\"domain\":[0.16999999999999998,0.31999999999999995],\"matches\":\"x\",\"title\":{\"text\":\"\"}},\"yaxis2\":{\"anchor\":\"x2\",\"domain\":[0.0,1.0],\"matches\":\"y\",\"showticklabels\":false},\"xaxis3\":{\"anchor\":\"y3\",\"domain\":[0.33999999999999997,0.49],\"matches\":\"x\",\"title\":{\"text\":\"\"}},\"yaxis3\":{\"anchor\":\"x3\",\"domain\":[0.0,1.0],\"matches\":\"y\",\"showticklabels\":false},\"xaxis4\":{\"anchor\":\"y4\",\"domain\":[0.51,0.66],\"matches\":\"x\",\"title\":{\"text\":\"\"}},\"yaxis4\":{\"anchor\":\"x4\",\"domain\":[0.0,1.0],\"matches\":\"y\",\"showticklabels\":false},\"xaxis5\":{\"anchor\":\"y5\",\"domain\":[0.6799999999999999,0.83],\"matches\":\"x\",\"title\":{\"text\":\"\"}},\"yaxis5\":{\"anchor\":\"x5\",\"domain\":[0.0,1.0],\"matches\":\"y\",\"showticklabels\":false},\"xaxis6\":{\"anchor\":\"y6\",\"domain\":[0.85,1.0],\"matches\":\"x\",\"title\":{\"text\":\"\"}},\"yaxis6\":{\"anchor\":\"x6\",\"domain\":[0.0,1.0],\"matches\":\"y\",\"showticklabels\":false},\"title\":{\"text\":\"Figure6: Results of Experiment 1\"},\"width\":1050,\"height\":600},                        {\"responsive\": true}                    ).then(function(){\n",
       "                            \n",
       "var gd = document.getElementById('cdd0b280-62de-49a0-afaf-50a0ffc9b790');\n",
       "var x = new MutationObserver(function (mutations, observer) {{\n",
       "        var display = window.getComputedStyle(gd).display;\n",
       "        if (!display || display === 'none') {{\n",
       "            console.log([gd, 'removed!']);\n",
       "            Plotly.purge(gd);\n",
       "            observer.disconnect();\n",
       "        }}\n",
       "}});\n",
       "\n",
       "// Listen for the removal of the full notebook cells\n",
       "var notebookContainer = gd.closest('#notebook-container');\n",
       "if (notebookContainer) {{\n",
       "    x.observe(notebookContainer, {childList: true});\n",
       "}}\n",
       "\n",
       "// Listen for the clearing of the current output cell\n",
       "var outputEl = gd.closest('.output');\n",
       "if (outputEl) {{\n",
       "    x.observe(outputEl, {childList: true});\n",
       "}}\n",
       "\n",
       "                        })                };                });            </script>        </div>"
      ]
     },
     "metadata": {},
     "output_type": "display_data"
    }
   ],
   "source": [
    "figs['실험1결과요약'].layout['title']['text']='Figure6: Results of Experiment 1'\n",
    "figs['실험1결과요약'].layout['width']=1050\n",
    "figs['실험1결과요약'].layout['height']=600\n",
    "figs['실험1결과요약']"
   ]
  },
  {
   "cell_type": "markdown",
   "id": "2b082bf1-eadb-4cc3-8321-6081c7ae7c26",
   "metadata": {},
   "source": [
    "::: {.notes}\n",
    "대체적으로 파랑색보다 빨간색의 모형설정이 더 높게 나왔다. 그러므로 gpt로 설정된 데이터가 모형성능을 개선하는데 도움이 되었다 \n",
    "::: "
   ]
  },
  {
   "cell_type": "markdown",
   "id": "2fad4a9c-1855-4463-a050-17507f75a68e",
   "metadata": {},
   "source": [
    "## Experiment1\n",
    "\n",
    "::: {.panel-tabset}\n",
    "#### Recall"
   ]
  },
  {
   "cell_type": "code",
   "execution_count": 9,
   "id": "bda7492d-2432-4b97-bfb8-c6735809866e",
   "metadata": {
    "tags": []
   },
   "outputs": [
    {
     "data": {
      "text/html": [
       "<div>                            <div id=\"c9798c72-9259-4a1b-ab08-7ca6828600f4\" class=\"plotly-graph-div\" style=\"height:500px; width:1050px;\"></div>            <script type=\"text/javascript\">                require([\"plotly\"], function(Plotly) {                    window.PLOTLYENV=window.PLOTLYENV || {};                                    if (document.getElementById(\"c9798c72-9259-4a1b-ab08-7ca6828600f4\")) {                    Plotly.newPlot(                        \"c9798c72-9259-4a1b-ab08-7ca6828600f4\",                        [{\"alignmentgroup\":\"True\",\"hovertemplate\":\"Top6=True\\u003cbr\\u003eMethod=%{x}\\u003cbr\\u003eValue=%{y}\\u003cextra\\u003e\\u003c\\u002fextra\\u003e\",\"legendgroup\":\"True\",\"marker\":{\"color\":\"#636efa\",\"pattern\":{\"shape\":\"\"}},\"name\":\"True\",\"offsetgroup\":\"True\",\"orientation\":\"v\",\"showlegend\":false,\"textposition\":\"auto\",\"x\":[\"LightGBMXT\",\"WeightedEnsemble_L2\",\"LightGBMLarge\",\"XGBoost\",\"LightGBM\",\"CatBoost\"],\"xaxis\":\"x\",\"y\":[0.17094155844155842,0.1641233766233766,0.14085497835497834,0.13457792207792205,0.12895021645021643,0.022727272727272724],\"yaxis\":\"y\",\"type\":\"bar\"},{\"alignmentgroup\":\"True\",\"hovertemplate\":\"Top6=False\\u003cbr\\u003eMethod=%{x}\\u003cbr\\u003eValue=%{y}\\u003cextra\\u003e\\u003c\\u002fextra\\u003e\",\"legendgroup\":\"False\",\"marker\":{\"color\":\"#636efa\",\"opacity\":0.2,\"pattern\":{\"shape\":\"\"}},\"name\":\"False\",\"offsetgroup\":\"False\",\"orientation\":\"v\",\"showlegend\":false,\"textposition\":\"auto\",\"x\":[\"KNeighborsUnif\",\"ExtraTreesEntr\",\"ExtraTreesGini\",\"KNeighborsDist\",\"NeuralNetFastAI\",\"NeuralNetTorch\",\"RandomForestEntr\",\"RandomForestGini\"],\"xaxis\":\"x\",\"y\":[0.01041666666666665,0.0,0.0,0.0,0.0,0.0,0.0,0.0],\"yaxis\":\"y\",\"type\":\"bar\"}],                        {\"barmode\":\"relative\",\"legend\":{\"title\":{\"text\":\"Top6\"},\"tracegroupgap\":0},\"margin\":{\"t\":60},\"template\":{\"data\":{\"barpolar\":[{\"marker\":{\"line\":{\"color\":\"white\",\"width\":0.5},\"pattern\":{\"fillmode\":\"overlay\",\"size\":10,\"solidity\":0.2}},\"type\":\"barpolar\"}],\"bar\":[{\"error_x\":{\"color\":\"#2a3f5f\"},\"error_y\":{\"color\":\"#2a3f5f\"},\"marker\":{\"line\":{\"color\":\"white\",\"width\":0.5},\"pattern\":{\"fillmode\":\"overlay\",\"size\":10,\"solidity\":0.2}},\"type\":\"bar\"}],\"carpet\":[{\"aaxis\":{\"endlinecolor\":\"#2a3f5f\",\"gridcolor\":\"#C8D4E3\",\"linecolor\":\"#C8D4E3\",\"minorgridcolor\":\"#C8D4E3\",\"startlinecolor\":\"#2a3f5f\"},\"baxis\":{\"endlinecolor\":\"#2a3f5f\",\"gridcolor\":\"#C8D4E3\",\"linecolor\":\"#C8D4E3\",\"minorgridcolor\":\"#C8D4E3\",\"startlinecolor\":\"#2a3f5f\"},\"type\":\"carpet\"}],\"choropleth\":[{\"colorbar\":{\"outlinewidth\":0,\"ticks\":\"\"},\"type\":\"choropleth\"}],\"contourcarpet\":[{\"colorbar\":{\"outlinewidth\":0,\"ticks\":\"\"},\"type\":\"contourcarpet\"}],\"contour\":[{\"colorbar\":{\"outlinewidth\":0,\"ticks\":\"\"},\"colorscale\":[[0.0,\"#0d0887\"],[0.1111111111111111,\"#46039f\"],[0.2222222222222222,\"#7201a8\"],[0.3333333333333333,\"#9c179e\"],[0.4444444444444444,\"#bd3786\"],[0.5555555555555556,\"#d8576b\"],[0.6666666666666666,\"#ed7953\"],[0.7777777777777778,\"#fb9f3a\"],[0.8888888888888888,\"#fdca26\"],[1.0,\"#f0f921\"]],\"type\":\"contour\"}],\"heatmapgl\":[{\"colorbar\":{\"outlinewidth\":0,\"ticks\":\"\"},\"colorscale\":[[0.0,\"#0d0887\"],[0.1111111111111111,\"#46039f\"],[0.2222222222222222,\"#7201a8\"],[0.3333333333333333,\"#9c179e\"],[0.4444444444444444,\"#bd3786\"],[0.5555555555555556,\"#d8576b\"],[0.6666666666666666,\"#ed7953\"],[0.7777777777777778,\"#fb9f3a\"],[0.8888888888888888,\"#fdca26\"],[1.0,\"#f0f921\"]],\"type\":\"heatmapgl\"}],\"heatmap\":[{\"colorbar\":{\"outlinewidth\":0,\"ticks\":\"\"},\"colorscale\":[[0.0,\"#0d0887\"],[0.1111111111111111,\"#46039f\"],[0.2222222222222222,\"#7201a8\"],[0.3333333333333333,\"#9c179e\"],[0.4444444444444444,\"#bd3786\"],[0.5555555555555556,\"#d8576b\"],[0.6666666666666666,\"#ed7953\"],[0.7777777777777778,\"#fb9f3a\"],[0.8888888888888888,\"#fdca26\"],[1.0,\"#f0f921\"]],\"type\":\"heatmap\"}],\"histogram2dcontour\":[{\"colorbar\":{\"outlinewidth\":0,\"ticks\":\"\"},\"colorscale\":[[0.0,\"#0d0887\"],[0.1111111111111111,\"#46039f\"],[0.2222222222222222,\"#7201a8\"],[0.3333333333333333,\"#9c179e\"],[0.4444444444444444,\"#bd3786\"],[0.5555555555555556,\"#d8576b\"],[0.6666666666666666,\"#ed7953\"],[0.7777777777777778,\"#fb9f3a\"],[0.8888888888888888,\"#fdca26\"],[1.0,\"#f0f921\"]],\"type\":\"histogram2dcontour\"}],\"histogram2d\":[{\"colorbar\":{\"outlinewidth\":0,\"ticks\":\"\"},\"colorscale\":[[0.0,\"#0d0887\"],[0.1111111111111111,\"#46039f\"],[0.2222222222222222,\"#7201a8\"],[0.3333333333333333,\"#9c179e\"],[0.4444444444444444,\"#bd3786\"],[0.5555555555555556,\"#d8576b\"],[0.6666666666666666,\"#ed7953\"],[0.7777777777777778,\"#fb9f3a\"],[0.8888888888888888,\"#fdca26\"],[1.0,\"#f0f921\"]],\"type\":\"histogram2d\"}],\"histogram\":[{\"marker\":{\"pattern\":{\"fillmode\":\"overlay\",\"size\":10,\"solidity\":0.2}},\"type\":\"histogram\"}],\"mesh3d\":[{\"colorbar\":{\"outlinewidth\":0,\"ticks\":\"\"},\"type\":\"mesh3d\"}],\"parcoords\":[{\"line\":{\"colorbar\":{\"outlinewidth\":0,\"ticks\":\"\"}},\"type\":\"parcoords\"}],\"pie\":[{\"automargin\":true,\"type\":\"pie\"}],\"scatter3d\":[{\"line\":{\"colorbar\":{\"outlinewidth\":0,\"ticks\":\"\"}},\"marker\":{\"colorbar\":{\"outlinewidth\":0,\"ticks\":\"\"}},\"type\":\"scatter3d\"}],\"scattercarpet\":[{\"marker\":{\"colorbar\":{\"outlinewidth\":0,\"ticks\":\"\"}},\"type\":\"scattercarpet\"}],\"scattergeo\":[{\"marker\":{\"colorbar\":{\"outlinewidth\":0,\"ticks\":\"\"}},\"type\":\"scattergeo\"}],\"scattergl\":[{\"marker\":{\"colorbar\":{\"outlinewidth\":0,\"ticks\":\"\"}},\"type\":\"scattergl\"}],\"scattermapbox\":[{\"marker\":{\"colorbar\":{\"outlinewidth\":0,\"ticks\":\"\"}},\"type\":\"scattermapbox\"}],\"scatterpolargl\":[{\"marker\":{\"colorbar\":{\"outlinewidth\":0,\"ticks\":\"\"}},\"type\":\"scatterpolargl\"}],\"scatterpolar\":[{\"marker\":{\"colorbar\":{\"outlinewidth\":0,\"ticks\":\"\"}},\"type\":\"scatterpolar\"}],\"scatter\":[{\"fillpattern\":{\"fillmode\":\"overlay\",\"size\":10,\"solidity\":0.2},\"type\":\"scatter\"}],\"scatterternary\":[{\"marker\":{\"colorbar\":{\"outlinewidth\":0,\"ticks\":\"\"}},\"type\":\"scatterternary\"}],\"surface\":[{\"colorbar\":{\"outlinewidth\":0,\"ticks\":\"\"},\"colorscale\":[[0.0,\"#0d0887\"],[0.1111111111111111,\"#46039f\"],[0.2222222222222222,\"#7201a8\"],[0.3333333333333333,\"#9c179e\"],[0.4444444444444444,\"#bd3786\"],[0.5555555555555556,\"#d8576b\"],[0.6666666666666666,\"#ed7953\"],[0.7777777777777778,\"#fb9f3a\"],[0.8888888888888888,\"#fdca26\"],[1.0,\"#f0f921\"]],\"type\":\"surface\"}],\"table\":[{\"cells\":{\"fill\":{\"color\":\"#EBF0F8\"},\"line\":{\"color\":\"white\"}},\"header\":{\"fill\":{\"color\":\"#C8D4E3\"},\"line\":{\"color\":\"white\"}},\"type\":\"table\"}]},\"layout\":{\"annotationdefaults\":{\"arrowcolor\":\"#2a3f5f\",\"arrowhead\":0,\"arrowwidth\":1},\"autotypenumbers\":\"strict\",\"coloraxis\":{\"colorbar\":{\"outlinewidth\":0,\"ticks\":\"\"}},\"colorscale\":{\"diverging\":[[0,\"#8e0152\"],[0.1,\"#c51b7d\"],[0.2,\"#de77ae\"],[0.3,\"#f1b6da\"],[0.4,\"#fde0ef\"],[0.5,\"#f7f7f7\"],[0.6,\"#e6f5d0\"],[0.7,\"#b8e186\"],[0.8,\"#7fbc41\"],[0.9,\"#4d9221\"],[1,\"#276419\"]],\"sequential\":[[0.0,\"#0d0887\"],[0.1111111111111111,\"#46039f\"],[0.2222222222222222,\"#7201a8\"],[0.3333333333333333,\"#9c179e\"],[0.4444444444444444,\"#bd3786\"],[0.5555555555555556,\"#d8576b\"],[0.6666666666666666,\"#ed7953\"],[0.7777777777777778,\"#fb9f3a\"],[0.8888888888888888,\"#fdca26\"],[1.0,\"#f0f921\"]],\"sequentialminus\":[[0.0,\"#0d0887\"],[0.1111111111111111,\"#46039f\"],[0.2222222222222222,\"#7201a8\"],[0.3333333333333333,\"#9c179e\"],[0.4444444444444444,\"#bd3786\"],[0.5555555555555556,\"#d8576b\"],[0.6666666666666666,\"#ed7953\"],[0.7777777777777778,\"#fb9f3a\"],[0.8888888888888888,\"#fdca26\"],[1.0,\"#f0f921\"]]},\"colorway\":[\"#636efa\",\"#EF553B\",\"#00cc96\",\"#ab63fa\",\"#FFA15A\",\"#19d3f3\",\"#FF6692\",\"#B6E880\",\"#FF97FF\",\"#FECB52\"],\"font\":{\"color\":\"#2a3f5f\"},\"geo\":{\"bgcolor\":\"white\",\"lakecolor\":\"white\",\"landcolor\":\"white\",\"showlakes\":true,\"showland\":true,\"subunitcolor\":\"#C8D4E3\"},\"hoverlabel\":{\"align\":\"left\"},\"hovermode\":\"closest\",\"mapbox\":{\"style\":\"light\"},\"paper_bgcolor\":\"white\",\"plot_bgcolor\":\"white\",\"polar\":{\"angularaxis\":{\"gridcolor\":\"#EBF0F8\",\"linecolor\":\"#EBF0F8\",\"ticks\":\"\"},\"bgcolor\":\"white\",\"radialaxis\":{\"gridcolor\":\"#EBF0F8\",\"linecolor\":\"#EBF0F8\",\"ticks\":\"\"}},\"scene\":{\"xaxis\":{\"backgroundcolor\":\"white\",\"gridcolor\":\"#DFE8F3\",\"gridwidth\":2,\"linecolor\":\"#EBF0F8\",\"showbackground\":true,\"ticks\":\"\",\"zerolinecolor\":\"#EBF0F8\"},\"yaxis\":{\"backgroundcolor\":\"white\",\"gridcolor\":\"#DFE8F3\",\"gridwidth\":2,\"linecolor\":\"#EBF0F8\",\"showbackground\":true,\"ticks\":\"\",\"zerolinecolor\":\"#EBF0F8\"},\"zaxis\":{\"backgroundcolor\":\"white\",\"gridcolor\":\"#DFE8F3\",\"gridwidth\":2,\"linecolor\":\"#EBF0F8\",\"showbackground\":true,\"ticks\":\"\",\"zerolinecolor\":\"#EBF0F8\"}},\"shapedefaults\":{\"line\":{\"color\":\"#2a3f5f\"}},\"ternary\":{\"aaxis\":{\"gridcolor\":\"#DFE8F3\",\"linecolor\":\"#A2B1C6\",\"ticks\":\"\"},\"baxis\":{\"gridcolor\":\"#DFE8F3\",\"linecolor\":\"#A2B1C6\",\"ticks\":\"\"},\"bgcolor\":\"white\",\"caxis\":{\"gridcolor\":\"#DFE8F3\",\"linecolor\":\"#A2B1C6\",\"ticks\":\"\"}},\"title\":{\"x\":0.05},\"xaxis\":{\"automargin\":true,\"gridcolor\":\"#EBF0F8\",\"linecolor\":\"#EBF0F8\",\"ticks\":\"\",\"title\":{\"standoff\":15},\"zerolinecolor\":\"#EBF0F8\",\"zerolinewidth\":2},\"yaxis\":{\"automargin\":true,\"gridcolor\":\"#EBF0F8\",\"linecolor\":\"#EBF0F8\",\"ticks\":\"\",\"title\":{\"standoff\":15},\"zerolinecolor\":\"#EBF0F8\",\"zerolinewidth\":2}}},\"xaxis\":{\"anchor\":\"y\",\"domain\":[0.0,1.0],\"title\":{\"text\":\"\"}},\"yaxis\":{\"anchor\":\"x\",\"domain\":[0.0,1.0],\"title\":{\"text\":\"Recall\"}},\"title\":{\"text\":\"Figure7(a): Recall of all Models\"},\"width\":1050,\"height\":500},                        {\"responsive\": true}                    ).then(function(){\n",
       "                            \n",
       "var gd = document.getElementById('c9798c72-9259-4a1b-ab08-7ca6828600f4');\n",
       "var x = new MutationObserver(function (mutations, observer) {{\n",
       "        var display = window.getComputedStyle(gd).display;\n",
       "        if (!display || display === 'none') {{\n",
       "            console.log([gd, 'removed!']);\n",
       "            Plotly.purge(gd);\n",
       "            observer.disconnect();\n",
       "        }}\n",
       "}});\n",
       "\n",
       "// Listen for the removal of the full notebook cells\n",
       "var notebookContainer = gd.closest('#notebook-container');\n",
       "if (notebookContainer) {{\n",
       "    x.observe(notebookContainer, {childList: true});\n",
       "}}\n",
       "\n",
       "// Listen for the clearing of the current output cell\n",
       "var outputEl = gd.closest('.output');\n",
       "if (outputEl) {{\n",
       "    x.observe(outputEl, {childList: true});\n",
       "}}\n",
       "\n",
       "                        })                };                });            </script>        </div>"
      ]
     },
     "metadata": {},
     "output_type": "display_data"
    }
   ],
   "source": [
    "figs['실험1모델비교REC'].layout['title']['text']='Figure7(a): Recall of all Models'\n",
    "figs['실험1모델비교REC'].layout['width']=1050\n",
    "figs['실험1모델비교REC'].layout['height']=500\n",
    "figs['실험1모델비교REC']"
   ]
  },
  {
   "cell_type": "markdown",
   "id": "649c09f7-6fb1-44ec-be16-42a046f2f7cb",
   "metadata": {},
   "source": [
    "::: {.notes}\n",
    " macro recall이며, one vs other recall (하나만 1이고 나머지를 0으로 두고 한다)\n",
    "::: "
   ]
  },
  {
   "cell_type": "markdown",
   "id": "46082cf6-a52a-4db4-ad7c-b8d24aeea9f4",
   "metadata": {},
   "source": [
    "#### Precision"
   ]
  },
  {
   "cell_type": "code",
   "execution_count": 10,
   "id": "6f37210b-893d-4e09-bdc6-c0bdcdb94ca0",
   "metadata": {
    "tags": []
   },
   "outputs": [
    {
     "data": {
      "text/html": [
       "<div>                            <div id=\"314b33c1-f32e-4dbb-a53c-0e55cb8740aa\" class=\"plotly-graph-div\" style=\"height:500px; width:1050px;\"></div>            <script type=\"text/javascript\">                require([\"plotly\"], function(Plotly) {                    window.PLOTLYENV=window.PLOTLYENV || {};                                    if (document.getElementById(\"314b33c1-f32e-4dbb-a53c-0e55cb8740aa\")) {                    Plotly.newPlot(                        \"314b33c1-f32e-4dbb-a53c-0e55cb8740aa\",                        [{\"alignmentgroup\":\"True\",\"hovertemplate\":\"Top6=True\\u003cbr\\u003eMethod=%{x}\\u003cbr\\u003eValue=%{y}\\u003cextra\\u003e\\u003c\\u002fextra\\u003e\",\"legendgroup\":\"True\",\"marker\":{\"color\":\"#636efa\",\"pattern\":{\"shape\":\"\"}},\"name\":\"True\",\"offsetgroup\":\"True\",\"orientation\":\"v\",\"showlegend\":false,\"textposition\":\"auto\",\"x\":[\"WeightedEnsemble_L2\",\"LightGBMXT\",\"LightGBM\",\"LightGBMLarge\",\"XGBoost\",\"CatBoost\"],\"xaxis\":\"x\",\"y\":[0.6279761904761905,0.5579545454545455,0.5083333333333333,0.39166666666666666,0.3913043478260869,0.25],\"yaxis\":\"y\",\"type\":\"bar\"},{\"alignmentgroup\":\"True\",\"hovertemplate\":\"Top6=False\\u003cbr\\u003eMethod=%{x}\\u003cbr\\u003eValue=%{y}\\u003cextra\\u003e\\u003c\\u002fextra\\u003e\",\"legendgroup\":\"False\",\"marker\":{\"color\":\"#636efa\",\"opacity\":0.2,\"pattern\":{\"shape\":\"\"}},\"name\":\"False\",\"offsetgroup\":\"False\",\"orientation\":\"v\",\"showlegend\":false,\"textposition\":\"auto\",\"x\":[\"KNeighborsUnif\",\"ExtraTreesEntr\",\"ExtraTreesGini\",\"KNeighborsDist\",\"NeuralNetFastAI\",\"NeuralNetTorch\",\"RandomForestEntr\",\"RandomForestGini\"],\"xaxis\":\"x\",\"y\":[0.019230769230769225,0.0,0.0,0.0,0.0,0.0,0.0,0.0],\"yaxis\":\"y\",\"type\":\"bar\"}],                        {\"barmode\":\"relative\",\"legend\":{\"title\":{\"text\":\"Top6\"},\"tracegroupgap\":0},\"margin\":{\"t\":60},\"template\":{\"data\":{\"barpolar\":[{\"marker\":{\"line\":{\"color\":\"white\",\"width\":0.5},\"pattern\":{\"fillmode\":\"overlay\",\"size\":10,\"solidity\":0.2}},\"type\":\"barpolar\"}],\"bar\":[{\"error_x\":{\"color\":\"#2a3f5f\"},\"error_y\":{\"color\":\"#2a3f5f\"},\"marker\":{\"line\":{\"color\":\"white\",\"width\":0.5},\"pattern\":{\"fillmode\":\"overlay\",\"size\":10,\"solidity\":0.2}},\"type\":\"bar\"}],\"carpet\":[{\"aaxis\":{\"endlinecolor\":\"#2a3f5f\",\"gridcolor\":\"#C8D4E3\",\"linecolor\":\"#C8D4E3\",\"minorgridcolor\":\"#C8D4E3\",\"startlinecolor\":\"#2a3f5f\"},\"baxis\":{\"endlinecolor\":\"#2a3f5f\",\"gridcolor\":\"#C8D4E3\",\"linecolor\":\"#C8D4E3\",\"minorgridcolor\":\"#C8D4E3\",\"startlinecolor\":\"#2a3f5f\"},\"type\":\"carpet\"}],\"choropleth\":[{\"colorbar\":{\"outlinewidth\":0,\"ticks\":\"\"},\"type\":\"choropleth\"}],\"contourcarpet\":[{\"colorbar\":{\"outlinewidth\":0,\"ticks\":\"\"},\"type\":\"contourcarpet\"}],\"contour\":[{\"colorbar\":{\"outlinewidth\":0,\"ticks\":\"\"},\"colorscale\":[[0.0,\"#0d0887\"],[0.1111111111111111,\"#46039f\"],[0.2222222222222222,\"#7201a8\"],[0.3333333333333333,\"#9c179e\"],[0.4444444444444444,\"#bd3786\"],[0.5555555555555556,\"#d8576b\"],[0.6666666666666666,\"#ed7953\"],[0.7777777777777778,\"#fb9f3a\"],[0.8888888888888888,\"#fdca26\"],[1.0,\"#f0f921\"]],\"type\":\"contour\"}],\"heatmapgl\":[{\"colorbar\":{\"outlinewidth\":0,\"ticks\":\"\"},\"colorscale\":[[0.0,\"#0d0887\"],[0.1111111111111111,\"#46039f\"],[0.2222222222222222,\"#7201a8\"],[0.3333333333333333,\"#9c179e\"],[0.4444444444444444,\"#bd3786\"],[0.5555555555555556,\"#d8576b\"],[0.6666666666666666,\"#ed7953\"],[0.7777777777777778,\"#fb9f3a\"],[0.8888888888888888,\"#fdca26\"],[1.0,\"#f0f921\"]],\"type\":\"heatmapgl\"}],\"heatmap\":[{\"colorbar\":{\"outlinewidth\":0,\"ticks\":\"\"},\"colorscale\":[[0.0,\"#0d0887\"],[0.1111111111111111,\"#46039f\"],[0.2222222222222222,\"#7201a8\"],[0.3333333333333333,\"#9c179e\"],[0.4444444444444444,\"#bd3786\"],[0.5555555555555556,\"#d8576b\"],[0.6666666666666666,\"#ed7953\"],[0.7777777777777778,\"#fb9f3a\"],[0.8888888888888888,\"#fdca26\"],[1.0,\"#f0f921\"]],\"type\":\"heatmap\"}],\"histogram2dcontour\":[{\"colorbar\":{\"outlinewidth\":0,\"ticks\":\"\"},\"colorscale\":[[0.0,\"#0d0887\"],[0.1111111111111111,\"#46039f\"],[0.2222222222222222,\"#7201a8\"],[0.3333333333333333,\"#9c179e\"],[0.4444444444444444,\"#bd3786\"],[0.5555555555555556,\"#d8576b\"],[0.6666666666666666,\"#ed7953\"],[0.7777777777777778,\"#fb9f3a\"],[0.8888888888888888,\"#fdca26\"],[1.0,\"#f0f921\"]],\"type\":\"histogram2dcontour\"}],\"histogram2d\":[{\"colorbar\":{\"outlinewidth\":0,\"ticks\":\"\"},\"colorscale\":[[0.0,\"#0d0887\"],[0.1111111111111111,\"#46039f\"],[0.2222222222222222,\"#7201a8\"],[0.3333333333333333,\"#9c179e\"],[0.4444444444444444,\"#bd3786\"],[0.5555555555555556,\"#d8576b\"],[0.6666666666666666,\"#ed7953\"],[0.7777777777777778,\"#fb9f3a\"],[0.8888888888888888,\"#fdca26\"],[1.0,\"#f0f921\"]],\"type\":\"histogram2d\"}],\"histogram\":[{\"marker\":{\"pattern\":{\"fillmode\":\"overlay\",\"size\":10,\"solidity\":0.2}},\"type\":\"histogram\"}],\"mesh3d\":[{\"colorbar\":{\"outlinewidth\":0,\"ticks\":\"\"},\"type\":\"mesh3d\"}],\"parcoords\":[{\"line\":{\"colorbar\":{\"outlinewidth\":0,\"ticks\":\"\"}},\"type\":\"parcoords\"}],\"pie\":[{\"automargin\":true,\"type\":\"pie\"}],\"scatter3d\":[{\"line\":{\"colorbar\":{\"outlinewidth\":0,\"ticks\":\"\"}},\"marker\":{\"colorbar\":{\"outlinewidth\":0,\"ticks\":\"\"}},\"type\":\"scatter3d\"}],\"scattercarpet\":[{\"marker\":{\"colorbar\":{\"outlinewidth\":0,\"ticks\":\"\"}},\"type\":\"scattercarpet\"}],\"scattergeo\":[{\"marker\":{\"colorbar\":{\"outlinewidth\":0,\"ticks\":\"\"}},\"type\":\"scattergeo\"}],\"scattergl\":[{\"marker\":{\"colorbar\":{\"outlinewidth\":0,\"ticks\":\"\"}},\"type\":\"scattergl\"}],\"scattermapbox\":[{\"marker\":{\"colorbar\":{\"outlinewidth\":0,\"ticks\":\"\"}},\"type\":\"scattermapbox\"}],\"scatterpolargl\":[{\"marker\":{\"colorbar\":{\"outlinewidth\":0,\"ticks\":\"\"}},\"type\":\"scatterpolargl\"}],\"scatterpolar\":[{\"marker\":{\"colorbar\":{\"outlinewidth\":0,\"ticks\":\"\"}},\"type\":\"scatterpolar\"}],\"scatter\":[{\"fillpattern\":{\"fillmode\":\"overlay\",\"size\":10,\"solidity\":0.2},\"type\":\"scatter\"}],\"scatterternary\":[{\"marker\":{\"colorbar\":{\"outlinewidth\":0,\"ticks\":\"\"}},\"type\":\"scatterternary\"}],\"surface\":[{\"colorbar\":{\"outlinewidth\":0,\"ticks\":\"\"},\"colorscale\":[[0.0,\"#0d0887\"],[0.1111111111111111,\"#46039f\"],[0.2222222222222222,\"#7201a8\"],[0.3333333333333333,\"#9c179e\"],[0.4444444444444444,\"#bd3786\"],[0.5555555555555556,\"#d8576b\"],[0.6666666666666666,\"#ed7953\"],[0.7777777777777778,\"#fb9f3a\"],[0.8888888888888888,\"#fdca26\"],[1.0,\"#f0f921\"]],\"type\":\"surface\"}],\"table\":[{\"cells\":{\"fill\":{\"color\":\"#EBF0F8\"},\"line\":{\"color\":\"white\"}},\"header\":{\"fill\":{\"color\":\"#C8D4E3\"},\"line\":{\"color\":\"white\"}},\"type\":\"table\"}]},\"layout\":{\"annotationdefaults\":{\"arrowcolor\":\"#2a3f5f\",\"arrowhead\":0,\"arrowwidth\":1},\"autotypenumbers\":\"strict\",\"coloraxis\":{\"colorbar\":{\"outlinewidth\":0,\"ticks\":\"\"}},\"colorscale\":{\"diverging\":[[0,\"#8e0152\"],[0.1,\"#c51b7d\"],[0.2,\"#de77ae\"],[0.3,\"#f1b6da\"],[0.4,\"#fde0ef\"],[0.5,\"#f7f7f7\"],[0.6,\"#e6f5d0\"],[0.7,\"#b8e186\"],[0.8,\"#7fbc41\"],[0.9,\"#4d9221\"],[1,\"#276419\"]],\"sequential\":[[0.0,\"#0d0887\"],[0.1111111111111111,\"#46039f\"],[0.2222222222222222,\"#7201a8\"],[0.3333333333333333,\"#9c179e\"],[0.4444444444444444,\"#bd3786\"],[0.5555555555555556,\"#d8576b\"],[0.6666666666666666,\"#ed7953\"],[0.7777777777777778,\"#fb9f3a\"],[0.8888888888888888,\"#fdca26\"],[1.0,\"#f0f921\"]],\"sequentialminus\":[[0.0,\"#0d0887\"],[0.1111111111111111,\"#46039f\"],[0.2222222222222222,\"#7201a8\"],[0.3333333333333333,\"#9c179e\"],[0.4444444444444444,\"#bd3786\"],[0.5555555555555556,\"#d8576b\"],[0.6666666666666666,\"#ed7953\"],[0.7777777777777778,\"#fb9f3a\"],[0.8888888888888888,\"#fdca26\"],[1.0,\"#f0f921\"]]},\"colorway\":[\"#636efa\",\"#EF553B\",\"#00cc96\",\"#ab63fa\",\"#FFA15A\",\"#19d3f3\",\"#FF6692\",\"#B6E880\",\"#FF97FF\",\"#FECB52\"],\"font\":{\"color\":\"#2a3f5f\"},\"geo\":{\"bgcolor\":\"white\",\"lakecolor\":\"white\",\"landcolor\":\"white\",\"showlakes\":true,\"showland\":true,\"subunitcolor\":\"#C8D4E3\"},\"hoverlabel\":{\"align\":\"left\"},\"hovermode\":\"closest\",\"mapbox\":{\"style\":\"light\"},\"paper_bgcolor\":\"white\",\"plot_bgcolor\":\"white\",\"polar\":{\"angularaxis\":{\"gridcolor\":\"#EBF0F8\",\"linecolor\":\"#EBF0F8\",\"ticks\":\"\"},\"bgcolor\":\"white\",\"radialaxis\":{\"gridcolor\":\"#EBF0F8\",\"linecolor\":\"#EBF0F8\",\"ticks\":\"\"}},\"scene\":{\"xaxis\":{\"backgroundcolor\":\"white\",\"gridcolor\":\"#DFE8F3\",\"gridwidth\":2,\"linecolor\":\"#EBF0F8\",\"showbackground\":true,\"ticks\":\"\",\"zerolinecolor\":\"#EBF0F8\"},\"yaxis\":{\"backgroundcolor\":\"white\",\"gridcolor\":\"#DFE8F3\",\"gridwidth\":2,\"linecolor\":\"#EBF0F8\",\"showbackground\":true,\"ticks\":\"\",\"zerolinecolor\":\"#EBF0F8\"},\"zaxis\":{\"backgroundcolor\":\"white\",\"gridcolor\":\"#DFE8F3\",\"gridwidth\":2,\"linecolor\":\"#EBF0F8\",\"showbackground\":true,\"ticks\":\"\",\"zerolinecolor\":\"#EBF0F8\"}},\"shapedefaults\":{\"line\":{\"color\":\"#2a3f5f\"}},\"ternary\":{\"aaxis\":{\"gridcolor\":\"#DFE8F3\",\"linecolor\":\"#A2B1C6\",\"ticks\":\"\"},\"baxis\":{\"gridcolor\":\"#DFE8F3\",\"linecolor\":\"#A2B1C6\",\"ticks\":\"\"},\"bgcolor\":\"white\",\"caxis\":{\"gridcolor\":\"#DFE8F3\",\"linecolor\":\"#A2B1C6\",\"ticks\":\"\"}},\"title\":{\"x\":0.05},\"xaxis\":{\"automargin\":true,\"gridcolor\":\"#EBF0F8\",\"linecolor\":\"#EBF0F8\",\"ticks\":\"\",\"title\":{\"standoff\":15},\"zerolinecolor\":\"#EBF0F8\",\"zerolinewidth\":2},\"yaxis\":{\"automargin\":true,\"gridcolor\":\"#EBF0F8\",\"linecolor\":\"#EBF0F8\",\"ticks\":\"\",\"title\":{\"standoff\":15},\"zerolinecolor\":\"#EBF0F8\",\"zerolinewidth\":2}}},\"xaxis\":{\"anchor\":\"y\",\"domain\":[0.0,1.0],\"title\":{\"text\":\"\"}},\"yaxis\":{\"anchor\":\"x\",\"domain\":[0.0,1.0],\"title\":{\"text\":\"Precision\"}},\"title\":{\"text\":\"Figure7(b): Precision of all Models\"},\"width\":1050,\"height\":500},                        {\"responsive\": true}                    ).then(function(){\n",
       "                            \n",
       "var gd = document.getElementById('314b33c1-f32e-4dbb-a53c-0e55cb8740aa');\n",
       "var x = new MutationObserver(function (mutations, observer) {{\n",
       "        var display = window.getComputedStyle(gd).display;\n",
       "        if (!display || display === 'none') {{\n",
       "            console.log([gd, 'removed!']);\n",
       "            Plotly.purge(gd);\n",
       "            observer.disconnect();\n",
       "        }}\n",
       "}});\n",
       "\n",
       "// Listen for the removal of the full notebook cells\n",
       "var notebookContainer = gd.closest('#notebook-container');\n",
       "if (notebookContainer) {{\n",
       "    x.observe(notebookContainer, {childList: true});\n",
       "}}\n",
       "\n",
       "// Listen for the clearing of the current output cell\n",
       "var outputEl = gd.closest('.output');\n",
       "if (outputEl) {{\n",
       "    x.observe(outputEl, {childList: true});\n",
       "}}\n",
       "\n",
       "                        })                };                });            </script>        </div>"
      ]
     },
     "metadata": {},
     "output_type": "display_data"
    }
   ],
   "source": [
    "figs['실험1모델비교PRE'].layout['title']['text']='Figure7(b): Precision of all Models'\n",
    "figs['실험1모델비교PRE'].layout['width']=1050\n",
    "figs['실험1모델비교PRE'].layout['height']=500\n",
    "figs['실험1모델비교PRE']"
   ]
  },
  {
   "cell_type": "markdown",
   "id": "3e3006af-2dd9-48c9-b6a9-5a3bc38f56c9",
   "metadata": {
    "tags": []
   },
   "source": [
    "#### F1 score"
   ]
  },
  {
   "cell_type": "code",
   "execution_count": 11,
   "id": "56e3d7e7-0ed4-412b-989a-82fa3c6609a2",
   "metadata": {
    "tags": []
   },
   "outputs": [
    {
     "data": {
      "text/html": [
       "<div>                            <div id=\"e06c8e84-174f-4b54-894d-ac56e2432345\" class=\"plotly-graph-div\" style=\"height:500px; width:1050px;\"></div>            <script type=\"text/javascript\">                require([\"plotly\"], function(Plotly) {                    window.PLOTLYENV=window.PLOTLYENV || {};                                    if (document.getElementById(\"e06c8e84-174f-4b54-894d-ac56e2432345\")) {                    Plotly.newPlot(                        \"e06c8e84-174f-4b54-894d-ac56e2432345\",                        [{\"alignmentgroup\":\"True\",\"hovertemplate\":\"Top6=True\\u003cbr\\u003eMethod=%{x}\\u003cbr\\u003eValue=%{y}\\u003cextra\\u003e\\u003c\\u002fextra\\u003e\",\"legendgroup\":\"True\",\"marker\":{\"color\":\"#636efa\",\"opacity\":1.0,\"pattern\":{\"shape\":\"\"}},\"name\":\"True\",\"offsetgroup\":\"True\",\"orientation\":\"v\",\"showlegend\":false,\"textposition\":\"auto\",\"x\":[\"LightGBMXT\",\"WeightedEnsemble_L2\",\"LightGBMLarge\",\"LightGBM\",\"XGBoost\",\"CatBoost\"],\"xaxis\":\"x\",\"y\":[0.2536363636363636,0.2482943143812709,0.2038461538461538,0.19542572463768115,0.19470723306544202,0.04166666666666665],\"yaxis\":\"y\",\"type\":\"bar\"},{\"alignmentgroup\":\"True\",\"hovertemplate\":\"Top6=False\\u003cbr\\u003eMethod=%{x}\\u003cbr\\u003eValue=%{y}\\u003cextra\\u003e\\u003c\\u002fextra\\u003e\",\"legendgroup\":\"False\",\"marker\":{\"color\":\"#636efa\",\"opacity\":0.2,\"pattern\":{\"shape\":\"\"}},\"name\":\"False\",\"offsetgroup\":\"False\",\"orientation\":\"v\",\"showlegend\":false,\"textposition\":\"auto\",\"x\":[\"KNeighborsUnif\",\"ExtraTreesEntr\",\"ExtraTreesGini\",\"KNeighborsDist\",\"NeuralNetFastAI\",\"NeuralNetTorch\",\"RandomForestEntr\",\"RandomForestGini\"],\"xaxis\":\"x\",\"y\":[0.0135135135135135,0.0,0.0,0.0,0.0,0.0,0.0,0.0],\"yaxis\":\"y\",\"type\":\"bar\"}],                        {\"barmode\":\"relative\",\"legend\":{\"title\":{\"text\":\"Top6\"},\"tracegroupgap\":0},\"margin\":{\"t\":60},\"template\":{\"data\":{\"barpolar\":[{\"marker\":{\"line\":{\"color\":\"white\",\"width\":0.5},\"pattern\":{\"fillmode\":\"overlay\",\"size\":10,\"solidity\":0.2}},\"type\":\"barpolar\"}],\"bar\":[{\"error_x\":{\"color\":\"#2a3f5f\"},\"error_y\":{\"color\":\"#2a3f5f\"},\"marker\":{\"line\":{\"color\":\"white\",\"width\":0.5},\"pattern\":{\"fillmode\":\"overlay\",\"size\":10,\"solidity\":0.2}},\"type\":\"bar\"}],\"carpet\":[{\"aaxis\":{\"endlinecolor\":\"#2a3f5f\",\"gridcolor\":\"#C8D4E3\",\"linecolor\":\"#C8D4E3\",\"minorgridcolor\":\"#C8D4E3\",\"startlinecolor\":\"#2a3f5f\"},\"baxis\":{\"endlinecolor\":\"#2a3f5f\",\"gridcolor\":\"#C8D4E3\",\"linecolor\":\"#C8D4E3\",\"minorgridcolor\":\"#C8D4E3\",\"startlinecolor\":\"#2a3f5f\"},\"type\":\"carpet\"}],\"choropleth\":[{\"colorbar\":{\"outlinewidth\":0,\"ticks\":\"\"},\"type\":\"choropleth\"}],\"contourcarpet\":[{\"colorbar\":{\"outlinewidth\":0,\"ticks\":\"\"},\"type\":\"contourcarpet\"}],\"contour\":[{\"colorbar\":{\"outlinewidth\":0,\"ticks\":\"\"},\"colorscale\":[[0.0,\"#0d0887\"],[0.1111111111111111,\"#46039f\"],[0.2222222222222222,\"#7201a8\"],[0.3333333333333333,\"#9c179e\"],[0.4444444444444444,\"#bd3786\"],[0.5555555555555556,\"#d8576b\"],[0.6666666666666666,\"#ed7953\"],[0.7777777777777778,\"#fb9f3a\"],[0.8888888888888888,\"#fdca26\"],[1.0,\"#f0f921\"]],\"type\":\"contour\"}],\"heatmapgl\":[{\"colorbar\":{\"outlinewidth\":0,\"ticks\":\"\"},\"colorscale\":[[0.0,\"#0d0887\"],[0.1111111111111111,\"#46039f\"],[0.2222222222222222,\"#7201a8\"],[0.3333333333333333,\"#9c179e\"],[0.4444444444444444,\"#bd3786\"],[0.5555555555555556,\"#d8576b\"],[0.6666666666666666,\"#ed7953\"],[0.7777777777777778,\"#fb9f3a\"],[0.8888888888888888,\"#fdca26\"],[1.0,\"#f0f921\"]],\"type\":\"heatmapgl\"}],\"heatmap\":[{\"colorbar\":{\"outlinewidth\":0,\"ticks\":\"\"},\"colorscale\":[[0.0,\"#0d0887\"],[0.1111111111111111,\"#46039f\"],[0.2222222222222222,\"#7201a8\"],[0.3333333333333333,\"#9c179e\"],[0.4444444444444444,\"#bd3786\"],[0.5555555555555556,\"#d8576b\"],[0.6666666666666666,\"#ed7953\"],[0.7777777777777778,\"#fb9f3a\"],[0.8888888888888888,\"#fdca26\"],[1.0,\"#f0f921\"]],\"type\":\"heatmap\"}],\"histogram2dcontour\":[{\"colorbar\":{\"outlinewidth\":0,\"ticks\":\"\"},\"colorscale\":[[0.0,\"#0d0887\"],[0.1111111111111111,\"#46039f\"],[0.2222222222222222,\"#7201a8\"],[0.3333333333333333,\"#9c179e\"],[0.4444444444444444,\"#bd3786\"],[0.5555555555555556,\"#d8576b\"],[0.6666666666666666,\"#ed7953\"],[0.7777777777777778,\"#fb9f3a\"],[0.8888888888888888,\"#fdca26\"],[1.0,\"#f0f921\"]],\"type\":\"histogram2dcontour\"}],\"histogram2d\":[{\"colorbar\":{\"outlinewidth\":0,\"ticks\":\"\"},\"colorscale\":[[0.0,\"#0d0887\"],[0.1111111111111111,\"#46039f\"],[0.2222222222222222,\"#7201a8\"],[0.3333333333333333,\"#9c179e\"],[0.4444444444444444,\"#bd3786\"],[0.5555555555555556,\"#d8576b\"],[0.6666666666666666,\"#ed7953\"],[0.7777777777777778,\"#fb9f3a\"],[0.8888888888888888,\"#fdca26\"],[1.0,\"#f0f921\"]],\"type\":\"histogram2d\"}],\"histogram\":[{\"marker\":{\"pattern\":{\"fillmode\":\"overlay\",\"size\":10,\"solidity\":0.2}},\"type\":\"histogram\"}],\"mesh3d\":[{\"colorbar\":{\"outlinewidth\":0,\"ticks\":\"\"},\"type\":\"mesh3d\"}],\"parcoords\":[{\"line\":{\"colorbar\":{\"outlinewidth\":0,\"ticks\":\"\"}},\"type\":\"parcoords\"}],\"pie\":[{\"automargin\":true,\"type\":\"pie\"}],\"scatter3d\":[{\"line\":{\"colorbar\":{\"outlinewidth\":0,\"ticks\":\"\"}},\"marker\":{\"colorbar\":{\"outlinewidth\":0,\"ticks\":\"\"}},\"type\":\"scatter3d\"}],\"scattercarpet\":[{\"marker\":{\"colorbar\":{\"outlinewidth\":0,\"ticks\":\"\"}},\"type\":\"scattercarpet\"}],\"scattergeo\":[{\"marker\":{\"colorbar\":{\"outlinewidth\":0,\"ticks\":\"\"}},\"type\":\"scattergeo\"}],\"scattergl\":[{\"marker\":{\"colorbar\":{\"outlinewidth\":0,\"ticks\":\"\"}},\"type\":\"scattergl\"}],\"scattermapbox\":[{\"marker\":{\"colorbar\":{\"outlinewidth\":0,\"ticks\":\"\"}},\"type\":\"scattermapbox\"}],\"scatterpolargl\":[{\"marker\":{\"colorbar\":{\"outlinewidth\":0,\"ticks\":\"\"}},\"type\":\"scatterpolargl\"}],\"scatterpolar\":[{\"marker\":{\"colorbar\":{\"outlinewidth\":0,\"ticks\":\"\"}},\"type\":\"scatterpolar\"}],\"scatter\":[{\"fillpattern\":{\"fillmode\":\"overlay\",\"size\":10,\"solidity\":0.2},\"type\":\"scatter\"}],\"scatterternary\":[{\"marker\":{\"colorbar\":{\"outlinewidth\":0,\"ticks\":\"\"}},\"type\":\"scatterternary\"}],\"surface\":[{\"colorbar\":{\"outlinewidth\":0,\"ticks\":\"\"},\"colorscale\":[[0.0,\"#0d0887\"],[0.1111111111111111,\"#46039f\"],[0.2222222222222222,\"#7201a8\"],[0.3333333333333333,\"#9c179e\"],[0.4444444444444444,\"#bd3786\"],[0.5555555555555556,\"#d8576b\"],[0.6666666666666666,\"#ed7953\"],[0.7777777777777778,\"#fb9f3a\"],[0.8888888888888888,\"#fdca26\"],[1.0,\"#f0f921\"]],\"type\":\"surface\"}],\"table\":[{\"cells\":{\"fill\":{\"color\":\"#EBF0F8\"},\"line\":{\"color\":\"white\"}},\"header\":{\"fill\":{\"color\":\"#C8D4E3\"},\"line\":{\"color\":\"white\"}},\"type\":\"table\"}]},\"layout\":{\"annotationdefaults\":{\"arrowcolor\":\"#2a3f5f\",\"arrowhead\":0,\"arrowwidth\":1},\"autotypenumbers\":\"strict\",\"coloraxis\":{\"colorbar\":{\"outlinewidth\":0,\"ticks\":\"\"}},\"colorscale\":{\"diverging\":[[0,\"#8e0152\"],[0.1,\"#c51b7d\"],[0.2,\"#de77ae\"],[0.3,\"#f1b6da\"],[0.4,\"#fde0ef\"],[0.5,\"#f7f7f7\"],[0.6,\"#e6f5d0\"],[0.7,\"#b8e186\"],[0.8,\"#7fbc41\"],[0.9,\"#4d9221\"],[1,\"#276419\"]],\"sequential\":[[0.0,\"#0d0887\"],[0.1111111111111111,\"#46039f\"],[0.2222222222222222,\"#7201a8\"],[0.3333333333333333,\"#9c179e\"],[0.4444444444444444,\"#bd3786\"],[0.5555555555555556,\"#d8576b\"],[0.6666666666666666,\"#ed7953\"],[0.7777777777777778,\"#fb9f3a\"],[0.8888888888888888,\"#fdca26\"],[1.0,\"#f0f921\"]],\"sequentialminus\":[[0.0,\"#0d0887\"],[0.1111111111111111,\"#46039f\"],[0.2222222222222222,\"#7201a8\"],[0.3333333333333333,\"#9c179e\"],[0.4444444444444444,\"#bd3786\"],[0.5555555555555556,\"#d8576b\"],[0.6666666666666666,\"#ed7953\"],[0.7777777777777778,\"#fb9f3a\"],[0.8888888888888888,\"#fdca26\"],[1.0,\"#f0f921\"]]},\"colorway\":[\"#636efa\",\"#EF553B\",\"#00cc96\",\"#ab63fa\",\"#FFA15A\",\"#19d3f3\",\"#FF6692\",\"#B6E880\",\"#FF97FF\",\"#FECB52\"],\"font\":{\"color\":\"#2a3f5f\"},\"geo\":{\"bgcolor\":\"white\",\"lakecolor\":\"white\",\"landcolor\":\"white\",\"showlakes\":true,\"showland\":true,\"subunitcolor\":\"#C8D4E3\"},\"hoverlabel\":{\"align\":\"left\"},\"hovermode\":\"closest\",\"mapbox\":{\"style\":\"light\"},\"paper_bgcolor\":\"white\",\"plot_bgcolor\":\"white\",\"polar\":{\"angularaxis\":{\"gridcolor\":\"#EBF0F8\",\"linecolor\":\"#EBF0F8\",\"ticks\":\"\"},\"bgcolor\":\"white\",\"radialaxis\":{\"gridcolor\":\"#EBF0F8\",\"linecolor\":\"#EBF0F8\",\"ticks\":\"\"}},\"scene\":{\"xaxis\":{\"backgroundcolor\":\"white\",\"gridcolor\":\"#DFE8F3\",\"gridwidth\":2,\"linecolor\":\"#EBF0F8\",\"showbackground\":true,\"ticks\":\"\",\"zerolinecolor\":\"#EBF0F8\"},\"yaxis\":{\"backgroundcolor\":\"white\",\"gridcolor\":\"#DFE8F3\",\"gridwidth\":2,\"linecolor\":\"#EBF0F8\",\"showbackground\":true,\"ticks\":\"\",\"zerolinecolor\":\"#EBF0F8\"},\"zaxis\":{\"backgroundcolor\":\"white\",\"gridcolor\":\"#DFE8F3\",\"gridwidth\":2,\"linecolor\":\"#EBF0F8\",\"showbackground\":true,\"ticks\":\"\",\"zerolinecolor\":\"#EBF0F8\"}},\"shapedefaults\":{\"line\":{\"color\":\"#2a3f5f\"}},\"ternary\":{\"aaxis\":{\"gridcolor\":\"#DFE8F3\",\"linecolor\":\"#A2B1C6\",\"ticks\":\"\"},\"baxis\":{\"gridcolor\":\"#DFE8F3\",\"linecolor\":\"#A2B1C6\",\"ticks\":\"\"},\"bgcolor\":\"white\",\"caxis\":{\"gridcolor\":\"#DFE8F3\",\"linecolor\":\"#A2B1C6\",\"ticks\":\"\"}},\"title\":{\"x\":0.05},\"xaxis\":{\"automargin\":true,\"gridcolor\":\"#EBF0F8\",\"linecolor\":\"#EBF0F8\",\"ticks\":\"\",\"title\":{\"standoff\":15},\"zerolinecolor\":\"#EBF0F8\",\"zerolinewidth\":2},\"yaxis\":{\"automargin\":true,\"gridcolor\":\"#EBF0F8\",\"linecolor\":\"#EBF0F8\",\"ticks\":\"\",\"title\":{\"standoff\":15},\"zerolinecolor\":\"#EBF0F8\",\"zerolinewidth\":2}}},\"xaxis\":{\"anchor\":\"y\",\"domain\":[0.0,1.0],\"title\":{\"text\":\"\"}},\"yaxis\":{\"anchor\":\"x\",\"domain\":[0.0,1.0],\"title\":{\"text\":\"F1 score\"}},\"title\":{\"text\":\"Figure7(c): F1 score of all Models\"},\"width\":1050,\"height\":500},                        {\"responsive\": true}                    ).then(function(){\n",
       "                            \n",
       "var gd = document.getElementById('e06c8e84-174f-4b54-894d-ac56e2432345');\n",
       "var x = new MutationObserver(function (mutations, observer) {{\n",
       "        var display = window.getComputedStyle(gd).display;\n",
       "        if (!display || display === 'none') {{\n",
       "            console.log([gd, 'removed!']);\n",
       "            Plotly.purge(gd);\n",
       "            observer.disconnect();\n",
       "        }}\n",
       "}});\n",
       "\n",
       "// Listen for the removal of the full notebook cells\n",
       "var notebookContainer = gd.closest('#notebook-container');\n",
       "if (notebookContainer) {{\n",
       "    x.observe(notebookContainer, {childList: true});\n",
       "}}\n",
       "\n",
       "// Listen for the clearing of the current output cell\n",
       "var outputEl = gd.closest('.output');\n",
       "if (outputEl) {{\n",
       "    x.observe(outputEl, {childList: true});\n",
       "}}\n",
       "\n",
       "                        })                };                });            </script>        </div>"
      ]
     },
     "metadata": {},
     "output_type": "display_data"
    }
   ],
   "source": [
    "figs['실험1모델비교F1'].layout['title']['text']='Figure7(c): F1 score of all Models'\n",
    "figs['실험1모델비교F1'].layout['width']=1050\n",
    "figs['실험1모델비교F1'].layout['height']=500\n",
    "figs['실험1모델비교F1']"
   ]
  },
  {
   "cell_type": "markdown",
   "id": "0854e852-4760-4c2f-8dde-a7c85acc6f77",
   "metadata": {},
   "source": [
    "#### AUC"
   ]
  },
  {
   "cell_type": "code",
   "execution_count": 12,
   "id": "cec8130f-b215-40eb-abc8-0cb3745a9bc1",
   "metadata": {
    "tags": []
   },
   "outputs": [
    {
     "data": {
      "text/html": [
       "<div>                            <div id=\"35f640d0-1d62-4cd6-a456-38da07f280e9\" class=\"plotly-graph-div\" style=\"height:500px; width:1050px;\"></div>            <script type=\"text/javascript\">                require([\"plotly\"], function(Plotly) {                    window.PLOTLYENV=window.PLOTLYENV || {};                                    if (document.getElementById(\"35f640d0-1d62-4cd6-a456-38da07f280e9\")) {                    Plotly.newPlot(                        \"35f640d0-1d62-4cd6-a456-38da07f280e9\",                        [{\"alignmentgroup\":\"True\",\"hovertemplate\":\"Top6=True\\u003cbr\\u003eMethod=%{x}\\u003cbr\\u003eValue=%{y}\\u003cextra\\u003e\\u003c\\u002fextra\\u003e\",\"legendgroup\":\"True\",\"marker\":{\"color\":\"#636efa\",\"pattern\":{\"shape\":\"\"}},\"name\":\"True\",\"offsetgroup\":\"True\",\"orientation\":\"v\",\"showlegend\":false,\"textposition\":\"auto\",\"x\":[\"XGBoost\",\"LightGBM\",\"LightGBMLarge\",\"LightGBMXT\",\"CatBoost\",\"WeightedEnsemble_L2\"],\"xaxis\":\"x\",\"y\":[0.8468571494081749,0.8286204594005985,0.8236851340156227,0.8112259799949169,0.7920376486439058,0.7875408594765151],\"yaxis\":\"y\",\"type\":\"bar\"},{\"alignmentgroup\":\"True\",\"hovertemplate\":\"Top6=False\\u003cbr\\u003eMethod=%{x}\\u003cbr\\u003eValue=%{y}\\u003cextra\\u003e\\u003c\\u002fextra\\u003e\",\"legendgroup\":\"False\",\"marker\":{\"color\":\"#636efa\",\"opacity\":0.2,\"pattern\":{\"shape\":\"\"}},\"name\":\"False\",\"offsetgroup\":\"False\",\"orientation\":\"v\",\"showlegend\":false,\"textposition\":\"auto\",\"x\":[\"RandomForestGini\",\"ExtraTreesGini\",\"RandomForestEntr\",\"ExtraTreesEntr\",\"NeuralNetTorch\",\"NeuralNetFastAI\",\"KNeighborsUnif\",\"KNeighborsDist\"],\"xaxis\":\"x\",\"y\":[0.699335816142759,0.6937331153872006,0.6918823305998468,0.677955833810679,0.6212891863514083,0.5568656915473013,0.5149394026666722,0.5148497958618381],\"yaxis\":\"y\",\"type\":\"bar\"}],                        {\"barmode\":\"relative\",\"legend\":{\"title\":{\"text\":\"Top6\"},\"tracegroupgap\":0},\"margin\":{\"t\":60},\"template\":{\"data\":{\"barpolar\":[{\"marker\":{\"line\":{\"color\":\"white\",\"width\":0.5},\"pattern\":{\"fillmode\":\"overlay\",\"size\":10,\"solidity\":0.2}},\"type\":\"barpolar\"}],\"bar\":[{\"error_x\":{\"color\":\"#2a3f5f\"},\"error_y\":{\"color\":\"#2a3f5f\"},\"marker\":{\"line\":{\"color\":\"white\",\"width\":0.5},\"pattern\":{\"fillmode\":\"overlay\",\"size\":10,\"solidity\":0.2}},\"type\":\"bar\"}],\"carpet\":[{\"aaxis\":{\"endlinecolor\":\"#2a3f5f\",\"gridcolor\":\"#C8D4E3\",\"linecolor\":\"#C8D4E3\",\"minorgridcolor\":\"#C8D4E3\",\"startlinecolor\":\"#2a3f5f\"},\"baxis\":{\"endlinecolor\":\"#2a3f5f\",\"gridcolor\":\"#C8D4E3\",\"linecolor\":\"#C8D4E3\",\"minorgridcolor\":\"#C8D4E3\",\"startlinecolor\":\"#2a3f5f\"},\"type\":\"carpet\"}],\"choropleth\":[{\"colorbar\":{\"outlinewidth\":0,\"ticks\":\"\"},\"type\":\"choropleth\"}],\"contourcarpet\":[{\"colorbar\":{\"outlinewidth\":0,\"ticks\":\"\"},\"type\":\"contourcarpet\"}],\"contour\":[{\"colorbar\":{\"outlinewidth\":0,\"ticks\":\"\"},\"colorscale\":[[0.0,\"#0d0887\"],[0.1111111111111111,\"#46039f\"],[0.2222222222222222,\"#7201a8\"],[0.3333333333333333,\"#9c179e\"],[0.4444444444444444,\"#bd3786\"],[0.5555555555555556,\"#d8576b\"],[0.6666666666666666,\"#ed7953\"],[0.7777777777777778,\"#fb9f3a\"],[0.8888888888888888,\"#fdca26\"],[1.0,\"#f0f921\"]],\"type\":\"contour\"}],\"heatmapgl\":[{\"colorbar\":{\"outlinewidth\":0,\"ticks\":\"\"},\"colorscale\":[[0.0,\"#0d0887\"],[0.1111111111111111,\"#46039f\"],[0.2222222222222222,\"#7201a8\"],[0.3333333333333333,\"#9c179e\"],[0.4444444444444444,\"#bd3786\"],[0.5555555555555556,\"#d8576b\"],[0.6666666666666666,\"#ed7953\"],[0.7777777777777778,\"#fb9f3a\"],[0.8888888888888888,\"#fdca26\"],[1.0,\"#f0f921\"]],\"type\":\"heatmapgl\"}],\"heatmap\":[{\"colorbar\":{\"outlinewidth\":0,\"ticks\":\"\"},\"colorscale\":[[0.0,\"#0d0887\"],[0.1111111111111111,\"#46039f\"],[0.2222222222222222,\"#7201a8\"],[0.3333333333333333,\"#9c179e\"],[0.4444444444444444,\"#bd3786\"],[0.5555555555555556,\"#d8576b\"],[0.6666666666666666,\"#ed7953\"],[0.7777777777777778,\"#fb9f3a\"],[0.8888888888888888,\"#fdca26\"],[1.0,\"#f0f921\"]],\"type\":\"heatmap\"}],\"histogram2dcontour\":[{\"colorbar\":{\"outlinewidth\":0,\"ticks\":\"\"},\"colorscale\":[[0.0,\"#0d0887\"],[0.1111111111111111,\"#46039f\"],[0.2222222222222222,\"#7201a8\"],[0.3333333333333333,\"#9c179e\"],[0.4444444444444444,\"#bd3786\"],[0.5555555555555556,\"#d8576b\"],[0.6666666666666666,\"#ed7953\"],[0.7777777777777778,\"#fb9f3a\"],[0.8888888888888888,\"#fdca26\"],[1.0,\"#f0f921\"]],\"type\":\"histogram2dcontour\"}],\"histogram2d\":[{\"colorbar\":{\"outlinewidth\":0,\"ticks\":\"\"},\"colorscale\":[[0.0,\"#0d0887\"],[0.1111111111111111,\"#46039f\"],[0.2222222222222222,\"#7201a8\"],[0.3333333333333333,\"#9c179e\"],[0.4444444444444444,\"#bd3786\"],[0.5555555555555556,\"#d8576b\"],[0.6666666666666666,\"#ed7953\"],[0.7777777777777778,\"#fb9f3a\"],[0.8888888888888888,\"#fdca26\"],[1.0,\"#f0f921\"]],\"type\":\"histogram2d\"}],\"histogram\":[{\"marker\":{\"pattern\":{\"fillmode\":\"overlay\",\"size\":10,\"solidity\":0.2}},\"type\":\"histogram\"}],\"mesh3d\":[{\"colorbar\":{\"outlinewidth\":0,\"ticks\":\"\"},\"type\":\"mesh3d\"}],\"parcoords\":[{\"line\":{\"colorbar\":{\"outlinewidth\":0,\"ticks\":\"\"}},\"type\":\"parcoords\"}],\"pie\":[{\"automargin\":true,\"type\":\"pie\"}],\"scatter3d\":[{\"line\":{\"colorbar\":{\"outlinewidth\":0,\"ticks\":\"\"}},\"marker\":{\"colorbar\":{\"outlinewidth\":0,\"ticks\":\"\"}},\"type\":\"scatter3d\"}],\"scattercarpet\":[{\"marker\":{\"colorbar\":{\"outlinewidth\":0,\"ticks\":\"\"}},\"type\":\"scattercarpet\"}],\"scattergeo\":[{\"marker\":{\"colorbar\":{\"outlinewidth\":0,\"ticks\":\"\"}},\"type\":\"scattergeo\"}],\"scattergl\":[{\"marker\":{\"colorbar\":{\"outlinewidth\":0,\"ticks\":\"\"}},\"type\":\"scattergl\"}],\"scattermapbox\":[{\"marker\":{\"colorbar\":{\"outlinewidth\":0,\"ticks\":\"\"}},\"type\":\"scattermapbox\"}],\"scatterpolargl\":[{\"marker\":{\"colorbar\":{\"outlinewidth\":0,\"ticks\":\"\"}},\"type\":\"scatterpolargl\"}],\"scatterpolar\":[{\"marker\":{\"colorbar\":{\"outlinewidth\":0,\"ticks\":\"\"}},\"type\":\"scatterpolar\"}],\"scatter\":[{\"fillpattern\":{\"fillmode\":\"overlay\",\"size\":10,\"solidity\":0.2},\"type\":\"scatter\"}],\"scatterternary\":[{\"marker\":{\"colorbar\":{\"outlinewidth\":0,\"ticks\":\"\"}},\"type\":\"scatterternary\"}],\"surface\":[{\"colorbar\":{\"outlinewidth\":0,\"ticks\":\"\"},\"colorscale\":[[0.0,\"#0d0887\"],[0.1111111111111111,\"#46039f\"],[0.2222222222222222,\"#7201a8\"],[0.3333333333333333,\"#9c179e\"],[0.4444444444444444,\"#bd3786\"],[0.5555555555555556,\"#d8576b\"],[0.6666666666666666,\"#ed7953\"],[0.7777777777777778,\"#fb9f3a\"],[0.8888888888888888,\"#fdca26\"],[1.0,\"#f0f921\"]],\"type\":\"surface\"}],\"table\":[{\"cells\":{\"fill\":{\"color\":\"#EBF0F8\"},\"line\":{\"color\":\"white\"}},\"header\":{\"fill\":{\"color\":\"#C8D4E3\"},\"line\":{\"color\":\"white\"}},\"type\":\"table\"}]},\"layout\":{\"annotationdefaults\":{\"arrowcolor\":\"#2a3f5f\",\"arrowhead\":0,\"arrowwidth\":1},\"autotypenumbers\":\"strict\",\"coloraxis\":{\"colorbar\":{\"outlinewidth\":0,\"ticks\":\"\"}},\"colorscale\":{\"diverging\":[[0,\"#8e0152\"],[0.1,\"#c51b7d\"],[0.2,\"#de77ae\"],[0.3,\"#f1b6da\"],[0.4,\"#fde0ef\"],[0.5,\"#f7f7f7\"],[0.6,\"#e6f5d0\"],[0.7,\"#b8e186\"],[0.8,\"#7fbc41\"],[0.9,\"#4d9221\"],[1,\"#276419\"]],\"sequential\":[[0.0,\"#0d0887\"],[0.1111111111111111,\"#46039f\"],[0.2222222222222222,\"#7201a8\"],[0.3333333333333333,\"#9c179e\"],[0.4444444444444444,\"#bd3786\"],[0.5555555555555556,\"#d8576b\"],[0.6666666666666666,\"#ed7953\"],[0.7777777777777778,\"#fb9f3a\"],[0.8888888888888888,\"#fdca26\"],[1.0,\"#f0f921\"]],\"sequentialminus\":[[0.0,\"#0d0887\"],[0.1111111111111111,\"#46039f\"],[0.2222222222222222,\"#7201a8\"],[0.3333333333333333,\"#9c179e\"],[0.4444444444444444,\"#bd3786\"],[0.5555555555555556,\"#d8576b\"],[0.6666666666666666,\"#ed7953\"],[0.7777777777777778,\"#fb9f3a\"],[0.8888888888888888,\"#fdca26\"],[1.0,\"#f0f921\"]]},\"colorway\":[\"#636efa\",\"#EF553B\",\"#00cc96\",\"#ab63fa\",\"#FFA15A\",\"#19d3f3\",\"#FF6692\",\"#B6E880\",\"#FF97FF\",\"#FECB52\"],\"font\":{\"color\":\"#2a3f5f\"},\"geo\":{\"bgcolor\":\"white\",\"lakecolor\":\"white\",\"landcolor\":\"white\",\"showlakes\":true,\"showland\":true,\"subunitcolor\":\"#C8D4E3\"},\"hoverlabel\":{\"align\":\"left\"},\"hovermode\":\"closest\",\"mapbox\":{\"style\":\"light\"},\"paper_bgcolor\":\"white\",\"plot_bgcolor\":\"white\",\"polar\":{\"angularaxis\":{\"gridcolor\":\"#EBF0F8\",\"linecolor\":\"#EBF0F8\",\"ticks\":\"\"},\"bgcolor\":\"white\",\"radialaxis\":{\"gridcolor\":\"#EBF0F8\",\"linecolor\":\"#EBF0F8\",\"ticks\":\"\"}},\"scene\":{\"xaxis\":{\"backgroundcolor\":\"white\",\"gridcolor\":\"#DFE8F3\",\"gridwidth\":2,\"linecolor\":\"#EBF0F8\",\"showbackground\":true,\"ticks\":\"\",\"zerolinecolor\":\"#EBF0F8\"},\"yaxis\":{\"backgroundcolor\":\"white\",\"gridcolor\":\"#DFE8F3\",\"gridwidth\":2,\"linecolor\":\"#EBF0F8\",\"showbackground\":true,\"ticks\":\"\",\"zerolinecolor\":\"#EBF0F8\"},\"zaxis\":{\"backgroundcolor\":\"white\",\"gridcolor\":\"#DFE8F3\",\"gridwidth\":2,\"linecolor\":\"#EBF0F8\",\"showbackground\":true,\"ticks\":\"\",\"zerolinecolor\":\"#EBF0F8\"}},\"shapedefaults\":{\"line\":{\"color\":\"#2a3f5f\"}},\"ternary\":{\"aaxis\":{\"gridcolor\":\"#DFE8F3\",\"linecolor\":\"#A2B1C6\",\"ticks\":\"\"},\"baxis\":{\"gridcolor\":\"#DFE8F3\",\"linecolor\":\"#A2B1C6\",\"ticks\":\"\"},\"bgcolor\":\"white\",\"caxis\":{\"gridcolor\":\"#DFE8F3\",\"linecolor\":\"#A2B1C6\",\"ticks\":\"\"}},\"title\":{\"x\":0.05},\"xaxis\":{\"automargin\":true,\"gridcolor\":\"#EBF0F8\",\"linecolor\":\"#EBF0F8\",\"ticks\":\"\",\"title\":{\"standoff\":15},\"zerolinecolor\":\"#EBF0F8\",\"zerolinewidth\":2},\"yaxis\":{\"automargin\":true,\"gridcolor\":\"#EBF0F8\",\"linecolor\":\"#EBF0F8\",\"ticks\":\"\",\"title\":{\"standoff\":15},\"zerolinecolor\":\"#EBF0F8\",\"zerolinewidth\":2}}},\"xaxis\":{\"anchor\":\"y\",\"domain\":[0.0,1.0],\"title\":{\"text\":\"\"}},\"yaxis\":{\"anchor\":\"x\",\"domain\":[0.0,1.0],\"title\":{\"text\":\"Area Under the Curve\"}},\"title\":{\"text\":\"Figure7(d): AUC of all Models\"},\"width\":1050,\"height\":500},                        {\"responsive\": true}                    ).then(function(){\n",
       "                            \n",
       "var gd = document.getElementById('35f640d0-1d62-4cd6-a456-38da07f280e9');\n",
       "var x = new MutationObserver(function (mutations, observer) {{\n",
       "        var display = window.getComputedStyle(gd).display;\n",
       "        if (!display || display === 'none') {{\n",
       "            console.log([gd, 'removed!']);\n",
       "            Plotly.purge(gd);\n",
       "            observer.disconnect();\n",
       "        }}\n",
       "}});\n",
       "\n",
       "// Listen for the removal of the full notebook cells\n",
       "var notebookContainer = gd.closest('#notebook-container');\n",
       "if (notebookContainer) {{\n",
       "    x.observe(notebookContainer, {childList: true});\n",
       "}}\n",
       "\n",
       "// Listen for the clearing of the current output cell\n",
       "var outputEl = gd.closest('.output');\n",
       "if (outputEl) {{\n",
       "    x.observe(outputEl, {childList: true});\n",
       "}}\n",
       "\n",
       "                        })                };                });            </script>        </div>"
      ]
     },
     "metadata": {},
     "output_type": "display_data"
    }
   ],
   "source": [
    "figs['실험1모델비교AUC'].layout['title']['text']='Figure7(d): AUC of all Models'\n",
    "figs['실험1모델비교AUC'].layout['width']=1050\n",
    "figs['실험1모델비교AUC'].layout['height']=500\n",
    "figs['실험1모델비교AUC']"
   ]
  },
  {
   "cell_type": "markdown",
   "id": "8afe7abc-f0e2-4f22-9826-c42244652058",
   "metadata": {},
   "source": [
    "::: {.notes}\n",
    "랜덤으로 찍으면 0.5가 나온다. 그래서 다 0.5보다 위이다\n",
    "\n",
    "recall, precision, f1score, auc 네 가지를 돌려보았고, 모델을 6개만 사용한 이유는 이렇게 6가지가 가장 유의미했고, auc 모델만 결과요약에 사용한 것은 스레시홀드가 상관이 없고, 대중적으로 많이 사용하는 것이라 결과로 내보았다.\n",
    "::: "
   ]
  },
  {
   "cell_type": "markdown",
   "id": "ac9717f2-fcbc-43e8-a6a3-3594ef6e0a5a",
   "metadata": {},
   "source": [
    ":::"
   ]
  },
  {
   "cell_type": "markdown",
   "id": "eb8609ba-0a01-421e-a018-ce77cb4cc1ca",
   "metadata": {},
   "source": [
    "## Experiment2"
   ]
  },
  {
   "cell_type": "code",
   "execution_count": 13,
   "id": "c886d1c7-c3fc-4f15-918d-be1306bbeb04",
   "metadata": {
    "tags": []
   },
   "outputs": [
    {
     "data": {
      "text/html": [
       "<div>                            <div id=\"d6c880a5-7ee5-426d-804c-33bd3faee11e\" class=\"plotly-graph-div\" style=\"height:600px; width:1050px;\"></div>            <script type=\"text/javascript\">                require([\"plotly\"], function(Plotly) {                    window.PLOTLYENV=window.PLOTLYENV || {};                                    if (document.getElementById(\"d6c880a5-7ee5-426d-804c-33bd3faee11e\")) {                    Plotly.newPlot(                        \"d6c880a5-7ee5-426d-804c-33bd3faee11e\",                        [{\"alignmentgroup\":\"True\",\"customdata\":[[\"Kaggle\"]],\"hovertemplate\":\"Type=%{x}\\u003cbr\\u003eCount=%{text}\\u003cbr\\u003eDataType=Train\\u003cbr\\u003eSource=%{customdata[0]}\\u003cbr\\u003e\\u003cextra\\u003e\\u003c\\u002fextra\\u003e\",\"legendgroup\":\"Test\",\"marker\":{\"color\":[\"#636efa\"],\"coloraxis\":\"coloraxis\",\"pattern\":{\"shape\":\"\\u002f\"}},\"name\":\"Test\",\"offsetgroup\":\"Test\",\"orientation\":\"h\",\"showlegend\":true,\"text\":[\"30 (Kaggle)\"],\"textposition\":\"auto\",\"x\":[30],\"xaxis\":\"x7\",\"y\":[\"ENFJ\"],\"yaxis\":\"y7\",\"type\":\"bar\"},{\"alignmentgroup\":\"True\",\"customdata\":[[\"Kaggle\"]],\"hovertemplate\":\"Type=%{x}\\u003cbr\\u003eCount=%{text}\\u003cbr\\u003eDataType=Train\\u003cbr\\u003eSource=%{customdata[0]}\\u003cbr\\u003e\\u003cextra\\u003e\\u003c\\u002fextra\\u003e\",\"legendgroup\":\"Test\",\"marker\":{\"color\":[\"#636efa\"],\"coloraxis\":\"coloraxis\",\"pattern\":{\"shape\":\"\\u002f\"}},\"name\":\"Test\",\"offsetgroup\":\"Test\",\"orientation\":\"h\",\"showlegend\":false,\"text\":[\"30 (Kaggle)\"],\"textposition\":\"auto\",\"x\":[30],\"xaxis\":\"x5\",\"y\":[\"ENFJ\"],\"yaxis\":\"y5\",\"type\":\"bar\"},{\"alignmentgroup\":\"True\",\"customdata\":[[\"Kaggle\"]],\"hovertemplate\":\"Type=%{x}\\u003cbr\\u003eCount=%{text}\\u003cbr\\u003eDataType=Train\\u003cbr\\u003eSource=%{customdata[0]}\\u003cbr\\u003e\\u003cextra\\u003e\\u003c\\u002fextra\\u003e\",\"legendgroup\":\"Test\",\"marker\":{\"color\":[\"#636efa\"],\"coloraxis\":\"coloraxis\",\"pattern\":{\"shape\":\"\\u002f\"}},\"name\":\"Test\",\"offsetgroup\":\"Test\",\"orientation\":\"h\",\"showlegend\":false,\"text\":[\"30 (Kaggle)\"],\"textposition\":\"auto\",\"x\":[30],\"xaxis\":\"x6\",\"y\":[\"ENFJ\"],\"yaxis\":\"y6\",\"type\":\"bar\"},{\"alignmentgroup\":\"True\",\"customdata\":[[\"Kaggle\"]],\"hovertemplate\":\"Type=%{x}\\u003cbr\\u003eCount=%{text}\\u003cbr\\u003eDataType=Train\\u003cbr\\u003eSource=%{customdata[0]}\\u003cbr\\u003e\\u003cextra\\u003e\\u003c\\u002fextra\\u003e\",\"legendgroup\":\"Test\",\"marker\":{\"color\":[\"#636efa\"],\"coloraxis\":\"coloraxis\",\"pattern\":{\"shape\":\"\\u002f\"}},\"name\":\"Test\",\"offsetgroup\":\"Test\",\"orientation\":\"h\",\"showlegend\":false,\"text\":[\"30 (Kaggle)\"],\"textposition\":\"auto\",\"x\":[30],\"xaxis\":\"x3\",\"y\":[\"ENFJ\"],\"yaxis\":\"y3\",\"type\":\"bar\"},{\"alignmentgroup\":\"True\",\"customdata\":[[\"Kaggle\"]],\"hovertemplate\":\"Type=%{x}\\u003cbr\\u003eCount=%{text}\\u003cbr\\u003eDataType=Train\\u003cbr\\u003eSource=%{customdata[0]}\\u003cbr\\u003e\\u003cextra\\u003e\\u003c\\u002fextra\\u003e\",\"legendgroup\":\"Test\",\"marker\":{\"color\":[\"#636efa\"],\"coloraxis\":\"coloraxis\",\"pattern\":{\"shape\":\"\\u002f\"}},\"name\":\"Test\",\"offsetgroup\":\"Test\",\"orientation\":\"h\",\"showlegend\":false,\"text\":[\"30 (Kaggle)\"],\"textposition\":\"auto\",\"x\":[30],\"xaxis\":\"x4\",\"y\":[\"ENFJ\"],\"yaxis\":\"y4\",\"type\":\"bar\"},{\"alignmentgroup\":\"True\",\"customdata\":[[\"Kaggle\"]],\"hovertemplate\":\"Type=%{x}\\u003cbr\\u003eCount=%{text}\\u003cbr\\u003eDataType=Train\\u003cbr\\u003eSource=%{customdata[0]}\\u003cbr\\u003e\\u003cextra\\u003e\\u003c\\u002fextra\\u003e\",\"legendgroup\":\"Test\",\"marker\":{\"color\":[\"#636efa\"],\"coloraxis\":\"coloraxis\",\"pattern\":{\"shape\":\"\\u002f\"}},\"name\":\"Test\",\"offsetgroup\":\"Test\",\"orientation\":\"h\",\"showlegend\":false,\"text\":[\"30 (Kaggle)\"],\"textposition\":\"auto\",\"x\":[30],\"xaxis\":\"x\",\"y\":[\"ENFJ\"],\"yaxis\":\"y\",\"type\":\"bar\"},{\"alignmentgroup\":\"True\",\"customdata\":[[\"Kaggle\"]],\"hovertemplate\":\"Type=%{x}\\u003cbr\\u003eCount=%{text}\\u003cbr\\u003eDataType=Train\\u003cbr\\u003eSource=%{customdata[0]}\\u003cbr\\u003e\\u003cextra\\u003e\\u003c\\u002fextra\\u003e\",\"legendgroup\":\"Test\",\"marker\":{\"color\":[\"#636efa\"],\"coloraxis\":\"coloraxis\",\"pattern\":{\"shape\":\"\\u002f\"}},\"name\":\"Test\",\"offsetgroup\":\"Test\",\"orientation\":\"h\",\"showlegend\":false,\"text\":[\"30 (Kaggle)\"],\"textposition\":\"auto\",\"x\":[30],\"xaxis\":\"x2\",\"y\":[\"ENFJ\"],\"yaxis\":\"y2\",\"type\":\"bar\"},{\"alignmentgroup\":\"True\",\"customdata\":[[\"Kaggle\"]],\"hovertemplate\":\"Type=%{x}\\u003cbr\\u003eCount=%{text}\\u003cbr\\u003eDataType=Train\\u003cbr\\u003eSource=%{customdata[0]}\\u003cbr\\u003e\\u003cextra\\u003e\\u003c\\u002fextra\\u003e\",\"legendgroup\":\"Train\",\"marker\":{\"color\":[\"#636efa\"],\"coloraxis\":\"coloraxis\",\"pattern\":{\"shape\":\"\"}},\"name\":\"Train\",\"offsetgroup\":\"Train\",\"orientation\":\"h\",\"showlegend\":true,\"text\":[\"1 (Kaggle)\"],\"textposition\":\"auto\",\"x\":[1],\"xaxis\":\"x7\",\"y\":[\"ENFJ\"],\"yaxis\":\"y7\",\"type\":\"bar\"},{\"alignmentgroup\":\"True\",\"customdata\":[[\"Kaggle\"],[\"Kaggle\"]],\"hovertemplate\":\"Type=%{x}\\u003cbr\\u003eCount=%{text}\\u003cbr\\u003eDataType=Train\\u003cbr\\u003eSource=%{customdata[0]}\\u003cbr\\u003e\\u003cextra\\u003e\\u003c\\u002fextra\\u003e\",\"legendgroup\":\"Train\",\"marker\":{\"color\":[\"#636efa\",\"#636efa\"],\"coloraxis\":\"coloraxis\",\"pattern\":{\"shape\":\"\"}},\"name\":\"Train\",\"offsetgroup\":\"Train\",\"orientation\":\"h\",\"showlegend\":false,\"text\":[\"1 (Kaggle)\",\"40 (Kaggle)\"],\"textposition\":\"auto\",\"x\":[1,40],\"xaxis\":\"x5\",\"y\":[\"ENFJ\",\"ENFJ\"],\"yaxis\":\"y5\",\"type\":\"bar\"},{\"alignmentgroup\":\"True\",\"customdata\":[[\"Kaggle\"],[\"ChatGPT\"]],\"hovertemplate\":\"Type=%{x}\\u003cbr\\u003eCount=%{text}\\u003cbr\\u003eDataType=Train\\u003cbr\\u003eSource=%{customdata[0]}\\u003cbr\\u003e\\u003cextra\\u003e\\u003c\\u002fextra\\u003e\",\"legendgroup\":\"Train\",\"marker\":{\"color\":[\"#636efa\",\"#EF553B\"],\"coloraxis\":\"coloraxis\",\"pattern\":{\"shape\":\"\"}},\"name\":\"Train\",\"offsetgroup\":\"Train\",\"orientation\":\"h\",\"showlegend\":false,\"text\":[\"1 (Kaggle)\",\"40 (ChatGPT)\"],\"textposition\":\"auto\",\"x\":[1,40],\"xaxis\":\"x6\",\"y\":[\"ENFJ\",\"ENFJ\"],\"yaxis\":\"y6\",\"type\":\"bar\"},{\"alignmentgroup\":\"True\",\"customdata\":[[\"Kaggle\"],[\"Kaggle\"]],\"hovertemplate\":\"Type=%{x}\\u003cbr\\u003eCount=%{text}\\u003cbr\\u003eDataType=Train\\u003cbr\\u003eSource=%{customdata[0]}\\u003cbr\\u003e\\u003cextra\\u003e\\u003c\\u002fextra\\u003e\",\"legendgroup\":\"Train\",\"marker\":{\"color\":[\"#636efa\",\"#636efa\"],\"coloraxis\":\"coloraxis\",\"pattern\":{\"shape\":\"\"}},\"name\":\"Train\",\"offsetgroup\":\"Train\",\"orientation\":\"h\",\"showlegend\":false,\"text\":[\"1 (Kaggle)\",\"80 (Kaggle)\"],\"textposition\":\"auto\",\"x\":[1,80],\"xaxis\":\"x3\",\"y\":[\"ENFJ\",\"ENFJ\"],\"yaxis\":\"y3\",\"type\":\"bar\"},{\"alignmentgroup\":\"True\",\"customdata\":[[\"Kaggle\"],[\"ChatGPT\"]],\"hovertemplate\":\"Type=%{x}\\u003cbr\\u003eCount=%{text}\\u003cbr\\u003eDataType=Train\\u003cbr\\u003eSource=%{customdata[0]}\\u003cbr\\u003e\\u003cextra\\u003e\\u003c\\u002fextra\\u003e\",\"legendgroup\":\"Train\",\"marker\":{\"color\":[\"#636efa\",\"#EF553B\"],\"coloraxis\":\"coloraxis\",\"pattern\":{\"shape\":\"\"}},\"name\":\"Train\",\"offsetgroup\":\"Train\",\"orientation\":\"h\",\"showlegend\":false,\"text\":[\"1 (Kaggle)\",\"80 (ChatGPT)\"],\"textposition\":\"auto\",\"x\":[1,80],\"xaxis\":\"x4\",\"y\":[\"ENFJ\",\"ENFJ\"],\"yaxis\":\"y4\",\"type\":\"bar\"},{\"alignmentgroup\":\"True\",\"customdata\":[[\"Kaggle\"],[\"Kaggle\"]],\"hovertemplate\":\"Type=%{x}\\u003cbr\\u003eCount=%{text}\\u003cbr\\u003eDataType=Train\\u003cbr\\u003eSource=%{customdata[0]}\\u003cbr\\u003e\\u003cextra\\u003e\\u003c\\u002fextra\\u003e\",\"legendgroup\":\"Train\",\"marker\":{\"color\":[\"#636efa\",\"#636efa\"],\"coloraxis\":\"coloraxis\",\"pattern\":{\"shape\":\"\"}},\"name\":\"Train\",\"offsetgroup\":\"Train\",\"orientation\":\"h\",\"showlegend\":false,\"text\":[\"1 (Kaggle)\",\"120 (Kaggle)\"],\"textposition\":\"auto\",\"x\":[1,120],\"xaxis\":\"x\",\"y\":[\"ENFJ\",\"ENFJ\"],\"yaxis\":\"y\",\"type\":\"bar\"},{\"alignmentgroup\":\"True\",\"customdata\":[[\"Kaggle\"],[\"ChatGPT\"]],\"hovertemplate\":\"Type=%{x}\\u003cbr\\u003eCount=%{text}\\u003cbr\\u003eDataType=Train\\u003cbr\\u003eSource=%{customdata[0]}\\u003cbr\\u003e\\u003cextra\\u003e\\u003c\\u002fextra\\u003e\",\"legendgroup\":\"Train\",\"marker\":{\"color\":[\"#636efa\",\"#EF553B\"],\"coloraxis\":\"coloraxis\",\"pattern\":{\"shape\":\"\"}},\"name\":\"Train\",\"offsetgroup\":\"Train\",\"orientation\":\"h\",\"showlegend\":false,\"text\":[\"1 (Kaggle)\",\"120 (ChatGPT)\"],\"textposition\":\"auto\",\"x\":[1,120],\"xaxis\":\"x2\",\"y\":[\"ENFJ\",\"ENFJ\"],\"yaxis\":\"y2\",\"type\":\"bar\"}],                        {\"annotations\":[{\"showarrow\":false,\"text\":\"\",\"x\":0.24,\"xanchor\":\"center\",\"xref\":\"paper\",\"y\":1.0,\"yanchor\":\"bottom\",\"yref\":\"paper\"},{\"showarrow\":false,\"text\":\"\",\"x\":0.74,\"xanchor\":\"center\",\"xref\":\"paper\",\"y\":1.0,\"yanchor\":\"bottom\",\"yref\":\"paper\"},{\"showarrow\":false,\"text\":\"\",\"textangle\":90,\"x\":0.98,\"xanchor\":\"left\",\"xref\":\"paper\",\"y\":0.11375,\"yanchor\":\"middle\",\"yref\":\"paper\"},{\"showarrow\":false,\"text\":\"\",\"textangle\":90,\"x\":0.98,\"xanchor\":\"left\",\"xref\":\"paper\",\"y\":0.37124999999999997,\"yanchor\":\"middle\",\"yref\":\"paper\"},{\"showarrow\":false,\"text\":\"\",\"textangle\":90,\"x\":0.98,\"xanchor\":\"left\",\"xref\":\"paper\",\"y\":0.62875,\"yanchor\":\"middle\",\"yref\":\"paper\"},{\"showarrow\":false,\"text\":\"\",\"textangle\":90,\"x\":0.98,\"xanchor\":\"left\",\"xref\":\"paper\",\"y\":0.88625,\"yanchor\":\"middle\",\"yref\":\"paper\"}],\"barmode\":\"group\",\"coloraxis\":{\"colorbar\":{\"title\":{\"text\":\"col\"}},\"colorscale\":[[0.0,\"#0d0887\"],[0.1111111111111111,\"#46039f\"],[0.2222222222222222,\"#7201a8\"],[0.3333333333333333,\"#9c179e\"],[0.4444444444444444,\"#bd3786\"],[0.5555555555555556,\"#d8576b\"],[0.6666666666666666,\"#ed7953\"],[0.7777777777777778,\"#fb9f3a\"],[0.8888888888888888,\"#fdca26\"],[1.0,\"#f0f921\"]]},\"legend\":{\"title\":{\"text\":\"\"},\"tracegroupgap\":0},\"template\":{\"data\":{\"barpolar\":[{\"marker\":{\"line\":{\"color\":\"white\",\"width\":0.5},\"pattern\":{\"fillmode\":\"overlay\",\"size\":10,\"solidity\":0.2}},\"type\":\"barpolar\"}],\"bar\":[{\"error_x\":{\"color\":\"#2a3f5f\"},\"error_y\":{\"color\":\"#2a3f5f\"},\"marker\":{\"line\":{\"color\":\"white\",\"width\":0.5},\"pattern\":{\"fillmode\":\"overlay\",\"size\":10,\"solidity\":0.2}},\"type\":\"bar\"}],\"carpet\":[{\"aaxis\":{\"endlinecolor\":\"#2a3f5f\",\"gridcolor\":\"#C8D4E3\",\"linecolor\":\"#C8D4E3\",\"minorgridcolor\":\"#C8D4E3\",\"startlinecolor\":\"#2a3f5f\"},\"baxis\":{\"endlinecolor\":\"#2a3f5f\",\"gridcolor\":\"#C8D4E3\",\"linecolor\":\"#C8D4E3\",\"minorgridcolor\":\"#C8D4E3\",\"startlinecolor\":\"#2a3f5f\"},\"type\":\"carpet\"}],\"choropleth\":[{\"colorbar\":{\"outlinewidth\":0,\"ticks\":\"\"},\"type\":\"choropleth\"}],\"contourcarpet\":[{\"colorbar\":{\"outlinewidth\":0,\"ticks\":\"\"},\"type\":\"contourcarpet\"}],\"contour\":[{\"colorbar\":{\"outlinewidth\":0,\"ticks\":\"\"},\"colorscale\":[[0.0,\"#0d0887\"],[0.1111111111111111,\"#46039f\"],[0.2222222222222222,\"#7201a8\"],[0.3333333333333333,\"#9c179e\"],[0.4444444444444444,\"#bd3786\"],[0.5555555555555556,\"#d8576b\"],[0.6666666666666666,\"#ed7953\"],[0.7777777777777778,\"#fb9f3a\"],[0.8888888888888888,\"#fdca26\"],[1.0,\"#f0f921\"]],\"type\":\"contour\"}],\"heatmapgl\":[{\"colorbar\":{\"outlinewidth\":0,\"ticks\":\"\"},\"colorscale\":[[0.0,\"#0d0887\"],[0.1111111111111111,\"#46039f\"],[0.2222222222222222,\"#7201a8\"],[0.3333333333333333,\"#9c179e\"],[0.4444444444444444,\"#bd3786\"],[0.5555555555555556,\"#d8576b\"],[0.6666666666666666,\"#ed7953\"],[0.7777777777777778,\"#fb9f3a\"],[0.8888888888888888,\"#fdca26\"],[1.0,\"#f0f921\"]],\"type\":\"heatmapgl\"}],\"heatmap\":[{\"colorbar\":{\"outlinewidth\":0,\"ticks\":\"\"},\"colorscale\":[[0.0,\"#0d0887\"],[0.1111111111111111,\"#46039f\"],[0.2222222222222222,\"#7201a8\"],[0.3333333333333333,\"#9c179e\"],[0.4444444444444444,\"#bd3786\"],[0.5555555555555556,\"#d8576b\"],[0.6666666666666666,\"#ed7953\"],[0.7777777777777778,\"#fb9f3a\"],[0.8888888888888888,\"#fdca26\"],[1.0,\"#f0f921\"]],\"type\":\"heatmap\"}],\"histogram2dcontour\":[{\"colorbar\":{\"outlinewidth\":0,\"ticks\":\"\"},\"colorscale\":[[0.0,\"#0d0887\"],[0.1111111111111111,\"#46039f\"],[0.2222222222222222,\"#7201a8\"],[0.3333333333333333,\"#9c179e\"],[0.4444444444444444,\"#bd3786\"],[0.5555555555555556,\"#d8576b\"],[0.6666666666666666,\"#ed7953\"],[0.7777777777777778,\"#fb9f3a\"],[0.8888888888888888,\"#fdca26\"],[1.0,\"#f0f921\"]],\"type\":\"histogram2dcontour\"}],\"histogram2d\":[{\"colorbar\":{\"outlinewidth\":0,\"ticks\":\"\"},\"colorscale\":[[0.0,\"#0d0887\"],[0.1111111111111111,\"#46039f\"],[0.2222222222222222,\"#7201a8\"],[0.3333333333333333,\"#9c179e\"],[0.4444444444444444,\"#bd3786\"],[0.5555555555555556,\"#d8576b\"],[0.6666666666666666,\"#ed7953\"],[0.7777777777777778,\"#fb9f3a\"],[0.8888888888888888,\"#fdca26\"],[1.0,\"#f0f921\"]],\"type\":\"histogram2d\"}],\"histogram\":[{\"marker\":{\"pattern\":{\"fillmode\":\"overlay\",\"size\":10,\"solidity\":0.2}},\"type\":\"histogram\"}],\"mesh3d\":[{\"colorbar\":{\"outlinewidth\":0,\"ticks\":\"\"},\"type\":\"mesh3d\"}],\"parcoords\":[{\"line\":{\"colorbar\":{\"outlinewidth\":0,\"ticks\":\"\"}},\"type\":\"parcoords\"}],\"pie\":[{\"automargin\":true,\"type\":\"pie\"}],\"scatter3d\":[{\"line\":{\"colorbar\":{\"outlinewidth\":0,\"ticks\":\"\"}},\"marker\":{\"colorbar\":{\"outlinewidth\":0,\"ticks\":\"\"}},\"type\":\"scatter3d\"}],\"scattercarpet\":[{\"marker\":{\"colorbar\":{\"outlinewidth\":0,\"ticks\":\"\"}},\"type\":\"scattercarpet\"}],\"scattergeo\":[{\"marker\":{\"colorbar\":{\"outlinewidth\":0,\"ticks\":\"\"}},\"type\":\"scattergeo\"}],\"scattergl\":[{\"marker\":{\"colorbar\":{\"outlinewidth\":0,\"ticks\":\"\"}},\"type\":\"scattergl\"}],\"scattermapbox\":[{\"marker\":{\"colorbar\":{\"outlinewidth\":0,\"ticks\":\"\"}},\"type\":\"scattermapbox\"}],\"scatterpolargl\":[{\"marker\":{\"colorbar\":{\"outlinewidth\":0,\"ticks\":\"\"}},\"type\":\"scatterpolargl\"}],\"scatterpolar\":[{\"marker\":{\"colorbar\":{\"outlinewidth\":0,\"ticks\":\"\"}},\"type\":\"scatterpolar\"}],\"scatter\":[{\"fillpattern\":{\"fillmode\":\"overlay\",\"size\":10,\"solidity\":0.2},\"type\":\"scatter\"}],\"scatterternary\":[{\"marker\":{\"colorbar\":{\"outlinewidth\":0,\"ticks\":\"\"}},\"type\":\"scatterternary\"}],\"surface\":[{\"colorbar\":{\"outlinewidth\":0,\"ticks\":\"\"},\"colorscale\":[[0.0,\"#0d0887\"],[0.1111111111111111,\"#46039f\"],[0.2222222222222222,\"#7201a8\"],[0.3333333333333333,\"#9c179e\"],[0.4444444444444444,\"#bd3786\"],[0.5555555555555556,\"#d8576b\"],[0.6666666666666666,\"#ed7953\"],[0.7777777777777778,\"#fb9f3a\"],[0.8888888888888888,\"#fdca26\"],[1.0,\"#f0f921\"]],\"type\":\"surface\"}],\"table\":[{\"cells\":{\"fill\":{\"color\":\"#EBF0F8\"},\"line\":{\"color\":\"white\"}},\"header\":{\"fill\":{\"color\":\"#C8D4E3\"},\"line\":{\"color\":\"white\"}},\"type\":\"table\"}]},\"layout\":{\"annotationdefaults\":{\"arrowcolor\":\"#2a3f5f\",\"arrowhead\":0,\"arrowwidth\":1},\"autotypenumbers\":\"strict\",\"coloraxis\":{\"colorbar\":{\"outlinewidth\":0,\"ticks\":\"\"}},\"colorscale\":{\"diverging\":[[0,\"#8e0152\"],[0.1,\"#c51b7d\"],[0.2,\"#de77ae\"],[0.3,\"#f1b6da\"],[0.4,\"#fde0ef\"],[0.5,\"#f7f7f7\"],[0.6,\"#e6f5d0\"],[0.7,\"#b8e186\"],[0.8,\"#7fbc41\"],[0.9,\"#4d9221\"],[1,\"#276419\"]],\"sequential\":[[0.0,\"#0d0887\"],[0.1111111111111111,\"#46039f\"],[0.2222222222222222,\"#7201a8\"],[0.3333333333333333,\"#9c179e\"],[0.4444444444444444,\"#bd3786\"],[0.5555555555555556,\"#d8576b\"],[0.6666666666666666,\"#ed7953\"],[0.7777777777777778,\"#fb9f3a\"],[0.8888888888888888,\"#fdca26\"],[1.0,\"#f0f921\"]],\"sequentialminus\":[[0.0,\"#0d0887\"],[0.1111111111111111,\"#46039f\"],[0.2222222222222222,\"#7201a8\"],[0.3333333333333333,\"#9c179e\"],[0.4444444444444444,\"#bd3786\"],[0.5555555555555556,\"#d8576b\"],[0.6666666666666666,\"#ed7953\"],[0.7777777777777778,\"#fb9f3a\"],[0.8888888888888888,\"#fdca26\"],[1.0,\"#f0f921\"]]},\"colorway\":[\"#636efa\",\"#EF553B\",\"#00cc96\",\"#ab63fa\",\"#FFA15A\",\"#19d3f3\",\"#FF6692\",\"#B6E880\",\"#FF97FF\",\"#FECB52\"],\"font\":{\"color\":\"#2a3f5f\"},\"geo\":{\"bgcolor\":\"white\",\"lakecolor\":\"white\",\"landcolor\":\"white\",\"showlakes\":true,\"showland\":true,\"subunitcolor\":\"#C8D4E3\"},\"hoverlabel\":{\"align\":\"left\"},\"hovermode\":\"closest\",\"mapbox\":{\"style\":\"light\"},\"paper_bgcolor\":\"white\",\"plot_bgcolor\":\"white\",\"polar\":{\"angularaxis\":{\"gridcolor\":\"#EBF0F8\",\"linecolor\":\"#EBF0F8\",\"ticks\":\"\"},\"bgcolor\":\"white\",\"radialaxis\":{\"gridcolor\":\"#EBF0F8\",\"linecolor\":\"#EBF0F8\",\"ticks\":\"\"}},\"scene\":{\"xaxis\":{\"backgroundcolor\":\"white\",\"gridcolor\":\"#DFE8F3\",\"gridwidth\":2,\"linecolor\":\"#EBF0F8\",\"showbackground\":true,\"ticks\":\"\",\"zerolinecolor\":\"#EBF0F8\"},\"yaxis\":{\"backgroundcolor\":\"white\",\"gridcolor\":\"#DFE8F3\",\"gridwidth\":2,\"linecolor\":\"#EBF0F8\",\"showbackground\":true,\"ticks\":\"\",\"zerolinecolor\":\"#EBF0F8\"},\"zaxis\":{\"backgroundcolor\":\"white\",\"gridcolor\":\"#DFE8F3\",\"gridwidth\":2,\"linecolor\":\"#EBF0F8\",\"showbackground\":true,\"ticks\":\"\",\"zerolinecolor\":\"#EBF0F8\"}},\"shapedefaults\":{\"line\":{\"color\":\"#2a3f5f\"}},\"ternary\":{\"aaxis\":{\"gridcolor\":\"#DFE8F3\",\"linecolor\":\"#A2B1C6\",\"ticks\":\"\"},\"baxis\":{\"gridcolor\":\"#DFE8F3\",\"linecolor\":\"#A2B1C6\",\"ticks\":\"\"},\"bgcolor\":\"white\",\"caxis\":{\"gridcolor\":\"#DFE8F3\",\"linecolor\":\"#A2B1C6\",\"ticks\":\"\"}},\"title\":{\"x\":0.05},\"xaxis\":{\"automargin\":true,\"gridcolor\":\"#EBF0F8\",\"linecolor\":\"#EBF0F8\",\"ticks\":\"\",\"title\":{\"standoff\":15},\"zerolinecolor\":\"#EBF0F8\",\"zerolinewidth\":2},\"yaxis\":{\"automargin\":true,\"gridcolor\":\"#EBF0F8\",\"linecolor\":\"#EBF0F8\",\"ticks\":\"\",\"title\":{\"standoff\":15},\"zerolinecolor\":\"#EBF0F8\",\"zerolinewidth\":2}}},\"title\":{\"text\":\"Figure 8: Configuration of Experiment 2\"},\"xaxis\":{\"anchor\":\"y\",\"domain\":[0.0,0.48],\"title\":{\"text\":\"\"}},\"yaxis\":{\"anchor\":\"x\",\"domain\":[0.0,0.2275],\"title\":{\"text\":\"\"}},\"xaxis2\":{\"anchor\":\"y2\",\"domain\":[0.5,0.98],\"matches\":\"x\",\"title\":{\"text\":\"\"}},\"yaxis2\":{\"anchor\":\"x2\",\"domain\":[0.0,0.2275],\"matches\":\"y\",\"showticklabels\":false},\"xaxis3\":{\"anchor\":\"y3\",\"domain\":[0.0,0.48],\"matches\":\"x\",\"showticklabels\":false},\"yaxis3\":{\"anchor\":\"x3\",\"domain\":[0.2575,0.485],\"matches\":\"y\",\"title\":{\"text\":\"\"}},\"xaxis4\":{\"anchor\":\"y4\",\"domain\":[0.5,0.98],\"matches\":\"x\",\"showticklabels\":false},\"yaxis4\":{\"anchor\":\"x4\",\"domain\":[0.2575,0.485],\"matches\":\"y\",\"showticklabels\":false},\"xaxis5\":{\"anchor\":\"y5\",\"domain\":[0.0,0.48],\"matches\":\"x\",\"showticklabels\":false},\"yaxis5\":{\"anchor\":\"x5\",\"domain\":[0.515,0.7425],\"matches\":\"y\",\"title\":{\"text\":\"\"}},\"xaxis6\":{\"anchor\":\"y6\",\"domain\":[0.5,0.98],\"matches\":\"x\",\"showticklabels\":false},\"yaxis6\":{\"anchor\":\"x6\",\"domain\":[0.515,0.7425],\"matches\":\"y\",\"showticklabels\":false},\"xaxis7\":{\"anchor\":\"y7\",\"domain\":[0.0,0.48],\"matches\":\"x\",\"showticklabels\":false},\"yaxis7\":{\"anchor\":\"x7\",\"domain\":[0.7725,1.0],\"matches\":\"y\",\"title\":{\"text\":\"\"}},\"xaxis8\":{\"anchor\":\"y8\",\"domain\":[0.5,0.98],\"matches\":\"x\",\"showticklabels\":false},\"yaxis8\":{\"anchor\":\"x8\",\"domain\":[0.7725,1.0],\"matches\":\"y\",\"showticklabels\":false},\"width\":1050,\"height\":600},                        {\"responsive\": true}                    ).then(function(){\n",
       "                            \n",
       "var gd = document.getElementById('d6c880a5-7ee5-426d-804c-33bd3faee11e');\n",
       "var x = new MutationObserver(function (mutations, observer) {{\n",
       "        var display = window.getComputedStyle(gd).display;\n",
       "        if (!display || display === 'none') {{\n",
       "            console.log([gd, 'removed!']);\n",
       "            Plotly.purge(gd);\n",
       "            observer.disconnect();\n",
       "        }}\n",
       "}});\n",
       "\n",
       "// Listen for the removal of the full notebook cells\n",
       "var notebookContainer = gd.closest('#notebook-container');\n",
       "if (notebookContainer) {{\n",
       "    x.observe(notebookContainer, {childList: true});\n",
       "}}\n",
       "\n",
       "// Listen for the clearing of the current output cell\n",
       "var outputEl = gd.closest('.output');\n",
       "if (outputEl) {{\n",
       "    x.observe(outputEl, {childList: true});\n",
       "}}\n",
       "\n",
       "                        })                };                });            </script>        </div>"
      ]
     },
     "metadata": {},
     "output_type": "display_data"
    }
   ],
   "source": [
    "figs['실험셋업시각화_실험2시나리오0-3'].layout['title']['text']='Figure 8: Configuration of Experiment 2'\n",
    "figs['실험셋업시각화_실험2시나리오0-3'].layout['width']=1050\n",
    "figs['실험셋업시각화_실험2시나리오0-3'].layout['height']=600\n",
    "figs['실험셋업시각화_실험2시나리오0-3']"
   ]
  },
  {
   "cell_type": "markdown",
   "id": "af514752-efed-415a-9d03-68f7d1aeada7",
   "metadata": {},
   "source": [
    "::: {.notes}\n",
    "enfj에 대한 거를 30개를 넣고 테스트를 해봤습니다\n",
    "\n",
    "다음은 40개, gpt에서도 40개\n",
    "\n",
    "다음은 80개, gpt에서도 80개\n",
    "\n",
    "다음에서도 120개, gpt에서도 120개 --> 질적으로 얼마나 좋은지 (총 7번 실험한 것)\n",
    "\n",
    "왼쪽에 있는 데이터는 실제 데이터를 추가한 것이고, 오른쪽은 GPT 데이터를 추가한 것이다.\n",
    "::: "
   ]
  },
  {
   "cell_type": "markdown",
   "id": "dac45dea-e43f-447e-86b5-92ab50b03084",
   "metadata": {},
   "source": [
    "## Experiment2"
   ]
  },
  {
   "cell_type": "code",
   "execution_count": 14,
   "id": "493e910e-b82b-4e2f-9bc3-86ce3cf0e312",
   "metadata": {
    "tags": []
   },
   "outputs": [
    {
     "data": {
      "text/html": [
       "<div>                            <div id=\"795a798d-eea1-4c6e-84da-3163f1408c07\" class=\"plotly-graph-div\" style=\"height:600px; width:1050px;\"></div>            <script type=\"text/javascript\">                require([\"plotly\"], function(Plotly) {                    window.PLOTLYENV=window.PLOTLYENV || {};                                    if (document.getElementById(\"795a798d-eea1-4c6e-84da-3163f1408c07\")) {                    Plotly.newPlot(                        \"795a798d-eea1-4c6e-84da-3163f1408c07\",                        [{\"hovertemplate\":\"\\uc790\\ub8cc\\uc218\\uc9d1=kaggle\\u003cbr\\u003eMethod=LightGBMXT\\u003cbr\\u003eadd=%{x}\\u003cbr\\u003eENFJ=%{y}\\u003cextra\\u003e\\u003c\\u002fextra\\u003e\",\"legendgroup\":\"kaggle\",\"line\":{\"color\":\"#636efa\",\"dash\":\"solid\"},\"marker\":{\"symbol\":\"circle\"},\"mode\":\"markers+lines\",\"name\":\"kaggle\",\"orientation\":\"v\",\"showlegend\":true,\"x\":[\"+0\",\"+40\",\"+80\",\"+120\"],\"xaxis\":\"x\",\"y\":[0.5,0.8341584158415841,0.8191026245481691,0.8624548169102625],\"yaxis\":\"y\",\"type\":\"scatter\"},{\"hovertemplate\":\"\\uc790\\ub8cc\\uc218\\uc9d1=kaggle\\u003cbr\\u003eMethod=LightGBM\\u003cbr\\u003eadd=%{x}\\u003cbr\\u003eENFJ=%{y}\\u003cextra\\u003e\\u003c\\u002fextra\\u003e\",\"legendgroup\":\"kaggle\",\"line\":{\"color\":\"#636efa\",\"dash\":\"solid\"},\"marker\":{\"symbol\":\"circle\"},\"mode\":\"markers+lines\",\"name\":\"kaggle\",\"orientation\":\"v\",\"showlegend\":false,\"x\":[\"+0\",\"+40\",\"+80\",\"+120\"],\"xaxis\":\"x2\",\"y\":[0.5,0.8129341505579131,0.855909162344806,0.8837183718371837],\"yaxis\":\"y2\",\"type\":\"scatter\"},{\"hovertemplate\":\"\\uc790\\ub8cc\\uc218\\uc9d1=kaggle\\u003cbr\\u003eMethod=CatBoost\\u003cbr\\u003eadd=%{x}\\u003cbr\\u003eENFJ=%{y}\\u003cextra\\u003e\\u003c\\u002fextra\\u003e\",\"legendgroup\":\"kaggle\",\"line\":{\"color\":\"#636efa\",\"dash\":\"solid\"},\"marker\":{\"symbol\":\"circle\"},\"mode\":\"markers+lines\",\"name\":\"kaggle\",\"orientation\":\"v\",\"showlegend\":false,\"x\":[\"+0\",\"+40\",\"+80\",\"+120\"],\"xaxis\":\"x3\",\"y\":[0.5,0.8268269684111268,0.9127219864843628,0.905885588558856],\"yaxis\":\"y3\",\"type\":\"scatter\"},{\"hovertemplate\":\"\\uc790\\ub8cc\\uc218\\uc9d1=kaggle\\u003cbr\\u003eMethod=XGBoost\\u003cbr\\u003eadd=%{x}\\u003cbr\\u003eENFJ=%{y}\\u003cextra\\u003e\\u003c\\u002fextra\\u003e\",\"legendgroup\":\"kaggle\",\"line\":{\"color\":\"#636efa\",\"dash\":\"solid\"},\"marker\":{\"symbol\":\"circle\"},\"mode\":\"markers+lines\",\"name\":\"kaggle\",\"orientation\":\"v\",\"showlegend\":false,\"x\":[\"+0\",\"+40\",\"+80\",\"+120\"],\"xaxis\":\"x4\",\"y\":[0.5,0.8563884959924564,0.8805201948766306,0.8915055791293415],\"yaxis\":\"y4\",\"type\":\"scatter\"},{\"hovertemplate\":\"\\uc790\\ub8cc\\uc218\\uc9d1=kaggle\\u003cbr\\u003eMethod=LightGBMLarge\\u003cbr\\u003eadd=%{x}\\u003cbr\\u003eENFJ=%{y}\\u003cextra\\u003e\\u003c\\u002fextra\\u003e\",\"legendgroup\":\"kaggle\",\"line\":{\"color\":\"#636efa\",\"dash\":\"solid\"},\"marker\":{\"symbol\":\"circle\"},\"mode\":\"markers+lines\",\"name\":\"kaggle\",\"orientation\":\"v\",\"showlegend\":false,\"x\":[\"+0\",\"+40\",\"+80\",\"+120\"],\"xaxis\":\"x5\",\"y\":[0.5,0.7710592487820211,0.8256797108282257,0.8515244381581015],\"yaxis\":\"y5\",\"type\":\"scatter\"},{\"hovertemplate\":\"\\uc790\\ub8cc\\uc218\\uc9d1=kaggle\\u003cbr\\u003eMethod=WeightedEnsemble_L2\\u003cbr\\u003eadd=%{x}\\u003cbr\\u003eENFJ=%{y}\\u003cextra\\u003e\\u003c\\u002fextra\\u003e\",\"legendgroup\":\"kaggle\",\"line\":{\"color\":\"#636efa\",\"dash\":\"solid\"},\"marker\":{\"symbol\":\"circle\"},\"mode\":\"markers+lines\",\"name\":\"kaggle\",\"orientation\":\"v\",\"showlegend\":false,\"x\":[\"+0\",\"+40\",\"+80\",\"+120\"],\"xaxis\":\"x6\",\"y\":[0.5,0.7747053276756247,0.855909162344806,0.8937057991513437],\"yaxis\":\"y6\",\"type\":\"scatter\"},{\"hovertemplate\":\"\\uc790\\ub8cc\\uc218\\uc9d1=gpt\\u003cbr\\u003eMethod=LightGBMXT\\u003cbr\\u003eadd=%{x}\\u003cbr\\u003eENFJ=%{y}\\u003cextra\\u003e\\u003c\\u002fextra\\u003e\",\"legendgroup\":\"gpt\",\"line\":{\"color\":\"#EF553B\",\"dash\":\"solid\"},\"marker\":{\"symbol\":\"circle\"},\"mode\":\"markers+lines\",\"name\":\"gpt\",\"orientation\":\"v\",\"showlegend\":true,\"x\":[\"+0\",\"+40\",\"+80\",\"+120\"],\"xaxis\":\"x\",\"y\":[0.5,0.5667452459531667,0.5720964953638221,0.5583058305830583],\"yaxis\":\"y\",\"type\":\"scatter\"},{\"hovertemplate\":\"\\uc790\\ub8cc\\uc218\\uc9d1=gpt\\u003cbr\\u003eMethod=LightGBM\\u003cbr\\u003eadd=%{x}\\u003cbr\\u003eENFJ=%{y}\\u003cextra\\u003e\\u003c\\u002fextra\\u003e\",\"legendgroup\":\"gpt\",\"line\":{\"color\":\"#EF553B\",\"dash\":\"solid\"},\"marker\":{\"symbol\":\"circle\"},\"mode\":\"markers+lines\",\"name\":\"gpt\",\"orientation\":\"v\",\"showlegend\":false,\"x\":[\"+0\",\"+40\",\"+80\",\"+120\"],\"xaxis\":\"x2\",\"y\":[0.5,0.5878830740216879,0.6165802294515166,0.6364765047933365],\"yaxis\":\"y2\",\"type\":\"scatter\"},{\"hovertemplate\":\"\\uc790\\ub8cc\\uc218\\uc9d1=gpt\\u003cbr\\u003eMethod=CatBoost\\u003cbr\\u003eadd=%{x}\\u003cbr\\u003eENFJ=%{y}\\u003cextra\\u003e\\u003c\\u002fextra\\u003e\",\"legendgroup\":\"gpt\",\"line\":{\"color\":\"#EF553B\",\"dash\":\"solid\"},\"marker\":{\"symbol\":\"circle\"},\"mode\":\"markers+lines\",\"name\":\"gpt\",\"orientation\":\"v\",\"showlegend\":false,\"x\":[\"+0\",\"+40\",\"+80\",\"+120\"],\"xaxis\":\"x3\",\"y\":[0.5,0.5355335533553356,0.4906019173345906,0.5202184504164702],\"yaxis\":\"y3\",\"type\":\"scatter\"},{\"hovertemplate\":\"\\uc790\\ub8cc\\uc218\\uc9d1=gpt\\u003cbr\\u003eMethod=XGBoost\\u003cbr\\u003eadd=%{x}\\u003cbr\\u003eENFJ=%{y}\\u003cextra\\u003e\\u003c\\u002fextra\\u003e\",\"legendgroup\":\"gpt\",\"line\":{\"color\":\"#EF553B\",\"dash\":\"solid\"},\"marker\":{\"symbol\":\"circle\"},\"mode\":\"markers+lines\",\"name\":\"gpt\",\"orientation\":\"v\",\"showlegend\":false,\"x\":[\"+0\",\"+40\",\"+80\",\"+120\"],\"xaxis\":\"x4\",\"y\":[0.5,0.5848106239195348,0.6014380009429514,0.6011865472261513],\"yaxis\":\"y4\",\"type\":\"scatter\"},{\"hovertemplate\":\"\\uc790\\ub8cc\\uc218\\uc9d1=gpt\\u003cbr\\u003eMethod=LightGBMLarge\\u003cbr\\u003eadd=%{x}\\u003cbr\\u003eENFJ=%{y}\\u003cextra\\u003e\\u003c\\u002fextra\\u003e\",\"legendgroup\":\"gpt\",\"line\":{\"color\":\"#EF553B\",\"dash\":\"solid\"},\"marker\":{\"symbol\":\"circle\"},\"mode\":\"markers+lines\",\"name\":\"gpt\",\"orientation\":\"v\",\"showlegend\":false,\"x\":[\"+0\",\"+40\",\"+80\",\"+120\"],\"xaxis\":\"x5\",\"y\":[0.5,0.5754675467546755,0.5845355964167845,0.5597909790979098],\"yaxis\":\"y5\",\"type\":\"scatter\"},{\"hovertemplate\":\"\\uc790\\ub8cc\\uc218\\uc9d1=gpt\\u003cbr\\u003eMethod=WeightedEnsemble_L2\\u003cbr\\u003eadd=%{x}\\u003cbr\\u003eENFJ=%{y}\\u003cextra\\u003e\\u003c\\u002fextra\\u003e\",\"legendgroup\":\"gpt\",\"line\":{\"color\":\"#EF553B\",\"dash\":\"solid\"},\"marker\":{\"symbol\":\"circle\"},\"mode\":\"markers+lines\",\"name\":\"gpt\",\"orientation\":\"v\",\"showlegend\":false,\"x\":[\"+0\",\"+40\",\"+80\",\"+120\"],\"xaxis\":\"x6\",\"y\":[0.5,0.5878830740216879,0.6014380009429514,0.6333333333333334],\"yaxis\":\"y6\",\"type\":\"scatter\"}],                        {\"annotations\":[{\"showarrow\":false,\"text\":\"LightGBMXT\",\"x\":0.075,\"xanchor\":\"center\",\"xref\":\"paper\",\"y\":1.0,\"yanchor\":\"bottom\",\"yref\":\"paper\"},{\"showarrow\":false,\"text\":\"LightGBM\",\"x\":0.24499999999999997,\"xanchor\":\"center\",\"xref\":\"paper\",\"y\":1.0,\"yanchor\":\"bottom\",\"yref\":\"paper\"},{\"showarrow\":false,\"text\":\"CatBoost\",\"x\":0.415,\"xanchor\":\"center\",\"xref\":\"paper\",\"y\":1.0,\"yanchor\":\"bottom\",\"yref\":\"paper\"},{\"showarrow\":false,\"text\":\"XGBoost\",\"x\":0.585,\"xanchor\":\"center\",\"xref\":\"paper\",\"y\":1.0,\"yanchor\":\"bottom\",\"yref\":\"paper\"},{\"showarrow\":false,\"text\":\"LightGBMLarge\",\"x\":0.7549999999999999,\"xanchor\":\"center\",\"xref\":\"paper\",\"y\":1.0,\"yanchor\":\"bottom\",\"yref\":\"paper\"},{\"showarrow\":false,\"text\":\"WeightedEnsemble_L2\",\"x\":0.925,\"xanchor\":\"center\",\"xref\":\"paper\",\"y\":1.0,\"yanchor\":\"bottom\",\"yref\":\"paper\"}],\"legend\":{\"title\":{\"text\":\"\"},\"tracegroupgap\":0},\"margin\":{\"t\":60},\"template\":{\"data\":{\"barpolar\":[{\"marker\":{\"line\":{\"color\":\"white\",\"width\":0.5},\"pattern\":{\"fillmode\":\"overlay\",\"size\":10,\"solidity\":0.2}},\"type\":\"barpolar\"}],\"bar\":[{\"error_x\":{\"color\":\"#2a3f5f\"},\"error_y\":{\"color\":\"#2a3f5f\"},\"marker\":{\"line\":{\"color\":\"white\",\"width\":0.5},\"pattern\":{\"fillmode\":\"overlay\",\"size\":10,\"solidity\":0.2}},\"type\":\"bar\"}],\"carpet\":[{\"aaxis\":{\"endlinecolor\":\"#2a3f5f\",\"gridcolor\":\"#C8D4E3\",\"linecolor\":\"#C8D4E3\",\"minorgridcolor\":\"#C8D4E3\",\"startlinecolor\":\"#2a3f5f\"},\"baxis\":{\"endlinecolor\":\"#2a3f5f\",\"gridcolor\":\"#C8D4E3\",\"linecolor\":\"#C8D4E3\",\"minorgridcolor\":\"#C8D4E3\",\"startlinecolor\":\"#2a3f5f\"},\"type\":\"carpet\"}],\"choropleth\":[{\"colorbar\":{\"outlinewidth\":0,\"ticks\":\"\"},\"type\":\"choropleth\"}],\"contourcarpet\":[{\"colorbar\":{\"outlinewidth\":0,\"ticks\":\"\"},\"type\":\"contourcarpet\"}],\"contour\":[{\"colorbar\":{\"outlinewidth\":0,\"ticks\":\"\"},\"colorscale\":[[0.0,\"#0d0887\"],[0.1111111111111111,\"#46039f\"],[0.2222222222222222,\"#7201a8\"],[0.3333333333333333,\"#9c179e\"],[0.4444444444444444,\"#bd3786\"],[0.5555555555555556,\"#d8576b\"],[0.6666666666666666,\"#ed7953\"],[0.7777777777777778,\"#fb9f3a\"],[0.8888888888888888,\"#fdca26\"],[1.0,\"#f0f921\"]],\"type\":\"contour\"}],\"heatmapgl\":[{\"colorbar\":{\"outlinewidth\":0,\"ticks\":\"\"},\"colorscale\":[[0.0,\"#0d0887\"],[0.1111111111111111,\"#46039f\"],[0.2222222222222222,\"#7201a8\"],[0.3333333333333333,\"#9c179e\"],[0.4444444444444444,\"#bd3786\"],[0.5555555555555556,\"#d8576b\"],[0.6666666666666666,\"#ed7953\"],[0.7777777777777778,\"#fb9f3a\"],[0.8888888888888888,\"#fdca26\"],[1.0,\"#f0f921\"]],\"type\":\"heatmapgl\"}],\"heatmap\":[{\"colorbar\":{\"outlinewidth\":0,\"ticks\":\"\"},\"colorscale\":[[0.0,\"#0d0887\"],[0.1111111111111111,\"#46039f\"],[0.2222222222222222,\"#7201a8\"],[0.3333333333333333,\"#9c179e\"],[0.4444444444444444,\"#bd3786\"],[0.5555555555555556,\"#d8576b\"],[0.6666666666666666,\"#ed7953\"],[0.7777777777777778,\"#fb9f3a\"],[0.8888888888888888,\"#fdca26\"],[1.0,\"#f0f921\"]],\"type\":\"heatmap\"}],\"histogram2dcontour\":[{\"colorbar\":{\"outlinewidth\":0,\"ticks\":\"\"},\"colorscale\":[[0.0,\"#0d0887\"],[0.1111111111111111,\"#46039f\"],[0.2222222222222222,\"#7201a8\"],[0.3333333333333333,\"#9c179e\"],[0.4444444444444444,\"#bd3786\"],[0.5555555555555556,\"#d8576b\"],[0.6666666666666666,\"#ed7953\"],[0.7777777777777778,\"#fb9f3a\"],[0.8888888888888888,\"#fdca26\"],[1.0,\"#f0f921\"]],\"type\":\"histogram2dcontour\"}],\"histogram2d\":[{\"colorbar\":{\"outlinewidth\":0,\"ticks\":\"\"},\"colorscale\":[[0.0,\"#0d0887\"],[0.1111111111111111,\"#46039f\"],[0.2222222222222222,\"#7201a8\"],[0.3333333333333333,\"#9c179e\"],[0.4444444444444444,\"#bd3786\"],[0.5555555555555556,\"#d8576b\"],[0.6666666666666666,\"#ed7953\"],[0.7777777777777778,\"#fb9f3a\"],[0.8888888888888888,\"#fdca26\"],[1.0,\"#f0f921\"]],\"type\":\"histogram2d\"}],\"histogram\":[{\"marker\":{\"pattern\":{\"fillmode\":\"overlay\",\"size\":10,\"solidity\":0.2}},\"type\":\"histogram\"}],\"mesh3d\":[{\"colorbar\":{\"outlinewidth\":0,\"ticks\":\"\"},\"type\":\"mesh3d\"}],\"parcoords\":[{\"line\":{\"colorbar\":{\"outlinewidth\":0,\"ticks\":\"\"}},\"type\":\"parcoords\"}],\"pie\":[{\"automargin\":true,\"type\":\"pie\"}],\"scatter3d\":[{\"line\":{\"colorbar\":{\"outlinewidth\":0,\"ticks\":\"\"}},\"marker\":{\"colorbar\":{\"outlinewidth\":0,\"ticks\":\"\"}},\"type\":\"scatter3d\"}],\"scattercarpet\":[{\"marker\":{\"colorbar\":{\"outlinewidth\":0,\"ticks\":\"\"}},\"type\":\"scattercarpet\"}],\"scattergeo\":[{\"marker\":{\"colorbar\":{\"outlinewidth\":0,\"ticks\":\"\"}},\"type\":\"scattergeo\"}],\"scattergl\":[{\"marker\":{\"colorbar\":{\"outlinewidth\":0,\"ticks\":\"\"}},\"type\":\"scattergl\"}],\"scattermapbox\":[{\"marker\":{\"colorbar\":{\"outlinewidth\":0,\"ticks\":\"\"}},\"type\":\"scattermapbox\"}],\"scatterpolargl\":[{\"marker\":{\"colorbar\":{\"outlinewidth\":0,\"ticks\":\"\"}},\"type\":\"scatterpolargl\"}],\"scatterpolar\":[{\"marker\":{\"colorbar\":{\"outlinewidth\":0,\"ticks\":\"\"}},\"type\":\"scatterpolar\"}],\"scatter\":[{\"fillpattern\":{\"fillmode\":\"overlay\",\"size\":10,\"solidity\":0.2},\"type\":\"scatter\"}],\"scatterternary\":[{\"marker\":{\"colorbar\":{\"outlinewidth\":0,\"ticks\":\"\"}},\"type\":\"scatterternary\"}],\"surface\":[{\"colorbar\":{\"outlinewidth\":0,\"ticks\":\"\"},\"colorscale\":[[0.0,\"#0d0887\"],[0.1111111111111111,\"#46039f\"],[0.2222222222222222,\"#7201a8\"],[0.3333333333333333,\"#9c179e\"],[0.4444444444444444,\"#bd3786\"],[0.5555555555555556,\"#d8576b\"],[0.6666666666666666,\"#ed7953\"],[0.7777777777777778,\"#fb9f3a\"],[0.8888888888888888,\"#fdca26\"],[1.0,\"#f0f921\"]],\"type\":\"surface\"}],\"table\":[{\"cells\":{\"fill\":{\"color\":\"#EBF0F8\"},\"line\":{\"color\":\"white\"}},\"header\":{\"fill\":{\"color\":\"#C8D4E3\"},\"line\":{\"color\":\"white\"}},\"type\":\"table\"}]},\"layout\":{\"annotationdefaults\":{\"arrowcolor\":\"#2a3f5f\",\"arrowhead\":0,\"arrowwidth\":1},\"autotypenumbers\":\"strict\",\"coloraxis\":{\"colorbar\":{\"outlinewidth\":0,\"ticks\":\"\"}},\"colorscale\":{\"diverging\":[[0,\"#8e0152\"],[0.1,\"#c51b7d\"],[0.2,\"#de77ae\"],[0.3,\"#f1b6da\"],[0.4,\"#fde0ef\"],[0.5,\"#f7f7f7\"],[0.6,\"#e6f5d0\"],[0.7,\"#b8e186\"],[0.8,\"#7fbc41\"],[0.9,\"#4d9221\"],[1,\"#276419\"]],\"sequential\":[[0.0,\"#0d0887\"],[0.1111111111111111,\"#46039f\"],[0.2222222222222222,\"#7201a8\"],[0.3333333333333333,\"#9c179e\"],[0.4444444444444444,\"#bd3786\"],[0.5555555555555556,\"#d8576b\"],[0.6666666666666666,\"#ed7953\"],[0.7777777777777778,\"#fb9f3a\"],[0.8888888888888888,\"#fdca26\"],[1.0,\"#f0f921\"]],\"sequentialminus\":[[0.0,\"#0d0887\"],[0.1111111111111111,\"#46039f\"],[0.2222222222222222,\"#7201a8\"],[0.3333333333333333,\"#9c179e\"],[0.4444444444444444,\"#bd3786\"],[0.5555555555555556,\"#d8576b\"],[0.6666666666666666,\"#ed7953\"],[0.7777777777777778,\"#fb9f3a\"],[0.8888888888888888,\"#fdca26\"],[1.0,\"#f0f921\"]]},\"colorway\":[\"#636efa\",\"#EF553B\",\"#00cc96\",\"#ab63fa\",\"#FFA15A\",\"#19d3f3\",\"#FF6692\",\"#B6E880\",\"#FF97FF\",\"#FECB52\"],\"font\":{\"color\":\"#2a3f5f\"},\"geo\":{\"bgcolor\":\"white\",\"lakecolor\":\"white\",\"landcolor\":\"white\",\"showlakes\":true,\"showland\":true,\"subunitcolor\":\"#C8D4E3\"},\"hoverlabel\":{\"align\":\"left\"},\"hovermode\":\"closest\",\"mapbox\":{\"style\":\"light\"},\"paper_bgcolor\":\"white\",\"plot_bgcolor\":\"white\",\"polar\":{\"angularaxis\":{\"gridcolor\":\"#EBF0F8\",\"linecolor\":\"#EBF0F8\",\"ticks\":\"\"},\"bgcolor\":\"white\",\"radialaxis\":{\"gridcolor\":\"#EBF0F8\",\"linecolor\":\"#EBF0F8\",\"ticks\":\"\"}},\"scene\":{\"xaxis\":{\"backgroundcolor\":\"white\",\"gridcolor\":\"#DFE8F3\",\"gridwidth\":2,\"linecolor\":\"#EBF0F8\",\"showbackground\":true,\"ticks\":\"\",\"zerolinecolor\":\"#EBF0F8\"},\"yaxis\":{\"backgroundcolor\":\"white\",\"gridcolor\":\"#DFE8F3\",\"gridwidth\":2,\"linecolor\":\"#EBF0F8\",\"showbackground\":true,\"ticks\":\"\",\"zerolinecolor\":\"#EBF0F8\"},\"zaxis\":{\"backgroundcolor\":\"white\",\"gridcolor\":\"#DFE8F3\",\"gridwidth\":2,\"linecolor\":\"#EBF0F8\",\"showbackground\":true,\"ticks\":\"\",\"zerolinecolor\":\"#EBF0F8\"}},\"shapedefaults\":{\"line\":{\"color\":\"#2a3f5f\"}},\"ternary\":{\"aaxis\":{\"gridcolor\":\"#DFE8F3\",\"linecolor\":\"#A2B1C6\",\"ticks\":\"\"},\"baxis\":{\"gridcolor\":\"#DFE8F3\",\"linecolor\":\"#A2B1C6\",\"ticks\":\"\"},\"bgcolor\":\"white\",\"caxis\":{\"gridcolor\":\"#DFE8F3\",\"linecolor\":\"#A2B1C6\",\"ticks\":\"\"}},\"title\":{\"x\":0.05},\"xaxis\":{\"automargin\":true,\"gridcolor\":\"#EBF0F8\",\"linecolor\":\"#EBF0F8\",\"ticks\":\"\",\"title\":{\"standoff\":15},\"zerolinecolor\":\"#EBF0F8\",\"zerolinewidth\":2},\"yaxis\":{\"automargin\":true,\"gridcolor\":\"#EBF0F8\",\"linecolor\":\"#EBF0F8\",\"ticks\":\"\",\"title\":{\"standoff\":15},\"zerolinecolor\":\"#EBF0F8\",\"zerolinewidth\":2}}},\"xaxis\":{\"anchor\":\"y\",\"domain\":[0.0,0.15],\"title\":{\"text\":\"\"}},\"yaxis\":{\"anchor\":\"x\",\"domain\":[0.0,1.0],\"title\":{\"text\":\"AUC\"}},\"xaxis2\":{\"anchor\":\"y2\",\"domain\":[0.16999999999999998,0.31999999999999995],\"matches\":\"x\",\"title\":{\"text\":\"\"}},\"yaxis2\":{\"anchor\":\"x2\",\"domain\":[0.0,1.0],\"matches\":\"y\",\"showticklabels\":false},\"xaxis3\":{\"anchor\":\"y3\",\"domain\":[0.33999999999999997,0.49],\"matches\":\"x\",\"title\":{\"text\":\"\"}},\"yaxis3\":{\"anchor\":\"x3\",\"domain\":[0.0,1.0],\"matches\":\"y\",\"showticklabels\":false},\"xaxis4\":{\"anchor\":\"y4\",\"domain\":[0.51,0.66],\"matches\":\"x\",\"title\":{\"text\":\"\"}},\"yaxis4\":{\"anchor\":\"x4\",\"domain\":[0.0,1.0],\"matches\":\"y\",\"showticklabels\":false},\"xaxis5\":{\"anchor\":\"y5\",\"domain\":[0.6799999999999999,0.83],\"matches\":\"x\",\"title\":{\"text\":\"\"}},\"yaxis5\":{\"anchor\":\"x5\",\"domain\":[0.0,1.0],\"matches\":\"y\",\"showticklabels\":false},\"xaxis6\":{\"anchor\":\"y6\",\"domain\":[0.85,1.0],\"matches\":\"x\",\"title\":{\"text\":\"\"}},\"yaxis6\":{\"anchor\":\"x6\",\"domain\":[0.0,1.0],\"matches\":\"y\",\"showticklabels\":false},\"title\":{\"text\":\"Figure9: Results of Experiment 2\"},\"width\":1050,\"height\":600},                        {\"responsive\": true}                    ).then(function(){\n",
       "                            \n",
       "var gd = document.getElementById('795a798d-eea1-4c6e-84da-3163f1408c07');\n",
       "var x = new MutationObserver(function (mutations, observer) {{\n",
       "        var display = window.getComputedStyle(gd).display;\n",
       "        if (!display || display === 'none') {{\n",
       "            console.log([gd, 'removed!']);\n",
       "            Plotly.purge(gd);\n",
       "            observer.disconnect();\n",
       "        }}\n",
       "}});\n",
       "\n",
       "// Listen for the removal of the full notebook cells\n",
       "var notebookContainer = gd.closest('#notebook-container');\n",
       "if (notebookContainer) {{\n",
       "    x.observe(notebookContainer, {childList: true});\n",
       "}}\n",
       "\n",
       "// Listen for the clearing of the current output cell\n",
       "var outputEl = gd.closest('.output');\n",
       "if (outputEl) {{\n",
       "    x.observe(outputEl, {childList: true});\n",
       "}}\n",
       "\n",
       "                        })                };                });            </script>        </div>"
      ]
     },
     "metadata": {},
     "output_type": "display_data"
    }
   ],
   "source": [
    "figs['실험2결과요약'].layout['title']['text']='Figure9: Results of Experiment 2'\n",
    "figs['실험2결과요약'].layout['width']=1050\n",
    "figs['실험2결과요약'].layout['height']=600\n",
    "figs['실험2결과요약']"
   ]
  },
  {
   "cell_type": "markdown",
   "id": "f31159ef-1956-432d-8ac3-a4b22fef9c4d",
   "metadata": {},
   "source": [
    "::: {.notes}\n",
    "파란색이 캐글만 추가시킨 거, 빨간색이 gpt만 추가시킨 거 입니다\n",
    "\n",
    "질적연구에서는 실제 데이터와 합쳐졌을 때는 괜찮은데 단독으로만은 gpt 데이터가 좋은 데이터는 아니라는 것을 알 수 있습니다.\n",
    "\n",
    "auc라 0.5에서 시작한다\n",
    "::: "
   ]
  },
  {
   "cell_type": "markdown",
   "id": "9e9ecb92-918a-47e6-96f5-4b38f3f1d1e7",
   "metadata": {
    "tags": []
   },
   "source": [
    "## Experiment3\n",
    "\n",
    "::: {.panel-tabset}\n",
    "#### +0 "
   ]
  },
  {
   "cell_type": "code",
   "execution_count": 15,
   "id": "43d28666-d0b2-4831-a484-809c76bfce8c",
   "metadata": {
    "tags": []
   },
   "outputs": [
    {
     "data": {
      "text/html": [
       "<div>                            <div id=\"9969b6c3-149d-4e01-bd14-660f2431df77\" class=\"plotly-graph-div\" style=\"height:500px; width:1050px;\"></div>            <script type=\"text/javascript\">                require([\"plotly\"], function(Plotly) {                    window.PLOTLYENV=window.PLOTLYENV || {};                                    if (document.getElementById(\"9969b6c3-149d-4e01-bd14-660f2431df77\")) {                    Plotly.newPlot(                        \"9969b6c3-149d-4e01-bd14-660f2431df77\",                        [{\"alignmentgroup\":\"True\",\"customdata\":[[\"Kaggle\"],[\"Kaggle\"],[\"Kaggle\"],[\"Kaggle\"],[\"Kaggle\"],[\"Kaggle\"]],\"hovertemplate\":\"DataType=Train\\u003cbr\\u003eSetting=Real\\u003cbr\\u003etype=%{x}\\u003cbr\\u003ecount=%{y}\\u003cbr\\u003eSource=%{customdata[0]}\\u003cbr\\u003ecol=%{marker.color}\\u003cextra\\u003e\\u003c\\u002fextra\\u003e\",\"legendgroup\":\"Train\",\"marker\":{\"color\":[\"#636efa\",\"#636efa\",\"#636efa\",\"#636efa\",\"#636efa\",\"#636efa\"],\"coloraxis\":\"coloraxis\",\"pattern\":{\"shape\":\"\"}},\"name\":\"Train\",\"offsetgroup\":\"Train\",\"orientation\":\"v\",\"showlegend\":true,\"textposition\":\"auto\",\"x\":[\"INTP\",\"ISTP\",\"ISFP\",\"ISTJ\",\"ESTP\",\"ENFJ\"],\"xaxis\":\"x\",\"y\":[652,168,135,103,45,1],\"yaxis\":\"y\",\"type\":\"bar\"},{\"alignmentgroup\":\"True\",\"customdata\":[[\"ChatGPT\"],[\"ChatGPT\"],[\"ChatGPT\"],[\"ChatGPT\"],[\"ChatGPT\"],[\"ChatGPT\"]],\"hovertemplate\":\"DataType=Train\\u003cbr\\u003eSetting=Synthetic\\u003cbr\\u003etype=%{x}\\u003cbr\\u003ecount=%{y}\\u003cbr\\u003eSource=%{customdata[0]}\\u003cbr\\u003ecol=%{marker.color}\\u003cextra\\u003e\\u003c\\u002fextra\\u003e\",\"legendgroup\":\"Train\",\"marker\":{\"color\":[\"#636efa\",\"#636efa\",\"#636efa\",\"#636efa\",\"#636efa\",\"#636efa\"],\"coloraxis\":\"coloraxis\",\"pattern\":{\"shape\":\"\"}},\"name\":\"Train\",\"offsetgroup\":\"Train\",\"orientation\":\"v\",\"showlegend\":false,\"textposition\":\"auto\",\"x\":[\"INTP\",\"ISTP\",\"ISFP\",\"ISTJ\",\"ESTP\",\"ENFJ\"],\"xaxis\":\"x2\",\"y\":[652,168,135,103,45,1],\"yaxis\":\"y2\",\"type\":\"bar\"},{\"alignmentgroup\":\"True\",\"customdata\":[[\"Kaggle\"],[\"Kaggle\"],[\"Kaggle\"],[\"Kaggle\"],[\"Kaggle\"],[\"Kaggle\"]],\"hovertemplate\":\"DataType=Test\\u003cbr\\u003eSetting=Real\\u003cbr\\u003etype=%{x}\\u003cbr\\u003ecount=%{y}\\u003cbr\\u003eSource=%{customdata[0]}\\u003cbr\\u003ecol=%{marker.color}\\u003cextra\\u003e\\u003c\\u002fextra\\u003e\",\"legendgroup\":\"Test\",\"marker\":{\"color\":[\"#636efa\",\"#636efa\",\"#636efa\",\"#636efa\",\"#636efa\",\"#636efa\"],\"coloraxis\":\"coloraxis\",\"pattern\":{\"shape\":\"\\u002f\"}},\"name\":\"Test\",\"offsetgroup\":\"Test\",\"orientation\":\"v\",\"showlegend\":true,\"textposition\":\"auto\",\"x\":[\"INTP\",\"ISTP\",\"ISFP\",\"ISTJ\",\"ESTP\",\"ENFJ\"],\"xaxis\":\"x\",\"y\":[652,168,135,103,45,40],\"yaxis\":\"y\",\"type\":\"bar\"},{\"alignmentgroup\":\"True\",\"customdata\":[[\"Kaggle\"],[\"Kaggle\"],[\"Kaggle\"],[\"Kaggle\"],[\"Kaggle\"],[\"Kaggle\"]],\"hovertemplate\":\"DataType=Test\\u003cbr\\u003eSetting=Synthetic\\u003cbr\\u003etype=%{x}\\u003cbr\\u003ecount=%{y}\\u003cbr\\u003eSource=%{customdata[0]}\\u003cbr\\u003ecol=%{marker.color}\\u003cextra\\u003e\\u003c\\u002fextra\\u003e\",\"legendgroup\":\"Test\",\"marker\":{\"color\":[\"#636efa\",\"#636efa\",\"#636efa\",\"#636efa\",\"#636efa\",\"#636efa\"],\"coloraxis\":\"coloraxis\",\"pattern\":{\"shape\":\"\\u002f\"}},\"name\":\"Test\",\"offsetgroup\":\"Test\",\"orientation\":\"v\",\"showlegend\":false,\"textposition\":\"auto\",\"x\":[\"INTP\",\"ISTP\",\"ISFP\",\"ISTJ\",\"ESTP\",\"ENFJ\"],\"xaxis\":\"x2\",\"y\":[652,168,135,103,45,40],\"yaxis\":\"y2\",\"type\":\"bar\"}],                        {\"annotations\":[{\"showarrow\":false,\"text\":\"\",\"x\":0.245,\"xanchor\":\"center\",\"xref\":\"paper\",\"y\":1.0,\"yanchor\":\"bottom\",\"yref\":\"paper\"},{\"showarrow\":false,\"text\":\"\",\"x\":0.755,\"xanchor\":\"center\",\"xref\":\"paper\",\"y\":1.0,\"yanchor\":\"bottom\",\"yref\":\"paper\"}],\"barmode\":\"group\",\"coloraxis\":{\"colorbar\":{\"title\":{\"text\":\"col\"}},\"colorscale\":[[0.0,\"#0d0887\"],[0.1111111111111111,\"#46039f\"],[0.2222222222222222,\"#7201a8\"],[0.3333333333333333,\"#9c179e\"],[0.4444444444444444,\"#bd3786\"],[0.5555555555555556,\"#d8576b\"],[0.6666666666666666,\"#ed7953\"],[0.7777777777777778,\"#fb9f3a\"],[0.8888888888888888,\"#fdca26\"],[1.0,\"#f0f921\"]]},\"legend\":{\"title\":{\"text\":\"\"},\"tracegroupgap\":0},\"template\":{\"data\":{\"barpolar\":[{\"marker\":{\"line\":{\"color\":\"white\",\"width\":0.5},\"pattern\":{\"fillmode\":\"overlay\",\"size\":10,\"solidity\":0.2}},\"type\":\"barpolar\"}],\"bar\":[{\"error_x\":{\"color\":\"#2a3f5f\"},\"error_y\":{\"color\":\"#2a3f5f\"},\"marker\":{\"line\":{\"color\":\"white\",\"width\":0.5},\"pattern\":{\"fillmode\":\"overlay\",\"size\":10,\"solidity\":0.2}},\"type\":\"bar\"}],\"carpet\":[{\"aaxis\":{\"endlinecolor\":\"#2a3f5f\",\"gridcolor\":\"#C8D4E3\",\"linecolor\":\"#C8D4E3\",\"minorgridcolor\":\"#C8D4E3\",\"startlinecolor\":\"#2a3f5f\"},\"baxis\":{\"endlinecolor\":\"#2a3f5f\",\"gridcolor\":\"#C8D4E3\",\"linecolor\":\"#C8D4E3\",\"minorgridcolor\":\"#C8D4E3\",\"startlinecolor\":\"#2a3f5f\"},\"type\":\"carpet\"}],\"choropleth\":[{\"colorbar\":{\"outlinewidth\":0,\"ticks\":\"\"},\"type\":\"choropleth\"}],\"contourcarpet\":[{\"colorbar\":{\"outlinewidth\":0,\"ticks\":\"\"},\"type\":\"contourcarpet\"}],\"contour\":[{\"colorbar\":{\"outlinewidth\":0,\"ticks\":\"\"},\"colorscale\":[[0.0,\"#0d0887\"],[0.1111111111111111,\"#46039f\"],[0.2222222222222222,\"#7201a8\"],[0.3333333333333333,\"#9c179e\"],[0.4444444444444444,\"#bd3786\"],[0.5555555555555556,\"#d8576b\"],[0.6666666666666666,\"#ed7953\"],[0.7777777777777778,\"#fb9f3a\"],[0.8888888888888888,\"#fdca26\"],[1.0,\"#f0f921\"]],\"type\":\"contour\"}],\"heatmapgl\":[{\"colorbar\":{\"outlinewidth\":0,\"ticks\":\"\"},\"colorscale\":[[0.0,\"#0d0887\"],[0.1111111111111111,\"#46039f\"],[0.2222222222222222,\"#7201a8\"],[0.3333333333333333,\"#9c179e\"],[0.4444444444444444,\"#bd3786\"],[0.5555555555555556,\"#d8576b\"],[0.6666666666666666,\"#ed7953\"],[0.7777777777777778,\"#fb9f3a\"],[0.8888888888888888,\"#fdca26\"],[1.0,\"#f0f921\"]],\"type\":\"heatmapgl\"}],\"heatmap\":[{\"colorbar\":{\"outlinewidth\":0,\"ticks\":\"\"},\"colorscale\":[[0.0,\"#0d0887\"],[0.1111111111111111,\"#46039f\"],[0.2222222222222222,\"#7201a8\"],[0.3333333333333333,\"#9c179e\"],[0.4444444444444444,\"#bd3786\"],[0.5555555555555556,\"#d8576b\"],[0.6666666666666666,\"#ed7953\"],[0.7777777777777778,\"#fb9f3a\"],[0.8888888888888888,\"#fdca26\"],[1.0,\"#f0f921\"]],\"type\":\"heatmap\"}],\"histogram2dcontour\":[{\"colorbar\":{\"outlinewidth\":0,\"ticks\":\"\"},\"colorscale\":[[0.0,\"#0d0887\"],[0.1111111111111111,\"#46039f\"],[0.2222222222222222,\"#7201a8\"],[0.3333333333333333,\"#9c179e\"],[0.4444444444444444,\"#bd3786\"],[0.5555555555555556,\"#d8576b\"],[0.6666666666666666,\"#ed7953\"],[0.7777777777777778,\"#fb9f3a\"],[0.8888888888888888,\"#fdca26\"],[1.0,\"#f0f921\"]],\"type\":\"histogram2dcontour\"}],\"histogram2d\":[{\"colorbar\":{\"outlinewidth\":0,\"ticks\":\"\"},\"colorscale\":[[0.0,\"#0d0887\"],[0.1111111111111111,\"#46039f\"],[0.2222222222222222,\"#7201a8\"],[0.3333333333333333,\"#9c179e\"],[0.4444444444444444,\"#bd3786\"],[0.5555555555555556,\"#d8576b\"],[0.6666666666666666,\"#ed7953\"],[0.7777777777777778,\"#fb9f3a\"],[0.8888888888888888,\"#fdca26\"],[1.0,\"#f0f921\"]],\"type\":\"histogram2d\"}],\"histogram\":[{\"marker\":{\"pattern\":{\"fillmode\":\"overlay\",\"size\":10,\"solidity\":0.2}},\"type\":\"histogram\"}],\"mesh3d\":[{\"colorbar\":{\"outlinewidth\":0,\"ticks\":\"\"},\"type\":\"mesh3d\"}],\"parcoords\":[{\"line\":{\"colorbar\":{\"outlinewidth\":0,\"ticks\":\"\"}},\"type\":\"parcoords\"}],\"pie\":[{\"automargin\":true,\"type\":\"pie\"}],\"scatter3d\":[{\"line\":{\"colorbar\":{\"outlinewidth\":0,\"ticks\":\"\"}},\"marker\":{\"colorbar\":{\"outlinewidth\":0,\"ticks\":\"\"}},\"type\":\"scatter3d\"}],\"scattercarpet\":[{\"marker\":{\"colorbar\":{\"outlinewidth\":0,\"ticks\":\"\"}},\"type\":\"scattercarpet\"}],\"scattergeo\":[{\"marker\":{\"colorbar\":{\"outlinewidth\":0,\"ticks\":\"\"}},\"type\":\"scattergeo\"}],\"scattergl\":[{\"marker\":{\"colorbar\":{\"outlinewidth\":0,\"ticks\":\"\"}},\"type\":\"scattergl\"}],\"scattermapbox\":[{\"marker\":{\"colorbar\":{\"outlinewidth\":0,\"ticks\":\"\"}},\"type\":\"scattermapbox\"}],\"scatterpolargl\":[{\"marker\":{\"colorbar\":{\"outlinewidth\":0,\"ticks\":\"\"}},\"type\":\"scatterpolargl\"}],\"scatterpolar\":[{\"marker\":{\"colorbar\":{\"outlinewidth\":0,\"ticks\":\"\"}},\"type\":\"scatterpolar\"}],\"scatter\":[{\"fillpattern\":{\"fillmode\":\"overlay\",\"size\":10,\"solidity\":0.2},\"type\":\"scatter\"}],\"scatterternary\":[{\"marker\":{\"colorbar\":{\"outlinewidth\":0,\"ticks\":\"\"}},\"type\":\"scatterternary\"}],\"surface\":[{\"colorbar\":{\"outlinewidth\":0,\"ticks\":\"\"},\"colorscale\":[[0.0,\"#0d0887\"],[0.1111111111111111,\"#46039f\"],[0.2222222222222222,\"#7201a8\"],[0.3333333333333333,\"#9c179e\"],[0.4444444444444444,\"#bd3786\"],[0.5555555555555556,\"#d8576b\"],[0.6666666666666666,\"#ed7953\"],[0.7777777777777778,\"#fb9f3a\"],[0.8888888888888888,\"#fdca26\"],[1.0,\"#f0f921\"]],\"type\":\"surface\"}],\"table\":[{\"cells\":{\"fill\":{\"color\":\"#EBF0F8\"},\"line\":{\"color\":\"white\"}},\"header\":{\"fill\":{\"color\":\"#C8D4E3\"},\"line\":{\"color\":\"white\"}},\"type\":\"table\"}]},\"layout\":{\"annotationdefaults\":{\"arrowcolor\":\"#2a3f5f\",\"arrowhead\":0,\"arrowwidth\":1},\"autotypenumbers\":\"strict\",\"coloraxis\":{\"colorbar\":{\"outlinewidth\":0,\"ticks\":\"\"}},\"colorscale\":{\"diverging\":[[0,\"#8e0152\"],[0.1,\"#c51b7d\"],[0.2,\"#de77ae\"],[0.3,\"#f1b6da\"],[0.4,\"#fde0ef\"],[0.5,\"#f7f7f7\"],[0.6,\"#e6f5d0\"],[0.7,\"#b8e186\"],[0.8,\"#7fbc41\"],[0.9,\"#4d9221\"],[1,\"#276419\"]],\"sequential\":[[0.0,\"#0d0887\"],[0.1111111111111111,\"#46039f\"],[0.2222222222222222,\"#7201a8\"],[0.3333333333333333,\"#9c179e\"],[0.4444444444444444,\"#bd3786\"],[0.5555555555555556,\"#d8576b\"],[0.6666666666666666,\"#ed7953\"],[0.7777777777777778,\"#fb9f3a\"],[0.8888888888888888,\"#fdca26\"],[1.0,\"#f0f921\"]],\"sequentialminus\":[[0.0,\"#0d0887\"],[0.1111111111111111,\"#46039f\"],[0.2222222222222222,\"#7201a8\"],[0.3333333333333333,\"#9c179e\"],[0.4444444444444444,\"#bd3786\"],[0.5555555555555556,\"#d8576b\"],[0.6666666666666666,\"#ed7953\"],[0.7777777777777778,\"#fb9f3a\"],[0.8888888888888888,\"#fdca26\"],[1.0,\"#f0f921\"]]},\"colorway\":[\"#636efa\",\"#EF553B\",\"#00cc96\",\"#ab63fa\",\"#FFA15A\",\"#19d3f3\",\"#FF6692\",\"#B6E880\",\"#FF97FF\",\"#FECB52\"],\"font\":{\"color\":\"#2a3f5f\"},\"geo\":{\"bgcolor\":\"white\",\"lakecolor\":\"white\",\"landcolor\":\"white\",\"showlakes\":true,\"showland\":true,\"subunitcolor\":\"#C8D4E3\"},\"hoverlabel\":{\"align\":\"left\"},\"hovermode\":\"closest\",\"mapbox\":{\"style\":\"light\"},\"paper_bgcolor\":\"white\",\"plot_bgcolor\":\"white\",\"polar\":{\"angularaxis\":{\"gridcolor\":\"#EBF0F8\",\"linecolor\":\"#EBF0F8\",\"ticks\":\"\"},\"bgcolor\":\"white\",\"radialaxis\":{\"gridcolor\":\"#EBF0F8\",\"linecolor\":\"#EBF0F8\",\"ticks\":\"\"}},\"scene\":{\"xaxis\":{\"backgroundcolor\":\"white\",\"gridcolor\":\"#DFE8F3\",\"gridwidth\":2,\"linecolor\":\"#EBF0F8\",\"showbackground\":true,\"ticks\":\"\",\"zerolinecolor\":\"#EBF0F8\"},\"yaxis\":{\"backgroundcolor\":\"white\",\"gridcolor\":\"#DFE8F3\",\"gridwidth\":2,\"linecolor\":\"#EBF0F8\",\"showbackground\":true,\"ticks\":\"\",\"zerolinecolor\":\"#EBF0F8\"},\"zaxis\":{\"backgroundcolor\":\"white\",\"gridcolor\":\"#DFE8F3\",\"gridwidth\":2,\"linecolor\":\"#EBF0F8\",\"showbackground\":true,\"ticks\":\"\",\"zerolinecolor\":\"#EBF0F8\"}},\"shapedefaults\":{\"line\":{\"color\":\"#2a3f5f\"}},\"ternary\":{\"aaxis\":{\"gridcolor\":\"#DFE8F3\",\"linecolor\":\"#A2B1C6\",\"ticks\":\"\"},\"baxis\":{\"gridcolor\":\"#DFE8F3\",\"linecolor\":\"#A2B1C6\",\"ticks\":\"\"},\"bgcolor\":\"white\",\"caxis\":{\"gridcolor\":\"#DFE8F3\",\"linecolor\":\"#A2B1C6\",\"ticks\":\"\"}},\"title\":{\"x\":0.05},\"xaxis\":{\"automargin\":true,\"gridcolor\":\"#EBF0F8\",\"linecolor\":\"#EBF0F8\",\"ticks\":\"\",\"title\":{\"standoff\":15},\"zerolinecolor\":\"#EBF0F8\",\"zerolinewidth\":2},\"yaxis\":{\"automargin\":true,\"gridcolor\":\"#EBF0F8\",\"linecolor\":\"#EBF0F8\",\"ticks\":\"\",\"title\":{\"standoff\":15},\"zerolinecolor\":\"#EBF0F8\",\"zerolinewidth\":2}}},\"title\":{\"text\":\"Figure10(a): Configuration of Experiment 3 (+0)\"},\"xaxis\":{\"anchor\":\"y\",\"domain\":[0.0,0.49],\"title\":{\"text\":\"type\"}},\"yaxis\":{\"anchor\":\"x\",\"domain\":[0.0,1.0],\"title\":{\"text\":\"count\"}},\"xaxis2\":{\"anchor\":\"y2\",\"domain\":[0.51,1.0],\"matches\":\"x\",\"title\":{\"text\":\"type\"}},\"yaxis2\":{\"anchor\":\"x2\",\"domain\":[0.0,1.0],\"matches\":\"y\",\"showticklabels\":false},\"width\":1050,\"height\":500},                        {\"responsive\": true}                    ).then(function(){\n",
       "                            \n",
       "var gd = document.getElementById('9969b6c3-149d-4e01-bd14-660f2431df77');\n",
       "var x = new MutationObserver(function (mutations, observer) {{\n",
       "        var display = window.getComputedStyle(gd).display;\n",
       "        if (!display || display === 'none') {{\n",
       "            console.log([gd, 'removed!']);\n",
       "            Plotly.purge(gd);\n",
       "            observer.disconnect();\n",
       "        }}\n",
       "}});\n",
       "\n",
       "// Listen for the removal of the full notebook cells\n",
       "var notebookContainer = gd.closest('#notebook-container');\n",
       "if (notebookContainer) {{\n",
       "    x.observe(notebookContainer, {childList: true});\n",
       "}}\n",
       "\n",
       "// Listen for the clearing of the current output cell\n",
       "var outputEl = gd.closest('.output');\n",
       "if (outputEl) {{\n",
       "    x.observe(outputEl, {childList: true});\n",
       "}}\n",
       "\n",
       "                        })                };                });            </script>        </div>"
      ]
     },
     "metadata": {},
     "output_type": "display_data"
    }
   ],
   "source": [
    "figs['실험셋업시각화_실험3시나리오0'].layout['title']['text']='Figure10(a): Configuration of Experiment 3 (+0)'\n",
    "figs['실험셋업시각화_실험3시나리오0'].layout['width']=1050\n",
    "figs['실험셋업시각화_실험3시나리오0'].layout['height']=500\n",
    "figs['실험셋업시각화_실험3시나리오0']"
   ]
  },
  {
   "cell_type": "markdown",
   "id": "10aacdfc-4e5f-4d92-a5bd-e83c28caf45e",
   "metadata": {},
   "source": [
    "::: {.notes}\n",
    "ENFJ와 다른 데이터 5개를 추가\n",
    "ENFJ만 train 데이터를 안한다\n",
    "::: "
   ]
  },
  {
   "cell_type": "markdown",
   "id": "534dd506-cd2f-42a0-af42-a8fe709bfdf7",
   "metadata": {
    "tags": []
   },
   "source": [
    "#### +20"
   ]
  },
  {
   "cell_type": "code",
   "execution_count": 16,
   "id": "45afe4b8-2510-46bb-bde3-3bb3cb33e0b3",
   "metadata": {
    "tags": []
   },
   "outputs": [
    {
     "data": {
      "text/html": [
       "<div>                            <div id=\"01c4049f-f834-4846-92c7-40ab3287c6d1\" class=\"plotly-graph-div\" style=\"height:500px; width:1050px;\"></div>            <script type=\"text/javascript\">                require([\"plotly\"], function(Plotly) {                    window.PLOTLYENV=window.PLOTLYENV || {};                                    if (document.getElementById(\"01c4049f-f834-4846-92c7-40ab3287c6d1\")) {                    Plotly.newPlot(                        \"01c4049f-f834-4846-92c7-40ab3287c6d1\",                        [{\"alignmentgroup\":\"True\",\"customdata\":[[\"Kaggle\"],[\"Kaggle\"],[\"Kaggle\"],[\"Kaggle\"],[\"Kaggle\"],[\"Kaggle\"],[\"Kaggle\"]],\"hovertemplate\":\"DataType=Train\\u003cbr\\u003eSetting=Real\\u003cbr\\u003etype=%{x}\\u003cbr\\u003ecount=%{y}\\u003cbr\\u003eSource=%{customdata[0]}\\u003cbr\\u003ecol=%{marker.color}\\u003cextra\\u003e\\u003c\\u002fextra\\u003e\",\"legendgroup\":\"Train\",\"marker\":{\"color\":[\"#636efa\",\"#636efa\",\"#636efa\",\"#636efa\",\"#636efa\",\"#636efa\",\"#636efa\"],\"coloraxis\":\"coloraxis\",\"pattern\":{\"shape\":\"\"}},\"name\":\"Train\",\"offsetgroup\":\"Train\",\"orientation\":\"v\",\"showlegend\":true,\"textposition\":\"auto\",\"x\":[\"INTP\",\"ISTP\",\"ISFP\",\"ISTJ\",\"ESTP\",\"ENFJ\",\"ENFJ\"],\"xaxis\":\"x\",\"y\":[652,168,135,103,45,1,20],\"yaxis\":\"y\",\"type\":\"bar\"},{\"alignmentgroup\":\"True\",\"customdata\":[[\"Kaggle\"],[\"Kaggle\"],[\"Kaggle\"],[\"Kaggle\"],[\"Kaggle\"],[\"Kaggle\"],[\"ChatGPT\"]],\"hovertemplate\":\"DataType=Train\\u003cbr\\u003eSetting=Synthetic\\u003cbr\\u003etype=%{x}\\u003cbr\\u003ecount=%{y}\\u003cbr\\u003eSource=%{customdata[0]}\\u003cbr\\u003ecol=%{marker.color}\\u003cextra\\u003e\\u003c\\u002fextra\\u003e\",\"legendgroup\":\"Train\",\"marker\":{\"color\":[\"#636efa\",\"#636efa\",\"#636efa\",\"#636efa\",\"#636efa\",\"#636efa\",\"#EF553B\"],\"coloraxis\":\"coloraxis\",\"pattern\":{\"shape\":\"\"}},\"name\":\"Train\",\"offsetgroup\":\"Train\",\"orientation\":\"v\",\"showlegend\":false,\"textposition\":\"auto\",\"x\":[\"INTP\",\"ISTP\",\"ISFP\",\"ISTJ\",\"ESTP\",\"ENFJ\",\"ENFJ\"],\"xaxis\":\"x2\",\"y\":[652,168,135,103,45,1,20],\"yaxis\":\"y2\",\"type\":\"bar\"},{\"alignmentgroup\":\"True\",\"customdata\":[[\"Kaggle\"],[\"Kaggle\"],[\"Kaggle\"],[\"Kaggle\"],[\"Kaggle\"],[\"Kaggle\"]],\"hovertemplate\":\"DataType=Test\\u003cbr\\u003eSetting=Real\\u003cbr\\u003etype=%{x}\\u003cbr\\u003ecount=%{y}\\u003cbr\\u003eSource=%{customdata[0]}\\u003cbr\\u003ecol=%{marker.color}\\u003cextra\\u003e\\u003c\\u002fextra\\u003e\",\"legendgroup\":\"Test\",\"marker\":{\"color\":[\"#636efa\",\"#636efa\",\"#636efa\",\"#636efa\",\"#636efa\",\"#636efa\"],\"coloraxis\":\"coloraxis\",\"pattern\":{\"shape\":\"\\u002f\"}},\"name\":\"Test\",\"offsetgroup\":\"Test\",\"orientation\":\"v\",\"showlegend\":true,\"textposition\":\"auto\",\"x\":[\"INTP\",\"ISTP\",\"ISFP\",\"ISTJ\",\"ESTP\",\"ENFJ\"],\"xaxis\":\"x\",\"y\":[652,168,135,103,45,40],\"yaxis\":\"y\",\"type\":\"bar\"},{\"alignmentgroup\":\"True\",\"customdata\":[[\"Kaggle\"],[\"Kaggle\"],[\"Kaggle\"],[\"Kaggle\"],[\"Kaggle\"],[\"Kaggle\"]],\"hovertemplate\":\"DataType=Test\\u003cbr\\u003eSetting=Synthetic\\u003cbr\\u003etype=%{x}\\u003cbr\\u003ecount=%{y}\\u003cbr\\u003eSource=%{customdata[0]}\\u003cbr\\u003ecol=%{marker.color}\\u003cextra\\u003e\\u003c\\u002fextra\\u003e\",\"legendgroup\":\"Test\",\"marker\":{\"color\":[\"#636efa\",\"#636efa\",\"#636efa\",\"#636efa\",\"#636efa\",\"#636efa\"],\"coloraxis\":\"coloraxis\",\"pattern\":{\"shape\":\"\\u002f\"}},\"name\":\"Test\",\"offsetgroup\":\"Test\",\"orientation\":\"v\",\"showlegend\":false,\"textposition\":\"auto\",\"x\":[\"INTP\",\"ISTP\",\"ISFP\",\"ISTJ\",\"ESTP\",\"ENFJ\"],\"xaxis\":\"x2\",\"y\":[652,168,135,103,45,40],\"yaxis\":\"y2\",\"type\":\"bar\"}],                        {\"annotations\":[{\"showarrow\":false,\"text\":\"\",\"x\":0.245,\"xanchor\":\"center\",\"xref\":\"paper\",\"y\":1.0,\"yanchor\":\"bottom\",\"yref\":\"paper\"},{\"showarrow\":false,\"text\":\"\",\"x\":0.755,\"xanchor\":\"center\",\"xref\":\"paper\",\"y\":1.0,\"yanchor\":\"bottom\",\"yref\":\"paper\"}],\"barmode\":\"group\",\"coloraxis\":{\"colorbar\":{\"title\":{\"text\":\"col\"}},\"colorscale\":[[0.0,\"#0d0887\"],[0.1111111111111111,\"#46039f\"],[0.2222222222222222,\"#7201a8\"],[0.3333333333333333,\"#9c179e\"],[0.4444444444444444,\"#bd3786\"],[0.5555555555555556,\"#d8576b\"],[0.6666666666666666,\"#ed7953\"],[0.7777777777777778,\"#fb9f3a\"],[0.8888888888888888,\"#fdca26\"],[1.0,\"#f0f921\"]]},\"legend\":{\"title\":{\"text\":\"\"},\"tracegroupgap\":0},\"template\":{\"data\":{\"barpolar\":[{\"marker\":{\"line\":{\"color\":\"white\",\"width\":0.5},\"pattern\":{\"fillmode\":\"overlay\",\"size\":10,\"solidity\":0.2}},\"type\":\"barpolar\"}],\"bar\":[{\"error_x\":{\"color\":\"#2a3f5f\"},\"error_y\":{\"color\":\"#2a3f5f\"},\"marker\":{\"line\":{\"color\":\"white\",\"width\":0.5},\"pattern\":{\"fillmode\":\"overlay\",\"size\":10,\"solidity\":0.2}},\"type\":\"bar\"}],\"carpet\":[{\"aaxis\":{\"endlinecolor\":\"#2a3f5f\",\"gridcolor\":\"#C8D4E3\",\"linecolor\":\"#C8D4E3\",\"minorgridcolor\":\"#C8D4E3\",\"startlinecolor\":\"#2a3f5f\"},\"baxis\":{\"endlinecolor\":\"#2a3f5f\",\"gridcolor\":\"#C8D4E3\",\"linecolor\":\"#C8D4E3\",\"minorgridcolor\":\"#C8D4E3\",\"startlinecolor\":\"#2a3f5f\"},\"type\":\"carpet\"}],\"choropleth\":[{\"colorbar\":{\"outlinewidth\":0,\"ticks\":\"\"},\"type\":\"choropleth\"}],\"contourcarpet\":[{\"colorbar\":{\"outlinewidth\":0,\"ticks\":\"\"},\"type\":\"contourcarpet\"}],\"contour\":[{\"colorbar\":{\"outlinewidth\":0,\"ticks\":\"\"},\"colorscale\":[[0.0,\"#0d0887\"],[0.1111111111111111,\"#46039f\"],[0.2222222222222222,\"#7201a8\"],[0.3333333333333333,\"#9c179e\"],[0.4444444444444444,\"#bd3786\"],[0.5555555555555556,\"#d8576b\"],[0.6666666666666666,\"#ed7953\"],[0.7777777777777778,\"#fb9f3a\"],[0.8888888888888888,\"#fdca26\"],[1.0,\"#f0f921\"]],\"type\":\"contour\"}],\"heatmapgl\":[{\"colorbar\":{\"outlinewidth\":0,\"ticks\":\"\"},\"colorscale\":[[0.0,\"#0d0887\"],[0.1111111111111111,\"#46039f\"],[0.2222222222222222,\"#7201a8\"],[0.3333333333333333,\"#9c179e\"],[0.4444444444444444,\"#bd3786\"],[0.5555555555555556,\"#d8576b\"],[0.6666666666666666,\"#ed7953\"],[0.7777777777777778,\"#fb9f3a\"],[0.8888888888888888,\"#fdca26\"],[1.0,\"#f0f921\"]],\"type\":\"heatmapgl\"}],\"heatmap\":[{\"colorbar\":{\"outlinewidth\":0,\"ticks\":\"\"},\"colorscale\":[[0.0,\"#0d0887\"],[0.1111111111111111,\"#46039f\"],[0.2222222222222222,\"#7201a8\"],[0.3333333333333333,\"#9c179e\"],[0.4444444444444444,\"#bd3786\"],[0.5555555555555556,\"#d8576b\"],[0.6666666666666666,\"#ed7953\"],[0.7777777777777778,\"#fb9f3a\"],[0.8888888888888888,\"#fdca26\"],[1.0,\"#f0f921\"]],\"type\":\"heatmap\"}],\"histogram2dcontour\":[{\"colorbar\":{\"outlinewidth\":0,\"ticks\":\"\"},\"colorscale\":[[0.0,\"#0d0887\"],[0.1111111111111111,\"#46039f\"],[0.2222222222222222,\"#7201a8\"],[0.3333333333333333,\"#9c179e\"],[0.4444444444444444,\"#bd3786\"],[0.5555555555555556,\"#d8576b\"],[0.6666666666666666,\"#ed7953\"],[0.7777777777777778,\"#fb9f3a\"],[0.8888888888888888,\"#fdca26\"],[1.0,\"#f0f921\"]],\"type\":\"histogram2dcontour\"}],\"histogram2d\":[{\"colorbar\":{\"outlinewidth\":0,\"ticks\":\"\"},\"colorscale\":[[0.0,\"#0d0887\"],[0.1111111111111111,\"#46039f\"],[0.2222222222222222,\"#7201a8\"],[0.3333333333333333,\"#9c179e\"],[0.4444444444444444,\"#bd3786\"],[0.5555555555555556,\"#d8576b\"],[0.6666666666666666,\"#ed7953\"],[0.7777777777777778,\"#fb9f3a\"],[0.8888888888888888,\"#fdca26\"],[1.0,\"#f0f921\"]],\"type\":\"histogram2d\"}],\"histogram\":[{\"marker\":{\"pattern\":{\"fillmode\":\"overlay\",\"size\":10,\"solidity\":0.2}},\"type\":\"histogram\"}],\"mesh3d\":[{\"colorbar\":{\"outlinewidth\":0,\"ticks\":\"\"},\"type\":\"mesh3d\"}],\"parcoords\":[{\"line\":{\"colorbar\":{\"outlinewidth\":0,\"ticks\":\"\"}},\"type\":\"parcoords\"}],\"pie\":[{\"automargin\":true,\"type\":\"pie\"}],\"scatter3d\":[{\"line\":{\"colorbar\":{\"outlinewidth\":0,\"ticks\":\"\"}},\"marker\":{\"colorbar\":{\"outlinewidth\":0,\"ticks\":\"\"}},\"type\":\"scatter3d\"}],\"scattercarpet\":[{\"marker\":{\"colorbar\":{\"outlinewidth\":0,\"ticks\":\"\"}},\"type\":\"scattercarpet\"}],\"scattergeo\":[{\"marker\":{\"colorbar\":{\"outlinewidth\":0,\"ticks\":\"\"}},\"type\":\"scattergeo\"}],\"scattergl\":[{\"marker\":{\"colorbar\":{\"outlinewidth\":0,\"ticks\":\"\"}},\"type\":\"scattergl\"}],\"scattermapbox\":[{\"marker\":{\"colorbar\":{\"outlinewidth\":0,\"ticks\":\"\"}},\"type\":\"scattermapbox\"}],\"scatterpolargl\":[{\"marker\":{\"colorbar\":{\"outlinewidth\":0,\"ticks\":\"\"}},\"type\":\"scatterpolargl\"}],\"scatterpolar\":[{\"marker\":{\"colorbar\":{\"outlinewidth\":0,\"ticks\":\"\"}},\"type\":\"scatterpolar\"}],\"scatter\":[{\"fillpattern\":{\"fillmode\":\"overlay\",\"size\":10,\"solidity\":0.2},\"type\":\"scatter\"}],\"scatterternary\":[{\"marker\":{\"colorbar\":{\"outlinewidth\":0,\"ticks\":\"\"}},\"type\":\"scatterternary\"}],\"surface\":[{\"colorbar\":{\"outlinewidth\":0,\"ticks\":\"\"},\"colorscale\":[[0.0,\"#0d0887\"],[0.1111111111111111,\"#46039f\"],[0.2222222222222222,\"#7201a8\"],[0.3333333333333333,\"#9c179e\"],[0.4444444444444444,\"#bd3786\"],[0.5555555555555556,\"#d8576b\"],[0.6666666666666666,\"#ed7953\"],[0.7777777777777778,\"#fb9f3a\"],[0.8888888888888888,\"#fdca26\"],[1.0,\"#f0f921\"]],\"type\":\"surface\"}],\"table\":[{\"cells\":{\"fill\":{\"color\":\"#EBF0F8\"},\"line\":{\"color\":\"white\"}},\"header\":{\"fill\":{\"color\":\"#C8D4E3\"},\"line\":{\"color\":\"white\"}},\"type\":\"table\"}]},\"layout\":{\"annotationdefaults\":{\"arrowcolor\":\"#2a3f5f\",\"arrowhead\":0,\"arrowwidth\":1},\"autotypenumbers\":\"strict\",\"coloraxis\":{\"colorbar\":{\"outlinewidth\":0,\"ticks\":\"\"}},\"colorscale\":{\"diverging\":[[0,\"#8e0152\"],[0.1,\"#c51b7d\"],[0.2,\"#de77ae\"],[0.3,\"#f1b6da\"],[0.4,\"#fde0ef\"],[0.5,\"#f7f7f7\"],[0.6,\"#e6f5d0\"],[0.7,\"#b8e186\"],[0.8,\"#7fbc41\"],[0.9,\"#4d9221\"],[1,\"#276419\"]],\"sequential\":[[0.0,\"#0d0887\"],[0.1111111111111111,\"#46039f\"],[0.2222222222222222,\"#7201a8\"],[0.3333333333333333,\"#9c179e\"],[0.4444444444444444,\"#bd3786\"],[0.5555555555555556,\"#d8576b\"],[0.6666666666666666,\"#ed7953\"],[0.7777777777777778,\"#fb9f3a\"],[0.8888888888888888,\"#fdca26\"],[1.0,\"#f0f921\"]],\"sequentialminus\":[[0.0,\"#0d0887\"],[0.1111111111111111,\"#46039f\"],[0.2222222222222222,\"#7201a8\"],[0.3333333333333333,\"#9c179e\"],[0.4444444444444444,\"#bd3786\"],[0.5555555555555556,\"#d8576b\"],[0.6666666666666666,\"#ed7953\"],[0.7777777777777778,\"#fb9f3a\"],[0.8888888888888888,\"#fdca26\"],[1.0,\"#f0f921\"]]},\"colorway\":[\"#636efa\",\"#EF553B\",\"#00cc96\",\"#ab63fa\",\"#FFA15A\",\"#19d3f3\",\"#FF6692\",\"#B6E880\",\"#FF97FF\",\"#FECB52\"],\"font\":{\"color\":\"#2a3f5f\"},\"geo\":{\"bgcolor\":\"white\",\"lakecolor\":\"white\",\"landcolor\":\"white\",\"showlakes\":true,\"showland\":true,\"subunitcolor\":\"#C8D4E3\"},\"hoverlabel\":{\"align\":\"left\"},\"hovermode\":\"closest\",\"mapbox\":{\"style\":\"light\"},\"paper_bgcolor\":\"white\",\"plot_bgcolor\":\"white\",\"polar\":{\"angularaxis\":{\"gridcolor\":\"#EBF0F8\",\"linecolor\":\"#EBF0F8\",\"ticks\":\"\"},\"bgcolor\":\"white\",\"radialaxis\":{\"gridcolor\":\"#EBF0F8\",\"linecolor\":\"#EBF0F8\",\"ticks\":\"\"}},\"scene\":{\"xaxis\":{\"backgroundcolor\":\"white\",\"gridcolor\":\"#DFE8F3\",\"gridwidth\":2,\"linecolor\":\"#EBF0F8\",\"showbackground\":true,\"ticks\":\"\",\"zerolinecolor\":\"#EBF0F8\"},\"yaxis\":{\"backgroundcolor\":\"white\",\"gridcolor\":\"#DFE8F3\",\"gridwidth\":2,\"linecolor\":\"#EBF0F8\",\"showbackground\":true,\"ticks\":\"\",\"zerolinecolor\":\"#EBF0F8\"},\"zaxis\":{\"backgroundcolor\":\"white\",\"gridcolor\":\"#DFE8F3\",\"gridwidth\":2,\"linecolor\":\"#EBF0F8\",\"showbackground\":true,\"ticks\":\"\",\"zerolinecolor\":\"#EBF0F8\"}},\"shapedefaults\":{\"line\":{\"color\":\"#2a3f5f\"}},\"ternary\":{\"aaxis\":{\"gridcolor\":\"#DFE8F3\",\"linecolor\":\"#A2B1C6\",\"ticks\":\"\"},\"baxis\":{\"gridcolor\":\"#DFE8F3\",\"linecolor\":\"#A2B1C6\",\"ticks\":\"\"},\"bgcolor\":\"white\",\"caxis\":{\"gridcolor\":\"#DFE8F3\",\"linecolor\":\"#A2B1C6\",\"ticks\":\"\"}},\"title\":{\"x\":0.05},\"xaxis\":{\"automargin\":true,\"gridcolor\":\"#EBF0F8\",\"linecolor\":\"#EBF0F8\",\"ticks\":\"\",\"title\":{\"standoff\":15},\"zerolinecolor\":\"#EBF0F8\",\"zerolinewidth\":2},\"yaxis\":{\"automargin\":true,\"gridcolor\":\"#EBF0F8\",\"linecolor\":\"#EBF0F8\",\"ticks\":\"\",\"title\":{\"standoff\":15},\"zerolinecolor\":\"#EBF0F8\",\"zerolinewidth\":2}}},\"title\":{\"text\":\"Figure10(b): Configuration of Experiment 3 (+20)\"},\"xaxis\":{\"anchor\":\"y\",\"domain\":[0.0,0.49],\"title\":{\"text\":\"type\"}},\"yaxis\":{\"anchor\":\"x\",\"domain\":[0.0,1.0],\"title\":{\"text\":\"count\"}},\"xaxis2\":{\"anchor\":\"y2\",\"domain\":[0.51,1.0],\"matches\":\"x\",\"title\":{\"text\":\"type\"}},\"yaxis2\":{\"anchor\":\"x2\",\"domain\":[0.0,1.0],\"matches\":\"y\",\"showticklabels\":false},\"width\":1050,\"height\":500},                        {\"responsive\": true}                    ).then(function(){\n",
       "                            \n",
       "var gd = document.getElementById('01c4049f-f834-4846-92c7-40ab3287c6d1');\n",
       "var x = new MutationObserver(function (mutations, observer) {{\n",
       "        var display = window.getComputedStyle(gd).display;\n",
       "        if (!display || display === 'none') {{\n",
       "            console.log([gd, 'removed!']);\n",
       "            Plotly.purge(gd);\n",
       "            observer.disconnect();\n",
       "        }}\n",
       "}});\n",
       "\n",
       "// Listen for the removal of the full notebook cells\n",
       "var notebookContainer = gd.closest('#notebook-container');\n",
       "if (notebookContainer) {{\n",
       "    x.observe(notebookContainer, {childList: true});\n",
       "}}\n",
       "\n",
       "// Listen for the clearing of the current output cell\n",
       "var outputEl = gd.closest('.output');\n",
       "if (outputEl) {{\n",
       "    x.observe(outputEl, {childList: true});\n",
       "}}\n",
       "\n",
       "                        })                };                });            </script>        </div>"
      ]
     },
     "metadata": {},
     "output_type": "display_data"
    }
   ],
   "source": [
    "figs['실험셋업시각화_실험3시나리오1'].layout['title']['text']='Figure10(b): Configuration of Experiment 3 (+20)'\n",
    "figs['실험셋업시각화_실험3시나리오1'].layout['width']=1050\n",
    "figs['실험셋업시각화_실험3시나리오1'].layout['height']=500\n",
    "figs['실험셋업시각화_실험3시나리오1']"
   ]
  },
  {
   "cell_type": "markdown",
   "id": "b03dbb31-0279-46ec-a1fa-c975f2878e4b",
   "metadata": {},
   "source": [
    "::: {.notes}\n",
    "ENFJ train data를 20 추가했다\n",
    "::: "
   ]
  },
  {
   "cell_type": "markdown",
   "id": "f827b74c-a7ac-4c96-9f5f-ab10647bd5f7",
   "metadata": {
    "tags": []
   },
   "source": [
    "#### +40"
   ]
  },
  {
   "cell_type": "code",
   "execution_count": 17,
   "id": "a6eefb78-06c9-4541-8ef8-9934ed8176ac",
   "metadata": {
    "tags": []
   },
   "outputs": [
    {
     "data": {
      "text/html": [
       "<div>                            <div id=\"a728c173-bb3a-4555-9227-0a9a56b9bb3c\" class=\"plotly-graph-div\" style=\"height:500px; width:1050px;\"></div>            <script type=\"text/javascript\">                require([\"plotly\"], function(Plotly) {                    window.PLOTLYENV=window.PLOTLYENV || {};                                    if (document.getElementById(\"a728c173-bb3a-4555-9227-0a9a56b9bb3c\")) {                    Plotly.newPlot(                        \"a728c173-bb3a-4555-9227-0a9a56b9bb3c\",                        [{\"alignmentgroup\":\"True\",\"customdata\":[[\"Kaggle\"],[\"Kaggle\"],[\"Kaggle\"],[\"Kaggle\"],[\"Kaggle\"],[\"Kaggle\"],[\"Kaggle\"]],\"hovertemplate\":\"DataType=Train\\u003cbr\\u003eSetting=Real\\u003cbr\\u003etype=%{x}\\u003cbr\\u003ecount=%{y}\\u003cbr\\u003eSource=%{customdata[0]}\\u003cbr\\u003ecol=%{marker.color}\\u003cextra\\u003e\\u003c\\u002fextra\\u003e\",\"legendgroup\":\"Train\",\"marker\":{\"color\":[\"#636efa\",\"#636efa\",\"#636efa\",\"#636efa\",\"#636efa\",\"#636efa\",\"#636efa\"],\"coloraxis\":\"coloraxis\",\"pattern\":{\"shape\":\"\"}},\"name\":\"Train\",\"offsetgroup\":\"Train\",\"orientation\":\"v\",\"showlegend\":true,\"textposition\":\"auto\",\"x\":[\"INTP\",\"ISTP\",\"ISFP\",\"ISTJ\",\"ESTP\",\"ENFJ\",\"ENFJ\"],\"xaxis\":\"x\",\"y\":[652,168,135,103,45,1,40],\"yaxis\":\"y\",\"type\":\"bar\"},{\"alignmentgroup\":\"True\",\"customdata\":[[\"Kaggle\"],[\"Kaggle\"],[\"Kaggle\"],[\"Kaggle\"],[\"Kaggle\"],[\"Kaggle\"],[\"ChatGPT\"]],\"hovertemplate\":\"DataType=Train\\u003cbr\\u003eSetting=Synthetic\\u003cbr\\u003etype=%{x}\\u003cbr\\u003ecount=%{y}\\u003cbr\\u003eSource=%{customdata[0]}\\u003cbr\\u003ecol=%{marker.color}\\u003cextra\\u003e\\u003c\\u002fextra\\u003e\",\"legendgroup\":\"Train\",\"marker\":{\"color\":[\"#636efa\",\"#636efa\",\"#636efa\",\"#636efa\",\"#636efa\",\"#636efa\",\"#EF553B\"],\"coloraxis\":\"coloraxis\",\"pattern\":{\"shape\":\"\"}},\"name\":\"Train\",\"offsetgroup\":\"Train\",\"orientation\":\"v\",\"showlegend\":false,\"textposition\":\"auto\",\"x\":[\"INTP\",\"ISTP\",\"ISFP\",\"ISTJ\",\"ESTP\",\"ENFJ\",\"ENFJ\"],\"xaxis\":\"x2\",\"y\":[652,168,135,103,45,1,40],\"yaxis\":\"y2\",\"type\":\"bar\"},{\"alignmentgroup\":\"True\",\"customdata\":[[\"Kaggle\"],[\"Kaggle\"],[\"Kaggle\"],[\"Kaggle\"],[\"Kaggle\"],[\"Kaggle\"]],\"hovertemplate\":\"DataType=Test\\u003cbr\\u003eSetting=Real\\u003cbr\\u003etype=%{x}\\u003cbr\\u003ecount=%{y}\\u003cbr\\u003eSource=%{customdata[0]}\\u003cbr\\u003ecol=%{marker.color}\\u003cextra\\u003e\\u003c\\u002fextra\\u003e\",\"legendgroup\":\"Test\",\"marker\":{\"color\":[\"#636efa\",\"#636efa\",\"#636efa\",\"#636efa\",\"#636efa\",\"#636efa\"],\"coloraxis\":\"coloraxis\",\"pattern\":{\"shape\":\"\\u002f\"}},\"name\":\"Test\",\"offsetgroup\":\"Test\",\"orientation\":\"v\",\"showlegend\":true,\"textposition\":\"auto\",\"x\":[\"INTP\",\"ISTP\",\"ISFP\",\"ISTJ\",\"ESTP\",\"ENFJ\"],\"xaxis\":\"x\",\"y\":[652,168,135,103,45,40],\"yaxis\":\"y\",\"type\":\"bar\"},{\"alignmentgroup\":\"True\",\"customdata\":[[\"Kaggle\"],[\"Kaggle\"],[\"Kaggle\"],[\"Kaggle\"],[\"Kaggle\"],[\"Kaggle\"]],\"hovertemplate\":\"DataType=Test\\u003cbr\\u003eSetting=Synthetic\\u003cbr\\u003etype=%{x}\\u003cbr\\u003ecount=%{y}\\u003cbr\\u003eSource=%{customdata[0]}\\u003cbr\\u003ecol=%{marker.color}\\u003cextra\\u003e\\u003c\\u002fextra\\u003e\",\"legendgroup\":\"Test\",\"marker\":{\"color\":[\"#636efa\",\"#636efa\",\"#636efa\",\"#636efa\",\"#636efa\",\"#636efa\"],\"coloraxis\":\"coloraxis\",\"pattern\":{\"shape\":\"\\u002f\"}},\"name\":\"Test\",\"offsetgroup\":\"Test\",\"orientation\":\"v\",\"showlegend\":false,\"textposition\":\"auto\",\"x\":[\"INTP\",\"ISTP\",\"ISFP\",\"ISTJ\",\"ESTP\",\"ENFJ\"],\"xaxis\":\"x2\",\"y\":[652,168,135,103,45,40],\"yaxis\":\"y2\",\"type\":\"bar\"}],                        {\"annotations\":[{\"showarrow\":false,\"text\":\"\",\"x\":0.245,\"xanchor\":\"center\",\"xref\":\"paper\",\"y\":1.0,\"yanchor\":\"bottom\",\"yref\":\"paper\"},{\"showarrow\":false,\"text\":\"\",\"x\":0.755,\"xanchor\":\"center\",\"xref\":\"paper\",\"y\":1.0,\"yanchor\":\"bottom\",\"yref\":\"paper\"}],\"barmode\":\"group\",\"coloraxis\":{\"colorbar\":{\"title\":{\"text\":\"col\"}},\"colorscale\":[[0.0,\"#0d0887\"],[0.1111111111111111,\"#46039f\"],[0.2222222222222222,\"#7201a8\"],[0.3333333333333333,\"#9c179e\"],[0.4444444444444444,\"#bd3786\"],[0.5555555555555556,\"#d8576b\"],[0.6666666666666666,\"#ed7953\"],[0.7777777777777778,\"#fb9f3a\"],[0.8888888888888888,\"#fdca26\"],[1.0,\"#f0f921\"]]},\"legend\":{\"title\":{\"text\":\"\"},\"tracegroupgap\":0},\"template\":{\"data\":{\"barpolar\":[{\"marker\":{\"line\":{\"color\":\"white\",\"width\":0.5},\"pattern\":{\"fillmode\":\"overlay\",\"size\":10,\"solidity\":0.2}},\"type\":\"barpolar\"}],\"bar\":[{\"error_x\":{\"color\":\"#2a3f5f\"},\"error_y\":{\"color\":\"#2a3f5f\"},\"marker\":{\"line\":{\"color\":\"white\",\"width\":0.5},\"pattern\":{\"fillmode\":\"overlay\",\"size\":10,\"solidity\":0.2}},\"type\":\"bar\"}],\"carpet\":[{\"aaxis\":{\"endlinecolor\":\"#2a3f5f\",\"gridcolor\":\"#C8D4E3\",\"linecolor\":\"#C8D4E3\",\"minorgridcolor\":\"#C8D4E3\",\"startlinecolor\":\"#2a3f5f\"},\"baxis\":{\"endlinecolor\":\"#2a3f5f\",\"gridcolor\":\"#C8D4E3\",\"linecolor\":\"#C8D4E3\",\"minorgridcolor\":\"#C8D4E3\",\"startlinecolor\":\"#2a3f5f\"},\"type\":\"carpet\"}],\"choropleth\":[{\"colorbar\":{\"outlinewidth\":0,\"ticks\":\"\"},\"type\":\"choropleth\"}],\"contourcarpet\":[{\"colorbar\":{\"outlinewidth\":0,\"ticks\":\"\"},\"type\":\"contourcarpet\"}],\"contour\":[{\"colorbar\":{\"outlinewidth\":0,\"ticks\":\"\"},\"colorscale\":[[0.0,\"#0d0887\"],[0.1111111111111111,\"#46039f\"],[0.2222222222222222,\"#7201a8\"],[0.3333333333333333,\"#9c179e\"],[0.4444444444444444,\"#bd3786\"],[0.5555555555555556,\"#d8576b\"],[0.6666666666666666,\"#ed7953\"],[0.7777777777777778,\"#fb9f3a\"],[0.8888888888888888,\"#fdca26\"],[1.0,\"#f0f921\"]],\"type\":\"contour\"}],\"heatmapgl\":[{\"colorbar\":{\"outlinewidth\":0,\"ticks\":\"\"},\"colorscale\":[[0.0,\"#0d0887\"],[0.1111111111111111,\"#46039f\"],[0.2222222222222222,\"#7201a8\"],[0.3333333333333333,\"#9c179e\"],[0.4444444444444444,\"#bd3786\"],[0.5555555555555556,\"#d8576b\"],[0.6666666666666666,\"#ed7953\"],[0.7777777777777778,\"#fb9f3a\"],[0.8888888888888888,\"#fdca26\"],[1.0,\"#f0f921\"]],\"type\":\"heatmapgl\"}],\"heatmap\":[{\"colorbar\":{\"outlinewidth\":0,\"ticks\":\"\"},\"colorscale\":[[0.0,\"#0d0887\"],[0.1111111111111111,\"#46039f\"],[0.2222222222222222,\"#7201a8\"],[0.3333333333333333,\"#9c179e\"],[0.4444444444444444,\"#bd3786\"],[0.5555555555555556,\"#d8576b\"],[0.6666666666666666,\"#ed7953\"],[0.7777777777777778,\"#fb9f3a\"],[0.8888888888888888,\"#fdca26\"],[1.0,\"#f0f921\"]],\"type\":\"heatmap\"}],\"histogram2dcontour\":[{\"colorbar\":{\"outlinewidth\":0,\"ticks\":\"\"},\"colorscale\":[[0.0,\"#0d0887\"],[0.1111111111111111,\"#46039f\"],[0.2222222222222222,\"#7201a8\"],[0.3333333333333333,\"#9c179e\"],[0.4444444444444444,\"#bd3786\"],[0.5555555555555556,\"#d8576b\"],[0.6666666666666666,\"#ed7953\"],[0.7777777777777778,\"#fb9f3a\"],[0.8888888888888888,\"#fdca26\"],[1.0,\"#f0f921\"]],\"type\":\"histogram2dcontour\"}],\"histogram2d\":[{\"colorbar\":{\"outlinewidth\":0,\"ticks\":\"\"},\"colorscale\":[[0.0,\"#0d0887\"],[0.1111111111111111,\"#46039f\"],[0.2222222222222222,\"#7201a8\"],[0.3333333333333333,\"#9c179e\"],[0.4444444444444444,\"#bd3786\"],[0.5555555555555556,\"#d8576b\"],[0.6666666666666666,\"#ed7953\"],[0.7777777777777778,\"#fb9f3a\"],[0.8888888888888888,\"#fdca26\"],[1.0,\"#f0f921\"]],\"type\":\"histogram2d\"}],\"histogram\":[{\"marker\":{\"pattern\":{\"fillmode\":\"overlay\",\"size\":10,\"solidity\":0.2}},\"type\":\"histogram\"}],\"mesh3d\":[{\"colorbar\":{\"outlinewidth\":0,\"ticks\":\"\"},\"type\":\"mesh3d\"}],\"parcoords\":[{\"line\":{\"colorbar\":{\"outlinewidth\":0,\"ticks\":\"\"}},\"type\":\"parcoords\"}],\"pie\":[{\"automargin\":true,\"type\":\"pie\"}],\"scatter3d\":[{\"line\":{\"colorbar\":{\"outlinewidth\":0,\"ticks\":\"\"}},\"marker\":{\"colorbar\":{\"outlinewidth\":0,\"ticks\":\"\"}},\"type\":\"scatter3d\"}],\"scattercarpet\":[{\"marker\":{\"colorbar\":{\"outlinewidth\":0,\"ticks\":\"\"}},\"type\":\"scattercarpet\"}],\"scattergeo\":[{\"marker\":{\"colorbar\":{\"outlinewidth\":0,\"ticks\":\"\"}},\"type\":\"scattergeo\"}],\"scattergl\":[{\"marker\":{\"colorbar\":{\"outlinewidth\":0,\"ticks\":\"\"}},\"type\":\"scattergl\"}],\"scattermapbox\":[{\"marker\":{\"colorbar\":{\"outlinewidth\":0,\"ticks\":\"\"}},\"type\":\"scattermapbox\"}],\"scatterpolargl\":[{\"marker\":{\"colorbar\":{\"outlinewidth\":0,\"ticks\":\"\"}},\"type\":\"scatterpolargl\"}],\"scatterpolar\":[{\"marker\":{\"colorbar\":{\"outlinewidth\":0,\"ticks\":\"\"}},\"type\":\"scatterpolar\"}],\"scatter\":[{\"fillpattern\":{\"fillmode\":\"overlay\",\"size\":10,\"solidity\":0.2},\"type\":\"scatter\"}],\"scatterternary\":[{\"marker\":{\"colorbar\":{\"outlinewidth\":0,\"ticks\":\"\"}},\"type\":\"scatterternary\"}],\"surface\":[{\"colorbar\":{\"outlinewidth\":0,\"ticks\":\"\"},\"colorscale\":[[0.0,\"#0d0887\"],[0.1111111111111111,\"#46039f\"],[0.2222222222222222,\"#7201a8\"],[0.3333333333333333,\"#9c179e\"],[0.4444444444444444,\"#bd3786\"],[0.5555555555555556,\"#d8576b\"],[0.6666666666666666,\"#ed7953\"],[0.7777777777777778,\"#fb9f3a\"],[0.8888888888888888,\"#fdca26\"],[1.0,\"#f0f921\"]],\"type\":\"surface\"}],\"table\":[{\"cells\":{\"fill\":{\"color\":\"#EBF0F8\"},\"line\":{\"color\":\"white\"}},\"header\":{\"fill\":{\"color\":\"#C8D4E3\"},\"line\":{\"color\":\"white\"}},\"type\":\"table\"}]},\"layout\":{\"annotationdefaults\":{\"arrowcolor\":\"#2a3f5f\",\"arrowhead\":0,\"arrowwidth\":1},\"autotypenumbers\":\"strict\",\"coloraxis\":{\"colorbar\":{\"outlinewidth\":0,\"ticks\":\"\"}},\"colorscale\":{\"diverging\":[[0,\"#8e0152\"],[0.1,\"#c51b7d\"],[0.2,\"#de77ae\"],[0.3,\"#f1b6da\"],[0.4,\"#fde0ef\"],[0.5,\"#f7f7f7\"],[0.6,\"#e6f5d0\"],[0.7,\"#b8e186\"],[0.8,\"#7fbc41\"],[0.9,\"#4d9221\"],[1,\"#276419\"]],\"sequential\":[[0.0,\"#0d0887\"],[0.1111111111111111,\"#46039f\"],[0.2222222222222222,\"#7201a8\"],[0.3333333333333333,\"#9c179e\"],[0.4444444444444444,\"#bd3786\"],[0.5555555555555556,\"#d8576b\"],[0.6666666666666666,\"#ed7953\"],[0.7777777777777778,\"#fb9f3a\"],[0.8888888888888888,\"#fdca26\"],[1.0,\"#f0f921\"]],\"sequentialminus\":[[0.0,\"#0d0887\"],[0.1111111111111111,\"#46039f\"],[0.2222222222222222,\"#7201a8\"],[0.3333333333333333,\"#9c179e\"],[0.4444444444444444,\"#bd3786\"],[0.5555555555555556,\"#d8576b\"],[0.6666666666666666,\"#ed7953\"],[0.7777777777777778,\"#fb9f3a\"],[0.8888888888888888,\"#fdca26\"],[1.0,\"#f0f921\"]]},\"colorway\":[\"#636efa\",\"#EF553B\",\"#00cc96\",\"#ab63fa\",\"#FFA15A\",\"#19d3f3\",\"#FF6692\",\"#B6E880\",\"#FF97FF\",\"#FECB52\"],\"font\":{\"color\":\"#2a3f5f\"},\"geo\":{\"bgcolor\":\"white\",\"lakecolor\":\"white\",\"landcolor\":\"white\",\"showlakes\":true,\"showland\":true,\"subunitcolor\":\"#C8D4E3\"},\"hoverlabel\":{\"align\":\"left\"},\"hovermode\":\"closest\",\"mapbox\":{\"style\":\"light\"},\"paper_bgcolor\":\"white\",\"plot_bgcolor\":\"white\",\"polar\":{\"angularaxis\":{\"gridcolor\":\"#EBF0F8\",\"linecolor\":\"#EBF0F8\",\"ticks\":\"\"},\"bgcolor\":\"white\",\"radialaxis\":{\"gridcolor\":\"#EBF0F8\",\"linecolor\":\"#EBF0F8\",\"ticks\":\"\"}},\"scene\":{\"xaxis\":{\"backgroundcolor\":\"white\",\"gridcolor\":\"#DFE8F3\",\"gridwidth\":2,\"linecolor\":\"#EBF0F8\",\"showbackground\":true,\"ticks\":\"\",\"zerolinecolor\":\"#EBF0F8\"},\"yaxis\":{\"backgroundcolor\":\"white\",\"gridcolor\":\"#DFE8F3\",\"gridwidth\":2,\"linecolor\":\"#EBF0F8\",\"showbackground\":true,\"ticks\":\"\",\"zerolinecolor\":\"#EBF0F8\"},\"zaxis\":{\"backgroundcolor\":\"white\",\"gridcolor\":\"#DFE8F3\",\"gridwidth\":2,\"linecolor\":\"#EBF0F8\",\"showbackground\":true,\"ticks\":\"\",\"zerolinecolor\":\"#EBF0F8\"}},\"shapedefaults\":{\"line\":{\"color\":\"#2a3f5f\"}},\"ternary\":{\"aaxis\":{\"gridcolor\":\"#DFE8F3\",\"linecolor\":\"#A2B1C6\",\"ticks\":\"\"},\"baxis\":{\"gridcolor\":\"#DFE8F3\",\"linecolor\":\"#A2B1C6\",\"ticks\":\"\"},\"bgcolor\":\"white\",\"caxis\":{\"gridcolor\":\"#DFE8F3\",\"linecolor\":\"#A2B1C6\",\"ticks\":\"\"}},\"title\":{\"x\":0.05},\"xaxis\":{\"automargin\":true,\"gridcolor\":\"#EBF0F8\",\"linecolor\":\"#EBF0F8\",\"ticks\":\"\",\"title\":{\"standoff\":15},\"zerolinecolor\":\"#EBF0F8\",\"zerolinewidth\":2},\"yaxis\":{\"automargin\":true,\"gridcolor\":\"#EBF0F8\",\"linecolor\":\"#EBF0F8\",\"ticks\":\"\",\"title\":{\"standoff\":15},\"zerolinecolor\":\"#EBF0F8\",\"zerolinewidth\":2}}},\"title\":{\"text\":\"Figure10(c): Configuration of Experiment 3 (+40)\"},\"xaxis\":{\"anchor\":\"y\",\"domain\":[0.0,0.49],\"title\":{\"text\":\"type\"}},\"yaxis\":{\"anchor\":\"x\",\"domain\":[0.0,1.0],\"title\":{\"text\":\"count\"}},\"xaxis2\":{\"anchor\":\"y2\",\"domain\":[0.51,1.0],\"matches\":\"x\",\"title\":{\"text\":\"type\"}},\"yaxis2\":{\"anchor\":\"x2\",\"domain\":[0.0,1.0],\"matches\":\"y\",\"showticklabels\":false},\"width\":1050,\"height\":500},                        {\"responsive\": true}                    ).then(function(){\n",
       "                            \n",
       "var gd = document.getElementById('a728c173-bb3a-4555-9227-0a9a56b9bb3c');\n",
       "var x = new MutationObserver(function (mutations, observer) {{\n",
       "        var display = window.getComputedStyle(gd).display;\n",
       "        if (!display || display === 'none') {{\n",
       "            console.log([gd, 'removed!']);\n",
       "            Plotly.purge(gd);\n",
       "            observer.disconnect();\n",
       "        }}\n",
       "}});\n",
       "\n",
       "// Listen for the removal of the full notebook cells\n",
       "var notebookContainer = gd.closest('#notebook-container');\n",
       "if (notebookContainer) {{\n",
       "    x.observe(notebookContainer, {childList: true});\n",
       "}}\n",
       "\n",
       "// Listen for the clearing of the current output cell\n",
       "var outputEl = gd.closest('.output');\n",
       "if (outputEl) {{\n",
       "    x.observe(outputEl, {childList: true});\n",
       "}}\n",
       "\n",
       "                        })                };                });            </script>        </div>"
      ]
     },
     "metadata": {},
     "output_type": "display_data"
    }
   ],
   "source": [
    "figs['실험셋업시각화_실험3시나리오2'].layout['title']['text']='Figure10(c): Configuration of Experiment 3 (+40)'\n",
    "figs['실험셋업시각화_실험3시나리오2'].layout['width']=1050\n",
    "figs['실험셋업시각화_실험3시나리오2'].layout['height']=500\n",
    "figs['실험셋업시각화_실험3시나리오2']"
   ]
  },
  {
   "cell_type": "markdown",
   "id": "9737a7c5-50d7-422d-bc91-0ad8cd77210b",
   "metadata": {},
   "source": [
    "::: {.notes}\n",
    "ENFJ train data를 40 추가했다\n",
    "::: "
   ]
  },
  {
   "cell_type": "markdown",
   "id": "418d015d-bc11-49b7-9d0b-05d0abfd7b90",
   "metadata": {
    "tags": []
   },
   "source": [
    "#### +60"
   ]
  },
  {
   "cell_type": "code",
   "execution_count": 18,
   "id": "56f7c7cd-2804-49b4-8b21-27a57706c03d",
   "metadata": {
    "tags": []
   },
   "outputs": [
    {
     "data": {
      "text/html": [
       "<div>                            <div id=\"a2d79afc-686f-4274-b657-57c4fd5a7bb0\" class=\"plotly-graph-div\" style=\"height:500px; width:1050px;\"></div>            <script type=\"text/javascript\">                require([\"plotly\"], function(Plotly) {                    window.PLOTLYENV=window.PLOTLYENV || {};                                    if (document.getElementById(\"a2d79afc-686f-4274-b657-57c4fd5a7bb0\")) {                    Plotly.newPlot(                        \"a2d79afc-686f-4274-b657-57c4fd5a7bb0\",                        [{\"alignmentgroup\":\"True\",\"customdata\":[[\"Kaggle\"],[\"Kaggle\"],[\"Kaggle\"],[\"Kaggle\"],[\"Kaggle\"],[\"Kaggle\"],[\"Kaggle\"]],\"hovertemplate\":\"DataType=Train\\u003cbr\\u003eSetting=Real\\u003cbr\\u003etype=%{x}\\u003cbr\\u003ecount=%{y}\\u003cbr\\u003eSource=%{customdata[0]}\\u003cbr\\u003ecol=%{marker.color}\\u003cextra\\u003e\\u003c\\u002fextra\\u003e\",\"legendgroup\":\"Train\",\"marker\":{\"color\":[\"#636efa\",\"#636efa\",\"#636efa\",\"#636efa\",\"#636efa\",\"#636efa\",\"#636efa\"],\"coloraxis\":\"coloraxis\",\"pattern\":{\"shape\":\"\"}},\"name\":\"Train\",\"offsetgroup\":\"Train\",\"orientation\":\"v\",\"showlegend\":true,\"textposition\":\"auto\",\"x\":[\"INTP\",\"ISTP\",\"ISFP\",\"ISTJ\",\"ESTP\",\"ENFJ\",\"ENFJ\"],\"xaxis\":\"x\",\"y\":[652,168,135,103,45,1,60],\"yaxis\":\"y\",\"type\":\"bar\"},{\"alignmentgroup\":\"True\",\"customdata\":[[\"Kaggle\"],[\"Kaggle\"],[\"Kaggle\"],[\"Kaggle\"],[\"Kaggle\"],[\"Kaggle\"],[\"ChatGPT\"]],\"hovertemplate\":\"DataType=Train\\u003cbr\\u003eSetting=Synthetic\\u003cbr\\u003etype=%{x}\\u003cbr\\u003ecount=%{y}\\u003cbr\\u003eSource=%{customdata[0]}\\u003cbr\\u003ecol=%{marker.color}\\u003cextra\\u003e\\u003c\\u002fextra\\u003e\",\"legendgroup\":\"Train\",\"marker\":{\"color\":[\"#636efa\",\"#636efa\",\"#636efa\",\"#636efa\",\"#636efa\",\"#636efa\",\"#EF553B\"],\"coloraxis\":\"coloraxis\",\"pattern\":{\"shape\":\"\"}},\"name\":\"Train\",\"offsetgroup\":\"Train\",\"orientation\":\"v\",\"showlegend\":false,\"textposition\":\"auto\",\"x\":[\"INTP\",\"ISTP\",\"ISFP\",\"ISTJ\",\"ESTP\",\"ENFJ\",\"ENFJ\"],\"xaxis\":\"x2\",\"y\":[652,168,135,103,45,1,60],\"yaxis\":\"y2\",\"type\":\"bar\"},{\"alignmentgroup\":\"True\",\"customdata\":[[\"Kaggle\"],[\"Kaggle\"],[\"Kaggle\"],[\"Kaggle\"],[\"Kaggle\"],[\"Kaggle\"]],\"hovertemplate\":\"DataType=Test\\u003cbr\\u003eSetting=Real\\u003cbr\\u003etype=%{x}\\u003cbr\\u003ecount=%{y}\\u003cbr\\u003eSource=%{customdata[0]}\\u003cbr\\u003ecol=%{marker.color}\\u003cextra\\u003e\\u003c\\u002fextra\\u003e\",\"legendgroup\":\"Test\",\"marker\":{\"color\":[\"#636efa\",\"#636efa\",\"#636efa\",\"#636efa\",\"#636efa\",\"#636efa\"],\"coloraxis\":\"coloraxis\",\"pattern\":{\"shape\":\"\\u002f\"}},\"name\":\"Test\",\"offsetgroup\":\"Test\",\"orientation\":\"v\",\"showlegend\":true,\"textposition\":\"auto\",\"x\":[\"INTP\",\"ISTP\",\"ISFP\",\"ISTJ\",\"ESTP\",\"ENFJ\"],\"xaxis\":\"x\",\"y\":[652,168,135,103,45,40],\"yaxis\":\"y\",\"type\":\"bar\"},{\"alignmentgroup\":\"True\",\"customdata\":[[\"Kaggle\"],[\"Kaggle\"],[\"Kaggle\"],[\"Kaggle\"],[\"Kaggle\"],[\"Kaggle\"]],\"hovertemplate\":\"DataType=Test\\u003cbr\\u003eSetting=Synthetic\\u003cbr\\u003etype=%{x}\\u003cbr\\u003ecount=%{y}\\u003cbr\\u003eSource=%{customdata[0]}\\u003cbr\\u003ecol=%{marker.color}\\u003cextra\\u003e\\u003c\\u002fextra\\u003e\",\"legendgroup\":\"Test\",\"marker\":{\"color\":[\"#636efa\",\"#636efa\",\"#636efa\",\"#636efa\",\"#636efa\",\"#636efa\"],\"coloraxis\":\"coloraxis\",\"pattern\":{\"shape\":\"\\u002f\"}},\"name\":\"Test\",\"offsetgroup\":\"Test\",\"orientation\":\"v\",\"showlegend\":false,\"textposition\":\"auto\",\"x\":[\"INTP\",\"ISTP\",\"ISFP\",\"ISTJ\",\"ESTP\",\"ENFJ\"],\"xaxis\":\"x2\",\"y\":[652,168,135,103,45,40],\"yaxis\":\"y2\",\"type\":\"bar\"}],                        {\"annotations\":[{\"showarrow\":false,\"text\":\"\",\"x\":0.245,\"xanchor\":\"center\",\"xref\":\"paper\",\"y\":1.0,\"yanchor\":\"bottom\",\"yref\":\"paper\"},{\"showarrow\":false,\"text\":\"\",\"x\":0.755,\"xanchor\":\"center\",\"xref\":\"paper\",\"y\":1.0,\"yanchor\":\"bottom\",\"yref\":\"paper\"}],\"barmode\":\"group\",\"coloraxis\":{\"colorbar\":{\"title\":{\"text\":\"col\"}},\"colorscale\":[[0.0,\"#0d0887\"],[0.1111111111111111,\"#46039f\"],[0.2222222222222222,\"#7201a8\"],[0.3333333333333333,\"#9c179e\"],[0.4444444444444444,\"#bd3786\"],[0.5555555555555556,\"#d8576b\"],[0.6666666666666666,\"#ed7953\"],[0.7777777777777778,\"#fb9f3a\"],[0.8888888888888888,\"#fdca26\"],[1.0,\"#f0f921\"]]},\"legend\":{\"title\":{\"text\":\"\"},\"tracegroupgap\":0},\"template\":{\"data\":{\"barpolar\":[{\"marker\":{\"line\":{\"color\":\"white\",\"width\":0.5},\"pattern\":{\"fillmode\":\"overlay\",\"size\":10,\"solidity\":0.2}},\"type\":\"barpolar\"}],\"bar\":[{\"error_x\":{\"color\":\"#2a3f5f\"},\"error_y\":{\"color\":\"#2a3f5f\"},\"marker\":{\"line\":{\"color\":\"white\",\"width\":0.5},\"pattern\":{\"fillmode\":\"overlay\",\"size\":10,\"solidity\":0.2}},\"type\":\"bar\"}],\"carpet\":[{\"aaxis\":{\"endlinecolor\":\"#2a3f5f\",\"gridcolor\":\"#C8D4E3\",\"linecolor\":\"#C8D4E3\",\"minorgridcolor\":\"#C8D4E3\",\"startlinecolor\":\"#2a3f5f\"},\"baxis\":{\"endlinecolor\":\"#2a3f5f\",\"gridcolor\":\"#C8D4E3\",\"linecolor\":\"#C8D4E3\",\"minorgridcolor\":\"#C8D4E3\",\"startlinecolor\":\"#2a3f5f\"},\"type\":\"carpet\"}],\"choropleth\":[{\"colorbar\":{\"outlinewidth\":0,\"ticks\":\"\"},\"type\":\"choropleth\"}],\"contourcarpet\":[{\"colorbar\":{\"outlinewidth\":0,\"ticks\":\"\"},\"type\":\"contourcarpet\"}],\"contour\":[{\"colorbar\":{\"outlinewidth\":0,\"ticks\":\"\"},\"colorscale\":[[0.0,\"#0d0887\"],[0.1111111111111111,\"#46039f\"],[0.2222222222222222,\"#7201a8\"],[0.3333333333333333,\"#9c179e\"],[0.4444444444444444,\"#bd3786\"],[0.5555555555555556,\"#d8576b\"],[0.6666666666666666,\"#ed7953\"],[0.7777777777777778,\"#fb9f3a\"],[0.8888888888888888,\"#fdca26\"],[1.0,\"#f0f921\"]],\"type\":\"contour\"}],\"heatmapgl\":[{\"colorbar\":{\"outlinewidth\":0,\"ticks\":\"\"},\"colorscale\":[[0.0,\"#0d0887\"],[0.1111111111111111,\"#46039f\"],[0.2222222222222222,\"#7201a8\"],[0.3333333333333333,\"#9c179e\"],[0.4444444444444444,\"#bd3786\"],[0.5555555555555556,\"#d8576b\"],[0.6666666666666666,\"#ed7953\"],[0.7777777777777778,\"#fb9f3a\"],[0.8888888888888888,\"#fdca26\"],[1.0,\"#f0f921\"]],\"type\":\"heatmapgl\"}],\"heatmap\":[{\"colorbar\":{\"outlinewidth\":0,\"ticks\":\"\"},\"colorscale\":[[0.0,\"#0d0887\"],[0.1111111111111111,\"#46039f\"],[0.2222222222222222,\"#7201a8\"],[0.3333333333333333,\"#9c179e\"],[0.4444444444444444,\"#bd3786\"],[0.5555555555555556,\"#d8576b\"],[0.6666666666666666,\"#ed7953\"],[0.7777777777777778,\"#fb9f3a\"],[0.8888888888888888,\"#fdca26\"],[1.0,\"#f0f921\"]],\"type\":\"heatmap\"}],\"histogram2dcontour\":[{\"colorbar\":{\"outlinewidth\":0,\"ticks\":\"\"},\"colorscale\":[[0.0,\"#0d0887\"],[0.1111111111111111,\"#46039f\"],[0.2222222222222222,\"#7201a8\"],[0.3333333333333333,\"#9c179e\"],[0.4444444444444444,\"#bd3786\"],[0.5555555555555556,\"#d8576b\"],[0.6666666666666666,\"#ed7953\"],[0.7777777777777778,\"#fb9f3a\"],[0.8888888888888888,\"#fdca26\"],[1.0,\"#f0f921\"]],\"type\":\"histogram2dcontour\"}],\"histogram2d\":[{\"colorbar\":{\"outlinewidth\":0,\"ticks\":\"\"},\"colorscale\":[[0.0,\"#0d0887\"],[0.1111111111111111,\"#46039f\"],[0.2222222222222222,\"#7201a8\"],[0.3333333333333333,\"#9c179e\"],[0.4444444444444444,\"#bd3786\"],[0.5555555555555556,\"#d8576b\"],[0.6666666666666666,\"#ed7953\"],[0.7777777777777778,\"#fb9f3a\"],[0.8888888888888888,\"#fdca26\"],[1.0,\"#f0f921\"]],\"type\":\"histogram2d\"}],\"histogram\":[{\"marker\":{\"pattern\":{\"fillmode\":\"overlay\",\"size\":10,\"solidity\":0.2}},\"type\":\"histogram\"}],\"mesh3d\":[{\"colorbar\":{\"outlinewidth\":0,\"ticks\":\"\"},\"type\":\"mesh3d\"}],\"parcoords\":[{\"line\":{\"colorbar\":{\"outlinewidth\":0,\"ticks\":\"\"}},\"type\":\"parcoords\"}],\"pie\":[{\"automargin\":true,\"type\":\"pie\"}],\"scatter3d\":[{\"line\":{\"colorbar\":{\"outlinewidth\":0,\"ticks\":\"\"}},\"marker\":{\"colorbar\":{\"outlinewidth\":0,\"ticks\":\"\"}},\"type\":\"scatter3d\"}],\"scattercarpet\":[{\"marker\":{\"colorbar\":{\"outlinewidth\":0,\"ticks\":\"\"}},\"type\":\"scattercarpet\"}],\"scattergeo\":[{\"marker\":{\"colorbar\":{\"outlinewidth\":0,\"ticks\":\"\"}},\"type\":\"scattergeo\"}],\"scattergl\":[{\"marker\":{\"colorbar\":{\"outlinewidth\":0,\"ticks\":\"\"}},\"type\":\"scattergl\"}],\"scattermapbox\":[{\"marker\":{\"colorbar\":{\"outlinewidth\":0,\"ticks\":\"\"}},\"type\":\"scattermapbox\"}],\"scatterpolargl\":[{\"marker\":{\"colorbar\":{\"outlinewidth\":0,\"ticks\":\"\"}},\"type\":\"scatterpolargl\"}],\"scatterpolar\":[{\"marker\":{\"colorbar\":{\"outlinewidth\":0,\"ticks\":\"\"}},\"type\":\"scatterpolar\"}],\"scatter\":[{\"fillpattern\":{\"fillmode\":\"overlay\",\"size\":10,\"solidity\":0.2},\"type\":\"scatter\"}],\"scatterternary\":[{\"marker\":{\"colorbar\":{\"outlinewidth\":0,\"ticks\":\"\"}},\"type\":\"scatterternary\"}],\"surface\":[{\"colorbar\":{\"outlinewidth\":0,\"ticks\":\"\"},\"colorscale\":[[0.0,\"#0d0887\"],[0.1111111111111111,\"#46039f\"],[0.2222222222222222,\"#7201a8\"],[0.3333333333333333,\"#9c179e\"],[0.4444444444444444,\"#bd3786\"],[0.5555555555555556,\"#d8576b\"],[0.6666666666666666,\"#ed7953\"],[0.7777777777777778,\"#fb9f3a\"],[0.8888888888888888,\"#fdca26\"],[1.0,\"#f0f921\"]],\"type\":\"surface\"}],\"table\":[{\"cells\":{\"fill\":{\"color\":\"#EBF0F8\"},\"line\":{\"color\":\"white\"}},\"header\":{\"fill\":{\"color\":\"#C8D4E3\"},\"line\":{\"color\":\"white\"}},\"type\":\"table\"}]},\"layout\":{\"annotationdefaults\":{\"arrowcolor\":\"#2a3f5f\",\"arrowhead\":0,\"arrowwidth\":1},\"autotypenumbers\":\"strict\",\"coloraxis\":{\"colorbar\":{\"outlinewidth\":0,\"ticks\":\"\"}},\"colorscale\":{\"diverging\":[[0,\"#8e0152\"],[0.1,\"#c51b7d\"],[0.2,\"#de77ae\"],[0.3,\"#f1b6da\"],[0.4,\"#fde0ef\"],[0.5,\"#f7f7f7\"],[0.6,\"#e6f5d0\"],[0.7,\"#b8e186\"],[0.8,\"#7fbc41\"],[0.9,\"#4d9221\"],[1,\"#276419\"]],\"sequential\":[[0.0,\"#0d0887\"],[0.1111111111111111,\"#46039f\"],[0.2222222222222222,\"#7201a8\"],[0.3333333333333333,\"#9c179e\"],[0.4444444444444444,\"#bd3786\"],[0.5555555555555556,\"#d8576b\"],[0.6666666666666666,\"#ed7953\"],[0.7777777777777778,\"#fb9f3a\"],[0.8888888888888888,\"#fdca26\"],[1.0,\"#f0f921\"]],\"sequentialminus\":[[0.0,\"#0d0887\"],[0.1111111111111111,\"#46039f\"],[0.2222222222222222,\"#7201a8\"],[0.3333333333333333,\"#9c179e\"],[0.4444444444444444,\"#bd3786\"],[0.5555555555555556,\"#d8576b\"],[0.6666666666666666,\"#ed7953\"],[0.7777777777777778,\"#fb9f3a\"],[0.8888888888888888,\"#fdca26\"],[1.0,\"#f0f921\"]]},\"colorway\":[\"#636efa\",\"#EF553B\",\"#00cc96\",\"#ab63fa\",\"#FFA15A\",\"#19d3f3\",\"#FF6692\",\"#B6E880\",\"#FF97FF\",\"#FECB52\"],\"font\":{\"color\":\"#2a3f5f\"},\"geo\":{\"bgcolor\":\"white\",\"lakecolor\":\"white\",\"landcolor\":\"white\",\"showlakes\":true,\"showland\":true,\"subunitcolor\":\"#C8D4E3\"},\"hoverlabel\":{\"align\":\"left\"},\"hovermode\":\"closest\",\"mapbox\":{\"style\":\"light\"},\"paper_bgcolor\":\"white\",\"plot_bgcolor\":\"white\",\"polar\":{\"angularaxis\":{\"gridcolor\":\"#EBF0F8\",\"linecolor\":\"#EBF0F8\",\"ticks\":\"\"},\"bgcolor\":\"white\",\"radialaxis\":{\"gridcolor\":\"#EBF0F8\",\"linecolor\":\"#EBF0F8\",\"ticks\":\"\"}},\"scene\":{\"xaxis\":{\"backgroundcolor\":\"white\",\"gridcolor\":\"#DFE8F3\",\"gridwidth\":2,\"linecolor\":\"#EBF0F8\",\"showbackground\":true,\"ticks\":\"\",\"zerolinecolor\":\"#EBF0F8\"},\"yaxis\":{\"backgroundcolor\":\"white\",\"gridcolor\":\"#DFE8F3\",\"gridwidth\":2,\"linecolor\":\"#EBF0F8\",\"showbackground\":true,\"ticks\":\"\",\"zerolinecolor\":\"#EBF0F8\"},\"zaxis\":{\"backgroundcolor\":\"white\",\"gridcolor\":\"#DFE8F3\",\"gridwidth\":2,\"linecolor\":\"#EBF0F8\",\"showbackground\":true,\"ticks\":\"\",\"zerolinecolor\":\"#EBF0F8\"}},\"shapedefaults\":{\"line\":{\"color\":\"#2a3f5f\"}},\"ternary\":{\"aaxis\":{\"gridcolor\":\"#DFE8F3\",\"linecolor\":\"#A2B1C6\",\"ticks\":\"\"},\"baxis\":{\"gridcolor\":\"#DFE8F3\",\"linecolor\":\"#A2B1C6\",\"ticks\":\"\"},\"bgcolor\":\"white\",\"caxis\":{\"gridcolor\":\"#DFE8F3\",\"linecolor\":\"#A2B1C6\",\"ticks\":\"\"}},\"title\":{\"x\":0.05},\"xaxis\":{\"automargin\":true,\"gridcolor\":\"#EBF0F8\",\"linecolor\":\"#EBF0F8\",\"ticks\":\"\",\"title\":{\"standoff\":15},\"zerolinecolor\":\"#EBF0F8\",\"zerolinewidth\":2},\"yaxis\":{\"automargin\":true,\"gridcolor\":\"#EBF0F8\",\"linecolor\":\"#EBF0F8\",\"ticks\":\"\",\"title\":{\"standoff\":15},\"zerolinecolor\":\"#EBF0F8\",\"zerolinewidth\":2}}},\"title\":{\"text\":\"Figure10(d): Configuration of Experiment 3 (+60)\"},\"xaxis\":{\"anchor\":\"y\",\"domain\":[0.0,0.49],\"title\":{\"text\":\"type\"}},\"yaxis\":{\"anchor\":\"x\",\"domain\":[0.0,1.0],\"title\":{\"text\":\"count\"}},\"xaxis2\":{\"anchor\":\"y2\",\"domain\":[0.51,1.0],\"matches\":\"x\",\"title\":{\"text\":\"type\"}},\"yaxis2\":{\"anchor\":\"x2\",\"domain\":[0.0,1.0],\"matches\":\"y\",\"showticklabels\":false},\"width\":1050,\"height\":500},                        {\"responsive\": true}                    ).then(function(){\n",
       "                            \n",
       "var gd = document.getElementById('a2d79afc-686f-4274-b657-57c4fd5a7bb0');\n",
       "var x = new MutationObserver(function (mutations, observer) {{\n",
       "        var display = window.getComputedStyle(gd).display;\n",
       "        if (!display || display === 'none') {{\n",
       "            console.log([gd, 'removed!']);\n",
       "            Plotly.purge(gd);\n",
       "            observer.disconnect();\n",
       "        }}\n",
       "}});\n",
       "\n",
       "// Listen for the removal of the full notebook cells\n",
       "var notebookContainer = gd.closest('#notebook-container');\n",
       "if (notebookContainer) {{\n",
       "    x.observe(notebookContainer, {childList: true});\n",
       "}}\n",
       "\n",
       "// Listen for the clearing of the current output cell\n",
       "var outputEl = gd.closest('.output');\n",
       "if (outputEl) {{\n",
       "    x.observe(outputEl, {childList: true});\n",
       "}}\n",
       "\n",
       "                        })                };                });            </script>        </div>"
      ]
     },
     "metadata": {},
     "output_type": "display_data"
    }
   ],
   "source": [
    "figs['실험셋업시각화_실험3시나리오3'].layout['title']['text']='Figure10(d): Configuration of Experiment 3 (+60)'\n",
    "figs['실험셋업시각화_실험3시나리오3'].layout['width']=1050\n",
    "figs['실험셋업시각화_실험3시나리오3'].layout['height']=500\n",
    "figs['실험셋업시각화_실험3시나리오3']"
   ]
  },
  {
   "cell_type": "markdown",
   "id": "830148a6-9c3c-44ee-8ec4-29928da21ca8",
   "metadata": {},
   "source": [
    "::: {.notes}\n",
    "ENFJ train data를 60 추가했다\n",
    "::: "
   ]
  },
  {
   "cell_type": "markdown",
   "id": "a30c388d-cef7-43e3-90be-30ee457e48c8",
   "metadata": {
    "tags": []
   },
   "source": [
    "#### +80"
   ]
  },
  {
   "cell_type": "code",
   "execution_count": 19,
   "id": "40064ea6-e5a5-45d6-9c58-e8de05231e8c",
   "metadata": {
    "tags": []
   },
   "outputs": [
    {
     "data": {
      "text/html": [
       "<div>                            <div id=\"24ac7aed-cdd3-4636-9a9b-18fb85408755\" class=\"plotly-graph-div\" style=\"height:500px; width:1050px;\"></div>            <script type=\"text/javascript\">                require([\"plotly\"], function(Plotly) {                    window.PLOTLYENV=window.PLOTLYENV || {};                                    if (document.getElementById(\"24ac7aed-cdd3-4636-9a9b-18fb85408755\")) {                    Plotly.newPlot(                        \"24ac7aed-cdd3-4636-9a9b-18fb85408755\",                        [{\"alignmentgroup\":\"True\",\"customdata\":[[\"Kaggle\"],[\"Kaggle\"],[\"Kaggle\"],[\"Kaggle\"],[\"Kaggle\"],[\"Kaggle\"],[\"Kaggle\"]],\"hovertemplate\":\"DataType=Train\\u003cbr\\u003eSetting=Real\\u003cbr\\u003etype=%{x}\\u003cbr\\u003ecount=%{y}\\u003cbr\\u003eSource=%{customdata[0]}\\u003cbr\\u003ecol=%{marker.color}\\u003cextra\\u003e\\u003c\\u002fextra\\u003e\",\"legendgroup\":\"Train\",\"marker\":{\"color\":[\"#636efa\",\"#636efa\",\"#636efa\",\"#636efa\",\"#636efa\",\"#636efa\",\"#636efa\"],\"coloraxis\":\"coloraxis\",\"pattern\":{\"shape\":\"\"}},\"name\":\"Train\",\"offsetgroup\":\"Train\",\"orientation\":\"v\",\"showlegend\":true,\"textposition\":\"auto\",\"x\":[\"INTP\",\"ISTP\",\"ISFP\",\"ISTJ\",\"ESTP\",\"ENFJ\",\"ENFJ\"],\"xaxis\":\"x\",\"y\":[652,168,135,103,45,1,80],\"yaxis\":\"y\",\"type\":\"bar\"},{\"alignmentgroup\":\"True\",\"customdata\":[[\"Kaggle\"],[\"Kaggle\"],[\"Kaggle\"],[\"Kaggle\"],[\"Kaggle\"],[\"Kaggle\"],[\"ChatGPT\"]],\"hovertemplate\":\"DataType=Train\\u003cbr\\u003eSetting=Synthetic\\u003cbr\\u003etype=%{x}\\u003cbr\\u003ecount=%{y}\\u003cbr\\u003eSource=%{customdata[0]}\\u003cbr\\u003ecol=%{marker.color}\\u003cextra\\u003e\\u003c\\u002fextra\\u003e\",\"legendgroup\":\"Train\",\"marker\":{\"color\":[\"#636efa\",\"#636efa\",\"#636efa\",\"#636efa\",\"#636efa\",\"#636efa\",\"#EF553B\"],\"coloraxis\":\"coloraxis\",\"pattern\":{\"shape\":\"\"}},\"name\":\"Train\",\"offsetgroup\":\"Train\",\"orientation\":\"v\",\"showlegend\":false,\"textposition\":\"auto\",\"x\":[\"INTP\",\"ISTP\",\"ISFP\",\"ISTJ\",\"ESTP\",\"ENFJ\",\"ENFJ\"],\"xaxis\":\"x2\",\"y\":[652,168,135,103,45,1,80],\"yaxis\":\"y2\",\"type\":\"bar\"},{\"alignmentgroup\":\"True\",\"customdata\":[[\"Kaggle\"],[\"Kaggle\"],[\"Kaggle\"],[\"Kaggle\"],[\"Kaggle\"],[\"Kaggle\"]],\"hovertemplate\":\"DataType=Test\\u003cbr\\u003eSetting=Real\\u003cbr\\u003etype=%{x}\\u003cbr\\u003ecount=%{y}\\u003cbr\\u003eSource=%{customdata[0]}\\u003cbr\\u003ecol=%{marker.color}\\u003cextra\\u003e\\u003c\\u002fextra\\u003e\",\"legendgroup\":\"Test\",\"marker\":{\"color\":[\"#636efa\",\"#636efa\",\"#636efa\",\"#636efa\",\"#636efa\",\"#636efa\"],\"coloraxis\":\"coloraxis\",\"pattern\":{\"shape\":\"\\u002f\"}},\"name\":\"Test\",\"offsetgroup\":\"Test\",\"orientation\":\"v\",\"showlegend\":true,\"textposition\":\"auto\",\"x\":[\"INTP\",\"ISTP\",\"ISFP\",\"ISTJ\",\"ESTP\",\"ENFJ\"],\"xaxis\":\"x\",\"y\":[652,168,135,103,45,40],\"yaxis\":\"y\",\"type\":\"bar\"},{\"alignmentgroup\":\"True\",\"customdata\":[[\"Kaggle\"],[\"Kaggle\"],[\"Kaggle\"],[\"Kaggle\"],[\"Kaggle\"],[\"Kaggle\"]],\"hovertemplate\":\"DataType=Test\\u003cbr\\u003eSetting=Synthetic\\u003cbr\\u003etype=%{x}\\u003cbr\\u003ecount=%{y}\\u003cbr\\u003eSource=%{customdata[0]}\\u003cbr\\u003ecol=%{marker.color}\\u003cextra\\u003e\\u003c\\u002fextra\\u003e\",\"legendgroup\":\"Test\",\"marker\":{\"color\":[\"#636efa\",\"#636efa\",\"#636efa\",\"#636efa\",\"#636efa\",\"#636efa\"],\"coloraxis\":\"coloraxis\",\"pattern\":{\"shape\":\"\\u002f\"}},\"name\":\"Test\",\"offsetgroup\":\"Test\",\"orientation\":\"v\",\"showlegend\":false,\"textposition\":\"auto\",\"x\":[\"INTP\",\"ISTP\",\"ISFP\",\"ISTJ\",\"ESTP\",\"ENFJ\"],\"xaxis\":\"x2\",\"y\":[652,168,135,103,45,40],\"yaxis\":\"y2\",\"type\":\"bar\"}],                        {\"annotations\":[{\"showarrow\":false,\"text\":\"\",\"x\":0.245,\"xanchor\":\"center\",\"xref\":\"paper\",\"y\":1.0,\"yanchor\":\"bottom\",\"yref\":\"paper\"},{\"showarrow\":false,\"text\":\"\",\"x\":0.755,\"xanchor\":\"center\",\"xref\":\"paper\",\"y\":1.0,\"yanchor\":\"bottom\",\"yref\":\"paper\"}],\"barmode\":\"group\",\"coloraxis\":{\"colorbar\":{\"title\":{\"text\":\"col\"}},\"colorscale\":[[0.0,\"#0d0887\"],[0.1111111111111111,\"#46039f\"],[0.2222222222222222,\"#7201a8\"],[0.3333333333333333,\"#9c179e\"],[0.4444444444444444,\"#bd3786\"],[0.5555555555555556,\"#d8576b\"],[0.6666666666666666,\"#ed7953\"],[0.7777777777777778,\"#fb9f3a\"],[0.8888888888888888,\"#fdca26\"],[1.0,\"#f0f921\"]]},\"legend\":{\"title\":{\"text\":\"\"},\"tracegroupgap\":0},\"template\":{\"data\":{\"barpolar\":[{\"marker\":{\"line\":{\"color\":\"white\",\"width\":0.5},\"pattern\":{\"fillmode\":\"overlay\",\"size\":10,\"solidity\":0.2}},\"type\":\"barpolar\"}],\"bar\":[{\"error_x\":{\"color\":\"#2a3f5f\"},\"error_y\":{\"color\":\"#2a3f5f\"},\"marker\":{\"line\":{\"color\":\"white\",\"width\":0.5},\"pattern\":{\"fillmode\":\"overlay\",\"size\":10,\"solidity\":0.2}},\"type\":\"bar\"}],\"carpet\":[{\"aaxis\":{\"endlinecolor\":\"#2a3f5f\",\"gridcolor\":\"#C8D4E3\",\"linecolor\":\"#C8D4E3\",\"minorgridcolor\":\"#C8D4E3\",\"startlinecolor\":\"#2a3f5f\"},\"baxis\":{\"endlinecolor\":\"#2a3f5f\",\"gridcolor\":\"#C8D4E3\",\"linecolor\":\"#C8D4E3\",\"minorgridcolor\":\"#C8D4E3\",\"startlinecolor\":\"#2a3f5f\"},\"type\":\"carpet\"}],\"choropleth\":[{\"colorbar\":{\"outlinewidth\":0,\"ticks\":\"\"},\"type\":\"choropleth\"}],\"contourcarpet\":[{\"colorbar\":{\"outlinewidth\":0,\"ticks\":\"\"},\"type\":\"contourcarpet\"}],\"contour\":[{\"colorbar\":{\"outlinewidth\":0,\"ticks\":\"\"},\"colorscale\":[[0.0,\"#0d0887\"],[0.1111111111111111,\"#46039f\"],[0.2222222222222222,\"#7201a8\"],[0.3333333333333333,\"#9c179e\"],[0.4444444444444444,\"#bd3786\"],[0.5555555555555556,\"#d8576b\"],[0.6666666666666666,\"#ed7953\"],[0.7777777777777778,\"#fb9f3a\"],[0.8888888888888888,\"#fdca26\"],[1.0,\"#f0f921\"]],\"type\":\"contour\"}],\"heatmapgl\":[{\"colorbar\":{\"outlinewidth\":0,\"ticks\":\"\"},\"colorscale\":[[0.0,\"#0d0887\"],[0.1111111111111111,\"#46039f\"],[0.2222222222222222,\"#7201a8\"],[0.3333333333333333,\"#9c179e\"],[0.4444444444444444,\"#bd3786\"],[0.5555555555555556,\"#d8576b\"],[0.6666666666666666,\"#ed7953\"],[0.7777777777777778,\"#fb9f3a\"],[0.8888888888888888,\"#fdca26\"],[1.0,\"#f0f921\"]],\"type\":\"heatmapgl\"}],\"heatmap\":[{\"colorbar\":{\"outlinewidth\":0,\"ticks\":\"\"},\"colorscale\":[[0.0,\"#0d0887\"],[0.1111111111111111,\"#46039f\"],[0.2222222222222222,\"#7201a8\"],[0.3333333333333333,\"#9c179e\"],[0.4444444444444444,\"#bd3786\"],[0.5555555555555556,\"#d8576b\"],[0.6666666666666666,\"#ed7953\"],[0.7777777777777778,\"#fb9f3a\"],[0.8888888888888888,\"#fdca26\"],[1.0,\"#f0f921\"]],\"type\":\"heatmap\"}],\"histogram2dcontour\":[{\"colorbar\":{\"outlinewidth\":0,\"ticks\":\"\"},\"colorscale\":[[0.0,\"#0d0887\"],[0.1111111111111111,\"#46039f\"],[0.2222222222222222,\"#7201a8\"],[0.3333333333333333,\"#9c179e\"],[0.4444444444444444,\"#bd3786\"],[0.5555555555555556,\"#d8576b\"],[0.6666666666666666,\"#ed7953\"],[0.7777777777777778,\"#fb9f3a\"],[0.8888888888888888,\"#fdca26\"],[1.0,\"#f0f921\"]],\"type\":\"histogram2dcontour\"}],\"histogram2d\":[{\"colorbar\":{\"outlinewidth\":0,\"ticks\":\"\"},\"colorscale\":[[0.0,\"#0d0887\"],[0.1111111111111111,\"#46039f\"],[0.2222222222222222,\"#7201a8\"],[0.3333333333333333,\"#9c179e\"],[0.4444444444444444,\"#bd3786\"],[0.5555555555555556,\"#d8576b\"],[0.6666666666666666,\"#ed7953\"],[0.7777777777777778,\"#fb9f3a\"],[0.8888888888888888,\"#fdca26\"],[1.0,\"#f0f921\"]],\"type\":\"histogram2d\"}],\"histogram\":[{\"marker\":{\"pattern\":{\"fillmode\":\"overlay\",\"size\":10,\"solidity\":0.2}},\"type\":\"histogram\"}],\"mesh3d\":[{\"colorbar\":{\"outlinewidth\":0,\"ticks\":\"\"},\"type\":\"mesh3d\"}],\"parcoords\":[{\"line\":{\"colorbar\":{\"outlinewidth\":0,\"ticks\":\"\"}},\"type\":\"parcoords\"}],\"pie\":[{\"automargin\":true,\"type\":\"pie\"}],\"scatter3d\":[{\"line\":{\"colorbar\":{\"outlinewidth\":0,\"ticks\":\"\"}},\"marker\":{\"colorbar\":{\"outlinewidth\":0,\"ticks\":\"\"}},\"type\":\"scatter3d\"}],\"scattercarpet\":[{\"marker\":{\"colorbar\":{\"outlinewidth\":0,\"ticks\":\"\"}},\"type\":\"scattercarpet\"}],\"scattergeo\":[{\"marker\":{\"colorbar\":{\"outlinewidth\":0,\"ticks\":\"\"}},\"type\":\"scattergeo\"}],\"scattergl\":[{\"marker\":{\"colorbar\":{\"outlinewidth\":0,\"ticks\":\"\"}},\"type\":\"scattergl\"}],\"scattermapbox\":[{\"marker\":{\"colorbar\":{\"outlinewidth\":0,\"ticks\":\"\"}},\"type\":\"scattermapbox\"}],\"scatterpolargl\":[{\"marker\":{\"colorbar\":{\"outlinewidth\":0,\"ticks\":\"\"}},\"type\":\"scatterpolargl\"}],\"scatterpolar\":[{\"marker\":{\"colorbar\":{\"outlinewidth\":0,\"ticks\":\"\"}},\"type\":\"scatterpolar\"}],\"scatter\":[{\"fillpattern\":{\"fillmode\":\"overlay\",\"size\":10,\"solidity\":0.2},\"type\":\"scatter\"}],\"scatterternary\":[{\"marker\":{\"colorbar\":{\"outlinewidth\":0,\"ticks\":\"\"}},\"type\":\"scatterternary\"}],\"surface\":[{\"colorbar\":{\"outlinewidth\":0,\"ticks\":\"\"},\"colorscale\":[[0.0,\"#0d0887\"],[0.1111111111111111,\"#46039f\"],[0.2222222222222222,\"#7201a8\"],[0.3333333333333333,\"#9c179e\"],[0.4444444444444444,\"#bd3786\"],[0.5555555555555556,\"#d8576b\"],[0.6666666666666666,\"#ed7953\"],[0.7777777777777778,\"#fb9f3a\"],[0.8888888888888888,\"#fdca26\"],[1.0,\"#f0f921\"]],\"type\":\"surface\"}],\"table\":[{\"cells\":{\"fill\":{\"color\":\"#EBF0F8\"},\"line\":{\"color\":\"white\"}},\"header\":{\"fill\":{\"color\":\"#C8D4E3\"},\"line\":{\"color\":\"white\"}},\"type\":\"table\"}]},\"layout\":{\"annotationdefaults\":{\"arrowcolor\":\"#2a3f5f\",\"arrowhead\":0,\"arrowwidth\":1},\"autotypenumbers\":\"strict\",\"coloraxis\":{\"colorbar\":{\"outlinewidth\":0,\"ticks\":\"\"}},\"colorscale\":{\"diverging\":[[0,\"#8e0152\"],[0.1,\"#c51b7d\"],[0.2,\"#de77ae\"],[0.3,\"#f1b6da\"],[0.4,\"#fde0ef\"],[0.5,\"#f7f7f7\"],[0.6,\"#e6f5d0\"],[0.7,\"#b8e186\"],[0.8,\"#7fbc41\"],[0.9,\"#4d9221\"],[1,\"#276419\"]],\"sequential\":[[0.0,\"#0d0887\"],[0.1111111111111111,\"#46039f\"],[0.2222222222222222,\"#7201a8\"],[0.3333333333333333,\"#9c179e\"],[0.4444444444444444,\"#bd3786\"],[0.5555555555555556,\"#d8576b\"],[0.6666666666666666,\"#ed7953\"],[0.7777777777777778,\"#fb9f3a\"],[0.8888888888888888,\"#fdca26\"],[1.0,\"#f0f921\"]],\"sequentialminus\":[[0.0,\"#0d0887\"],[0.1111111111111111,\"#46039f\"],[0.2222222222222222,\"#7201a8\"],[0.3333333333333333,\"#9c179e\"],[0.4444444444444444,\"#bd3786\"],[0.5555555555555556,\"#d8576b\"],[0.6666666666666666,\"#ed7953\"],[0.7777777777777778,\"#fb9f3a\"],[0.8888888888888888,\"#fdca26\"],[1.0,\"#f0f921\"]]},\"colorway\":[\"#636efa\",\"#EF553B\",\"#00cc96\",\"#ab63fa\",\"#FFA15A\",\"#19d3f3\",\"#FF6692\",\"#B6E880\",\"#FF97FF\",\"#FECB52\"],\"font\":{\"color\":\"#2a3f5f\"},\"geo\":{\"bgcolor\":\"white\",\"lakecolor\":\"white\",\"landcolor\":\"white\",\"showlakes\":true,\"showland\":true,\"subunitcolor\":\"#C8D4E3\"},\"hoverlabel\":{\"align\":\"left\"},\"hovermode\":\"closest\",\"mapbox\":{\"style\":\"light\"},\"paper_bgcolor\":\"white\",\"plot_bgcolor\":\"white\",\"polar\":{\"angularaxis\":{\"gridcolor\":\"#EBF0F8\",\"linecolor\":\"#EBF0F8\",\"ticks\":\"\"},\"bgcolor\":\"white\",\"radialaxis\":{\"gridcolor\":\"#EBF0F8\",\"linecolor\":\"#EBF0F8\",\"ticks\":\"\"}},\"scene\":{\"xaxis\":{\"backgroundcolor\":\"white\",\"gridcolor\":\"#DFE8F3\",\"gridwidth\":2,\"linecolor\":\"#EBF0F8\",\"showbackground\":true,\"ticks\":\"\",\"zerolinecolor\":\"#EBF0F8\"},\"yaxis\":{\"backgroundcolor\":\"white\",\"gridcolor\":\"#DFE8F3\",\"gridwidth\":2,\"linecolor\":\"#EBF0F8\",\"showbackground\":true,\"ticks\":\"\",\"zerolinecolor\":\"#EBF0F8\"},\"zaxis\":{\"backgroundcolor\":\"white\",\"gridcolor\":\"#DFE8F3\",\"gridwidth\":2,\"linecolor\":\"#EBF0F8\",\"showbackground\":true,\"ticks\":\"\",\"zerolinecolor\":\"#EBF0F8\"}},\"shapedefaults\":{\"line\":{\"color\":\"#2a3f5f\"}},\"ternary\":{\"aaxis\":{\"gridcolor\":\"#DFE8F3\",\"linecolor\":\"#A2B1C6\",\"ticks\":\"\"},\"baxis\":{\"gridcolor\":\"#DFE8F3\",\"linecolor\":\"#A2B1C6\",\"ticks\":\"\"},\"bgcolor\":\"white\",\"caxis\":{\"gridcolor\":\"#DFE8F3\",\"linecolor\":\"#A2B1C6\",\"ticks\":\"\"}},\"title\":{\"x\":0.05},\"xaxis\":{\"automargin\":true,\"gridcolor\":\"#EBF0F8\",\"linecolor\":\"#EBF0F8\",\"ticks\":\"\",\"title\":{\"standoff\":15},\"zerolinecolor\":\"#EBF0F8\",\"zerolinewidth\":2},\"yaxis\":{\"automargin\":true,\"gridcolor\":\"#EBF0F8\",\"linecolor\":\"#EBF0F8\",\"ticks\":\"\",\"title\":{\"standoff\":15},\"zerolinecolor\":\"#EBF0F8\",\"zerolinewidth\":2}}},\"title\":{\"text\":\"Figure10(e): Configuration of Experiment 3 (+80)\"},\"xaxis\":{\"anchor\":\"y\",\"domain\":[0.0,0.49],\"title\":{\"text\":\"type\"}},\"yaxis\":{\"anchor\":\"x\",\"domain\":[0.0,1.0],\"title\":{\"text\":\"count\"}},\"xaxis2\":{\"anchor\":\"y2\",\"domain\":[0.51,1.0],\"matches\":\"x\",\"title\":{\"text\":\"type\"}},\"yaxis2\":{\"anchor\":\"x2\",\"domain\":[0.0,1.0],\"matches\":\"y\",\"showticklabels\":false},\"width\":1050,\"height\":500},                        {\"responsive\": true}                    ).then(function(){\n",
       "                            \n",
       "var gd = document.getElementById('24ac7aed-cdd3-4636-9a9b-18fb85408755');\n",
       "var x = new MutationObserver(function (mutations, observer) {{\n",
       "        var display = window.getComputedStyle(gd).display;\n",
       "        if (!display || display === 'none') {{\n",
       "            console.log([gd, 'removed!']);\n",
       "            Plotly.purge(gd);\n",
       "            observer.disconnect();\n",
       "        }}\n",
       "}});\n",
       "\n",
       "// Listen for the removal of the full notebook cells\n",
       "var notebookContainer = gd.closest('#notebook-container');\n",
       "if (notebookContainer) {{\n",
       "    x.observe(notebookContainer, {childList: true});\n",
       "}}\n",
       "\n",
       "// Listen for the clearing of the current output cell\n",
       "var outputEl = gd.closest('.output');\n",
       "if (outputEl) {{\n",
       "    x.observe(outputEl, {childList: true});\n",
       "}}\n",
       "\n",
       "                        })                };                });            </script>        </div>"
      ]
     },
     "metadata": {},
     "output_type": "display_data"
    }
   ],
   "source": [
    "figs['실험셋업시각화_실험3시나리오4'].layout['title']['text']='Figure10(e): Configuration of Experiment 3 (+80)'\n",
    "figs['실험셋업시각화_실험3시나리오4'].layout['width']=1050\n",
    "figs['실험셋업시각화_실험3시나리오4'].layout['height']=500\n",
    "figs['실험셋업시각화_실험3시나리오4']"
   ]
  },
  {
   "cell_type": "markdown",
   "id": "292fc2ec-a468-4c2e-b2bf-d29c19a2cf54",
   "metadata": {},
   "source": [
    "::: {.notes}\n",
    "ENFJ train data를 80 추가했다\n",
    "::: "
   ]
  },
  {
   "cell_type": "markdown",
   "id": "75735521-7860-4fb7-9855-cb9e4beee46a",
   "metadata": {
    "tags": []
   },
   "source": [
    "#### +100"
   ]
  },
  {
   "cell_type": "code",
   "execution_count": 20,
   "id": "1b05b920-4eef-4fda-ad1c-5568204987a9",
   "metadata": {
    "tags": []
   },
   "outputs": [
    {
     "data": {
      "text/html": [
       "<div>                            <div id=\"50fa9296-cc77-45d3-9552-829c098e902e\" class=\"plotly-graph-div\" style=\"height:500px; width:1050px;\"></div>            <script type=\"text/javascript\">                require([\"plotly\"], function(Plotly) {                    window.PLOTLYENV=window.PLOTLYENV || {};                                    if (document.getElementById(\"50fa9296-cc77-45d3-9552-829c098e902e\")) {                    Plotly.newPlot(                        \"50fa9296-cc77-45d3-9552-829c098e902e\",                        [{\"alignmentgroup\":\"True\",\"customdata\":[[\"Kaggle\"],[\"Kaggle\"],[\"Kaggle\"],[\"Kaggle\"],[\"Kaggle\"],[\"Kaggle\"],[\"Kaggle\"]],\"hovertemplate\":\"DataType=Train\\u003cbr\\u003eSetting=Real\\u003cbr\\u003etype=%{x}\\u003cbr\\u003ecount=%{y}\\u003cbr\\u003eSource=%{customdata[0]}\\u003cbr\\u003ecol=%{marker.color}\\u003cextra\\u003e\\u003c\\u002fextra\\u003e\",\"legendgroup\":\"Train\",\"marker\":{\"color\":[\"#636efa\",\"#636efa\",\"#636efa\",\"#636efa\",\"#636efa\",\"#636efa\",\"#636efa\"],\"coloraxis\":\"coloraxis\",\"pattern\":{\"shape\":\"\"}},\"name\":\"Train\",\"offsetgroup\":\"Train\",\"orientation\":\"v\",\"showlegend\":true,\"textposition\":\"auto\",\"x\":[\"INTP\",\"ISTP\",\"ISFP\",\"ISTJ\",\"ESTP\",\"ENFJ\",\"ENFJ\"],\"xaxis\":\"x\",\"y\":[652,168,135,103,45,1,100],\"yaxis\":\"y\",\"type\":\"bar\"},{\"alignmentgroup\":\"True\",\"customdata\":[[\"Kaggle\"],[\"Kaggle\"],[\"Kaggle\"],[\"Kaggle\"],[\"Kaggle\"],[\"Kaggle\"],[\"ChatGPT\"]],\"hovertemplate\":\"DataType=Train\\u003cbr\\u003eSetting=Synthetic\\u003cbr\\u003etype=%{x}\\u003cbr\\u003ecount=%{y}\\u003cbr\\u003eSource=%{customdata[0]}\\u003cbr\\u003ecol=%{marker.color}\\u003cextra\\u003e\\u003c\\u002fextra\\u003e\",\"legendgroup\":\"Train\",\"marker\":{\"color\":[\"#636efa\",\"#636efa\",\"#636efa\",\"#636efa\",\"#636efa\",\"#636efa\",\"#EF553B\"],\"coloraxis\":\"coloraxis\",\"pattern\":{\"shape\":\"\"}},\"name\":\"Train\",\"offsetgroup\":\"Train\",\"orientation\":\"v\",\"showlegend\":false,\"textposition\":\"auto\",\"x\":[\"INTP\",\"ISTP\",\"ISFP\",\"ISTJ\",\"ESTP\",\"ENFJ\",\"ENFJ\"],\"xaxis\":\"x2\",\"y\":[652,168,135,103,45,1,100],\"yaxis\":\"y2\",\"type\":\"bar\"},{\"alignmentgroup\":\"True\",\"customdata\":[[\"Kaggle\"],[\"Kaggle\"],[\"Kaggle\"],[\"Kaggle\"],[\"Kaggle\"],[\"Kaggle\"]],\"hovertemplate\":\"DataType=Test\\u003cbr\\u003eSetting=Real\\u003cbr\\u003etype=%{x}\\u003cbr\\u003ecount=%{y}\\u003cbr\\u003eSource=%{customdata[0]}\\u003cbr\\u003ecol=%{marker.color}\\u003cextra\\u003e\\u003c\\u002fextra\\u003e\",\"legendgroup\":\"Test\",\"marker\":{\"color\":[\"#636efa\",\"#636efa\",\"#636efa\",\"#636efa\",\"#636efa\",\"#636efa\"],\"coloraxis\":\"coloraxis\",\"pattern\":{\"shape\":\"\\u002f\"}},\"name\":\"Test\",\"offsetgroup\":\"Test\",\"orientation\":\"v\",\"showlegend\":true,\"textposition\":\"auto\",\"x\":[\"INTP\",\"ISTP\",\"ISFP\",\"ISTJ\",\"ESTP\",\"ENFJ\"],\"xaxis\":\"x\",\"y\":[652,168,135,103,45,40],\"yaxis\":\"y\",\"type\":\"bar\"},{\"alignmentgroup\":\"True\",\"customdata\":[[\"Kaggle\"],[\"Kaggle\"],[\"Kaggle\"],[\"Kaggle\"],[\"Kaggle\"],[\"Kaggle\"]],\"hovertemplate\":\"DataType=Test\\u003cbr\\u003eSetting=Synthetic\\u003cbr\\u003etype=%{x}\\u003cbr\\u003ecount=%{y}\\u003cbr\\u003eSource=%{customdata[0]}\\u003cbr\\u003ecol=%{marker.color}\\u003cextra\\u003e\\u003c\\u002fextra\\u003e\",\"legendgroup\":\"Test\",\"marker\":{\"color\":[\"#636efa\",\"#636efa\",\"#636efa\",\"#636efa\",\"#636efa\",\"#636efa\"],\"coloraxis\":\"coloraxis\",\"pattern\":{\"shape\":\"\\u002f\"}},\"name\":\"Test\",\"offsetgroup\":\"Test\",\"orientation\":\"v\",\"showlegend\":false,\"textposition\":\"auto\",\"x\":[\"INTP\",\"ISTP\",\"ISFP\",\"ISTJ\",\"ESTP\",\"ENFJ\"],\"xaxis\":\"x2\",\"y\":[652,168,135,103,45,40],\"yaxis\":\"y2\",\"type\":\"bar\"}],                        {\"annotations\":[{\"showarrow\":false,\"text\":\"\",\"x\":0.245,\"xanchor\":\"center\",\"xref\":\"paper\",\"y\":1.0,\"yanchor\":\"bottom\",\"yref\":\"paper\"},{\"showarrow\":false,\"text\":\"\",\"x\":0.755,\"xanchor\":\"center\",\"xref\":\"paper\",\"y\":1.0,\"yanchor\":\"bottom\",\"yref\":\"paper\"}],\"barmode\":\"group\",\"coloraxis\":{\"colorbar\":{\"title\":{\"text\":\"col\"}},\"colorscale\":[[0.0,\"#0d0887\"],[0.1111111111111111,\"#46039f\"],[0.2222222222222222,\"#7201a8\"],[0.3333333333333333,\"#9c179e\"],[0.4444444444444444,\"#bd3786\"],[0.5555555555555556,\"#d8576b\"],[0.6666666666666666,\"#ed7953\"],[0.7777777777777778,\"#fb9f3a\"],[0.8888888888888888,\"#fdca26\"],[1.0,\"#f0f921\"]]},\"legend\":{\"title\":{\"text\":\"\"},\"tracegroupgap\":0},\"template\":{\"data\":{\"barpolar\":[{\"marker\":{\"line\":{\"color\":\"white\",\"width\":0.5},\"pattern\":{\"fillmode\":\"overlay\",\"size\":10,\"solidity\":0.2}},\"type\":\"barpolar\"}],\"bar\":[{\"error_x\":{\"color\":\"#2a3f5f\"},\"error_y\":{\"color\":\"#2a3f5f\"},\"marker\":{\"line\":{\"color\":\"white\",\"width\":0.5},\"pattern\":{\"fillmode\":\"overlay\",\"size\":10,\"solidity\":0.2}},\"type\":\"bar\"}],\"carpet\":[{\"aaxis\":{\"endlinecolor\":\"#2a3f5f\",\"gridcolor\":\"#C8D4E3\",\"linecolor\":\"#C8D4E3\",\"minorgridcolor\":\"#C8D4E3\",\"startlinecolor\":\"#2a3f5f\"},\"baxis\":{\"endlinecolor\":\"#2a3f5f\",\"gridcolor\":\"#C8D4E3\",\"linecolor\":\"#C8D4E3\",\"minorgridcolor\":\"#C8D4E3\",\"startlinecolor\":\"#2a3f5f\"},\"type\":\"carpet\"}],\"choropleth\":[{\"colorbar\":{\"outlinewidth\":0,\"ticks\":\"\"},\"type\":\"choropleth\"}],\"contourcarpet\":[{\"colorbar\":{\"outlinewidth\":0,\"ticks\":\"\"},\"type\":\"contourcarpet\"}],\"contour\":[{\"colorbar\":{\"outlinewidth\":0,\"ticks\":\"\"},\"colorscale\":[[0.0,\"#0d0887\"],[0.1111111111111111,\"#46039f\"],[0.2222222222222222,\"#7201a8\"],[0.3333333333333333,\"#9c179e\"],[0.4444444444444444,\"#bd3786\"],[0.5555555555555556,\"#d8576b\"],[0.6666666666666666,\"#ed7953\"],[0.7777777777777778,\"#fb9f3a\"],[0.8888888888888888,\"#fdca26\"],[1.0,\"#f0f921\"]],\"type\":\"contour\"}],\"heatmapgl\":[{\"colorbar\":{\"outlinewidth\":0,\"ticks\":\"\"},\"colorscale\":[[0.0,\"#0d0887\"],[0.1111111111111111,\"#46039f\"],[0.2222222222222222,\"#7201a8\"],[0.3333333333333333,\"#9c179e\"],[0.4444444444444444,\"#bd3786\"],[0.5555555555555556,\"#d8576b\"],[0.6666666666666666,\"#ed7953\"],[0.7777777777777778,\"#fb9f3a\"],[0.8888888888888888,\"#fdca26\"],[1.0,\"#f0f921\"]],\"type\":\"heatmapgl\"}],\"heatmap\":[{\"colorbar\":{\"outlinewidth\":0,\"ticks\":\"\"},\"colorscale\":[[0.0,\"#0d0887\"],[0.1111111111111111,\"#46039f\"],[0.2222222222222222,\"#7201a8\"],[0.3333333333333333,\"#9c179e\"],[0.4444444444444444,\"#bd3786\"],[0.5555555555555556,\"#d8576b\"],[0.6666666666666666,\"#ed7953\"],[0.7777777777777778,\"#fb9f3a\"],[0.8888888888888888,\"#fdca26\"],[1.0,\"#f0f921\"]],\"type\":\"heatmap\"}],\"histogram2dcontour\":[{\"colorbar\":{\"outlinewidth\":0,\"ticks\":\"\"},\"colorscale\":[[0.0,\"#0d0887\"],[0.1111111111111111,\"#46039f\"],[0.2222222222222222,\"#7201a8\"],[0.3333333333333333,\"#9c179e\"],[0.4444444444444444,\"#bd3786\"],[0.5555555555555556,\"#d8576b\"],[0.6666666666666666,\"#ed7953\"],[0.7777777777777778,\"#fb9f3a\"],[0.8888888888888888,\"#fdca26\"],[1.0,\"#f0f921\"]],\"type\":\"histogram2dcontour\"}],\"histogram2d\":[{\"colorbar\":{\"outlinewidth\":0,\"ticks\":\"\"},\"colorscale\":[[0.0,\"#0d0887\"],[0.1111111111111111,\"#46039f\"],[0.2222222222222222,\"#7201a8\"],[0.3333333333333333,\"#9c179e\"],[0.4444444444444444,\"#bd3786\"],[0.5555555555555556,\"#d8576b\"],[0.6666666666666666,\"#ed7953\"],[0.7777777777777778,\"#fb9f3a\"],[0.8888888888888888,\"#fdca26\"],[1.0,\"#f0f921\"]],\"type\":\"histogram2d\"}],\"histogram\":[{\"marker\":{\"pattern\":{\"fillmode\":\"overlay\",\"size\":10,\"solidity\":0.2}},\"type\":\"histogram\"}],\"mesh3d\":[{\"colorbar\":{\"outlinewidth\":0,\"ticks\":\"\"},\"type\":\"mesh3d\"}],\"parcoords\":[{\"line\":{\"colorbar\":{\"outlinewidth\":0,\"ticks\":\"\"}},\"type\":\"parcoords\"}],\"pie\":[{\"automargin\":true,\"type\":\"pie\"}],\"scatter3d\":[{\"line\":{\"colorbar\":{\"outlinewidth\":0,\"ticks\":\"\"}},\"marker\":{\"colorbar\":{\"outlinewidth\":0,\"ticks\":\"\"}},\"type\":\"scatter3d\"}],\"scattercarpet\":[{\"marker\":{\"colorbar\":{\"outlinewidth\":0,\"ticks\":\"\"}},\"type\":\"scattercarpet\"}],\"scattergeo\":[{\"marker\":{\"colorbar\":{\"outlinewidth\":0,\"ticks\":\"\"}},\"type\":\"scattergeo\"}],\"scattergl\":[{\"marker\":{\"colorbar\":{\"outlinewidth\":0,\"ticks\":\"\"}},\"type\":\"scattergl\"}],\"scattermapbox\":[{\"marker\":{\"colorbar\":{\"outlinewidth\":0,\"ticks\":\"\"}},\"type\":\"scattermapbox\"}],\"scatterpolargl\":[{\"marker\":{\"colorbar\":{\"outlinewidth\":0,\"ticks\":\"\"}},\"type\":\"scatterpolargl\"}],\"scatterpolar\":[{\"marker\":{\"colorbar\":{\"outlinewidth\":0,\"ticks\":\"\"}},\"type\":\"scatterpolar\"}],\"scatter\":[{\"fillpattern\":{\"fillmode\":\"overlay\",\"size\":10,\"solidity\":0.2},\"type\":\"scatter\"}],\"scatterternary\":[{\"marker\":{\"colorbar\":{\"outlinewidth\":0,\"ticks\":\"\"}},\"type\":\"scatterternary\"}],\"surface\":[{\"colorbar\":{\"outlinewidth\":0,\"ticks\":\"\"},\"colorscale\":[[0.0,\"#0d0887\"],[0.1111111111111111,\"#46039f\"],[0.2222222222222222,\"#7201a8\"],[0.3333333333333333,\"#9c179e\"],[0.4444444444444444,\"#bd3786\"],[0.5555555555555556,\"#d8576b\"],[0.6666666666666666,\"#ed7953\"],[0.7777777777777778,\"#fb9f3a\"],[0.8888888888888888,\"#fdca26\"],[1.0,\"#f0f921\"]],\"type\":\"surface\"}],\"table\":[{\"cells\":{\"fill\":{\"color\":\"#EBF0F8\"},\"line\":{\"color\":\"white\"}},\"header\":{\"fill\":{\"color\":\"#C8D4E3\"},\"line\":{\"color\":\"white\"}},\"type\":\"table\"}]},\"layout\":{\"annotationdefaults\":{\"arrowcolor\":\"#2a3f5f\",\"arrowhead\":0,\"arrowwidth\":1},\"autotypenumbers\":\"strict\",\"coloraxis\":{\"colorbar\":{\"outlinewidth\":0,\"ticks\":\"\"}},\"colorscale\":{\"diverging\":[[0,\"#8e0152\"],[0.1,\"#c51b7d\"],[0.2,\"#de77ae\"],[0.3,\"#f1b6da\"],[0.4,\"#fde0ef\"],[0.5,\"#f7f7f7\"],[0.6,\"#e6f5d0\"],[0.7,\"#b8e186\"],[0.8,\"#7fbc41\"],[0.9,\"#4d9221\"],[1,\"#276419\"]],\"sequential\":[[0.0,\"#0d0887\"],[0.1111111111111111,\"#46039f\"],[0.2222222222222222,\"#7201a8\"],[0.3333333333333333,\"#9c179e\"],[0.4444444444444444,\"#bd3786\"],[0.5555555555555556,\"#d8576b\"],[0.6666666666666666,\"#ed7953\"],[0.7777777777777778,\"#fb9f3a\"],[0.8888888888888888,\"#fdca26\"],[1.0,\"#f0f921\"]],\"sequentialminus\":[[0.0,\"#0d0887\"],[0.1111111111111111,\"#46039f\"],[0.2222222222222222,\"#7201a8\"],[0.3333333333333333,\"#9c179e\"],[0.4444444444444444,\"#bd3786\"],[0.5555555555555556,\"#d8576b\"],[0.6666666666666666,\"#ed7953\"],[0.7777777777777778,\"#fb9f3a\"],[0.8888888888888888,\"#fdca26\"],[1.0,\"#f0f921\"]]},\"colorway\":[\"#636efa\",\"#EF553B\",\"#00cc96\",\"#ab63fa\",\"#FFA15A\",\"#19d3f3\",\"#FF6692\",\"#B6E880\",\"#FF97FF\",\"#FECB52\"],\"font\":{\"color\":\"#2a3f5f\"},\"geo\":{\"bgcolor\":\"white\",\"lakecolor\":\"white\",\"landcolor\":\"white\",\"showlakes\":true,\"showland\":true,\"subunitcolor\":\"#C8D4E3\"},\"hoverlabel\":{\"align\":\"left\"},\"hovermode\":\"closest\",\"mapbox\":{\"style\":\"light\"},\"paper_bgcolor\":\"white\",\"plot_bgcolor\":\"white\",\"polar\":{\"angularaxis\":{\"gridcolor\":\"#EBF0F8\",\"linecolor\":\"#EBF0F8\",\"ticks\":\"\"},\"bgcolor\":\"white\",\"radialaxis\":{\"gridcolor\":\"#EBF0F8\",\"linecolor\":\"#EBF0F8\",\"ticks\":\"\"}},\"scene\":{\"xaxis\":{\"backgroundcolor\":\"white\",\"gridcolor\":\"#DFE8F3\",\"gridwidth\":2,\"linecolor\":\"#EBF0F8\",\"showbackground\":true,\"ticks\":\"\",\"zerolinecolor\":\"#EBF0F8\"},\"yaxis\":{\"backgroundcolor\":\"white\",\"gridcolor\":\"#DFE8F3\",\"gridwidth\":2,\"linecolor\":\"#EBF0F8\",\"showbackground\":true,\"ticks\":\"\",\"zerolinecolor\":\"#EBF0F8\"},\"zaxis\":{\"backgroundcolor\":\"white\",\"gridcolor\":\"#DFE8F3\",\"gridwidth\":2,\"linecolor\":\"#EBF0F8\",\"showbackground\":true,\"ticks\":\"\",\"zerolinecolor\":\"#EBF0F8\"}},\"shapedefaults\":{\"line\":{\"color\":\"#2a3f5f\"}},\"ternary\":{\"aaxis\":{\"gridcolor\":\"#DFE8F3\",\"linecolor\":\"#A2B1C6\",\"ticks\":\"\"},\"baxis\":{\"gridcolor\":\"#DFE8F3\",\"linecolor\":\"#A2B1C6\",\"ticks\":\"\"},\"bgcolor\":\"white\",\"caxis\":{\"gridcolor\":\"#DFE8F3\",\"linecolor\":\"#A2B1C6\",\"ticks\":\"\"}},\"title\":{\"x\":0.05},\"xaxis\":{\"automargin\":true,\"gridcolor\":\"#EBF0F8\",\"linecolor\":\"#EBF0F8\",\"ticks\":\"\",\"title\":{\"standoff\":15},\"zerolinecolor\":\"#EBF0F8\",\"zerolinewidth\":2},\"yaxis\":{\"automargin\":true,\"gridcolor\":\"#EBF0F8\",\"linecolor\":\"#EBF0F8\",\"ticks\":\"\",\"title\":{\"standoff\":15},\"zerolinecolor\":\"#EBF0F8\",\"zerolinewidth\":2}}},\"title\":{\"text\":\"Figure10(f): Configuration of Experiment 3 (+100)\"},\"xaxis\":{\"anchor\":\"y\",\"domain\":[0.0,0.49],\"title\":{\"text\":\"type\"}},\"yaxis\":{\"anchor\":\"x\",\"domain\":[0.0,1.0],\"title\":{\"text\":\"count\"}},\"xaxis2\":{\"anchor\":\"y2\",\"domain\":[0.51,1.0],\"matches\":\"x\",\"title\":{\"text\":\"type\"}},\"yaxis2\":{\"anchor\":\"x2\",\"domain\":[0.0,1.0],\"matches\":\"y\",\"showticklabels\":false},\"width\":1050,\"height\":500},                        {\"responsive\": true}                    ).then(function(){\n",
       "                            \n",
       "var gd = document.getElementById('50fa9296-cc77-45d3-9552-829c098e902e');\n",
       "var x = new MutationObserver(function (mutations, observer) {{\n",
       "        var display = window.getComputedStyle(gd).display;\n",
       "        if (!display || display === 'none') {{\n",
       "            console.log([gd, 'removed!']);\n",
       "            Plotly.purge(gd);\n",
       "            observer.disconnect();\n",
       "        }}\n",
       "}});\n",
       "\n",
       "// Listen for the removal of the full notebook cells\n",
       "var notebookContainer = gd.closest('#notebook-container');\n",
       "if (notebookContainer) {{\n",
       "    x.observe(notebookContainer, {childList: true});\n",
       "}}\n",
       "\n",
       "// Listen for the clearing of the current output cell\n",
       "var outputEl = gd.closest('.output');\n",
       "if (outputEl) {{\n",
       "    x.observe(outputEl, {childList: true});\n",
       "}}\n",
       "\n",
       "                        })                };                });            </script>        </div>"
      ]
     },
     "metadata": {},
     "output_type": "display_data"
    }
   ],
   "source": [
    "figs['실험셋업시각화_실험3시나리오5'].layout['title']['text']='Figure10(f): Configuration of Experiment 3 (+100)'\n",
    "figs['실험셋업시각화_실험3시나리오5'].layout['width']=1050\n",
    "figs['실험셋업시각화_실험3시나리오5'].layout['height']=500\n",
    "figs['실험셋업시각화_실험3시나리오5']"
   ]
  },
  {
   "cell_type": "markdown",
   "id": "8c26b69a-396e-4b6f-9905-66f64d589852",
   "metadata": {},
   "source": [
    "::: {.notes}\n",
    "ENFJ train data를 100 추가했다\n",
    "::: "
   ]
  },
  {
   "cell_type": "markdown",
   "id": "636b02d3-da98-47f2-b772-00f4dcda3fe2",
   "metadata": {
    "tags": []
   },
   "source": [
    "#### +120"
   ]
  },
  {
   "cell_type": "code",
   "execution_count": 21,
   "id": "86b532c6-b029-4ee8-b8c3-43ecedbb9d24",
   "metadata": {
    "tags": []
   },
   "outputs": [
    {
     "data": {
      "text/html": [
       "<div>                            <div id=\"94318ad1-be1a-4baf-b00b-4cb14d62cddf\" class=\"plotly-graph-div\" style=\"height:500px; width:1050px;\"></div>            <script type=\"text/javascript\">                require([\"plotly\"], function(Plotly) {                    window.PLOTLYENV=window.PLOTLYENV || {};                                    if (document.getElementById(\"94318ad1-be1a-4baf-b00b-4cb14d62cddf\")) {                    Plotly.newPlot(                        \"94318ad1-be1a-4baf-b00b-4cb14d62cddf\",                        [{\"alignmentgroup\":\"True\",\"customdata\":[[\"Kaggle\"],[\"Kaggle\"],[\"Kaggle\"],[\"Kaggle\"],[\"Kaggle\"],[\"Kaggle\"],[\"Kaggle\"]],\"hovertemplate\":\"DataType=Train\\u003cbr\\u003eSetting=Real\\u003cbr\\u003etype=%{x}\\u003cbr\\u003ecount=%{y}\\u003cbr\\u003eSource=%{customdata[0]}\\u003cbr\\u003ecol=%{marker.color}\\u003cextra\\u003e\\u003c\\u002fextra\\u003e\",\"legendgroup\":\"Train\",\"marker\":{\"color\":[\"#636efa\",\"#636efa\",\"#636efa\",\"#636efa\",\"#636efa\",\"#636efa\",\"#636efa\"],\"coloraxis\":\"coloraxis\",\"pattern\":{\"shape\":\"\"}},\"name\":\"Train\",\"offsetgroup\":\"Train\",\"orientation\":\"v\",\"showlegend\":true,\"textposition\":\"auto\",\"x\":[\"INTP\",\"ISTP\",\"ISFP\",\"ISTJ\",\"ESTP\",\"ENFJ\",\"ENFJ\"],\"xaxis\":\"x\",\"y\":[652,168,135,103,45,1,120],\"yaxis\":\"y\",\"type\":\"bar\"},{\"alignmentgroup\":\"True\",\"customdata\":[[\"Kaggle\"],[\"Kaggle\"],[\"Kaggle\"],[\"Kaggle\"],[\"Kaggle\"],[\"Kaggle\"],[\"ChatGPT\"]],\"hovertemplate\":\"DataType=Train\\u003cbr\\u003eSetting=Synthetic\\u003cbr\\u003etype=%{x}\\u003cbr\\u003ecount=%{y}\\u003cbr\\u003eSource=%{customdata[0]}\\u003cbr\\u003ecol=%{marker.color}\\u003cextra\\u003e\\u003c\\u002fextra\\u003e\",\"legendgroup\":\"Train\",\"marker\":{\"color\":[\"#636efa\",\"#636efa\",\"#636efa\",\"#636efa\",\"#636efa\",\"#636efa\",\"#EF553B\"],\"coloraxis\":\"coloraxis\",\"pattern\":{\"shape\":\"\"}},\"name\":\"Train\",\"offsetgroup\":\"Train\",\"orientation\":\"v\",\"showlegend\":false,\"textposition\":\"auto\",\"x\":[\"INTP\",\"ISTP\",\"ISFP\",\"ISTJ\",\"ESTP\",\"ENFJ\",\"ENFJ\"],\"xaxis\":\"x2\",\"y\":[652,168,135,103,45,1,120],\"yaxis\":\"y2\",\"type\":\"bar\"},{\"alignmentgroup\":\"True\",\"customdata\":[[\"Kaggle\"],[\"Kaggle\"],[\"Kaggle\"],[\"Kaggle\"],[\"Kaggle\"],[\"Kaggle\"]],\"hovertemplate\":\"DataType=Test\\u003cbr\\u003eSetting=Real\\u003cbr\\u003etype=%{x}\\u003cbr\\u003ecount=%{y}\\u003cbr\\u003eSource=%{customdata[0]}\\u003cbr\\u003ecol=%{marker.color}\\u003cextra\\u003e\\u003c\\u002fextra\\u003e\",\"legendgroup\":\"Test\",\"marker\":{\"color\":[\"#636efa\",\"#636efa\",\"#636efa\",\"#636efa\",\"#636efa\",\"#636efa\"],\"coloraxis\":\"coloraxis\",\"pattern\":{\"shape\":\"\\u002f\"}},\"name\":\"Test\",\"offsetgroup\":\"Test\",\"orientation\":\"v\",\"showlegend\":true,\"textposition\":\"auto\",\"x\":[\"INTP\",\"ISTP\",\"ISFP\",\"ISTJ\",\"ESTP\",\"ENFJ\"],\"xaxis\":\"x\",\"y\":[652,168,135,103,45,40],\"yaxis\":\"y\",\"type\":\"bar\"},{\"alignmentgroup\":\"True\",\"customdata\":[[\"Kaggle\"],[\"Kaggle\"],[\"Kaggle\"],[\"Kaggle\"],[\"Kaggle\"],[\"Kaggle\"]],\"hovertemplate\":\"DataType=Test\\u003cbr\\u003eSetting=Synthetic\\u003cbr\\u003etype=%{x}\\u003cbr\\u003ecount=%{y}\\u003cbr\\u003eSource=%{customdata[0]}\\u003cbr\\u003ecol=%{marker.color}\\u003cextra\\u003e\\u003c\\u002fextra\\u003e\",\"legendgroup\":\"Test\",\"marker\":{\"color\":[\"#636efa\",\"#636efa\",\"#636efa\",\"#636efa\",\"#636efa\",\"#636efa\"],\"coloraxis\":\"coloraxis\",\"pattern\":{\"shape\":\"\\u002f\"}},\"name\":\"Test\",\"offsetgroup\":\"Test\",\"orientation\":\"v\",\"showlegend\":false,\"textposition\":\"auto\",\"x\":[\"INTP\",\"ISTP\",\"ISFP\",\"ISTJ\",\"ESTP\",\"ENFJ\"],\"xaxis\":\"x2\",\"y\":[652,168,135,103,45,40],\"yaxis\":\"y2\",\"type\":\"bar\"}],                        {\"annotations\":[{\"showarrow\":false,\"text\":\"\",\"x\":0.245,\"xanchor\":\"center\",\"xref\":\"paper\",\"y\":1.0,\"yanchor\":\"bottom\",\"yref\":\"paper\"},{\"showarrow\":false,\"text\":\"\",\"x\":0.755,\"xanchor\":\"center\",\"xref\":\"paper\",\"y\":1.0,\"yanchor\":\"bottom\",\"yref\":\"paper\"}],\"barmode\":\"group\",\"coloraxis\":{\"colorbar\":{\"title\":{\"text\":\"col\"}},\"colorscale\":[[0.0,\"#0d0887\"],[0.1111111111111111,\"#46039f\"],[0.2222222222222222,\"#7201a8\"],[0.3333333333333333,\"#9c179e\"],[0.4444444444444444,\"#bd3786\"],[0.5555555555555556,\"#d8576b\"],[0.6666666666666666,\"#ed7953\"],[0.7777777777777778,\"#fb9f3a\"],[0.8888888888888888,\"#fdca26\"],[1.0,\"#f0f921\"]]},\"legend\":{\"title\":{\"text\":\"\"},\"tracegroupgap\":0},\"template\":{\"data\":{\"barpolar\":[{\"marker\":{\"line\":{\"color\":\"white\",\"width\":0.5},\"pattern\":{\"fillmode\":\"overlay\",\"size\":10,\"solidity\":0.2}},\"type\":\"barpolar\"}],\"bar\":[{\"error_x\":{\"color\":\"#2a3f5f\"},\"error_y\":{\"color\":\"#2a3f5f\"},\"marker\":{\"line\":{\"color\":\"white\",\"width\":0.5},\"pattern\":{\"fillmode\":\"overlay\",\"size\":10,\"solidity\":0.2}},\"type\":\"bar\"}],\"carpet\":[{\"aaxis\":{\"endlinecolor\":\"#2a3f5f\",\"gridcolor\":\"#C8D4E3\",\"linecolor\":\"#C8D4E3\",\"minorgridcolor\":\"#C8D4E3\",\"startlinecolor\":\"#2a3f5f\"},\"baxis\":{\"endlinecolor\":\"#2a3f5f\",\"gridcolor\":\"#C8D4E3\",\"linecolor\":\"#C8D4E3\",\"minorgridcolor\":\"#C8D4E3\",\"startlinecolor\":\"#2a3f5f\"},\"type\":\"carpet\"}],\"choropleth\":[{\"colorbar\":{\"outlinewidth\":0,\"ticks\":\"\"},\"type\":\"choropleth\"}],\"contourcarpet\":[{\"colorbar\":{\"outlinewidth\":0,\"ticks\":\"\"},\"type\":\"contourcarpet\"}],\"contour\":[{\"colorbar\":{\"outlinewidth\":0,\"ticks\":\"\"},\"colorscale\":[[0.0,\"#0d0887\"],[0.1111111111111111,\"#46039f\"],[0.2222222222222222,\"#7201a8\"],[0.3333333333333333,\"#9c179e\"],[0.4444444444444444,\"#bd3786\"],[0.5555555555555556,\"#d8576b\"],[0.6666666666666666,\"#ed7953\"],[0.7777777777777778,\"#fb9f3a\"],[0.8888888888888888,\"#fdca26\"],[1.0,\"#f0f921\"]],\"type\":\"contour\"}],\"heatmapgl\":[{\"colorbar\":{\"outlinewidth\":0,\"ticks\":\"\"},\"colorscale\":[[0.0,\"#0d0887\"],[0.1111111111111111,\"#46039f\"],[0.2222222222222222,\"#7201a8\"],[0.3333333333333333,\"#9c179e\"],[0.4444444444444444,\"#bd3786\"],[0.5555555555555556,\"#d8576b\"],[0.6666666666666666,\"#ed7953\"],[0.7777777777777778,\"#fb9f3a\"],[0.8888888888888888,\"#fdca26\"],[1.0,\"#f0f921\"]],\"type\":\"heatmapgl\"}],\"heatmap\":[{\"colorbar\":{\"outlinewidth\":0,\"ticks\":\"\"},\"colorscale\":[[0.0,\"#0d0887\"],[0.1111111111111111,\"#46039f\"],[0.2222222222222222,\"#7201a8\"],[0.3333333333333333,\"#9c179e\"],[0.4444444444444444,\"#bd3786\"],[0.5555555555555556,\"#d8576b\"],[0.6666666666666666,\"#ed7953\"],[0.7777777777777778,\"#fb9f3a\"],[0.8888888888888888,\"#fdca26\"],[1.0,\"#f0f921\"]],\"type\":\"heatmap\"}],\"histogram2dcontour\":[{\"colorbar\":{\"outlinewidth\":0,\"ticks\":\"\"},\"colorscale\":[[0.0,\"#0d0887\"],[0.1111111111111111,\"#46039f\"],[0.2222222222222222,\"#7201a8\"],[0.3333333333333333,\"#9c179e\"],[0.4444444444444444,\"#bd3786\"],[0.5555555555555556,\"#d8576b\"],[0.6666666666666666,\"#ed7953\"],[0.7777777777777778,\"#fb9f3a\"],[0.8888888888888888,\"#fdca26\"],[1.0,\"#f0f921\"]],\"type\":\"histogram2dcontour\"}],\"histogram2d\":[{\"colorbar\":{\"outlinewidth\":0,\"ticks\":\"\"},\"colorscale\":[[0.0,\"#0d0887\"],[0.1111111111111111,\"#46039f\"],[0.2222222222222222,\"#7201a8\"],[0.3333333333333333,\"#9c179e\"],[0.4444444444444444,\"#bd3786\"],[0.5555555555555556,\"#d8576b\"],[0.6666666666666666,\"#ed7953\"],[0.7777777777777778,\"#fb9f3a\"],[0.8888888888888888,\"#fdca26\"],[1.0,\"#f0f921\"]],\"type\":\"histogram2d\"}],\"histogram\":[{\"marker\":{\"pattern\":{\"fillmode\":\"overlay\",\"size\":10,\"solidity\":0.2}},\"type\":\"histogram\"}],\"mesh3d\":[{\"colorbar\":{\"outlinewidth\":0,\"ticks\":\"\"},\"type\":\"mesh3d\"}],\"parcoords\":[{\"line\":{\"colorbar\":{\"outlinewidth\":0,\"ticks\":\"\"}},\"type\":\"parcoords\"}],\"pie\":[{\"automargin\":true,\"type\":\"pie\"}],\"scatter3d\":[{\"line\":{\"colorbar\":{\"outlinewidth\":0,\"ticks\":\"\"}},\"marker\":{\"colorbar\":{\"outlinewidth\":0,\"ticks\":\"\"}},\"type\":\"scatter3d\"}],\"scattercarpet\":[{\"marker\":{\"colorbar\":{\"outlinewidth\":0,\"ticks\":\"\"}},\"type\":\"scattercarpet\"}],\"scattergeo\":[{\"marker\":{\"colorbar\":{\"outlinewidth\":0,\"ticks\":\"\"}},\"type\":\"scattergeo\"}],\"scattergl\":[{\"marker\":{\"colorbar\":{\"outlinewidth\":0,\"ticks\":\"\"}},\"type\":\"scattergl\"}],\"scattermapbox\":[{\"marker\":{\"colorbar\":{\"outlinewidth\":0,\"ticks\":\"\"}},\"type\":\"scattermapbox\"}],\"scatterpolargl\":[{\"marker\":{\"colorbar\":{\"outlinewidth\":0,\"ticks\":\"\"}},\"type\":\"scatterpolargl\"}],\"scatterpolar\":[{\"marker\":{\"colorbar\":{\"outlinewidth\":0,\"ticks\":\"\"}},\"type\":\"scatterpolar\"}],\"scatter\":[{\"fillpattern\":{\"fillmode\":\"overlay\",\"size\":10,\"solidity\":0.2},\"type\":\"scatter\"}],\"scatterternary\":[{\"marker\":{\"colorbar\":{\"outlinewidth\":0,\"ticks\":\"\"}},\"type\":\"scatterternary\"}],\"surface\":[{\"colorbar\":{\"outlinewidth\":0,\"ticks\":\"\"},\"colorscale\":[[0.0,\"#0d0887\"],[0.1111111111111111,\"#46039f\"],[0.2222222222222222,\"#7201a8\"],[0.3333333333333333,\"#9c179e\"],[0.4444444444444444,\"#bd3786\"],[0.5555555555555556,\"#d8576b\"],[0.6666666666666666,\"#ed7953\"],[0.7777777777777778,\"#fb9f3a\"],[0.8888888888888888,\"#fdca26\"],[1.0,\"#f0f921\"]],\"type\":\"surface\"}],\"table\":[{\"cells\":{\"fill\":{\"color\":\"#EBF0F8\"},\"line\":{\"color\":\"white\"}},\"header\":{\"fill\":{\"color\":\"#C8D4E3\"},\"line\":{\"color\":\"white\"}},\"type\":\"table\"}]},\"layout\":{\"annotationdefaults\":{\"arrowcolor\":\"#2a3f5f\",\"arrowhead\":0,\"arrowwidth\":1},\"autotypenumbers\":\"strict\",\"coloraxis\":{\"colorbar\":{\"outlinewidth\":0,\"ticks\":\"\"}},\"colorscale\":{\"diverging\":[[0,\"#8e0152\"],[0.1,\"#c51b7d\"],[0.2,\"#de77ae\"],[0.3,\"#f1b6da\"],[0.4,\"#fde0ef\"],[0.5,\"#f7f7f7\"],[0.6,\"#e6f5d0\"],[0.7,\"#b8e186\"],[0.8,\"#7fbc41\"],[0.9,\"#4d9221\"],[1,\"#276419\"]],\"sequential\":[[0.0,\"#0d0887\"],[0.1111111111111111,\"#46039f\"],[0.2222222222222222,\"#7201a8\"],[0.3333333333333333,\"#9c179e\"],[0.4444444444444444,\"#bd3786\"],[0.5555555555555556,\"#d8576b\"],[0.6666666666666666,\"#ed7953\"],[0.7777777777777778,\"#fb9f3a\"],[0.8888888888888888,\"#fdca26\"],[1.0,\"#f0f921\"]],\"sequentialminus\":[[0.0,\"#0d0887\"],[0.1111111111111111,\"#46039f\"],[0.2222222222222222,\"#7201a8\"],[0.3333333333333333,\"#9c179e\"],[0.4444444444444444,\"#bd3786\"],[0.5555555555555556,\"#d8576b\"],[0.6666666666666666,\"#ed7953\"],[0.7777777777777778,\"#fb9f3a\"],[0.8888888888888888,\"#fdca26\"],[1.0,\"#f0f921\"]]},\"colorway\":[\"#636efa\",\"#EF553B\",\"#00cc96\",\"#ab63fa\",\"#FFA15A\",\"#19d3f3\",\"#FF6692\",\"#B6E880\",\"#FF97FF\",\"#FECB52\"],\"font\":{\"color\":\"#2a3f5f\"},\"geo\":{\"bgcolor\":\"white\",\"lakecolor\":\"white\",\"landcolor\":\"white\",\"showlakes\":true,\"showland\":true,\"subunitcolor\":\"#C8D4E3\"},\"hoverlabel\":{\"align\":\"left\"},\"hovermode\":\"closest\",\"mapbox\":{\"style\":\"light\"},\"paper_bgcolor\":\"white\",\"plot_bgcolor\":\"white\",\"polar\":{\"angularaxis\":{\"gridcolor\":\"#EBF0F8\",\"linecolor\":\"#EBF0F8\",\"ticks\":\"\"},\"bgcolor\":\"white\",\"radialaxis\":{\"gridcolor\":\"#EBF0F8\",\"linecolor\":\"#EBF0F8\",\"ticks\":\"\"}},\"scene\":{\"xaxis\":{\"backgroundcolor\":\"white\",\"gridcolor\":\"#DFE8F3\",\"gridwidth\":2,\"linecolor\":\"#EBF0F8\",\"showbackground\":true,\"ticks\":\"\",\"zerolinecolor\":\"#EBF0F8\"},\"yaxis\":{\"backgroundcolor\":\"white\",\"gridcolor\":\"#DFE8F3\",\"gridwidth\":2,\"linecolor\":\"#EBF0F8\",\"showbackground\":true,\"ticks\":\"\",\"zerolinecolor\":\"#EBF0F8\"},\"zaxis\":{\"backgroundcolor\":\"white\",\"gridcolor\":\"#DFE8F3\",\"gridwidth\":2,\"linecolor\":\"#EBF0F8\",\"showbackground\":true,\"ticks\":\"\",\"zerolinecolor\":\"#EBF0F8\"}},\"shapedefaults\":{\"line\":{\"color\":\"#2a3f5f\"}},\"ternary\":{\"aaxis\":{\"gridcolor\":\"#DFE8F3\",\"linecolor\":\"#A2B1C6\",\"ticks\":\"\"},\"baxis\":{\"gridcolor\":\"#DFE8F3\",\"linecolor\":\"#A2B1C6\",\"ticks\":\"\"},\"bgcolor\":\"white\",\"caxis\":{\"gridcolor\":\"#DFE8F3\",\"linecolor\":\"#A2B1C6\",\"ticks\":\"\"}},\"title\":{\"x\":0.05},\"xaxis\":{\"automargin\":true,\"gridcolor\":\"#EBF0F8\",\"linecolor\":\"#EBF0F8\",\"ticks\":\"\",\"title\":{\"standoff\":15},\"zerolinecolor\":\"#EBF0F8\",\"zerolinewidth\":2},\"yaxis\":{\"automargin\":true,\"gridcolor\":\"#EBF0F8\",\"linecolor\":\"#EBF0F8\",\"ticks\":\"\",\"title\":{\"standoff\":15},\"zerolinecolor\":\"#EBF0F8\",\"zerolinewidth\":2}}},\"title\":{\"text\":\"Figure10(g): Configuration of Experiment 3 (+120)\"},\"xaxis\":{\"anchor\":\"y\",\"domain\":[0.0,0.49],\"title\":{\"text\":\"type\"}},\"yaxis\":{\"anchor\":\"x\",\"domain\":[0.0,1.0],\"title\":{\"text\":\"count\"}},\"xaxis2\":{\"anchor\":\"y2\",\"domain\":[0.51,1.0],\"matches\":\"x\",\"title\":{\"text\":\"type\"}},\"yaxis2\":{\"anchor\":\"x2\",\"domain\":[0.0,1.0],\"matches\":\"y\",\"showticklabels\":false},\"width\":1050,\"height\":500},                        {\"responsive\": true}                    ).then(function(){\n",
       "                            \n",
       "var gd = document.getElementById('94318ad1-be1a-4baf-b00b-4cb14d62cddf');\n",
       "var x = new MutationObserver(function (mutations, observer) {{\n",
       "        var display = window.getComputedStyle(gd).display;\n",
       "        if (!display || display === 'none') {{\n",
       "            console.log([gd, 'removed!']);\n",
       "            Plotly.purge(gd);\n",
       "            observer.disconnect();\n",
       "        }}\n",
       "}});\n",
       "\n",
       "// Listen for the removal of the full notebook cells\n",
       "var notebookContainer = gd.closest('#notebook-container');\n",
       "if (notebookContainer) {{\n",
       "    x.observe(notebookContainer, {childList: true});\n",
       "}}\n",
       "\n",
       "// Listen for the clearing of the current output cell\n",
       "var outputEl = gd.closest('.output');\n",
       "if (outputEl) {{\n",
       "    x.observe(outputEl, {childList: true});\n",
       "}}\n",
       "\n",
       "                        })                };                });            </script>        </div>"
      ]
     },
     "metadata": {},
     "output_type": "display_data"
    }
   ],
   "source": [
    "figs['실험셋업시각화_실험3시나리오6'].layout['title']['text']='Figure10(g): Configuration of Experiment 3 (+120)'\n",
    "figs['실험셋업시각화_실험3시나리오6'].layout['width']=1050\n",
    "figs['실험셋업시각화_실험3시나리오6'].layout['height']=500\n",
    "figs['실험셋업시각화_실험3시나리오6']"
   ]
  },
  {
   "cell_type": "markdown",
   "id": "ade82111-c26b-4076-8605-0fcdfbf7e7e4",
   "metadata": {},
   "source": [
    "::: {.notes}\n",
    "ENFJ train data를 120 추가했다\n",
    "::: "
   ]
  },
  {
   "cell_type": "markdown",
   "id": "15ddd97c-a6b0-4e96-85af-3c6275f56c8a",
   "metadata": {
    "tags": []
   },
   "source": [
    "#### +140"
   ]
  },
  {
   "cell_type": "code",
   "execution_count": 22,
   "id": "ce385929-bbeb-4a78-8fcb-beae87e3ccc1",
   "metadata": {
    "tags": []
   },
   "outputs": [
    {
     "data": {
      "text/html": [
       "<div>                            <div id=\"1cfff77f-15bd-48ab-944e-b2543669d5d6\" class=\"plotly-graph-div\" style=\"height:500px; width:1050px;\"></div>            <script type=\"text/javascript\">                require([\"plotly\"], function(Plotly) {                    window.PLOTLYENV=window.PLOTLYENV || {};                                    if (document.getElementById(\"1cfff77f-15bd-48ab-944e-b2543669d5d6\")) {                    Plotly.newPlot(                        \"1cfff77f-15bd-48ab-944e-b2543669d5d6\",                        [{\"alignmentgroup\":\"True\",\"customdata\":[[\"Kaggle\"],[\"Kaggle\"],[\"Kaggle\"],[\"Kaggle\"],[\"Kaggle\"],[\"Kaggle\"],[\"Kaggle\"]],\"hovertemplate\":\"DataType=Train\\u003cbr\\u003eSetting=Real\\u003cbr\\u003etype=%{x}\\u003cbr\\u003ecount=%{y}\\u003cbr\\u003eSource=%{customdata[0]}\\u003cbr\\u003ecol=%{marker.color}\\u003cextra\\u003e\\u003c\\u002fextra\\u003e\",\"legendgroup\":\"Train\",\"marker\":{\"color\":[\"#636efa\",\"#636efa\",\"#636efa\",\"#636efa\",\"#636efa\",\"#636efa\",\"#636efa\"],\"coloraxis\":\"coloraxis\",\"pattern\":{\"shape\":\"\"}},\"name\":\"Train\",\"offsetgroup\":\"Train\",\"orientation\":\"v\",\"showlegend\":true,\"textposition\":\"auto\",\"x\":[\"INTP\",\"ISTP\",\"ISFP\",\"ISTJ\",\"ESTP\",\"ENFJ\",\"ENFJ\"],\"xaxis\":\"x\",\"y\":[652,168,135,103,45,1,140],\"yaxis\":\"y\",\"type\":\"bar\"},{\"alignmentgroup\":\"True\",\"customdata\":[[\"Kaggle\"],[\"Kaggle\"],[\"Kaggle\"],[\"Kaggle\"],[\"Kaggle\"],[\"Kaggle\"],[\"ChatGPT\"]],\"hovertemplate\":\"DataType=Train\\u003cbr\\u003eSetting=Synthetic\\u003cbr\\u003etype=%{x}\\u003cbr\\u003ecount=%{y}\\u003cbr\\u003eSource=%{customdata[0]}\\u003cbr\\u003ecol=%{marker.color}\\u003cextra\\u003e\\u003c\\u002fextra\\u003e\",\"legendgroup\":\"Train\",\"marker\":{\"color\":[\"#636efa\",\"#636efa\",\"#636efa\",\"#636efa\",\"#636efa\",\"#636efa\",\"#EF553B\"],\"coloraxis\":\"coloraxis\",\"pattern\":{\"shape\":\"\"}},\"name\":\"Train\",\"offsetgroup\":\"Train\",\"orientation\":\"v\",\"showlegend\":false,\"textposition\":\"auto\",\"x\":[\"INTP\",\"ISTP\",\"ISFP\",\"ISTJ\",\"ESTP\",\"ENFJ\",\"ENFJ\"],\"xaxis\":\"x2\",\"y\":[652,168,135,103,45,1,140],\"yaxis\":\"y2\",\"type\":\"bar\"},{\"alignmentgroup\":\"True\",\"customdata\":[[\"Kaggle\"],[\"Kaggle\"],[\"Kaggle\"],[\"Kaggle\"],[\"Kaggle\"],[\"Kaggle\"]],\"hovertemplate\":\"DataType=Test\\u003cbr\\u003eSetting=Real\\u003cbr\\u003etype=%{x}\\u003cbr\\u003ecount=%{y}\\u003cbr\\u003eSource=%{customdata[0]}\\u003cbr\\u003ecol=%{marker.color}\\u003cextra\\u003e\\u003c\\u002fextra\\u003e\",\"legendgroup\":\"Test\",\"marker\":{\"color\":[\"#636efa\",\"#636efa\",\"#636efa\",\"#636efa\",\"#636efa\",\"#636efa\"],\"coloraxis\":\"coloraxis\",\"pattern\":{\"shape\":\"\\u002f\"}},\"name\":\"Test\",\"offsetgroup\":\"Test\",\"orientation\":\"v\",\"showlegend\":true,\"textposition\":\"auto\",\"x\":[\"INTP\",\"ISTP\",\"ISFP\",\"ISTJ\",\"ESTP\",\"ENFJ\"],\"xaxis\":\"x\",\"y\":[652,168,135,103,45,40],\"yaxis\":\"y\",\"type\":\"bar\"},{\"alignmentgroup\":\"True\",\"customdata\":[[\"Kaggle\"],[\"Kaggle\"],[\"Kaggle\"],[\"Kaggle\"],[\"Kaggle\"],[\"Kaggle\"]],\"hovertemplate\":\"DataType=Test\\u003cbr\\u003eSetting=Synthetic\\u003cbr\\u003etype=%{x}\\u003cbr\\u003ecount=%{y}\\u003cbr\\u003eSource=%{customdata[0]}\\u003cbr\\u003ecol=%{marker.color}\\u003cextra\\u003e\\u003c\\u002fextra\\u003e\",\"legendgroup\":\"Test\",\"marker\":{\"color\":[\"#636efa\",\"#636efa\",\"#636efa\",\"#636efa\",\"#636efa\",\"#636efa\"],\"coloraxis\":\"coloraxis\",\"pattern\":{\"shape\":\"\\u002f\"}},\"name\":\"Test\",\"offsetgroup\":\"Test\",\"orientation\":\"v\",\"showlegend\":false,\"textposition\":\"auto\",\"x\":[\"INTP\",\"ISTP\",\"ISFP\",\"ISTJ\",\"ESTP\",\"ENFJ\"],\"xaxis\":\"x2\",\"y\":[652,168,135,103,45,40],\"yaxis\":\"y2\",\"type\":\"bar\"}],                        {\"annotations\":[{\"showarrow\":false,\"text\":\"\",\"x\":0.245,\"xanchor\":\"center\",\"xref\":\"paper\",\"y\":1.0,\"yanchor\":\"bottom\",\"yref\":\"paper\"},{\"showarrow\":false,\"text\":\"\",\"x\":0.755,\"xanchor\":\"center\",\"xref\":\"paper\",\"y\":1.0,\"yanchor\":\"bottom\",\"yref\":\"paper\"}],\"barmode\":\"group\",\"coloraxis\":{\"colorbar\":{\"title\":{\"text\":\"col\"}},\"colorscale\":[[0.0,\"#0d0887\"],[0.1111111111111111,\"#46039f\"],[0.2222222222222222,\"#7201a8\"],[0.3333333333333333,\"#9c179e\"],[0.4444444444444444,\"#bd3786\"],[0.5555555555555556,\"#d8576b\"],[0.6666666666666666,\"#ed7953\"],[0.7777777777777778,\"#fb9f3a\"],[0.8888888888888888,\"#fdca26\"],[1.0,\"#f0f921\"]]},\"legend\":{\"title\":{\"text\":\"\"},\"tracegroupgap\":0},\"template\":{\"data\":{\"barpolar\":[{\"marker\":{\"line\":{\"color\":\"white\",\"width\":0.5},\"pattern\":{\"fillmode\":\"overlay\",\"size\":10,\"solidity\":0.2}},\"type\":\"barpolar\"}],\"bar\":[{\"error_x\":{\"color\":\"#2a3f5f\"},\"error_y\":{\"color\":\"#2a3f5f\"},\"marker\":{\"line\":{\"color\":\"white\",\"width\":0.5},\"pattern\":{\"fillmode\":\"overlay\",\"size\":10,\"solidity\":0.2}},\"type\":\"bar\"}],\"carpet\":[{\"aaxis\":{\"endlinecolor\":\"#2a3f5f\",\"gridcolor\":\"#C8D4E3\",\"linecolor\":\"#C8D4E3\",\"minorgridcolor\":\"#C8D4E3\",\"startlinecolor\":\"#2a3f5f\"},\"baxis\":{\"endlinecolor\":\"#2a3f5f\",\"gridcolor\":\"#C8D4E3\",\"linecolor\":\"#C8D4E3\",\"minorgridcolor\":\"#C8D4E3\",\"startlinecolor\":\"#2a3f5f\"},\"type\":\"carpet\"}],\"choropleth\":[{\"colorbar\":{\"outlinewidth\":0,\"ticks\":\"\"},\"type\":\"choropleth\"}],\"contourcarpet\":[{\"colorbar\":{\"outlinewidth\":0,\"ticks\":\"\"},\"type\":\"contourcarpet\"}],\"contour\":[{\"colorbar\":{\"outlinewidth\":0,\"ticks\":\"\"},\"colorscale\":[[0.0,\"#0d0887\"],[0.1111111111111111,\"#46039f\"],[0.2222222222222222,\"#7201a8\"],[0.3333333333333333,\"#9c179e\"],[0.4444444444444444,\"#bd3786\"],[0.5555555555555556,\"#d8576b\"],[0.6666666666666666,\"#ed7953\"],[0.7777777777777778,\"#fb9f3a\"],[0.8888888888888888,\"#fdca26\"],[1.0,\"#f0f921\"]],\"type\":\"contour\"}],\"heatmapgl\":[{\"colorbar\":{\"outlinewidth\":0,\"ticks\":\"\"},\"colorscale\":[[0.0,\"#0d0887\"],[0.1111111111111111,\"#46039f\"],[0.2222222222222222,\"#7201a8\"],[0.3333333333333333,\"#9c179e\"],[0.4444444444444444,\"#bd3786\"],[0.5555555555555556,\"#d8576b\"],[0.6666666666666666,\"#ed7953\"],[0.7777777777777778,\"#fb9f3a\"],[0.8888888888888888,\"#fdca26\"],[1.0,\"#f0f921\"]],\"type\":\"heatmapgl\"}],\"heatmap\":[{\"colorbar\":{\"outlinewidth\":0,\"ticks\":\"\"},\"colorscale\":[[0.0,\"#0d0887\"],[0.1111111111111111,\"#46039f\"],[0.2222222222222222,\"#7201a8\"],[0.3333333333333333,\"#9c179e\"],[0.4444444444444444,\"#bd3786\"],[0.5555555555555556,\"#d8576b\"],[0.6666666666666666,\"#ed7953\"],[0.7777777777777778,\"#fb9f3a\"],[0.8888888888888888,\"#fdca26\"],[1.0,\"#f0f921\"]],\"type\":\"heatmap\"}],\"histogram2dcontour\":[{\"colorbar\":{\"outlinewidth\":0,\"ticks\":\"\"},\"colorscale\":[[0.0,\"#0d0887\"],[0.1111111111111111,\"#46039f\"],[0.2222222222222222,\"#7201a8\"],[0.3333333333333333,\"#9c179e\"],[0.4444444444444444,\"#bd3786\"],[0.5555555555555556,\"#d8576b\"],[0.6666666666666666,\"#ed7953\"],[0.7777777777777778,\"#fb9f3a\"],[0.8888888888888888,\"#fdca26\"],[1.0,\"#f0f921\"]],\"type\":\"histogram2dcontour\"}],\"histogram2d\":[{\"colorbar\":{\"outlinewidth\":0,\"ticks\":\"\"},\"colorscale\":[[0.0,\"#0d0887\"],[0.1111111111111111,\"#46039f\"],[0.2222222222222222,\"#7201a8\"],[0.3333333333333333,\"#9c179e\"],[0.4444444444444444,\"#bd3786\"],[0.5555555555555556,\"#d8576b\"],[0.6666666666666666,\"#ed7953\"],[0.7777777777777778,\"#fb9f3a\"],[0.8888888888888888,\"#fdca26\"],[1.0,\"#f0f921\"]],\"type\":\"histogram2d\"}],\"histogram\":[{\"marker\":{\"pattern\":{\"fillmode\":\"overlay\",\"size\":10,\"solidity\":0.2}},\"type\":\"histogram\"}],\"mesh3d\":[{\"colorbar\":{\"outlinewidth\":0,\"ticks\":\"\"},\"type\":\"mesh3d\"}],\"parcoords\":[{\"line\":{\"colorbar\":{\"outlinewidth\":0,\"ticks\":\"\"}},\"type\":\"parcoords\"}],\"pie\":[{\"automargin\":true,\"type\":\"pie\"}],\"scatter3d\":[{\"line\":{\"colorbar\":{\"outlinewidth\":0,\"ticks\":\"\"}},\"marker\":{\"colorbar\":{\"outlinewidth\":0,\"ticks\":\"\"}},\"type\":\"scatter3d\"}],\"scattercarpet\":[{\"marker\":{\"colorbar\":{\"outlinewidth\":0,\"ticks\":\"\"}},\"type\":\"scattercarpet\"}],\"scattergeo\":[{\"marker\":{\"colorbar\":{\"outlinewidth\":0,\"ticks\":\"\"}},\"type\":\"scattergeo\"}],\"scattergl\":[{\"marker\":{\"colorbar\":{\"outlinewidth\":0,\"ticks\":\"\"}},\"type\":\"scattergl\"}],\"scattermapbox\":[{\"marker\":{\"colorbar\":{\"outlinewidth\":0,\"ticks\":\"\"}},\"type\":\"scattermapbox\"}],\"scatterpolargl\":[{\"marker\":{\"colorbar\":{\"outlinewidth\":0,\"ticks\":\"\"}},\"type\":\"scatterpolargl\"}],\"scatterpolar\":[{\"marker\":{\"colorbar\":{\"outlinewidth\":0,\"ticks\":\"\"}},\"type\":\"scatterpolar\"}],\"scatter\":[{\"fillpattern\":{\"fillmode\":\"overlay\",\"size\":10,\"solidity\":0.2},\"type\":\"scatter\"}],\"scatterternary\":[{\"marker\":{\"colorbar\":{\"outlinewidth\":0,\"ticks\":\"\"}},\"type\":\"scatterternary\"}],\"surface\":[{\"colorbar\":{\"outlinewidth\":0,\"ticks\":\"\"},\"colorscale\":[[0.0,\"#0d0887\"],[0.1111111111111111,\"#46039f\"],[0.2222222222222222,\"#7201a8\"],[0.3333333333333333,\"#9c179e\"],[0.4444444444444444,\"#bd3786\"],[0.5555555555555556,\"#d8576b\"],[0.6666666666666666,\"#ed7953\"],[0.7777777777777778,\"#fb9f3a\"],[0.8888888888888888,\"#fdca26\"],[1.0,\"#f0f921\"]],\"type\":\"surface\"}],\"table\":[{\"cells\":{\"fill\":{\"color\":\"#EBF0F8\"},\"line\":{\"color\":\"white\"}},\"header\":{\"fill\":{\"color\":\"#C8D4E3\"},\"line\":{\"color\":\"white\"}},\"type\":\"table\"}]},\"layout\":{\"annotationdefaults\":{\"arrowcolor\":\"#2a3f5f\",\"arrowhead\":0,\"arrowwidth\":1},\"autotypenumbers\":\"strict\",\"coloraxis\":{\"colorbar\":{\"outlinewidth\":0,\"ticks\":\"\"}},\"colorscale\":{\"diverging\":[[0,\"#8e0152\"],[0.1,\"#c51b7d\"],[0.2,\"#de77ae\"],[0.3,\"#f1b6da\"],[0.4,\"#fde0ef\"],[0.5,\"#f7f7f7\"],[0.6,\"#e6f5d0\"],[0.7,\"#b8e186\"],[0.8,\"#7fbc41\"],[0.9,\"#4d9221\"],[1,\"#276419\"]],\"sequential\":[[0.0,\"#0d0887\"],[0.1111111111111111,\"#46039f\"],[0.2222222222222222,\"#7201a8\"],[0.3333333333333333,\"#9c179e\"],[0.4444444444444444,\"#bd3786\"],[0.5555555555555556,\"#d8576b\"],[0.6666666666666666,\"#ed7953\"],[0.7777777777777778,\"#fb9f3a\"],[0.8888888888888888,\"#fdca26\"],[1.0,\"#f0f921\"]],\"sequentialminus\":[[0.0,\"#0d0887\"],[0.1111111111111111,\"#46039f\"],[0.2222222222222222,\"#7201a8\"],[0.3333333333333333,\"#9c179e\"],[0.4444444444444444,\"#bd3786\"],[0.5555555555555556,\"#d8576b\"],[0.6666666666666666,\"#ed7953\"],[0.7777777777777778,\"#fb9f3a\"],[0.8888888888888888,\"#fdca26\"],[1.0,\"#f0f921\"]]},\"colorway\":[\"#636efa\",\"#EF553B\",\"#00cc96\",\"#ab63fa\",\"#FFA15A\",\"#19d3f3\",\"#FF6692\",\"#B6E880\",\"#FF97FF\",\"#FECB52\"],\"font\":{\"color\":\"#2a3f5f\"},\"geo\":{\"bgcolor\":\"white\",\"lakecolor\":\"white\",\"landcolor\":\"white\",\"showlakes\":true,\"showland\":true,\"subunitcolor\":\"#C8D4E3\"},\"hoverlabel\":{\"align\":\"left\"},\"hovermode\":\"closest\",\"mapbox\":{\"style\":\"light\"},\"paper_bgcolor\":\"white\",\"plot_bgcolor\":\"white\",\"polar\":{\"angularaxis\":{\"gridcolor\":\"#EBF0F8\",\"linecolor\":\"#EBF0F8\",\"ticks\":\"\"},\"bgcolor\":\"white\",\"radialaxis\":{\"gridcolor\":\"#EBF0F8\",\"linecolor\":\"#EBF0F8\",\"ticks\":\"\"}},\"scene\":{\"xaxis\":{\"backgroundcolor\":\"white\",\"gridcolor\":\"#DFE8F3\",\"gridwidth\":2,\"linecolor\":\"#EBF0F8\",\"showbackground\":true,\"ticks\":\"\",\"zerolinecolor\":\"#EBF0F8\"},\"yaxis\":{\"backgroundcolor\":\"white\",\"gridcolor\":\"#DFE8F3\",\"gridwidth\":2,\"linecolor\":\"#EBF0F8\",\"showbackground\":true,\"ticks\":\"\",\"zerolinecolor\":\"#EBF0F8\"},\"zaxis\":{\"backgroundcolor\":\"white\",\"gridcolor\":\"#DFE8F3\",\"gridwidth\":2,\"linecolor\":\"#EBF0F8\",\"showbackground\":true,\"ticks\":\"\",\"zerolinecolor\":\"#EBF0F8\"}},\"shapedefaults\":{\"line\":{\"color\":\"#2a3f5f\"}},\"ternary\":{\"aaxis\":{\"gridcolor\":\"#DFE8F3\",\"linecolor\":\"#A2B1C6\",\"ticks\":\"\"},\"baxis\":{\"gridcolor\":\"#DFE8F3\",\"linecolor\":\"#A2B1C6\",\"ticks\":\"\"},\"bgcolor\":\"white\",\"caxis\":{\"gridcolor\":\"#DFE8F3\",\"linecolor\":\"#A2B1C6\",\"ticks\":\"\"}},\"title\":{\"x\":0.05},\"xaxis\":{\"automargin\":true,\"gridcolor\":\"#EBF0F8\",\"linecolor\":\"#EBF0F8\",\"ticks\":\"\",\"title\":{\"standoff\":15},\"zerolinecolor\":\"#EBF0F8\",\"zerolinewidth\":2},\"yaxis\":{\"automargin\":true,\"gridcolor\":\"#EBF0F8\",\"linecolor\":\"#EBF0F8\",\"ticks\":\"\",\"title\":{\"standoff\":15},\"zerolinecolor\":\"#EBF0F8\",\"zerolinewidth\":2}}},\"title\":{\"text\":\"Figure10(h): Configuration of Experiment 3 (+140)\"},\"xaxis\":{\"anchor\":\"y\",\"domain\":[0.0,0.49],\"title\":{\"text\":\"type\"}},\"yaxis\":{\"anchor\":\"x\",\"domain\":[0.0,1.0],\"title\":{\"text\":\"count\"}},\"xaxis2\":{\"anchor\":\"y2\",\"domain\":[0.51,1.0],\"matches\":\"x\",\"title\":{\"text\":\"type\"}},\"yaxis2\":{\"anchor\":\"x2\",\"domain\":[0.0,1.0],\"matches\":\"y\",\"showticklabels\":false},\"width\":1050,\"height\":500},                        {\"responsive\": true}                    ).then(function(){\n",
       "                            \n",
       "var gd = document.getElementById('1cfff77f-15bd-48ab-944e-b2543669d5d6');\n",
       "var x = new MutationObserver(function (mutations, observer) {{\n",
       "        var display = window.getComputedStyle(gd).display;\n",
       "        if (!display || display === 'none') {{\n",
       "            console.log([gd, 'removed!']);\n",
       "            Plotly.purge(gd);\n",
       "            observer.disconnect();\n",
       "        }}\n",
       "}});\n",
       "\n",
       "// Listen for the removal of the full notebook cells\n",
       "var notebookContainer = gd.closest('#notebook-container');\n",
       "if (notebookContainer) {{\n",
       "    x.observe(notebookContainer, {childList: true});\n",
       "}}\n",
       "\n",
       "// Listen for the clearing of the current output cell\n",
       "var outputEl = gd.closest('.output');\n",
       "if (outputEl) {{\n",
       "    x.observe(outputEl, {childList: true});\n",
       "}}\n",
       "\n",
       "                        })                };                });            </script>        </div>"
      ]
     },
     "metadata": {},
     "output_type": "display_data"
    }
   ],
   "source": [
    "figs['실험셋업시각화_실험3시나리오7'].layout['title']['text']='Figure10(h): Configuration of Experiment 3 (+140)'\n",
    "figs['실험셋업시각화_실험3시나리오7'].layout['width']=1050\n",
    "figs['실험셋업시각화_실험3시나리오7'].layout['height']=500\n",
    "figs['실험셋업시각화_실험3시나리오7']"
   ]
  },
  {
   "cell_type": "markdown",
   "id": "af8f0269-7b7d-4b37-9bd5-7d7044c2aabb",
   "metadata": {},
   "source": [
    "::: {.notes}\n",
    "ENFJ train data를 140 추가했다\n",
    "::: "
   ]
  },
  {
   "cell_type": "markdown",
   "id": "e520a277-ff8e-4ca6-86cb-d92c6083078e",
   "metadata": {
    "tags": []
   },
   "source": [
    ":::"
   ]
  },
  {
   "cell_type": "markdown",
   "id": "cf7afc6b-e580-4dd6-a470-895446f688b9",
   "metadata": {},
   "source": [
    "## Experiment3"
   ]
  },
  {
   "cell_type": "code",
   "execution_count": 23,
   "id": "c50518f5-c0ce-479e-a127-5e8d622aa1eb",
   "metadata": {
    "tags": []
   },
   "outputs": [
    {
     "data": {
      "text/html": [
       "<div>                            <div id=\"0d295930-9eed-4d23-b1ea-a8fa3b8de5a5\" class=\"plotly-graph-div\" style=\"height:600px; width:1050px;\"></div>            <script type=\"text/javascript\">                require([\"plotly\"], function(Plotly) {                    window.PLOTLYENV=window.PLOTLYENV || {};                                    if (document.getElementById(\"0d295930-9eed-4d23-b1ea-a8fa3b8de5a5\")) {                    Plotly.newPlot(                        \"0d295930-9eed-4d23-b1ea-a8fa3b8de5a5\",                        [{\"hovertemplate\":\"\\uc790\\ub8cc\\uc218\\uc9d1=kaggle\\u003cbr\\u003eMethod=LightGBMXT\\u003cbr\\u003eadd=%{x}\\u003cbr\\u003eENFJ=%{y}\\u003cextra\\u003e\\u003c\\u002fextra\\u003e\",\"legendgroup\":\"kaggle\",\"line\":{\"color\":\"#636efa\",\"dash\":\"solid\"},\"marker\":{\"symbol\":\"circle\"},\"mode\":\"markers+lines\",\"name\":\"kaggle\",\"orientation\":\"v\",\"showlegend\":true,\"x\":[\"+0\",\"+20\",\"+40\",\"+60\",\"+80\",\"+100\",\"+120\",\"+140\"],\"xaxis\":\"x\",\"y\":[0.5,0.9629193109700817,0.9897098821396192,0.9912964641885766,0.9924977334542158,0.9930190389845874,0.9918404351767908,0.9877153218495012],\"yaxis\":\"y\",\"type\":\"scatter\"},{\"hovertemplate\":\"\\uc790\\ub8cc\\uc218\\uc9d1=kaggle\\u003cbr\\u003eMethod=LightGBM\\u003cbr\\u003eadd=%{x}\\u003cbr\\u003eENFJ=%{y}\\u003cextra\\u003e\\u003c\\u002fextra\\u003e\",\"legendgroup\":\"kaggle\",\"line\":{\"color\":\"#636efa\",\"dash\":\"solid\"},\"marker\":{\"symbol\":\"circle\"},\"mode\":\"markers+lines\",\"name\":\"kaggle\",\"orientation\":\"v\",\"showlegend\":false,\"x\":[\"+0\",\"+20\",\"+40\",\"+60\",\"+80\",\"+100\",\"+120\",\"+140\"],\"xaxis\":\"x2\",\"y\":[0.5,0.9894605621033544,0.9922937443336356,0.9775158658204895,0.9932003626473256,0.9791251133272892,0.9893925657298278,0.9868313689936536],\"yaxis\":\"y2\",\"type\":\"scatter\"},{\"hovertemplate\":\"\\uc790\\ub8cc\\uc218\\uc9d1=kaggle\\u003cbr\\u003eMethod=CatBoost\\u003cbr\\u003eadd=%{x}\\u003cbr\\u003eENFJ=%{y}\\u003cextra\\u003e\\u003c\\u002fextra\\u003e\",\"legendgroup\":\"kaggle\",\"line\":{\"color\":\"#636efa\",\"dash\":\"solid\"},\"marker\":{\"symbol\":\"circle\"},\"mode\":\"markers+lines\",\"name\":\"kaggle\",\"orientation\":\"v\",\"showlegend\":false,\"x\":[\"+0\",\"+20\",\"+40\",\"+60\",\"+80\",\"+100\",\"+120\",\"+140\"],\"xaxis\":\"x3\",\"y\":[0.5,0.9589075249320036,0.9385539437896644,0.9522438803263826,0.9650498640072528,0.9704669084315504,0.965140525838622,0.9697869446962828],\"yaxis\":\"y3\",\"type\":\"scatter\"},{\"hovertemplate\":\"\\uc790\\ub8cc\\uc218\\uc9d1=kaggle\\u003cbr\\u003eMethod=XGBoost\\u003cbr\\u003eadd=%{x}\\u003cbr\\u003eENFJ=%{y}\\u003cextra\\u003e\\u003c\\u002fextra\\u003e\",\"legendgroup\":\"kaggle\",\"line\":{\"color\":\"#636efa\",\"dash\":\"solid\"},\"marker\":{\"symbol\":\"circle\"},\"mode\":\"markers+lines\",\"name\":\"kaggle\",\"orientation\":\"v\",\"showlegend\":false,\"x\":[\"+0\",\"+20\",\"+40\",\"+60\",\"+80\",\"+100\",\"+120\",\"+140\"],\"xaxis\":\"x4\",\"y\":[0.5,0.9762239347234816,0.9774705349048052,0.9696962828649138,0.9778785131459656,0.9606754306436988,0.9864233907524932,0.9886672710788758],\"yaxis\":\"y4\",\"type\":\"scatter\"},{\"hovertemplate\":\"\\uc790\\ub8cc\\uc218\\uc9d1=kaggle\\u003cbr\\u003eMethod=LightGBMLarge\\u003cbr\\u003eadd=%{x}\\u003cbr\\u003eENFJ=%{y}\\u003cextra\\u003e\\u003c\\u002fextra\\u003e\",\"legendgroup\":\"kaggle\",\"line\":{\"color\":\"#636efa\",\"dash\":\"solid\"},\"marker\":{\"symbol\":\"circle\"},\"mode\":\"markers+lines\",\"name\":\"kaggle\",\"orientation\":\"v\",\"showlegend\":false,\"x\":[\"+0\",\"+20\",\"+40\",\"+60\",\"+80\",\"+100\",\"+120\",\"+140\"],\"xaxis\":\"x5\",\"y\":[0.5,0.981935630099728,0.9805303717135084,0.9798504079782412,0.9848368087035358,0.988327289211242,0.989596554850408,0.9885766092475068],\"yaxis\":\"y5\",\"type\":\"scatter\"},{\"hovertemplate\":\"\\uc790\\ub8cc\\uc218\\uc9d1=gpt\\u003cbr\\u003eMethod=LightGBMXT\\u003cbr\\u003eadd=%{x}\\u003cbr\\u003eENFJ=%{y}\\u003cextra\\u003e\\u003c\\u002fextra\\u003e\",\"legendgroup\":\"gpt\",\"line\":{\"color\":\"#EF553B\",\"dash\":\"solid\"},\"marker\":{\"symbol\":\"circle\"},\"mode\":\"markers+lines\",\"name\":\"gpt\",\"orientation\":\"v\",\"showlegend\":true,\"x\":[\"+0\",\"+20\",\"+40\",\"+60\",\"+80\",\"+100\",\"+120\",\"+140\"],\"xaxis\":\"x\",\"y\":[0.5,0.9468268359020852,0.9306890299184044,0.9130326382592928,0.9444922937443336,0.9224841341795104,0.9416364460562104,0.9441976427923844],\"yaxis\":\"y\",\"type\":\"scatter\"},{\"hovertemplate\":\"\\uc790\\ub8cc\\uc218\\uc9d1=gpt\\u003cbr\\u003eMethod=LightGBM\\u003cbr\\u003eadd=%{x}\\u003cbr\\u003eENFJ=%{y}\\u003cextra\\u003e\\u003c\\u002fextra\\u003e\",\"legendgroup\":\"gpt\",\"line\":{\"color\":\"#EF553B\",\"dash\":\"solid\"},\"marker\":{\"symbol\":\"circle\"},\"mode\":\"markers+lines\",\"name\":\"gpt\",\"orientation\":\"v\",\"showlegend\":false,\"x\":[\"+0\",\"+20\",\"+40\",\"+60\",\"+80\",\"+100\",\"+120\",\"+140\"],\"xaxis\":\"x2\",\"y\":[0.5,0.9242520398912056,0.9288757932910244,0.929374433363554,0.9350861287398003,0.9197642792384406,0.924184043517679,0.915865820489574],\"yaxis\":\"y2\",\"type\":\"scatter\"},{\"hovertemplate\":\"\\uc790\\ub8cc\\uc218\\uc9d1=gpt\\u003cbr\\u003eMethod=CatBoost\\u003cbr\\u003eadd=%{x}\\u003cbr\\u003eENFJ=%{y}\\u003cextra\\u003e\\u003c\\u002fextra\\u003e\",\"legendgroup\":\"gpt\",\"line\":{\"color\":\"#EF553B\",\"dash\":\"solid\"},\"marker\":{\"symbol\":\"circle\"},\"mode\":\"markers+lines\",\"name\":\"gpt\",\"orientation\":\"v\",\"showlegend\":false,\"x\":[\"+0\",\"+20\",\"+40\",\"+60\",\"+80\",\"+100\",\"+120\",\"+140\"],\"xaxis\":\"x3\",\"y\":[0.5,0.7660924750679964,0.7271078875793291,0.750181323662738,0.7256119673617407,0.7469174977334542,0.7528558476881233,0.7429283771532186],\"yaxis\":\"y3\",\"type\":\"scatter\"},{\"hovertemplate\":\"\\uc790\\ub8cc\\uc218\\uc9d1=gpt\\u003cbr\\u003eMethod=XGBoost\\u003cbr\\u003eadd=%{x}\\u003cbr\\u003eENFJ=%{y}\\u003cextra\\u003e\\u003c\\u002fextra\\u003e\",\"legendgroup\":\"gpt\",\"line\":{\"color\":\"#EF553B\",\"dash\":\"solid\"},\"marker\":{\"symbol\":\"circle\"},\"mode\":\"markers+lines\",\"name\":\"gpt\",\"orientation\":\"v\",\"showlegend\":false,\"x\":[\"+0\",\"+20\",\"+40\",\"+60\",\"+80\",\"+100\",\"+120\",\"+140\"],\"xaxis\":\"x4\",\"y\":[0.5,0.6632479601087943,0.8673617407071623,0.8674750679963735,0.8844968268359021,0.8852221214868541,0.8747960108794198,0.8536718041704443],\"yaxis\":\"y4\",\"type\":\"scatter\"},{\"hovertemplate\":\"\\uc790\\ub8cc\\uc218\\uc9d1=gpt\\u003cbr\\u003eMethod=LightGBMLarge\\u003cbr\\u003eadd=%{x}\\u003cbr\\u003eENFJ=%{y}\\u003cextra\\u003e\\u003c\\u002fextra\\u003e\",\"legendgroup\":\"gpt\",\"line\":{\"color\":\"#EF553B\",\"dash\":\"solid\"},\"marker\":{\"symbol\":\"circle\"},\"mode\":\"markers+lines\",\"name\":\"gpt\",\"orientation\":\"v\",\"showlegend\":false,\"x\":[\"+0\",\"+20\",\"+40\",\"+60\",\"+80\",\"+100\",\"+120\",\"+140\"],\"xaxis\":\"x5\",\"y\":[0.5,0.8953535811423391,0.9103127833182232,0.9156165004533092,0.9250453309156844,0.9057570262919312,0.9229147778785132,0.8930643699002719],\"yaxis\":\"y5\",\"type\":\"scatter\"}],                        {\"annotations\":[{\"showarrow\":false,\"text\":\"LightGBMXT\",\"x\":0.09200000000000001,\"xanchor\":\"center\",\"xref\":\"paper\",\"y\":1.0,\"yanchor\":\"bottom\",\"yref\":\"paper\"},{\"showarrow\":false,\"text\":\"LightGBM\",\"x\":0.29600000000000004,\"xanchor\":\"center\",\"xref\":\"paper\",\"y\":1.0,\"yanchor\":\"bottom\",\"yref\":\"paper\"},{\"showarrow\":false,\"text\":\"CatBoost\",\"x\":0.5,\"xanchor\":\"center\",\"xref\":\"paper\",\"y\":1.0,\"yanchor\":\"bottom\",\"yref\":\"paper\"},{\"showarrow\":false,\"text\":\"XGBoost\",\"x\":0.7040000000000002,\"xanchor\":\"center\",\"xref\":\"paper\",\"y\":1.0,\"yanchor\":\"bottom\",\"yref\":\"paper\"},{\"showarrow\":false,\"text\":\"LightGBMLarge\",\"x\":0.908,\"xanchor\":\"center\",\"xref\":\"paper\",\"y\":1.0,\"yanchor\":\"bottom\",\"yref\":\"paper\"}],\"legend\":{\"title\":{\"text\":\"\"},\"tracegroupgap\":0},\"margin\":{\"t\":60},\"template\":{\"data\":{\"barpolar\":[{\"marker\":{\"line\":{\"color\":\"white\",\"width\":0.5},\"pattern\":{\"fillmode\":\"overlay\",\"size\":10,\"solidity\":0.2}},\"type\":\"barpolar\"}],\"bar\":[{\"error_x\":{\"color\":\"#2a3f5f\"},\"error_y\":{\"color\":\"#2a3f5f\"},\"marker\":{\"line\":{\"color\":\"white\",\"width\":0.5},\"pattern\":{\"fillmode\":\"overlay\",\"size\":10,\"solidity\":0.2}},\"type\":\"bar\"}],\"carpet\":[{\"aaxis\":{\"endlinecolor\":\"#2a3f5f\",\"gridcolor\":\"#C8D4E3\",\"linecolor\":\"#C8D4E3\",\"minorgridcolor\":\"#C8D4E3\",\"startlinecolor\":\"#2a3f5f\"},\"baxis\":{\"endlinecolor\":\"#2a3f5f\",\"gridcolor\":\"#C8D4E3\",\"linecolor\":\"#C8D4E3\",\"minorgridcolor\":\"#C8D4E3\",\"startlinecolor\":\"#2a3f5f\"},\"type\":\"carpet\"}],\"choropleth\":[{\"colorbar\":{\"outlinewidth\":0,\"ticks\":\"\"},\"type\":\"choropleth\"}],\"contourcarpet\":[{\"colorbar\":{\"outlinewidth\":0,\"ticks\":\"\"},\"type\":\"contourcarpet\"}],\"contour\":[{\"colorbar\":{\"outlinewidth\":0,\"ticks\":\"\"},\"colorscale\":[[0.0,\"#0d0887\"],[0.1111111111111111,\"#46039f\"],[0.2222222222222222,\"#7201a8\"],[0.3333333333333333,\"#9c179e\"],[0.4444444444444444,\"#bd3786\"],[0.5555555555555556,\"#d8576b\"],[0.6666666666666666,\"#ed7953\"],[0.7777777777777778,\"#fb9f3a\"],[0.8888888888888888,\"#fdca26\"],[1.0,\"#f0f921\"]],\"type\":\"contour\"}],\"heatmapgl\":[{\"colorbar\":{\"outlinewidth\":0,\"ticks\":\"\"},\"colorscale\":[[0.0,\"#0d0887\"],[0.1111111111111111,\"#46039f\"],[0.2222222222222222,\"#7201a8\"],[0.3333333333333333,\"#9c179e\"],[0.4444444444444444,\"#bd3786\"],[0.5555555555555556,\"#d8576b\"],[0.6666666666666666,\"#ed7953\"],[0.7777777777777778,\"#fb9f3a\"],[0.8888888888888888,\"#fdca26\"],[1.0,\"#f0f921\"]],\"type\":\"heatmapgl\"}],\"heatmap\":[{\"colorbar\":{\"outlinewidth\":0,\"ticks\":\"\"},\"colorscale\":[[0.0,\"#0d0887\"],[0.1111111111111111,\"#46039f\"],[0.2222222222222222,\"#7201a8\"],[0.3333333333333333,\"#9c179e\"],[0.4444444444444444,\"#bd3786\"],[0.5555555555555556,\"#d8576b\"],[0.6666666666666666,\"#ed7953\"],[0.7777777777777778,\"#fb9f3a\"],[0.8888888888888888,\"#fdca26\"],[1.0,\"#f0f921\"]],\"type\":\"heatmap\"}],\"histogram2dcontour\":[{\"colorbar\":{\"outlinewidth\":0,\"ticks\":\"\"},\"colorscale\":[[0.0,\"#0d0887\"],[0.1111111111111111,\"#46039f\"],[0.2222222222222222,\"#7201a8\"],[0.3333333333333333,\"#9c179e\"],[0.4444444444444444,\"#bd3786\"],[0.5555555555555556,\"#d8576b\"],[0.6666666666666666,\"#ed7953\"],[0.7777777777777778,\"#fb9f3a\"],[0.8888888888888888,\"#fdca26\"],[1.0,\"#f0f921\"]],\"type\":\"histogram2dcontour\"}],\"histogram2d\":[{\"colorbar\":{\"outlinewidth\":0,\"ticks\":\"\"},\"colorscale\":[[0.0,\"#0d0887\"],[0.1111111111111111,\"#46039f\"],[0.2222222222222222,\"#7201a8\"],[0.3333333333333333,\"#9c179e\"],[0.4444444444444444,\"#bd3786\"],[0.5555555555555556,\"#d8576b\"],[0.6666666666666666,\"#ed7953\"],[0.7777777777777778,\"#fb9f3a\"],[0.8888888888888888,\"#fdca26\"],[1.0,\"#f0f921\"]],\"type\":\"histogram2d\"}],\"histogram\":[{\"marker\":{\"pattern\":{\"fillmode\":\"overlay\",\"size\":10,\"solidity\":0.2}},\"type\":\"histogram\"}],\"mesh3d\":[{\"colorbar\":{\"outlinewidth\":0,\"ticks\":\"\"},\"type\":\"mesh3d\"}],\"parcoords\":[{\"line\":{\"colorbar\":{\"outlinewidth\":0,\"ticks\":\"\"}},\"type\":\"parcoords\"}],\"pie\":[{\"automargin\":true,\"type\":\"pie\"}],\"scatter3d\":[{\"line\":{\"colorbar\":{\"outlinewidth\":0,\"ticks\":\"\"}},\"marker\":{\"colorbar\":{\"outlinewidth\":0,\"ticks\":\"\"}},\"type\":\"scatter3d\"}],\"scattercarpet\":[{\"marker\":{\"colorbar\":{\"outlinewidth\":0,\"ticks\":\"\"}},\"type\":\"scattercarpet\"}],\"scattergeo\":[{\"marker\":{\"colorbar\":{\"outlinewidth\":0,\"ticks\":\"\"}},\"type\":\"scattergeo\"}],\"scattergl\":[{\"marker\":{\"colorbar\":{\"outlinewidth\":0,\"ticks\":\"\"}},\"type\":\"scattergl\"}],\"scattermapbox\":[{\"marker\":{\"colorbar\":{\"outlinewidth\":0,\"ticks\":\"\"}},\"type\":\"scattermapbox\"}],\"scatterpolargl\":[{\"marker\":{\"colorbar\":{\"outlinewidth\":0,\"ticks\":\"\"}},\"type\":\"scatterpolargl\"}],\"scatterpolar\":[{\"marker\":{\"colorbar\":{\"outlinewidth\":0,\"ticks\":\"\"}},\"type\":\"scatterpolar\"}],\"scatter\":[{\"fillpattern\":{\"fillmode\":\"overlay\",\"size\":10,\"solidity\":0.2},\"type\":\"scatter\"}],\"scatterternary\":[{\"marker\":{\"colorbar\":{\"outlinewidth\":0,\"ticks\":\"\"}},\"type\":\"scatterternary\"}],\"surface\":[{\"colorbar\":{\"outlinewidth\":0,\"ticks\":\"\"},\"colorscale\":[[0.0,\"#0d0887\"],[0.1111111111111111,\"#46039f\"],[0.2222222222222222,\"#7201a8\"],[0.3333333333333333,\"#9c179e\"],[0.4444444444444444,\"#bd3786\"],[0.5555555555555556,\"#d8576b\"],[0.6666666666666666,\"#ed7953\"],[0.7777777777777778,\"#fb9f3a\"],[0.8888888888888888,\"#fdca26\"],[1.0,\"#f0f921\"]],\"type\":\"surface\"}],\"table\":[{\"cells\":{\"fill\":{\"color\":\"#EBF0F8\"},\"line\":{\"color\":\"white\"}},\"header\":{\"fill\":{\"color\":\"#C8D4E3\"},\"line\":{\"color\":\"white\"}},\"type\":\"table\"}]},\"layout\":{\"annotationdefaults\":{\"arrowcolor\":\"#2a3f5f\",\"arrowhead\":0,\"arrowwidth\":1},\"autotypenumbers\":\"strict\",\"coloraxis\":{\"colorbar\":{\"outlinewidth\":0,\"ticks\":\"\"}},\"colorscale\":{\"diverging\":[[0,\"#8e0152\"],[0.1,\"#c51b7d\"],[0.2,\"#de77ae\"],[0.3,\"#f1b6da\"],[0.4,\"#fde0ef\"],[0.5,\"#f7f7f7\"],[0.6,\"#e6f5d0\"],[0.7,\"#b8e186\"],[0.8,\"#7fbc41\"],[0.9,\"#4d9221\"],[1,\"#276419\"]],\"sequential\":[[0.0,\"#0d0887\"],[0.1111111111111111,\"#46039f\"],[0.2222222222222222,\"#7201a8\"],[0.3333333333333333,\"#9c179e\"],[0.4444444444444444,\"#bd3786\"],[0.5555555555555556,\"#d8576b\"],[0.6666666666666666,\"#ed7953\"],[0.7777777777777778,\"#fb9f3a\"],[0.8888888888888888,\"#fdca26\"],[1.0,\"#f0f921\"]],\"sequentialminus\":[[0.0,\"#0d0887\"],[0.1111111111111111,\"#46039f\"],[0.2222222222222222,\"#7201a8\"],[0.3333333333333333,\"#9c179e\"],[0.4444444444444444,\"#bd3786\"],[0.5555555555555556,\"#d8576b\"],[0.6666666666666666,\"#ed7953\"],[0.7777777777777778,\"#fb9f3a\"],[0.8888888888888888,\"#fdca26\"],[1.0,\"#f0f921\"]]},\"colorway\":[\"#636efa\",\"#EF553B\",\"#00cc96\",\"#ab63fa\",\"#FFA15A\",\"#19d3f3\",\"#FF6692\",\"#B6E880\",\"#FF97FF\",\"#FECB52\"],\"font\":{\"color\":\"#2a3f5f\"},\"geo\":{\"bgcolor\":\"white\",\"lakecolor\":\"white\",\"landcolor\":\"white\",\"showlakes\":true,\"showland\":true,\"subunitcolor\":\"#C8D4E3\"},\"hoverlabel\":{\"align\":\"left\"},\"hovermode\":\"closest\",\"mapbox\":{\"style\":\"light\"},\"paper_bgcolor\":\"white\",\"plot_bgcolor\":\"white\",\"polar\":{\"angularaxis\":{\"gridcolor\":\"#EBF0F8\",\"linecolor\":\"#EBF0F8\",\"ticks\":\"\"},\"bgcolor\":\"white\",\"radialaxis\":{\"gridcolor\":\"#EBF0F8\",\"linecolor\":\"#EBF0F8\",\"ticks\":\"\"}},\"scene\":{\"xaxis\":{\"backgroundcolor\":\"white\",\"gridcolor\":\"#DFE8F3\",\"gridwidth\":2,\"linecolor\":\"#EBF0F8\",\"showbackground\":true,\"ticks\":\"\",\"zerolinecolor\":\"#EBF0F8\"},\"yaxis\":{\"backgroundcolor\":\"white\",\"gridcolor\":\"#DFE8F3\",\"gridwidth\":2,\"linecolor\":\"#EBF0F8\",\"showbackground\":true,\"ticks\":\"\",\"zerolinecolor\":\"#EBF0F8\"},\"zaxis\":{\"backgroundcolor\":\"white\",\"gridcolor\":\"#DFE8F3\",\"gridwidth\":2,\"linecolor\":\"#EBF0F8\",\"showbackground\":true,\"ticks\":\"\",\"zerolinecolor\":\"#EBF0F8\"}},\"shapedefaults\":{\"line\":{\"color\":\"#2a3f5f\"}},\"ternary\":{\"aaxis\":{\"gridcolor\":\"#DFE8F3\",\"linecolor\":\"#A2B1C6\",\"ticks\":\"\"},\"baxis\":{\"gridcolor\":\"#DFE8F3\",\"linecolor\":\"#A2B1C6\",\"ticks\":\"\"},\"bgcolor\":\"white\",\"caxis\":{\"gridcolor\":\"#DFE8F3\",\"linecolor\":\"#A2B1C6\",\"ticks\":\"\"}},\"title\":{\"x\":0.05},\"xaxis\":{\"automargin\":true,\"gridcolor\":\"#EBF0F8\",\"linecolor\":\"#EBF0F8\",\"ticks\":\"\",\"title\":{\"standoff\":15},\"zerolinecolor\":\"#EBF0F8\",\"zerolinewidth\":2},\"yaxis\":{\"automargin\":true,\"gridcolor\":\"#EBF0F8\",\"linecolor\":\"#EBF0F8\",\"ticks\":\"\",\"title\":{\"standoff\":15},\"zerolinecolor\":\"#EBF0F8\",\"zerolinewidth\":2}}},\"xaxis\":{\"anchor\":\"y\",\"domain\":[0.0,0.18400000000000002],\"title\":{\"text\":\"\"}},\"yaxis\":{\"anchor\":\"x\",\"domain\":[0.0,1.0],\"title\":{\"text\":\"AUC\"}},\"xaxis2\":{\"anchor\":\"y2\",\"domain\":[0.20400000000000001,0.388],\"matches\":\"x\",\"title\":{\"text\":\"\"}},\"yaxis2\":{\"anchor\":\"x2\",\"domain\":[0.0,1.0],\"matches\":\"y\",\"showticklabels\":false},\"xaxis3\":{\"anchor\":\"y3\",\"domain\":[0.40800000000000003,0.5920000000000001],\"matches\":\"x\",\"title\":{\"text\":\"\"}},\"yaxis3\":{\"anchor\":\"x3\",\"domain\":[0.0,1.0],\"matches\":\"y\",\"showticklabels\":false},\"xaxis4\":{\"anchor\":\"y4\",\"domain\":[0.6120000000000001,0.7960000000000002],\"matches\":\"x\",\"title\":{\"text\":\"\"}},\"yaxis4\":{\"anchor\":\"x4\",\"domain\":[0.0,1.0],\"matches\":\"y\",\"showticklabels\":false},\"xaxis5\":{\"anchor\":\"y5\",\"domain\":[0.8160000000000001,1.0],\"matches\":\"x\",\"title\":{\"text\":\"\"}},\"yaxis5\":{\"anchor\":\"x5\",\"domain\":[0.0,1.0],\"matches\":\"y\",\"showticklabels\":false},\"title\":{\"text\":\"Figure11: Results of Experiment 3\"},\"width\":1050,\"height\":600},                        {\"responsive\": true}                    ).then(function(){\n",
       "                            \n",
       "var gd = document.getElementById('0d295930-9eed-4d23-b1ea-a8fa3b8de5a5');\n",
       "var x = new MutationObserver(function (mutations, observer) {{\n",
       "        var display = window.getComputedStyle(gd).display;\n",
       "        if (!display || display === 'none') {{\n",
       "            console.log([gd, 'removed!']);\n",
       "            Plotly.purge(gd);\n",
       "            observer.disconnect();\n",
       "        }}\n",
       "}});\n",
       "\n",
       "// Listen for the removal of the full notebook cells\n",
       "var notebookContainer = gd.closest('#notebook-container');\n",
       "if (notebookContainer) {{\n",
       "    x.observe(notebookContainer, {childList: true});\n",
       "}}\n",
       "\n",
       "// Listen for the clearing of the current output cell\n",
       "var outputEl = gd.closest('.output');\n",
       "if (outputEl) {{\n",
       "    x.observe(outputEl, {childList: true});\n",
       "}}\n",
       "\n",
       "                        })                };                });            </script>        </div>"
      ]
     },
     "metadata": {},
     "output_type": "display_data"
    }
   ],
   "source": [
    "figs['실험3결과요약'].layout['title']['text']='Figure11: Results of Experiment 3'\n",
    "figs['실험3결과요약'].layout['width']=1050\n",
    "figs['실험3결과요약'].layout['height']=600\n",
    "figs['실험3결과요약']"
   ]
  },
  {
   "cell_type": "markdown",
   "id": "940d1d87-e6b8-43c5-b573-ce4c673e3006",
   "metadata": {},
   "source": [
    "::: {.notes}\n",
    "클래스 구분이 잘돼서 auc가 빠르게 올라간다\n",
    "잘 안 올라가는것도 있는데 모델에 따라서 gpt가 제공한 데이터가 유용할때도 있고 아닐때고 있다 (특히 catboost라 리얼데이터는 확 올라가는데 gpt데이터는 많이 올라가지 않는다)\n",
    ":::"
   ]
  },
  {
   "cell_type": "markdown",
   "id": "3aabfa86-2944-4ab5-8178-4ca8f8990e59",
   "metadata": {},
   "source": [
    "# Conclusion and Discussion"
   ]
  },
  {
   "cell_type": "markdown",
   "id": "80e59b0e-0fbe-433d-84e8-db8f9e0d5aca",
   "metadata": {},
   "source": [
    "## Conclusion and Discussion"
   ]
  },
  {
   "cell_type": "markdown",
   "id": "bea43ea4-9fb2-4128-95c3-bc2674672e9f",
   "metadata": {},
   "source": [
    "- 실험2는 더 많은 데이터를 모아서 시뮬레이션 했으면 더 좋은 결과가 나왔을 것 같다.\n",
    "- 생성 데이터만을 가지고 단독적으로 시뮬레이션 했을 때는 생각보다 결과가 좋지 않아서 아쉬웠다.\n",
    "- 실험3 같은 경우 정반대의 MBTI를 추가해봤더니 실험2에 비해 ACU가 많이 올라서 흥미로웠다."
   ]
  },
  {
   "cell_type": "markdown",
   "id": "5d8da4c8-582b-4c5b-a69d-8e547a6732d2",
   "metadata": {
    "tags": []
   },
   "source": [
    "# Reference"
   ]
  },
  {
   "cell_type": "code",
   "execution_count": 24,
   "id": "39fcbe55-9601-4d34-b41f-8ac184c0d640",
   "metadata": {},
   "outputs": [],
   "source": []
  }
 ],
 "metadata": {
  "kernelspec": {
   "display_name": "Python 3 (ipykernel)",
   "language": "python",
   "name": "python3"
  },
  "language_info": {
   "codemirror_mode": {
    "name": "ipython",
    "version": 3
   },
   "file_extension": ".py",
   "mimetype": "text/x-python",
   "name": "python",
   "nbconvert_exporter": "python",
   "pygments_lexer": "ipython3",
   "version": "3.12.0"
  },
  "toc-showmarkdowntxt": true
 },
 "nbformat": 4,
 "nbformat_minor": 5
}
