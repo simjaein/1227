{
 "cells": [
  {
   "cell_type": "raw",
   "id": "f8e0294c-740a-4a98-8a04-08b5cc173243",
   "metadata": {},
   "source": [
    "---\n",
    "title: \"???\"\n",
    "bibliography: ref.bib\n",
    "author:\n",
    "  - \"**심재인**\"\n",
    "institute:\n",
    "  - \"Department of Statistics, Jeonbuk National University\"\n",
    "execute: \n",
    "  enabled: true\n",
    "  cache: false\n",
    "  freeze: false  \n",
    "format:\n",
    "  revealjs:\n",
    "    chalkboard: true\n",
    "    slide-number: true\n",
    "    suppress-bibliography: true\n",
    "---"
   ]
  },
  {
   "cell_type": "code",
   "execution_count": 11,
   "id": "c8a5a061-e92e-412b-8c2c-036f9e2b1ba6",
   "metadata": {},
   "outputs": [
    {
     "data": {
      "text/plain": [
       "dict_keys(['실험셋업시각화_실험1시나리오1', '실험셋업시각화_실험3시나리오2', '실험셋업시각화_실험1시나리오2', '실험셋업시각화_실험3시나리오3', '실험셋업시각화_실험1실험계획', '실험셋업시각화_실험3시나리오4', '실험셋업시각화_실험2시나리오0-3', '실험셋업시각화_실험3시나리오5', '실험2결과요약', '실험셋업시각화_실험3시나리오6', '실험셋업시각화_실험3시나리오0', '실험셋업시각화_실험3시나리오7', '실험셋업시각화_실험3시나리오1', '실험3결과요약'])"
      ]
     },
     "execution_count": 11,
     "metadata": {},
     "output_type": "execute_result"
    }
   ],
   "source": [
    "#| output: false\n",
    "import pandas as pd \n",
    "import plotly.express as px\n",
    "import plotly.io as pio\n",
    "import pickle\n",
    "pio.templates.default = \"plotly_white\"\n",
    "df_kaggle = pd.read_csv(\"mbti_1.csv\")\n",
    "file_names = [\n",
    "    \"실험셋업시각화_실험1시나리오1.pkl\",\n",
    "    \"실험셋업시각화_실험3시나리오2.pkl\",\n",
    "    \"실험셋업시각화_실험1시나리오2.pkl\",\n",
    "    \"실험셋업시각화_실험3시나리오3.pkl\",\n",
    "    \"실험셋업시각화_실험1실험계획.pkl\",\n",
    "    \"실험셋업시각화_실험3시나리오4.pkl\",\n",
    "    \"실험셋업시각화_실험2시나리오0-3.pkl\",\n",
    "    \"실험셋업시각화_실험3시나리오5.pkl\",\n",
    "    \"실험2결과요약.pkl\",\n",
    "    \"실험셋업시각화_실험3시나리오6.pkl\",\n",
    "    \"실험셋업시각화_실험3시나리오0.pkl\",\n",
    "    \"실험셋업시각화_실험3시나리오7.pkl\",\n",
    "    \"실험셋업시각화_실험3시나리오1.pkl\",\n",
    "    \"실험3결과요약.pkl\",\n",
    "    \"실험2결과요약.pkl\"\n",
    "]\n",
    "def _load(path):\n",
    "    with open(path,'rb') as f:\n",
    "        rtn = pickle.load(f)\n",
    "    return rtn \n",
    "    \n",
    "figs = {fname.replace('.pkl',''): _load(f'./plotlyFigures/{fname}') for fname in file_names}\n",
    "figs.keys()"
   ]
  },
  {
   "cell_type": "markdown",
   "id": "f2340227-4de9-4c1e-b4b4-b6ca33ecd757",
   "metadata": {},
   "source": [
    "## asdf"
   ]
  },
  {
   "cell_type": "code",
   "execution_count": 13,
   "id": "d9565d97-3bca-4182-99dc-4c0fdd3c04ef",
   "metadata": {
    "tags": []
   },
   "outputs": [
    {
     "data": {
      "application/vnd.plotly.v1+json": {
       "config": {
        "plotlyServerURL": "https://plot.ly"
       },
       "data": [
        {
         "alignmentgroup": "True",
         "hovertemplate": "DataType=Train<br>type=%{x}<br>count=%{text}<extra></extra>",
         "legendgroup": "Train",
         "marker": {
          "color": "#636efa",
          "pattern": {
           "shape": ""
          }
         },
         "name": "Train",
         "offsetgroup": "Train",
         "orientation": "v",
         "showlegend": true,
         "text": [
          916,
          735,
          652,
          545,
          343,
          338,
          169,
          136,
          115,
          102,
          95,
          83,
          45,
          24,
          21,
          19
         ],
         "textposition": "auto",
         "type": "bar",
         "x": [
          "INFP",
          "INFJ",
          "INTP",
          "INTJ",
          "ENTP",
          "ENFP",
          "ISTP",
          "ISFP",
          "ENTJ",
          "ISTJ",
          "ENFJ",
          "ISFJ",
          "ESTP",
          "ESFP",
          "ESFJ",
          "ESTJ"
         ],
         "xaxis": "x",
         "y": [
          916,
          735,
          652,
          545,
          343,
          338,
          169,
          136,
          115,
          102,
          95,
          83,
          45,
          24,
          21,
          19
         ],
         "yaxis": "y"
        },
        {
         "alignmentgroup": "True",
         "hovertemplate": "DataType=Test<br>type=%{x}<br>count=%{text}<extra></extra>",
         "legendgroup": "Test",
         "marker": {
          "color": "#636efa",
          "pattern": {
           "shape": "/"
          }
         },
         "name": "Test",
         "offsetgroup": "Test",
         "orientation": "v",
         "showlegend": true,
         "text": [
          916,
          735,
          652,
          546,
          342,
          337,
          168,
          135,
          116,
          103,
          95,
          83,
          44,
          24,
          21,
          20
         ],
         "textposition": "auto",
         "type": "bar",
         "x": [
          "INFP",
          "INFJ",
          "INTP",
          "INTJ",
          "ENTP",
          "ENFP",
          "ISTP",
          "ISFP",
          "ENTJ",
          "ISTJ",
          "ENFJ",
          "ISFJ",
          "ESTP",
          "ESFP",
          "ESFJ",
          "ESTJ"
         ],
         "xaxis": "x",
         "y": [
          916,
          735,
          652,
          546,
          342,
          337,
          168,
          135,
          116,
          103,
          95,
          83,
          44,
          24,
          21,
          20
         ],
         "yaxis": "y"
        }
       ],
       "layout": {
        "autosize": true,
        "barmode": "group",
        "legend": {
         "title": {
          "text": "DataType"
         },
         "tracegroupgap": 0
        },
        "template": {
         "data": {
          "bar": [
           {
            "error_x": {
             "color": "#2a3f5f"
            },
            "error_y": {
             "color": "#2a3f5f"
            },
            "marker": {
             "line": {
              "color": "white",
              "width": 0.5
             },
             "pattern": {
              "fillmode": "overlay",
              "size": 10,
              "solidity": 0.2
             }
            },
            "type": "bar"
           }
          ],
          "barpolar": [
           {
            "marker": {
             "line": {
              "color": "white",
              "width": 0.5
             },
             "pattern": {
              "fillmode": "overlay",
              "size": 10,
              "solidity": 0.2
             }
            },
            "type": "barpolar"
           }
          ],
          "carpet": [
           {
            "aaxis": {
             "endlinecolor": "#2a3f5f",
             "gridcolor": "#C8D4E3",
             "linecolor": "#C8D4E3",
             "minorgridcolor": "#C8D4E3",
             "startlinecolor": "#2a3f5f"
            },
            "baxis": {
             "endlinecolor": "#2a3f5f",
             "gridcolor": "#C8D4E3",
             "linecolor": "#C8D4E3",
             "minorgridcolor": "#C8D4E3",
             "startlinecolor": "#2a3f5f"
            },
            "type": "carpet"
           }
          ],
          "choropleth": [
           {
            "colorbar": {
             "outlinewidth": 0,
             "ticks": ""
            },
            "type": "choropleth"
           }
          ],
          "contour": [
           {
            "colorbar": {
             "outlinewidth": 0,
             "ticks": ""
            },
            "colorscale": [
             [
              0,
              "#0d0887"
             ],
             [
              0.1111111111111111,
              "#46039f"
             ],
             [
              0.2222222222222222,
              "#7201a8"
             ],
             [
              0.3333333333333333,
              "#9c179e"
             ],
             [
              0.4444444444444444,
              "#bd3786"
             ],
             [
              0.5555555555555556,
              "#d8576b"
             ],
             [
              0.6666666666666666,
              "#ed7953"
             ],
             [
              0.7777777777777778,
              "#fb9f3a"
             ],
             [
              0.8888888888888888,
              "#fdca26"
             ],
             [
              1,
              "#f0f921"
             ]
            ],
            "type": "contour"
           }
          ],
          "contourcarpet": [
           {
            "colorbar": {
             "outlinewidth": 0,
             "ticks": ""
            },
            "type": "contourcarpet"
           }
          ],
          "heatmap": [
           {
            "colorbar": {
             "outlinewidth": 0,
             "ticks": ""
            },
            "colorscale": [
             [
              0,
              "#0d0887"
             ],
             [
              0.1111111111111111,
              "#46039f"
             ],
             [
              0.2222222222222222,
              "#7201a8"
             ],
             [
              0.3333333333333333,
              "#9c179e"
             ],
             [
              0.4444444444444444,
              "#bd3786"
             ],
             [
              0.5555555555555556,
              "#d8576b"
             ],
             [
              0.6666666666666666,
              "#ed7953"
             ],
             [
              0.7777777777777778,
              "#fb9f3a"
             ],
             [
              0.8888888888888888,
              "#fdca26"
             ],
             [
              1,
              "#f0f921"
             ]
            ],
            "type": "heatmap"
           }
          ],
          "heatmapgl": [
           {
            "colorbar": {
             "outlinewidth": 0,
             "ticks": ""
            },
            "colorscale": [
             [
              0,
              "#0d0887"
             ],
             [
              0.1111111111111111,
              "#46039f"
             ],
             [
              0.2222222222222222,
              "#7201a8"
             ],
             [
              0.3333333333333333,
              "#9c179e"
             ],
             [
              0.4444444444444444,
              "#bd3786"
             ],
             [
              0.5555555555555556,
              "#d8576b"
             ],
             [
              0.6666666666666666,
              "#ed7953"
             ],
             [
              0.7777777777777778,
              "#fb9f3a"
             ],
             [
              0.8888888888888888,
              "#fdca26"
             ],
             [
              1,
              "#f0f921"
             ]
            ],
            "type": "heatmapgl"
           }
          ],
          "histogram": [
           {
            "marker": {
             "pattern": {
              "fillmode": "overlay",
              "size": 10,
              "solidity": 0.2
             }
            },
            "type": "histogram"
           }
          ],
          "histogram2d": [
           {
            "colorbar": {
             "outlinewidth": 0,
             "ticks": ""
            },
            "colorscale": [
             [
              0,
              "#0d0887"
             ],
             [
              0.1111111111111111,
              "#46039f"
             ],
             [
              0.2222222222222222,
              "#7201a8"
             ],
             [
              0.3333333333333333,
              "#9c179e"
             ],
             [
              0.4444444444444444,
              "#bd3786"
             ],
             [
              0.5555555555555556,
              "#d8576b"
             ],
             [
              0.6666666666666666,
              "#ed7953"
             ],
             [
              0.7777777777777778,
              "#fb9f3a"
             ],
             [
              0.8888888888888888,
              "#fdca26"
             ],
             [
              1,
              "#f0f921"
             ]
            ],
            "type": "histogram2d"
           }
          ],
          "histogram2dcontour": [
           {
            "colorbar": {
             "outlinewidth": 0,
             "ticks": ""
            },
            "colorscale": [
             [
              0,
              "#0d0887"
             ],
             [
              0.1111111111111111,
              "#46039f"
             ],
             [
              0.2222222222222222,
              "#7201a8"
             ],
             [
              0.3333333333333333,
              "#9c179e"
             ],
             [
              0.4444444444444444,
              "#bd3786"
             ],
             [
              0.5555555555555556,
              "#d8576b"
             ],
             [
              0.6666666666666666,
              "#ed7953"
             ],
             [
              0.7777777777777778,
              "#fb9f3a"
             ],
             [
              0.8888888888888888,
              "#fdca26"
             ],
             [
              1,
              "#f0f921"
             ]
            ],
            "type": "histogram2dcontour"
           }
          ],
          "mesh3d": [
           {
            "colorbar": {
             "outlinewidth": 0,
             "ticks": ""
            },
            "type": "mesh3d"
           }
          ],
          "parcoords": [
           {
            "line": {
             "colorbar": {
              "outlinewidth": 0,
              "ticks": ""
             }
            },
            "type": "parcoords"
           }
          ],
          "pie": [
           {
            "automargin": true,
            "type": "pie"
           }
          ],
          "scatter": [
           {
            "fillpattern": {
             "fillmode": "overlay",
             "size": 10,
             "solidity": 0.2
            },
            "type": "scatter"
           }
          ],
          "scatter3d": [
           {
            "line": {
             "colorbar": {
              "outlinewidth": 0,
              "ticks": ""
             }
            },
            "marker": {
             "colorbar": {
              "outlinewidth": 0,
              "ticks": ""
             }
            },
            "type": "scatter3d"
           }
          ],
          "scattercarpet": [
           {
            "marker": {
             "colorbar": {
              "outlinewidth": 0,
              "ticks": ""
             }
            },
            "type": "scattercarpet"
           }
          ],
          "scattergeo": [
           {
            "marker": {
             "colorbar": {
              "outlinewidth": 0,
              "ticks": ""
             }
            },
            "type": "scattergeo"
           }
          ],
          "scattergl": [
           {
            "marker": {
             "colorbar": {
              "outlinewidth": 0,
              "ticks": ""
             }
            },
            "type": "scattergl"
           }
          ],
          "scattermapbox": [
           {
            "marker": {
             "colorbar": {
              "outlinewidth": 0,
              "ticks": ""
             }
            },
            "type": "scattermapbox"
           }
          ],
          "scatterpolar": [
           {
            "marker": {
             "colorbar": {
              "outlinewidth": 0,
              "ticks": ""
             }
            },
            "type": "scatterpolar"
           }
          ],
          "scatterpolargl": [
           {
            "marker": {
             "colorbar": {
              "outlinewidth": 0,
              "ticks": ""
             }
            },
            "type": "scatterpolargl"
           }
          ],
          "scatterternary": [
           {
            "marker": {
             "colorbar": {
              "outlinewidth": 0,
              "ticks": ""
             }
            },
            "type": "scatterternary"
           }
          ],
          "surface": [
           {
            "colorbar": {
             "outlinewidth": 0,
             "ticks": ""
            },
            "colorscale": [
             [
              0,
              "#0d0887"
             ],
             [
              0.1111111111111111,
              "#46039f"
             ],
             [
              0.2222222222222222,
              "#7201a8"
             ],
             [
              0.3333333333333333,
              "#9c179e"
             ],
             [
              0.4444444444444444,
              "#bd3786"
             ],
             [
              0.5555555555555556,
              "#d8576b"
             ],
             [
              0.6666666666666666,
              "#ed7953"
             ],
             [
              0.7777777777777778,
              "#fb9f3a"
             ],
             [
              0.8888888888888888,
              "#fdca26"
             ],
             [
              1,
              "#f0f921"
             ]
            ],
            "type": "surface"
           }
          ],
          "table": [
           {
            "cells": {
             "fill": {
              "color": "#EBF0F8"
             },
             "line": {
              "color": "white"
             }
            },
            "header": {
             "fill": {
              "color": "#C8D4E3"
             },
             "line": {
              "color": "white"
             }
            },
            "type": "table"
           }
          ]
         },
         "layout": {
          "annotationdefaults": {
           "arrowcolor": "#2a3f5f",
           "arrowhead": 0,
           "arrowwidth": 1
          },
          "autotypenumbers": "strict",
          "coloraxis": {
           "colorbar": {
            "outlinewidth": 0,
            "ticks": ""
           }
          },
          "colorscale": {
           "diverging": [
            [
             0,
             "#8e0152"
            ],
            [
             0.1,
             "#c51b7d"
            ],
            [
             0.2,
             "#de77ae"
            ],
            [
             0.3,
             "#f1b6da"
            ],
            [
             0.4,
             "#fde0ef"
            ],
            [
             0.5,
             "#f7f7f7"
            ],
            [
             0.6,
             "#e6f5d0"
            ],
            [
             0.7,
             "#b8e186"
            ],
            [
             0.8,
             "#7fbc41"
            ],
            [
             0.9,
             "#4d9221"
            ],
            [
             1,
             "#276419"
            ]
           ],
           "sequential": [
            [
             0,
             "#0d0887"
            ],
            [
             0.1111111111111111,
             "#46039f"
            ],
            [
             0.2222222222222222,
             "#7201a8"
            ],
            [
             0.3333333333333333,
             "#9c179e"
            ],
            [
             0.4444444444444444,
             "#bd3786"
            ],
            [
             0.5555555555555556,
             "#d8576b"
            ],
            [
             0.6666666666666666,
             "#ed7953"
            ],
            [
             0.7777777777777778,
             "#fb9f3a"
            ],
            [
             0.8888888888888888,
             "#fdca26"
            ],
            [
             1,
             "#f0f921"
            ]
           ],
           "sequentialminus": [
            [
             0,
             "#0d0887"
            ],
            [
             0.1111111111111111,
             "#46039f"
            ],
            [
             0.2222222222222222,
             "#7201a8"
            ],
            [
             0.3333333333333333,
             "#9c179e"
            ],
            [
             0.4444444444444444,
             "#bd3786"
            ],
            [
             0.5555555555555556,
             "#d8576b"
            ],
            [
             0.6666666666666666,
             "#ed7953"
            ],
            [
             0.7777777777777778,
             "#fb9f3a"
            ],
            [
             0.8888888888888888,
             "#fdca26"
            ],
            [
             1,
             "#f0f921"
            ]
           ]
          },
          "colorway": [
           "#636efa",
           "#EF553B",
           "#00cc96",
           "#ab63fa",
           "#FFA15A",
           "#19d3f3",
           "#FF6692",
           "#B6E880",
           "#FF97FF",
           "#FECB52"
          ],
          "font": {
           "color": "#2a3f5f"
          },
          "geo": {
           "bgcolor": "white",
           "lakecolor": "white",
           "landcolor": "white",
           "showlakes": true,
           "showland": true,
           "subunitcolor": "#C8D4E3"
          },
          "hoverlabel": {
           "align": "left"
          },
          "hovermode": "closest",
          "mapbox": {
           "style": "light"
          },
          "paper_bgcolor": "white",
          "plot_bgcolor": "white",
          "polar": {
           "angularaxis": {
            "gridcolor": "#EBF0F8",
            "linecolor": "#EBF0F8",
            "ticks": ""
           },
           "bgcolor": "white",
           "radialaxis": {
            "gridcolor": "#EBF0F8",
            "linecolor": "#EBF0F8",
            "ticks": ""
           }
          },
          "scene": {
           "xaxis": {
            "backgroundcolor": "white",
            "gridcolor": "#DFE8F3",
            "gridwidth": 2,
            "linecolor": "#EBF0F8",
            "showbackground": true,
            "ticks": "",
            "zerolinecolor": "#EBF0F8"
           },
           "yaxis": {
            "backgroundcolor": "white",
            "gridcolor": "#DFE8F3",
            "gridwidth": 2,
            "linecolor": "#EBF0F8",
            "showbackground": true,
            "ticks": "",
            "zerolinecolor": "#EBF0F8"
           },
           "zaxis": {
            "backgroundcolor": "white",
            "gridcolor": "#DFE8F3",
            "gridwidth": 2,
            "linecolor": "#EBF0F8",
            "showbackground": true,
            "ticks": "",
            "zerolinecolor": "#EBF0F8"
           }
          },
          "shapedefaults": {
           "line": {
            "color": "#2a3f5f"
           }
          },
          "ternary": {
           "aaxis": {
            "gridcolor": "#DFE8F3",
            "linecolor": "#A2B1C6",
            "ticks": ""
           },
           "baxis": {
            "gridcolor": "#DFE8F3",
            "linecolor": "#A2B1C6",
            "ticks": ""
           },
           "bgcolor": "white",
           "caxis": {
            "gridcolor": "#DFE8F3",
            "linecolor": "#A2B1C6",
            "ticks": ""
           }
          },
          "title": {
           "x": 0.05
          },
          "xaxis": {
           "automargin": true,
           "gridcolor": "#EBF0F8",
           "linecolor": "#EBF0F8",
           "ticks": "",
           "title": {
            "standoff": 15
           },
           "zerolinecolor": "#EBF0F8",
           "zerolinewidth": 2
          },
          "yaxis": {
           "automargin": true,
           "gridcolor": "#EBF0F8",
           "linecolor": "#EBF0F8",
           "ticks": "",
           "title": {
            "standoff": 15
           },
           "zerolinecolor": "#EBF0F8",
           "zerolinewidth": 2
          }
         }
        },
        "title": {
         "text": "실험1/시나리오1"
        },
        "xaxis": {
         "anchor": "y",
         "autorange": true,
         "domain": [
          0,
          1
         ],
         "range": [
          -0.5,
          15.5
         ],
         "title": {
          "text": "type"
         },
         "type": "category"
        },
        "yaxis": {
         "anchor": "x",
         "autorange": true,
         "domain": [
          0,
          1
         ],
         "range": [
          0,
          964.2105263157895
         ],
         "title": {
          "text": "count"
         },
         "type": "linear"
        }
       }
      },
      "image/png": "[encoded data removed]",
      "text/html": [
       "<div>                            <div id=\"dc71c898-a90d-406c-857b-b201cc0a2879\" class=\"plotly-graph-div\" style=\"height:525px; width:100%;\"></div>            <script type=\"text/javascript\">                require([\"plotly\"], function(Plotly) {                    window.PLOTLYENV=window.PLOTLYENV || {};                                    if (document.getElementById(\"dc71c898-a90d-406c-857b-b201cc0a2879\")) {                    Plotly.newPlot(                        \"dc71c898-a90d-406c-857b-b201cc0a2879\",                        [{\"alignmentgroup\":\"True\",\"hovertemplate\":\"DataType=Train\\u003cbr\\u003etype=%{x}\\u003cbr\\u003ecount=%{text}\\u003cextra\\u003e\\u003c\\u002fextra\\u003e\",\"legendgroup\":\"Train\",\"marker\":{\"color\":\"#636efa\",\"pattern\":{\"shape\":\"\"}},\"name\":\"Train\",\"offsetgroup\":\"Train\",\"orientation\":\"v\",\"showlegend\":true,\"text\":[916.0,735.0,652.0,545.0,343.0,338.0,169.0,136.0,115.0,102.0,95.0,83.0,45.0,24.0,21.0,19.0],\"textposition\":\"auto\",\"x\":[\"INFP\",\"INFJ\",\"INTP\",\"INTJ\",\"ENTP\",\"ENFP\",\"ISTP\",\"ISFP\",\"ENTJ\",\"ISTJ\",\"ENFJ\",\"ISFJ\",\"ESTP\",\"ESFP\",\"ESFJ\",\"ESTJ\"],\"xaxis\":\"x\",\"y\":[916,735,652,545,343,338,169,136,115,102,95,83,45,24,21,19],\"yaxis\":\"y\",\"type\":\"bar\"},{\"alignmentgroup\":\"True\",\"hovertemplate\":\"DataType=Test\\u003cbr\\u003etype=%{x}\\u003cbr\\u003ecount=%{text}\\u003cextra\\u003e\\u003c\\u002fextra\\u003e\",\"legendgroup\":\"Test\",\"marker\":{\"color\":\"#636efa\",\"pattern\":{\"shape\":\"\\u002f\"}},\"name\":\"Test\",\"offsetgroup\":\"Test\",\"orientation\":\"v\",\"showlegend\":true,\"text\":[916.0,735.0,652.0,546.0,342.0,337.0,168.0,135.0,116.0,103.0,95.0,83.0,44.0,24.0,21.0,20.0],\"textposition\":\"auto\",\"x\":[\"INFP\",\"INFJ\",\"INTP\",\"INTJ\",\"ENTP\",\"ENFP\",\"ISTP\",\"ISFP\",\"ENTJ\",\"ISTJ\",\"ENFJ\",\"ISFJ\",\"ESTP\",\"ESFP\",\"ESFJ\",\"ESTJ\"],\"xaxis\":\"x\",\"y\":[916,735,652,546,342,337,168,135,116,103,95,83,44,24,21,20],\"yaxis\":\"y\",\"type\":\"bar\"}],                        {\"barmode\":\"group\",\"legend\":{\"title\":{\"text\":\"DataType\"},\"tracegroupgap\":0},\"template\":{\"data\":{\"barpolar\":[{\"marker\":{\"line\":{\"color\":\"white\",\"width\":0.5},\"pattern\":{\"fillmode\":\"overlay\",\"size\":10,\"solidity\":0.2}},\"type\":\"barpolar\"}],\"bar\":[{\"error_x\":{\"color\":\"#2a3f5f\"},\"error_y\":{\"color\":\"#2a3f5f\"},\"marker\":{\"line\":{\"color\":\"white\",\"width\":0.5},\"pattern\":{\"fillmode\":\"overlay\",\"size\":10,\"solidity\":0.2}},\"type\":\"bar\"}],\"carpet\":[{\"aaxis\":{\"endlinecolor\":\"#2a3f5f\",\"gridcolor\":\"#C8D4E3\",\"linecolor\":\"#C8D4E3\",\"minorgridcolor\":\"#C8D4E3\",\"startlinecolor\":\"#2a3f5f\"},\"baxis\":{\"endlinecolor\":\"#2a3f5f\",\"gridcolor\":\"#C8D4E3\",\"linecolor\":\"#C8D4E3\",\"minorgridcolor\":\"#C8D4E3\",\"startlinecolor\":\"#2a3f5f\"},\"type\":\"carpet\"}],\"choropleth\":[{\"colorbar\":{\"outlinewidth\":0,\"ticks\":\"\"},\"type\":\"choropleth\"}],\"contourcarpet\":[{\"colorbar\":{\"outlinewidth\":0,\"ticks\":\"\"},\"type\":\"contourcarpet\"}],\"contour\":[{\"colorbar\":{\"outlinewidth\":0,\"ticks\":\"\"},\"colorscale\":[[0.0,\"#0d0887\"],[0.1111111111111111,\"#46039f\"],[0.2222222222222222,\"#7201a8\"],[0.3333333333333333,\"#9c179e\"],[0.4444444444444444,\"#bd3786\"],[0.5555555555555556,\"#d8576b\"],[0.6666666666666666,\"#ed7953\"],[0.7777777777777778,\"#fb9f3a\"],[0.8888888888888888,\"#fdca26\"],[1.0,\"#f0f921\"]],\"type\":\"contour\"}],\"heatmapgl\":[{\"colorbar\":{\"outlinewidth\":0,\"ticks\":\"\"},\"colorscale\":[[0.0,\"#0d0887\"],[0.1111111111111111,\"#46039f\"],[0.2222222222222222,\"#7201a8\"],[0.3333333333333333,\"#9c179e\"],[0.4444444444444444,\"#bd3786\"],[0.5555555555555556,\"#d8576b\"],[0.6666666666666666,\"#ed7953\"],[0.7777777777777778,\"#fb9f3a\"],[0.8888888888888888,\"#fdca26\"],[1.0,\"#f0f921\"]],\"type\":\"heatmapgl\"}],\"heatmap\":[{\"colorbar\":{\"outlinewidth\":0,\"ticks\":\"\"},\"colorscale\":[[0.0,\"#0d0887\"],[0.1111111111111111,\"#46039f\"],[0.2222222222222222,\"#7201a8\"],[0.3333333333333333,\"#9c179e\"],[0.4444444444444444,\"#bd3786\"],[0.5555555555555556,\"#d8576b\"],[0.6666666666666666,\"#ed7953\"],[0.7777777777777778,\"#fb9f3a\"],[0.8888888888888888,\"#fdca26\"],[1.0,\"#f0f921\"]],\"type\":\"heatmap\"}],\"histogram2dcontour\":[{\"colorbar\":{\"outlinewidth\":0,\"ticks\":\"\"},\"colorscale\":[[0.0,\"#0d0887\"],[0.1111111111111111,\"#46039f\"],[0.2222222222222222,\"#7201a8\"],[0.3333333333333333,\"#9c179e\"],[0.4444444444444444,\"#bd3786\"],[0.5555555555555556,\"#d8576b\"],[0.6666666666666666,\"#ed7953\"],[0.7777777777777778,\"#fb9f3a\"],[0.8888888888888888,\"#fdca26\"],[1.0,\"#f0f921\"]],\"type\":\"histogram2dcontour\"}],\"histogram2d\":[{\"colorbar\":{\"outlinewidth\":0,\"ticks\":\"\"},\"colorscale\":[[0.0,\"#0d0887\"],[0.1111111111111111,\"#46039f\"],[0.2222222222222222,\"#7201a8\"],[0.3333333333333333,\"#9c179e\"],[0.4444444444444444,\"#bd3786\"],[0.5555555555555556,\"#d8576b\"],[0.6666666666666666,\"#ed7953\"],[0.7777777777777778,\"#fb9f3a\"],[0.8888888888888888,\"#fdca26\"],[1.0,\"#f0f921\"]],\"type\":\"histogram2d\"}],\"histogram\":[{\"marker\":{\"pattern\":{\"fillmode\":\"overlay\",\"size\":10,\"solidity\":0.2}},\"type\":\"histogram\"}],\"mesh3d\":[{\"colorbar\":{\"outlinewidth\":0,\"ticks\":\"\"},\"type\":\"mesh3d\"}],\"parcoords\":[{\"line\":{\"colorbar\":{\"outlinewidth\":0,\"ticks\":\"\"}},\"type\":\"parcoords\"}],\"pie\":[{\"automargin\":true,\"type\":\"pie\"}],\"scatter3d\":[{\"line\":{\"colorbar\":{\"outlinewidth\":0,\"ticks\":\"\"}},\"marker\":{\"colorbar\":{\"outlinewidth\":0,\"ticks\":\"\"}},\"type\":\"scatter3d\"}],\"scattercarpet\":[{\"marker\":{\"colorbar\":{\"outlinewidth\":0,\"ticks\":\"\"}},\"type\":\"scattercarpet\"}],\"scattergeo\":[{\"marker\":{\"colorbar\":{\"outlinewidth\":0,\"ticks\":\"\"}},\"type\":\"scattergeo\"}],\"scattergl\":[{\"marker\":{\"colorbar\":{\"outlinewidth\":0,\"ticks\":\"\"}},\"type\":\"scattergl\"}],\"scattermapbox\":[{\"marker\":{\"colorbar\":{\"outlinewidth\":0,\"ticks\":\"\"}},\"type\":\"scattermapbox\"}],\"scatterpolargl\":[{\"marker\":{\"colorbar\":{\"outlinewidth\":0,\"ticks\":\"\"}},\"type\":\"scatterpolargl\"}],\"scatterpolar\":[{\"marker\":{\"colorbar\":{\"outlinewidth\":0,\"ticks\":\"\"}},\"type\":\"scatterpolar\"}],\"scatter\":[{\"fillpattern\":{\"fillmode\":\"overlay\",\"size\":10,\"solidity\":0.2},\"type\":\"scatter\"}],\"scatterternary\":[{\"marker\":{\"colorbar\":{\"outlinewidth\":0,\"ticks\":\"\"}},\"type\":\"scatterternary\"}],\"surface\":[{\"colorbar\":{\"outlinewidth\":0,\"ticks\":\"\"},\"colorscale\":[[0.0,\"#0d0887\"],[0.1111111111111111,\"#46039f\"],[0.2222222222222222,\"#7201a8\"],[0.3333333333333333,\"#9c179e\"],[0.4444444444444444,\"#bd3786\"],[0.5555555555555556,\"#d8576b\"],[0.6666666666666666,\"#ed7953\"],[0.7777777777777778,\"#fb9f3a\"],[0.8888888888888888,\"#fdca26\"],[1.0,\"#f0f921\"]],\"type\":\"surface\"}],\"table\":[{\"cells\":{\"fill\":{\"color\":\"#EBF0F8\"},\"line\":{\"color\":\"white\"}},\"header\":{\"fill\":{\"color\":\"#C8D4E3\"},\"line\":{\"color\":\"white\"}},\"type\":\"table\"}]},\"layout\":{\"annotationdefaults\":{\"arrowcolor\":\"#2a3f5f\",\"arrowhead\":0,\"arrowwidth\":1},\"autotypenumbers\":\"strict\",\"coloraxis\":{\"colorbar\":{\"outlinewidth\":0,\"ticks\":\"\"}},\"colorscale\":{\"diverging\":[[0,\"#8e0152\"],[0.1,\"#c51b7d\"],[0.2,\"#de77ae\"],[0.3,\"#f1b6da\"],[0.4,\"#fde0ef\"],[0.5,\"#f7f7f7\"],[0.6,\"#e6f5d0\"],[0.7,\"#b8e186\"],[0.8,\"#7fbc41\"],[0.9,\"#4d9221\"],[1,\"#276419\"]],\"sequential\":[[0.0,\"#0d0887\"],[0.1111111111111111,\"#46039f\"],[0.2222222222222222,\"#7201a8\"],[0.3333333333333333,\"#9c179e\"],[0.4444444444444444,\"#bd3786\"],[0.5555555555555556,\"#d8576b\"],[0.6666666666666666,\"#ed7953\"],[0.7777777777777778,\"#fb9f3a\"],[0.8888888888888888,\"#fdca26\"],[1.0,\"#f0f921\"]],\"sequentialminus\":[[0.0,\"#0d0887\"],[0.1111111111111111,\"#46039f\"],[0.2222222222222222,\"#7201a8\"],[0.3333333333333333,\"#9c179e\"],[0.4444444444444444,\"#bd3786\"],[0.5555555555555556,\"#d8576b\"],[0.6666666666666666,\"#ed7953\"],[0.7777777777777778,\"#fb9f3a\"],[0.8888888888888888,\"#fdca26\"],[1.0,\"#f0f921\"]]},\"colorway\":[\"#636efa\",\"#EF553B\",\"#00cc96\",\"#ab63fa\",\"#FFA15A\",\"#19d3f3\",\"#FF6692\",\"#B6E880\",\"#FF97FF\",\"#FECB52\"],\"font\":{\"color\":\"#2a3f5f\"},\"geo\":{\"bgcolor\":\"white\",\"lakecolor\":\"white\",\"landcolor\":\"white\",\"showlakes\":true,\"showland\":true,\"subunitcolor\":\"#C8D4E3\"},\"hoverlabel\":{\"align\":\"left\"},\"hovermode\":\"closest\",\"mapbox\":{\"style\":\"light\"},\"paper_bgcolor\":\"white\",\"plot_bgcolor\":\"white\",\"polar\":{\"angularaxis\":{\"gridcolor\":\"#EBF0F8\",\"linecolor\":\"#EBF0F8\",\"ticks\":\"\"},\"bgcolor\":\"white\",\"radialaxis\":{\"gridcolor\":\"#EBF0F8\",\"linecolor\":\"#EBF0F8\",\"ticks\":\"\"}},\"scene\":{\"xaxis\":{\"backgroundcolor\":\"white\",\"gridcolor\":\"#DFE8F3\",\"gridwidth\":2,\"linecolor\":\"#EBF0F8\",\"showbackground\":true,\"ticks\":\"\",\"zerolinecolor\":\"#EBF0F8\"},\"yaxis\":{\"backgroundcolor\":\"white\",\"gridcolor\":\"#DFE8F3\",\"gridwidth\":2,\"linecolor\":\"#EBF0F8\",\"showbackground\":true,\"ticks\":\"\",\"zerolinecolor\":\"#EBF0F8\"},\"zaxis\":{\"backgroundcolor\":\"white\",\"gridcolor\":\"#DFE8F3\",\"gridwidth\":2,\"linecolor\":\"#EBF0F8\",\"showbackground\":true,\"ticks\":\"\",\"zerolinecolor\":\"#EBF0F8\"}},\"shapedefaults\":{\"line\":{\"color\":\"#2a3f5f\"}},\"ternary\":{\"aaxis\":{\"gridcolor\":\"#DFE8F3\",\"linecolor\":\"#A2B1C6\",\"ticks\":\"\"},\"baxis\":{\"gridcolor\":\"#DFE8F3\",\"linecolor\":\"#A2B1C6\",\"ticks\":\"\"},\"bgcolor\":\"white\",\"caxis\":{\"gridcolor\":\"#DFE8F3\",\"linecolor\":\"#A2B1C6\",\"ticks\":\"\"}},\"title\":{\"x\":0.05},\"xaxis\":{\"automargin\":true,\"gridcolor\":\"#EBF0F8\",\"linecolor\":\"#EBF0F8\",\"ticks\":\"\",\"title\":{\"standoff\":15},\"zerolinecolor\":\"#EBF0F8\",\"zerolinewidth\":2},\"yaxis\":{\"automargin\":true,\"gridcolor\":\"#EBF0F8\",\"linecolor\":\"#EBF0F8\",\"ticks\":\"\",\"title\":{\"standoff\":15},\"zerolinecolor\":\"#EBF0F8\",\"zerolinewidth\":2}}},\"title\":{\"text\":\"\\uc2e4\\ud5d81\\u002f\\uc2dc\\ub098\\ub9ac\\uc6241\"},\"xaxis\":{\"anchor\":\"y\",\"domain\":[0.0,1.0],\"title\":{\"text\":\"type\"}},\"yaxis\":{\"anchor\":\"x\",\"domain\":[0.0,1.0],\"title\":{\"text\":\"count\"}}},                        {\"responsive\": true}                    ).then(function(){\n",
       "                            \n",
       "var gd = document.getElementById('dc71c898-a90d-406c-857b-b201cc0a2879');\n",
       "var x = new MutationObserver(function (mutations, observer) {{\n",
       "        var display = window.getComputedStyle(gd).display;\n",
       "        if (!display || display === 'none') {{\n",
       "            console.log([gd, 'removed!']);\n",
       "            Plotly.purge(gd);\n",
       "            observer.disconnect();\n",
       "        }}\n",
       "}});\n",
       "\n",
       "// Listen for the removal of the full notebook cells\n",
       "var notebookContainer = gd.closest('#notebook-container');\n",
       "if (notebookContainer) {{\n",
       "    x.observe(notebookContainer, {childList: true});\n",
       "}}\n",
       "\n",
       "// Listen for the clearing of the current output cell\n",
       "var outputEl = gd.closest('.output');\n",
       "if (outputEl) {{\n",
       "    x.observe(outputEl, {childList: true});\n",
       "}}\n",
       "\n",
       "                        })                };                });            </script>        </div>"
      ]
     },
     "metadata": {},
     "output_type": "display_data"
    }
   ],
   "source": [
    "figs['실험셋업시각화_실험1시나리오1'].show()"
   ]
  },
  {
   "cell_type": "markdown",
   "id": "159260ba-d5bb-4372-8621-abe15cc75406",
   "metadata": {
    "tags": []
   },
   "source": [
    "## Outline\n",
    "\n",
    "- Introduction\n",
    "\n",
    "- MBTI 자료소개 및 실험계획\n",
    "\n",
    "- 자료수집과정 \n",
    "\n",
    "- 불균형자료의 성능개선\n",
    "\n",
    "- GPT에 의하여 생성된 자료의 질적연구 "
   ]
  },
  {
   "cell_type": "markdown",
   "id": "4feb9afe-94a4-4f83-b507-5482c9ed903b",
   "metadata": {},
   "source": [
    "::: {.notes}\n",
    "이번 발표 순서는 introduction, introduction of data, proposed method, realdata analaysis 순으로 발표하겠습니다.\n",
    ":::"
   ]
  },
  {
   "cell_type": "markdown",
   "id": "4a4ab391-e3b8-425d-a37b-b299aed871f5",
   "metadata": {},
   "source": [
    "## Introduction \n",
    "\n",
    "Introduction to ChatGPT\n",
    "\n",
    "- ChatGPT is a language model developed by OpenAI, functioning as an interactive artificial intelligence for conversation.\n",
    "\n",
    "- Its primary capabilities lie in natural language understanding and generation. Leveraging the provided data, this model can respond to questions on various topics, engage in conversation, and generate sentences, paragraphs, or entire pieces of text."
   ]
  },
  {
   "cell_type": "markdown",
   "id": "54cc48bd-c92c-43a8-9ecf-20227f624318",
   "metadata": {},
   "source": [
    "::: {.notes}\n",
    "ChatGPT 소개\n",
    "\n",
    "-  ChatGPT는 언어 모델이며 OpenAI에서 개발한 대화형 인공 지능임.\n",
    "   \n",
    "-  주요 능력은 자연어 이해와 생성이다. 이 모델은 주어진 데이터를 바탕으로 다양한 주제에 대한 질문에 응답하고, 대화를 진행하며 문장, 단락, 글 전체를 생성할 수 있음.\n",
    ":::"
   ]
  },
  {
   "cell_type": "markdown",
   "id": "7f6a24c4-014c-48a7-ac9b-e7b51b9bb1c5",
   "metadata": {},
   "source": [
    "## Introduction\n",
    "\n",
    "**GPT의 사용예시**\n",
    "\n",
    "![](./figs/gpt_list.png){width=100%}"
   ]
  },
  {
   "cell_type": "markdown",
   "id": "4fd8c15e-f19c-4c15-8f78-e946bb2c5913",
   "metadata": {},
   "source": [
    "::: {.notes}\n",
    "- 사진은 ChatGPT에게 날이 추워져서 어떤 물건들을 쇼핑하면 좋을지 물어봤을 때 GPT가 문장을 생성해 리스트를 알려준 것입니다.\n",
    "- 쇼핑 리스트를 보고 저는 4.번의 추운 겨울에도 스마트폰을 할 수 있는 장갑인 'Smart Device Gloves'를 추천해준 것을 보고 gpt의 문장생성이 좋다고 생각하여 실제로 유용한지 아닌지를 숫자로 표현할 수 있는거를 연구해보고 싶었습니다.\n",
    ":::"
   ]
  },
  {
   "cell_type": "markdown",
   "id": "26467dc4-69c0-4cd2-8081-a1590f474e12",
   "metadata": {},
   "source": [
    "## Introduction\n",
    "\n",
    "**GPT 생성 텍스트를 이용한 텍스트 증강**\n",
    "- GPT를 이용하여 생성한 텍스트는 모형의 개선에 기여할 수 있습니다. 이를 통해 모델의 성능을 평가하고 향상시키는데 사용할 수 있습니다. [@oh2023data]\n",
    "- 특히 불균형자료에서 이러한 성능개선이 두드러질것으로 예상함. \n",
    "\n",
    "**GPT 생성 텍스트와 인간 작성 테스트의 가치비교** \n",
    "- GPT를 이용하여 생성한 텍스트와 사람이 직접 쓴 텍스트는 다소 차이가 있을 수 있습니다. GPT는 풍부한 데이터를 학습하고 일관된 품질의 텍스트를 생성할 수 있지만, 인간 작성 텍스트는 개인적인 경험과 지식을 반영할 수 있습니다.\n",
    "- GPT가 생성한 텍스트는 과연 인간이 작성한 텍스트와 동일한 가치를 가질 것인가? \n"
   ]
  },
  {
   "cell_type": "markdown",
   "id": "934a536e-a56f-44c1-b0e8-fe662fc5d557",
   "metadata": {},
   "source": [
    "## Introduction of Data \n"
   ]
  },
  {
   "cell_type": "code",
   "execution_count": 10,
   "id": "d929a11e-5233-4418-931d-8e5c2d05e6be",
   "metadata": {},
   "outputs": [
    {
     "data": {
      "text/html": [
       "<div>\n",
       "<style scoped>\n",
       "    .dataframe tbody tr th:only-of-type {\n",
       "        vertical-align: middle;\n",
       "    }\n",
       "\n",
       "    .dataframe tbody tr th {\n",
       "        vertical-align: top;\n",
       "    }\n",
       "\n",
       "    .dataframe thead th {\n",
       "        text-align: right;\n",
       "    }\n",
       "</style>\n",
       "<table border=\"1\" class=\"dataframe\">\n",
       "  <thead>\n",
       "    <tr style=\"text-align: right;\">\n",
       "      <th></th>\n",
       "      <th>type</th>\n",
       "      <th>posts</th>\n",
       "    </tr>\n",
       "  </thead>\n",
       "  <tbody>\n",
       "    <tr>\n",
       "      <th>1</th>\n",
       "      <td>ENTP</td>\n",
       "      <td>'I'm finding the lack of me in these posts ver...</td>\n",
       "    </tr>\n",
       "    <tr>\n",
       "      <th>7</th>\n",
       "      <td>INTJ</td>\n",
       "      <td>'I tend to build up a collection of things on ...</td>\n",
       "    </tr>\n",
       "    <tr>\n",
       "      <th>10</th>\n",
       "      <td>INFJ</td>\n",
       "      <td>'One time my parents were fighting over my dad...</td>\n",
       "    </tr>\n",
       "  </tbody>\n",
       "</table>\n",
       "</div>"
      ],
      "text/plain": [
       "    type                                              posts\n",
       "1   ENTP  'I'm finding the lack of me in these posts ver...\n",
       "7   INTJ  'I tend to build up a collection of things on ...\n",
       "10  INFJ  'One time my parents were fighting over my dad..."
      ]
     },
     "execution_count": 10,
     "metadata": {},
     "output_type": "execute_result"
    }
   ],
   "source": [
    "df_kaggle.iloc[[1,7,10]]"
   ]
  },
  {
   "cell_type": "markdown",
   "id": "6bd2cf55-8762-4adf-8d80-6817ad82242a",
   "metadata": {},
   "source": [
    ":::{.notes}\n",
    "- 실제 데이터:\n",
    "\n",
    "이 데이터셋은 Kaggle의 Myers-Briggs Personality Type으로, 8675개 이상의 항목으로 구성됩니다. 각 항목에는 저자의 4자리 MBTI와 성격에 관한 포럼인 Personality Cafe의 50개 게시물의 저자가 작성한 게시물이다. 각 게시물 저자당 평균 단어 수는 약 1,500개 입니다.\n",
    ":::"
   ]
  },
  {
   "cell_type": "markdown",
   "id": "bd20d8ae-0a04-4f0f-8ab2-96b735be55e6",
   "metadata": {
    "tags": []
   },
   "source": [
    "## Introduction of Data\n",
    "\n"
   ]
  },
  {
   "cell_type": "code",
   "execution_count": null,
   "id": "1d42fc7f-42ff-4c07-8bf9-6a61b1f91343",
   "metadata": {},
   "outputs": [],
   "source": []
  },
  {
   "cell_type": "markdown",
   "id": "b4f4b765-f47c-4d4a-8ecf-58e116704237",
   "metadata": {},
   "source": [
    "::: {.notes}\n",
    "실제 데이터의 각 항목당 평균 데이터 수가 490여개인데, 데이터의 최대수는 1800여개이고, 최소는 40여개 정도이다. 총 16개의 항목 중에 데이터수가 적은 'ESTP', 'ESFP', 'ESFJ', 'ESTJ' 이 네 개의 데이터를 보완해주는 데이터를 만들었음.\n",
    ":::"
   ]
  },
  {
   "cell_type": "markdown",
   "id": "6d7a888c-d9cb-428c-94fa-ae623074211e",
   "metadata": {},
   "source": [
    "## Introduction of Data\n",
    "\n",
    "Verification of Similarity:\n",
    "\n",
    ":::: {.columns}\n",
    "\n",
    "::: {.column width=\"50%\"}\n",
    ":::{.callout-note}\n",
    "### kaggle에서 수집한 ESTP 데이터 \n",
    "\n",
    "Splinter Cell Blacklist for Xbox 360. If you get hated on then it's because you as a person have something to work on. I often come off to people with the opposite of my intention, if I don't listen to my gut. Sometimes I over think my natural social skills and come off as a sarcastic douche.\n",
    ":::\n",
    ":::\n",
    "\n",
    "::: {.column width=\"50%\"}\n",
    ":::{.callout-note}\n",
    "### ChatGPT로 생성한 ESTP 데이터\n",
    "Today, I had a fantastic experience enjoying adventures in nature! Hiking up a tall mountain, I experienced the beauty of the great outdoors. The view from the summit was absolutely breathtaking. Adventures like these always bring new challenges and a sense of accomplishment, so I want to do more of them!\n",
    ":::\n",
    "\n",
    ":::\n",
    "\n",
    ":::: "
   ]
  },
  {
   "cell_type": "markdown",
   "id": "f8904c53-7e43-4dec-84c3-b2c04c4d8671",
   "metadata": {},
   "source": [
    "::: {.notes}\n",
    "- 유사성의 확인\n",
    "\n",
    "두 데이터를 비교해보면, 데이터가 문장 형식으로 어떠한 상황일 때 각 MBTI의 성격에 맞춰 작성될걸 보면 실제 데이터와 생성 데이터 간의 놀라운 유사성이 드러납니다.\n",
    ":::"
   ]
  },
  {
   "cell_type": "markdown",
   "id": "2fd5e396-effe-4947-a75c-952e90e6b001",
   "metadata": {},
   "source": [
    "Guinn, Curry. \"Assessing Author Personality Types Using ChatGPT.\""
   ]
  },
  {
   "cell_type": "markdown",
   "id": "c9e1cd4c-3c1f-45c6-abec-c7ba089ec8dd",
   "metadata": {},
   "source": [
    "## Proposed Method\n",
    "\n",
    "![](./figs/mbti_model.png){width=100%}"
   ]
  },
  {
   "cell_type": "markdown",
   "id": "b7cf40fd-2d5e-4e75-bb99-acf04e3b24fd",
   "metadata": {},
   "source": [
    "::: {.notes}\n",
    "실제 데이터만 가지고 성능을 측정했을 때를 Model 1 이라고 하고, 실제 데이터와 생성 데이터를 합쳐서 성능을 측정했을 때를 Model 2 라고 했을 때\n",
    "\n",
    "생성 데이터가 유효하다면 Model 2 의 결과가 훌륭할 것이고, 생성 데이터가 유효하지 않다면 Model 1 의 결과가 훌륭할 것으로 예상할 수 있습니다.\n",
    "::: "
   ]
  },
  {
   "cell_type": "markdown",
   "id": "57605692-e42c-42e2-9aa3-579dda9f78cf",
   "metadata": {
    "tags": []
   },
   "source": [
    "## Proposed Method\n",
    "\n",
    "Title: GPT Data Collection Process\n",
    "\n",
    "Data Collection Process:\n",
    "\n",
    "1. Define the MBTI for Performance Measurement.\n",
    "\n",
    "2. Define the Topic: Clearly define a topic for ChatGPT, presenting scenarios such as traveling to a destination or being invited to a friend's birthday party. Request predictions on how one might post on Instagram in such situations.\n",
    "\n",
    "Setting such conditions helps define the scope of generated data, preventing responses from being too similar."
   ]
  },
  {
   "cell_type": "markdown",
   "id": "125a4d54-028d-4f7e-a56c-351077813bce",
   "metadata": {},
   "source": [
    ":::{.notes}\n",
    "제목: GPT 자료 수집 과정\n",
    "\n",
    "자료 수집 과정:\n",
    "\n",
    "1. 성능 측정할 각 MBTI 결정\n",
    "\n",
    "2. 주제 정의: ChatGPT에게 명확한 주제를 정의  ex) 여행지를 놀러갔을 경우, 친구 생일파티에 초대되었을 경우 등 상황을 제시, 인스타그램에 어떻게 게시물을 올릴지 예측해달라고 하고 싶어 그렇게 질문함.\n",
    "\n",
    "이러한 조건을 설정하지 않으면 답변들이 비슷하게 나오기 때문에 생성 자료의 범위를 정의하는 데 도움이 됨\n",
    ":::"
   ]
  },
  {
   "cell_type": "markdown",
   "id": "7b161e19-b647-49e3-86f7-f44e7837bac1",
   "metadata": {},
   "source": [
    "## \n",
    "3. Utilizing the GPT model, automatically generate posts for each MBTI personality type based on the given topics and conditions.\n",
    "\n",
    "   Responses vary and are diverse depending on the identified MBTI when conditions are provided."
   ]
  },
  {
   "cell_type": "markdown",
   "id": "0b950a46-16e7-4990-9197-03b00f00e402",
   "metadata": {},
   "source": [
    ":::{.notes}\n",
    "3. GPT 모델을 활용하여 각 MBTI 성격 유형별에 위의 주어진 주제와 조건에 따른 게시물을 자동으로 생성을 함.\n",
    "\n",
    "    조건을 주어졌을 때 어떤 MBTI인지에 따라 다르고 다양한 답변이 나옴.\n",
    ":::"
   ]
  },
  {
   "cell_type": "markdown",
   "id": "eec29f25-28dc-4ccb-a89a-d310f0a5f61b",
   "metadata": {},
   "source": [
    "##\n",
    "4. Review the initially generated data and adjust conditions as needed to align with research objectives.\n",
    "\n",
    "   Modifications were made to the generated content to better fit the research goals. Specifically, for an Instagram-like post, the MBTI and emoji included in the original sentence were removed as requested. \n",
    "   \n",
    "   Additionally, adjustments were made to ensure the character count per question is around 1,500 aiming for a balance similar to real-world data.\n",
    "   \n",
    "   This process aimed to enhance the quality of the data, and the selected data was finalized."
   ]
  },
  {
   "cell_type": "markdown",
   "id": "1ac90e4b-4255-42b0-83e0-9167c0a4030e",
   "metadata": {},
   "source": [
    ":::{.notes}\n",
    "4. 처음 생성된 자료를 확인하고, 필요에 따라 조건을 수정하여 연구 목표에 부합하도록 조정함.\n",
    "    \n",
    "   실제 인스타그램 게시물처럼 질문한 MBTI와 이모티콘이 함께 작성되어 문장 속에 해당 MBTI와 이모티콘을 빼달라는 수정을 하였다.\n",
    "\n",
    "   그리고 한 질문당 글자수가 너무 작거나 많은 등 글자수의 차이가 심해 실제 데이터와 비슷하게끔 1,500자로 설정을 했음.\n",
    "   \n",
    "   이로써 자료의 품질을 향상시키고 선택된 자료를 확정했음.\n",
    ":::"
   ]
  },
  {
   "cell_type": "markdown",
   "id": "31e697ee-c343-4d7d-85a1-d3fe8584727a",
   "metadata": {},
   "source": [
    "## Proposed Method\n",
    "### Challenges in Data Collection"
   ]
  },
  {
   "cell_type": "markdown",
   "id": "fc4963ea-f2f2-4d11-becf-b8cea6601ef0",
   "metadata": {},
   "source": [
    "{{< video https://youtu.be/pllsvfYyWzo?si=xJ5WbiBtG_VwPYvL >}}"
   ]
  },
  {
   "cell_type": "markdown",
   "id": "32d8ef0a-dd9f-4cb1-b2df-84a371155afe",
   "metadata": {
    "tags": []
   },
   "source": [
    "## Challenges in Data Collection"
   ]
  },
  {
   "cell_type": "markdown",
   "id": "6e19f53a-b4a3-4fef-b1cd-fac01a1dc97a",
   "metadata": {},
   "source": [
    "Class Name \n",
    "\n",
    "::: {.panel-tabset}\n",
    "#### Ex 1\n",
    "![](./figs/mbti_class/mbti_class1.png){width=100%}\n",
    "\n",
    "#### Ex 2\n",
    "![](./figs/mbti_class/mbti_class2.png){width=100%}\n",
    "\n",
    "#### Ex 3\n",
    "![](./figs/mbti_class/mbti_class3.png){width=100%}\n",
    "\n",
    "#### Ex 4\n",
    "![](./figs/mbti_class/mbti_class4.png){width=100%}\n",
    "\n",
    "#### Ex 5 \n",
    "![](./figs/mbti_class/mbti_class5.png){width=100%}\n",
    ":::"
   ]
  },
  {
   "cell_type": "markdown",
   "id": "c784098d-5774-4898-b579-6c9aae2f7257",
   "metadata": {},
   "source": [
    "## Challenges in Data Collection"
   ]
  },
  {
   "cell_type": "markdown",
   "id": "89e3dc93-a152-435b-9e2d-da40cd58ec26",
   "metadata": {},
   "source": [
    "Emoji\n",
    "\n",
    "::: {.panel-tabset}\n",
    "#### Ex 1\n",
    "![](./figs/imo/imo1.png){width=100%}\n",
    "\n",
    "#### Ex 2 \n",
    "![](./figs/imo/imo2.png){width=100%}\n",
    "\n",
    "#### Ex 3\n",
    "![](./figs/imo/imo4.png){width=100%}\n",
    "\n",
    "#### Ex 4\n",
    "![](./figs/imo/imo5.png){width=100%}\n",
    ":::"
   ]
  },
  {
   "cell_type": "markdown",
   "id": "2be527d6-da10-4c84-8127-41f6bfe35b09",
   "metadata": {},
   "source": [
    "## Challenges in Data Collection {.scrollable}"
   ]
  },
  {
   "cell_type": "markdown",
   "id": "8d8f7d75-759b-4a63-a82c-1387ca0bf4cb",
   "metadata": {},
   "source": [
    "Variation in Generated Text Length\n",
    "\n",
    "::: {.panel-tabset}\n",
    "#### Ex 1 \n",
    "![](./figs/gpt_screen10.png){width=100%}\n",
    "\n",
    "#### Ex 2\n",
    "![](./figs/gpt_screen11.png){width=100%}\n",
    ":::"
   ]
  },
  {
   "cell_type": "markdown",
   "id": "65415a14-3639-431f-a394-39a278b6dcfc",
   "metadata": {},
   "source": [
    "## Challenges in Data Collection"
   ]
  },
  {
   "cell_type": "markdown",
   "id": "d4653a53-3821-4ee7-b11d-2dab18148d89",
   "metadata": {},
   "source": [
    "Outcome Analysis\n",
    "\n",
    "![](./figs/gpt_screen12.png){width=100%}"
   ]
  },
  {
   "cell_type": "markdown",
   "id": "d4c58c7e-7f5f-4193-a3ab-c6f1cd5a141e",
   "metadata": {},
   "source": [
    "::: {.notes}\n",
    "- 데이터 수집의 어려움\n",
    "  - Class이름\n",
    "  - 이모티콘\n",
    "  - 생성된 글의 길이 차이\n",
    "  - 결과 도출\n",
    "::: "
   ]
  },
  {
   "cell_type": "markdown",
   "id": "73c7d4fa-af8a-4702-9c91-e95785bf4567",
   "metadata": {},
   "source": [
    "## Challenges in Data Collection"
   ]
  },
  {
   "cell_type": "markdown",
   "id": "e951721d-e7c4-4756-a408-a36081712b3c",
   "metadata": {
    "tags": []
   },
   "source": [
    "MBTI example\n",
    "\n",
    "::: {.panel-tabset}\n",
    "#### E \n",
    "![](./figs/mbti_ex/mbti-e.png){width=100%}\n",
    "\n",
    "#### I\n",
    "![](./figs/mbti_ex/mbti-i.png){width=100%}\n",
    "\n",
    "#### S \n",
    "![](./figs/mbti_ex/mbti-s.png){width=100%}\n",
    "\n",
    "#### N\n",
    "![](./figs/mbti_ex/mbti-n.png){width=100%}\n",
    "\n",
    "#### F \n",
    "![](./figs/mbti_ex/mbti-f.png){width=100%}\n",
    "\n",
    "#### T\n",
    "![](./figs/mbti_ex/mbti-t.png){width=100%}\n",
    "\n",
    "#### P \n",
    "![](./figs/mbti_ex/mbti-p.png){width=100%}\n",
    "\n",
    "#### J\n",
    "![](./figs/mbti_ex/mbti-j.png){width=100%}\n",
    ":::"
   ]
  },
  {
   "cell_type": "markdown",
   "id": "e6c03c22-7cd0-49f5-8c2e-f5db09eaef4a",
   "metadata": {},
   "source": [
    "## Realdata Analaysis\n",
    "실험결과 제시 "
   ]
  },
  {
   "cell_type": "markdown",
   "id": "3f986794-9055-49e5-aa08-441d2207c6d3",
   "metadata": {},
   "source": [
    "## References"
   ]
  }
 ],
 "metadata": {
  "kernelspec": {
   "display_name": "Python 3 (ipykernel)",
   "language": "python",
   "name": "python3"
  },
  "language_info": {
   "codemirror_mode": {
    "name": "ipython",
    "version": 3
   },
   "file_extension": ".py",
   "mimetype": "text/x-python",
   "name": "python",
   "nbconvert_exporter": "python",
   "pygments_lexer": "ipython3",
   "version": "3.11.5"
  }
 },
 "nbformat": 4,
 "nbformat_minor": 5
}
